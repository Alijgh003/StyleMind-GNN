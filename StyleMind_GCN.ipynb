{
  "nbformat": 4,
  "nbformat_minor": 0,
  "metadata": {
    "colab": {
      "provenance": [],
      "gpuType": "T4",
      "include_colab_link": true
    },
    "kernelspec": {
      "name": "python3",
      "display_name": "Python 3"
    },
    "language_info": {
      "name": "python"
    },
    "accelerator": "GPU"
  },
  "cells": [
    {
      "cell_type": "markdown",
      "metadata": {
        "id": "view-in-github",
        "colab_type": "text"
      },
      "source": [
        "<a href=\"https://colab.research.google.com/github/Alijgh003/StyleMind-GNN/blob/main/StyleMind_GCN.ipynb\" target=\"_parent\"><img src=\"https://colab.research.google.com/assets/colab-badge.svg\" alt=\"Open In Colab\"/></a>"
      ]
    },
    {
      "cell_type": "code",
      "source": [
        "import torch\n",
        "import matplotlib.pyplot as plt"
      ],
      "metadata": {
        "id": "ilOURpAYkjuf"
      },
      "execution_count": 1,
      "outputs": []
    },
    {
      "cell_type": "code",
      "execution_count": 16,
      "metadata": {
        "colab": {
          "base_uri": "https://localhost:8080/"
        },
        "id": "_ejZ_JBMqRQu",
        "outputId": "ae64aae5-7c1a-456f-a1b7-aaaaa94cb2ce"
      },
      "outputs": [
        {
          "output_type": "stream",
          "name": "stdout",
          "text": [
            "Collecting torch-geometric\n",
            "  Downloading torch_geometric-2.6.1-py3-none-any.whl.metadata (63 kB)\n",
            "\u001b[?25l     \u001b[90m━━━━━━━━━━━━━━━━━━━━━━━━━━━━━━━━━━━━━━━━\u001b[0m \u001b[32m0.0/63.1 kB\u001b[0m \u001b[31m?\u001b[0m eta \u001b[36m-:--:--\u001b[0m\r\u001b[2K     \u001b[90m━━━━━━━━━━━━━━━━━━━━━━━━━━━━━━━━━━━━━━━━\u001b[0m \u001b[32m63.1/63.1 kB\u001b[0m \u001b[31m5.4 MB/s\u001b[0m eta \u001b[36m0:00:00\u001b[0m\n",
            "\u001b[?25hRequirement already satisfied: aiohttp in /usr/local/lib/python3.11/dist-packages (from torch-geometric) (3.11.14)\n",
            "Requirement already satisfied: fsspec in /usr/local/lib/python3.11/dist-packages (from torch-geometric) (2025.3.0)\n",
            "Requirement already satisfied: jinja2 in /usr/local/lib/python3.11/dist-packages (from torch-geometric) (3.1.6)\n",
            "Requirement already satisfied: numpy in /usr/local/lib/python3.11/dist-packages (from torch-geometric) (2.0.2)\n",
            "Requirement already satisfied: psutil>=5.8.0 in /usr/local/lib/python3.11/dist-packages (from torch-geometric) (5.9.5)\n",
            "Requirement already satisfied: pyparsing in /usr/local/lib/python3.11/dist-packages (from torch-geometric) (3.2.1)\n",
            "Requirement already satisfied: requests in /usr/local/lib/python3.11/dist-packages (from torch-geometric) (2.32.3)\n",
            "Requirement already satisfied: tqdm in /usr/local/lib/python3.11/dist-packages (from torch-geometric) (4.67.1)\n",
            "Requirement already satisfied: aiohappyeyeballs>=2.3.0 in /usr/local/lib/python3.11/dist-packages (from aiohttp->torch-geometric) (2.6.1)\n",
            "Requirement already satisfied: aiosignal>=1.1.2 in /usr/local/lib/python3.11/dist-packages (from aiohttp->torch-geometric) (1.3.2)\n",
            "Requirement already satisfied: attrs>=17.3.0 in /usr/local/lib/python3.11/dist-packages (from aiohttp->torch-geometric) (25.3.0)\n",
            "Requirement already satisfied: frozenlist>=1.1.1 in /usr/local/lib/python3.11/dist-packages (from aiohttp->torch-geometric) (1.5.0)\n",
            "Requirement already satisfied: multidict<7.0,>=4.5 in /usr/local/lib/python3.11/dist-packages (from aiohttp->torch-geometric) (6.2.0)\n",
            "Requirement already satisfied: propcache>=0.2.0 in /usr/local/lib/python3.11/dist-packages (from aiohttp->torch-geometric) (0.3.0)\n",
            "Requirement already satisfied: yarl<2.0,>=1.17.0 in /usr/local/lib/python3.11/dist-packages (from aiohttp->torch-geometric) (1.18.3)\n",
            "Requirement already satisfied: MarkupSafe>=2.0 in /usr/local/lib/python3.11/dist-packages (from jinja2->torch-geometric) (3.0.2)\n",
            "Requirement already satisfied: charset-normalizer<4,>=2 in /usr/local/lib/python3.11/dist-packages (from requests->torch-geometric) (3.4.1)\n",
            "Requirement already satisfied: idna<4,>=2.5 in /usr/local/lib/python3.11/dist-packages (from requests->torch-geometric) (3.10)\n",
            "Requirement already satisfied: urllib3<3,>=1.21.1 in /usr/local/lib/python3.11/dist-packages (from requests->torch-geometric) (2.3.0)\n",
            "Requirement already satisfied: certifi>=2017.4.17 in /usr/local/lib/python3.11/dist-packages (from requests->torch-geometric) (2025.1.31)\n",
            "Downloading torch_geometric-2.6.1-py3-none-any.whl (1.1 MB)\n",
            "\u001b[?25l   \u001b[90m━━━━━━━━━━━━━━━━━━━━━━━━━━━━━━━━━━━━━━━━\u001b[0m \u001b[32m0.0/1.1 MB\u001b[0m \u001b[31m?\u001b[0m eta \u001b[36m-:--:--\u001b[0m\r\u001b[2K   \u001b[90m━━━━━━━━━━━━━━━━━━━━━━━━━━━━━━━━━━━━━━━━\u001b[0m \u001b[32m1.1/1.1 MB\u001b[0m \u001b[31m62.3 MB/s\u001b[0m eta \u001b[36m0:00:00\u001b[0m\n",
            "\u001b[?25hInstalling collected packages: torch-geometric\n",
            "Successfully installed torch-geometric-2.6.1\n",
            "  Preparing metadata (setup.py) ... \u001b[?25l\u001b[?25hdone\n",
            "\u001b[2K   \u001b[90m━━━━━━━━━━━━━━━━━━━━━━━━━━━━━━━━━━━━━━━━\u001b[0m \u001b[32m363.4/363.4 MB\u001b[0m \u001b[31m4.0 MB/s\u001b[0m eta \u001b[36m0:00:00\u001b[0m\n",
            "\u001b[2K   \u001b[90m━━━━━━━━━━━━━━━━━━━━━━━━━━━━━━━━━━━━━━━━\u001b[0m \u001b[32m13.8/13.8 MB\u001b[0m \u001b[31m101.1 MB/s\u001b[0m eta \u001b[36m0:00:00\u001b[0m\n",
            "\u001b[2K   \u001b[90m━━━━━━━━━━━━━━━━━━━━━━━━━━━━━━━━━━━━━━━━\u001b[0m \u001b[32m24.6/24.6 MB\u001b[0m \u001b[31m82.6 MB/s\u001b[0m eta \u001b[36m0:00:00\u001b[0m\n",
            "\u001b[2K   \u001b[90m━━━━━━━━━━━━━━━━━━━━━━━━━━━━━━━━━━━━━━━━\u001b[0m \u001b[32m883.7/883.7 kB\u001b[0m \u001b[31m52.0 MB/s\u001b[0m eta \u001b[36m0:00:00\u001b[0m\n",
            "\u001b[2K   \u001b[90m━━━━━━━━━━━━━━━━━━━━━━━━━━━━━━━━━━━━━━━━\u001b[0m \u001b[32m664.8/664.8 MB\u001b[0m \u001b[31m2.7 MB/s\u001b[0m eta \u001b[36m0:00:00\u001b[0m\n",
            "\u001b[2K   \u001b[90m━━━━━━━━━━━━━━━━━━━━━━━━━━━━━━━━━━━━━━━━\u001b[0m \u001b[32m211.5/211.5 MB\u001b[0m \u001b[31m5.7 MB/s\u001b[0m eta \u001b[36m0:00:00\u001b[0m\n",
            "\u001b[2K   \u001b[90m━━━━━━━━━━━━━━━━━━━━━━━━━━━━━━━━━━━━━━━━\u001b[0m \u001b[32m56.3/56.3 MB\u001b[0m \u001b[31m13.3 MB/s\u001b[0m eta \u001b[36m0:00:00\u001b[0m\n",
            "\u001b[2K   \u001b[90m━━━━━━━━━━━━━━━━━━━━━━━━━━━━━━━━━━━━━━━━\u001b[0m \u001b[32m127.9/127.9 MB\u001b[0m \u001b[31m7.8 MB/s\u001b[0m eta \u001b[36m0:00:00\u001b[0m\n",
            "\u001b[2K   \u001b[90m━━━━━━━━━━━━━━━━━━━━━━━━━━━━━━━━━━━━━━━━\u001b[0m \u001b[32m207.5/207.5 MB\u001b[0m \u001b[31m6.6 MB/s\u001b[0m eta \u001b[36m0:00:00\u001b[0m\n",
            "\u001b[2K   \u001b[90m━━━━━━━━━━━━━━━━━━━━━━━━━━━━━━━━━━━━━━━━\u001b[0m \u001b[32m21.1/21.1 MB\u001b[0m \u001b[31m92.2 MB/s\u001b[0m eta \u001b[36m0:00:00\u001b[0m\n",
            "\u001b[?25h  Building wheel for deepsnap (setup.py) ... \u001b[?25l\u001b[?25hdone\n"
          ]
        }
      ],
      "source": [
        "torch_version = str(torch.__version__)\n",
        "# scatter_src = f\"https://pytorch-geometric.com/whl/torch-{torch_version}.html\"\n",
        "# sparse_src = f\"https://pytorch-geometric.com/whl/torch-{torch_version}.html\"\n",
        "# !pip install torch-scatter -f $scatter_src\n",
        "# !pip install torch-sparse -f $sparse_src\n",
        "!pip install torch-geometric\n",
        "!pip install -q git+https://github.com/snap-stanford/deepsnap.git"
      ]
    },
    {
      "cell_type": "code",
      "source": [
        "from google.colab import drive\n",
        "drive.mount(\"/content/drive\")"
      ],
      "metadata": {
        "id": "j54KJfvCqx5M",
        "colab": {
          "base_uri": "https://localhost:8080/"
        },
        "outputId": "57db903c-4988-449a-a7da-960045d57737"
      },
      "execution_count": 2,
      "outputs": [
        {
          "output_type": "stream",
          "name": "stdout",
          "text": [
            "Mounted at /content/drive\n"
          ]
        }
      ]
    },
    {
      "cell_type": "code",
      "source": [
        "datasets_path = \"/content/drive/MyDrive/StyleMind-GNN\""
      ],
      "metadata": {
        "id": "zv1V_GrYq5i3"
      },
      "execution_count": 2,
      "outputs": []
    },
    {
      "cell_type": "code",
      "source": [
        "from os import path"
      ],
      "metadata": {
        "id": "rgDdePkytykH"
      },
      "execution_count": 3,
      "outputs": []
    },
    {
      "cell_type": "code",
      "source": [
        "import pandas as pd\n",
        "items = pd.read_csv(path.join(datasets_path, \"new_items.csv\"))\n",
        "items.set_index(\"ID\")"
      ],
      "metadata": {
        "colab": {
          "base_uri": "https://localhost:8080/",
          "height": 1000
        },
        "id": "twTtZX4HAX9j",
        "outputId": "fb06b754-3291-42f3-b6c6-aeebe7057d41"
      },
      "execution_count": 4,
      "outputs": [
        {
          "output_type": "execute_result",
          "data": {
            "text/plain": [
              "           Unnamed: 0   index                                       url_name  \\\n",
              "ID                                                                             \n",
              "211990161           0       0                   neck print chiffon plus size   \n",
              "183179503           1       1  christian pellizzari floral jacquard trousers   \n",
              "152771755           2       2            natures jewelry stainless steel not   \n",
              "190445143           3       3                balmain women high waist flared   \n",
              "211444470           4       4                  acler orson high waist belted   \n",
              "...               ...     ...                                            ...   \n",
              "108411005      251003  251003          arnica embellished hand painted skirt   \n",
              "212452593      251004  251004                 thom browne little boy knitted   \n",
              "208651882      251005  251005              colorful vortex print shawl scarf   \n",
              "209210426      251006  251006               floral embroidered mesh see thru   \n",
              "181567392      251007  251007        shein sheinside extreme destroyed denim   \n",
              "\n",
              "                                                 description  \\\n",
              "ID                                                             \n",
              "211990161                                                NaN   \n",
              "183179503  Gold and black silk blend floral jacquard trou...   \n",
              "152771755                                                NaN   \n",
              "190445143  Decorative gold colored buttons with lion deta...   \n",
              "211444470  This Acler Orson High Waist Belted Short featu...   \n",
              "...                                                      ...   \n",
              "108411005  Shop Stella Jean in our expertly curated in-se...   \n",
              "212452593                                                NaN   \n",
              "208651882                                                NaN   \n",
              "209210426                                                NaN   \n",
              "181567392                                                NaN   \n",
              "\n",
              "                                                  catgeories  \\\n",
              "ID                                                             \n",
              "211990161                                                NaN   \n",
              "183179503  [\"Women's Fashion\", 'Clothing', 'Pants', 'Chri...   \n",
              "152771755                                                NaN   \n",
              "190445143  [\"Women's Fashion\", 'Clothing', 'Pants', 'Balm...   \n",
              "211444470  [\"Women's Fashion\", 'Clothing', 'Shorts', 'Mar...   \n",
              "...                                                      ...   \n",
              "108411005  [\"Women's Fashion\", 'Clothing', 'Skirts', 'Kne...   \n",
              "212452593                                                NaN   \n",
              "208651882                                                NaN   \n",
              "209210426                                                NaN   \n",
              "181567392                                                NaN   \n",
              "\n",
              "                                                   title  \\\n",
              "ID                                                         \n",
              "211990161                                            NaN   \n",
              "183179503  Christian Pellizzari floral jacquard trousers   \n",
              "152771755                                            NaN   \n",
              "190445143     Balmain Women High Waist Flared Knit Pants   \n",
              "211444470            Acler Orson High Waist Belted Short   \n",
              "...                                                  ...   \n",
              "108411005          Arnica Embellished Hand Painted Skirt   \n",
              "212452593                                            NaN   \n",
              "208651882                                            NaN   \n",
              "209210426                                            NaN   \n",
              "181567392                                            NaN   \n",
              "\n",
              "                                                     related  category_id  \\\n",
              "ID                                                                          \n",
              "211990161                                                NaN            3   \n",
              "183179503  ['Floral pants', 'Grey pants', 'Print pants', ...            2   \n",
              "152771755                                                NaN           11   \n",
              "190445143  ['Balmain', 'Flared pants', 'High-waisted pant...            2   \n",
              "211444470  ['Short shorts', 'High-waisted shorts', 'High ...            2   \n",
              "...                                                      ...          ...   \n",
              "108411005                 ['Red skirt', 'Embellished skirt']            2   \n",
              "212452593                                                NaN            4   \n",
              "208651882                                                NaN            8   \n",
              "209210426                                                NaN            3   \n",
              "181567392                                                NaN            4   \n",
              "\n",
              "          semantic_category  name_len  \n",
              "ID                                     \n",
              "211990161              tops        28  \n",
              "183179503           bottoms        45  \n",
              "152771755         jewellery        35  \n",
              "190445143           bottoms        31  \n",
              "211444470           bottoms        29  \n",
              "...                     ...       ...  \n",
              "108411005           bottoms        37  \n",
              "212452593         outerwear        30  \n",
              "208651882           scarves        33  \n",
              "209210426              tops        32  \n",
              "181567392         outerwear        39  \n",
              "\n",
              "[251008 rows x 10 columns]"
            ],
            "text/html": [
              "\n",
              "  <div id=\"df-9ccdcf2f-4fb6-4e13-9bc7-70c414f12f03\" class=\"colab-df-container\">\n",
              "    <div>\n",
              "<style scoped>\n",
              "    .dataframe tbody tr th:only-of-type {\n",
              "        vertical-align: middle;\n",
              "    }\n",
              "\n",
              "    .dataframe tbody tr th {\n",
              "        vertical-align: top;\n",
              "    }\n",
              "\n",
              "    .dataframe thead th {\n",
              "        text-align: right;\n",
              "    }\n",
              "</style>\n",
              "<table border=\"1\" class=\"dataframe\">\n",
              "  <thead>\n",
              "    <tr style=\"text-align: right;\">\n",
              "      <th></th>\n",
              "      <th>Unnamed: 0</th>\n",
              "      <th>index</th>\n",
              "      <th>url_name</th>\n",
              "      <th>description</th>\n",
              "      <th>catgeories</th>\n",
              "      <th>title</th>\n",
              "      <th>related</th>\n",
              "      <th>category_id</th>\n",
              "      <th>semantic_category</th>\n",
              "      <th>name_len</th>\n",
              "    </tr>\n",
              "    <tr>\n",
              "      <th>ID</th>\n",
              "      <th></th>\n",
              "      <th></th>\n",
              "      <th></th>\n",
              "      <th></th>\n",
              "      <th></th>\n",
              "      <th></th>\n",
              "      <th></th>\n",
              "      <th></th>\n",
              "      <th></th>\n",
              "      <th></th>\n",
              "    </tr>\n",
              "  </thead>\n",
              "  <tbody>\n",
              "    <tr>\n",
              "      <th>211990161</th>\n",
              "      <td>0</td>\n",
              "      <td>0</td>\n",
              "      <td>neck print chiffon plus size</td>\n",
              "      <td>NaN</td>\n",
              "      <td>NaN</td>\n",
              "      <td>NaN</td>\n",
              "      <td>NaN</td>\n",
              "      <td>3</td>\n",
              "      <td>tops</td>\n",
              "      <td>28</td>\n",
              "    </tr>\n",
              "    <tr>\n",
              "      <th>183179503</th>\n",
              "      <td>1</td>\n",
              "      <td>1</td>\n",
              "      <td>christian pellizzari floral jacquard trousers</td>\n",
              "      <td>Gold and black silk blend floral jacquard trou...</td>\n",
              "      <td>[\"Women's Fashion\", 'Clothing', 'Pants', 'Chri...</td>\n",
              "      <td>Christian Pellizzari floral jacquard trousers</td>\n",
              "      <td>['Floral pants', 'Grey pants', 'Print pants', ...</td>\n",
              "      <td>2</td>\n",
              "      <td>bottoms</td>\n",
              "      <td>45</td>\n",
              "    </tr>\n",
              "    <tr>\n",
              "      <th>152771755</th>\n",
              "      <td>2</td>\n",
              "      <td>2</td>\n",
              "      <td>natures jewelry stainless steel not</td>\n",
              "      <td>NaN</td>\n",
              "      <td>NaN</td>\n",
              "      <td>NaN</td>\n",
              "      <td>NaN</td>\n",
              "      <td>11</td>\n",
              "      <td>jewellery</td>\n",
              "      <td>35</td>\n",
              "    </tr>\n",
              "    <tr>\n",
              "      <th>190445143</th>\n",
              "      <td>3</td>\n",
              "      <td>3</td>\n",
              "      <td>balmain women high waist flared</td>\n",
              "      <td>Decorative gold colored buttons with lion deta...</td>\n",
              "      <td>[\"Women's Fashion\", 'Clothing', 'Pants', 'Balm...</td>\n",
              "      <td>Balmain Women High Waist Flared Knit Pants</td>\n",
              "      <td>['Balmain', 'Flared pants', 'High-waisted pant...</td>\n",
              "      <td>2</td>\n",
              "      <td>bottoms</td>\n",
              "      <td>31</td>\n",
              "    </tr>\n",
              "    <tr>\n",
              "      <th>211444470</th>\n",
              "      <td>4</td>\n",
              "      <td>4</td>\n",
              "      <td>acler orson high waist belted</td>\n",
              "      <td>This Acler Orson High Waist Belted Short featu...</td>\n",
              "      <td>[\"Women's Fashion\", 'Clothing', 'Shorts', 'Mar...</td>\n",
              "      <td>Acler Orson High Waist Belted Short</td>\n",
              "      <td>['Short shorts', 'High-waisted shorts', 'High ...</td>\n",
              "      <td>2</td>\n",
              "      <td>bottoms</td>\n",
              "      <td>29</td>\n",
              "    </tr>\n",
              "    <tr>\n",
              "      <th>...</th>\n",
              "      <td>...</td>\n",
              "      <td>...</td>\n",
              "      <td>...</td>\n",
              "      <td>...</td>\n",
              "      <td>...</td>\n",
              "      <td>...</td>\n",
              "      <td>...</td>\n",
              "      <td>...</td>\n",
              "      <td>...</td>\n",
              "      <td>...</td>\n",
              "    </tr>\n",
              "    <tr>\n",
              "      <th>108411005</th>\n",
              "      <td>251003</td>\n",
              "      <td>251003</td>\n",
              "      <td>arnica embellished hand painted skirt</td>\n",
              "      <td>Shop Stella Jean in our expertly curated in-se...</td>\n",
              "      <td>[\"Women's Fashion\", 'Clothing', 'Skirts', 'Kne...</td>\n",
              "      <td>Arnica Embellished Hand Painted Skirt</td>\n",
              "      <td>['Red skirt', 'Embellished skirt']</td>\n",
              "      <td>2</td>\n",
              "      <td>bottoms</td>\n",
              "      <td>37</td>\n",
              "    </tr>\n",
              "    <tr>\n",
              "      <th>212452593</th>\n",
              "      <td>251004</td>\n",
              "      <td>251004</td>\n",
              "      <td>thom browne little boy knitted</td>\n",
              "      <td>NaN</td>\n",
              "      <td>NaN</td>\n",
              "      <td>NaN</td>\n",
              "      <td>NaN</td>\n",
              "      <td>4</td>\n",
              "      <td>outerwear</td>\n",
              "      <td>30</td>\n",
              "    </tr>\n",
              "    <tr>\n",
              "      <th>208651882</th>\n",
              "      <td>251005</td>\n",
              "      <td>251005</td>\n",
              "      <td>colorful vortex print shawl scarf</td>\n",
              "      <td>NaN</td>\n",
              "      <td>NaN</td>\n",
              "      <td>NaN</td>\n",
              "      <td>NaN</td>\n",
              "      <td>8</td>\n",
              "      <td>scarves</td>\n",
              "      <td>33</td>\n",
              "    </tr>\n",
              "    <tr>\n",
              "      <th>209210426</th>\n",
              "      <td>251006</td>\n",
              "      <td>251006</td>\n",
              "      <td>floral embroidered mesh see thru</td>\n",
              "      <td>NaN</td>\n",
              "      <td>NaN</td>\n",
              "      <td>NaN</td>\n",
              "      <td>NaN</td>\n",
              "      <td>3</td>\n",
              "      <td>tops</td>\n",
              "      <td>32</td>\n",
              "    </tr>\n",
              "    <tr>\n",
              "      <th>181567392</th>\n",
              "      <td>251007</td>\n",
              "      <td>251007</td>\n",
              "      <td>shein sheinside extreme destroyed denim</td>\n",
              "      <td>NaN</td>\n",
              "      <td>NaN</td>\n",
              "      <td>NaN</td>\n",
              "      <td>NaN</td>\n",
              "      <td>4</td>\n",
              "      <td>outerwear</td>\n",
              "      <td>39</td>\n",
              "    </tr>\n",
              "  </tbody>\n",
              "</table>\n",
              "<p>251008 rows × 10 columns</p>\n",
              "</div>\n",
              "    <div class=\"colab-df-buttons\">\n",
              "\n",
              "  <div class=\"colab-df-container\">\n",
              "    <button class=\"colab-df-convert\" onclick=\"convertToInteractive('df-9ccdcf2f-4fb6-4e13-9bc7-70c414f12f03')\"\n",
              "            title=\"Convert this dataframe to an interactive table.\"\n",
              "            style=\"display:none;\">\n",
              "\n",
              "  <svg xmlns=\"http://www.w3.org/2000/svg\" height=\"24px\" viewBox=\"0 -960 960 960\">\n",
              "    <path d=\"M120-120v-720h720v720H120Zm60-500h600v-160H180v160Zm220 220h160v-160H400v160Zm0 220h160v-160H400v160ZM180-400h160v-160H180v160Zm440 0h160v-160H620v160ZM180-180h160v-160H180v160Zm440 0h160v-160H620v160Z\"/>\n",
              "  </svg>\n",
              "    </button>\n",
              "\n",
              "  <style>\n",
              "    .colab-df-container {\n",
              "      display:flex;\n",
              "      gap: 12px;\n",
              "    }\n",
              "\n",
              "    .colab-df-convert {\n",
              "      background-color: #E8F0FE;\n",
              "      border: none;\n",
              "      border-radius: 50%;\n",
              "      cursor: pointer;\n",
              "      display: none;\n",
              "      fill: #1967D2;\n",
              "      height: 32px;\n",
              "      padding: 0 0 0 0;\n",
              "      width: 32px;\n",
              "    }\n",
              "\n",
              "    .colab-df-convert:hover {\n",
              "      background-color: #E2EBFA;\n",
              "      box-shadow: 0px 1px 2px rgba(60, 64, 67, 0.3), 0px 1px 3px 1px rgba(60, 64, 67, 0.15);\n",
              "      fill: #174EA6;\n",
              "    }\n",
              "\n",
              "    .colab-df-buttons div {\n",
              "      margin-bottom: 4px;\n",
              "    }\n",
              "\n",
              "    [theme=dark] .colab-df-convert {\n",
              "      background-color: #3B4455;\n",
              "      fill: #D2E3FC;\n",
              "    }\n",
              "\n",
              "    [theme=dark] .colab-df-convert:hover {\n",
              "      background-color: #434B5C;\n",
              "      box-shadow: 0px 1px 3px 1px rgba(0, 0, 0, 0.15);\n",
              "      filter: drop-shadow(0px 1px 2px rgba(0, 0, 0, 0.3));\n",
              "      fill: #FFFFFF;\n",
              "    }\n",
              "  </style>\n",
              "\n",
              "    <script>\n",
              "      const buttonEl =\n",
              "        document.querySelector('#df-9ccdcf2f-4fb6-4e13-9bc7-70c414f12f03 button.colab-df-convert');\n",
              "      buttonEl.style.display =\n",
              "        google.colab.kernel.accessAllowed ? 'block' : 'none';\n",
              "\n",
              "      async function convertToInteractive(key) {\n",
              "        const element = document.querySelector('#df-9ccdcf2f-4fb6-4e13-9bc7-70c414f12f03');\n",
              "        const dataTable =\n",
              "          await google.colab.kernel.invokeFunction('convertToInteractive',\n",
              "                                                    [key], {});\n",
              "        if (!dataTable) return;\n",
              "\n",
              "        const docLinkHtml = 'Like what you see? Visit the ' +\n",
              "          '<a target=\"_blank\" href=https://colab.research.google.com/notebooks/data_table.ipynb>data table notebook</a>'\n",
              "          + ' to learn more about interactive tables.';\n",
              "        element.innerHTML = '';\n",
              "        dataTable['output_type'] = 'display_data';\n",
              "        await google.colab.output.renderOutput(dataTable, element);\n",
              "        const docLink = document.createElement('div');\n",
              "        docLink.innerHTML = docLinkHtml;\n",
              "        element.appendChild(docLink);\n",
              "      }\n",
              "    </script>\n",
              "  </div>\n",
              "\n",
              "\n",
              "<div id=\"df-8992e7f5-79ec-41f8-bd03-e195fc3b9845\">\n",
              "  <button class=\"colab-df-quickchart\" onclick=\"quickchart('df-8992e7f5-79ec-41f8-bd03-e195fc3b9845')\"\n",
              "            title=\"Suggest charts\"\n",
              "            style=\"display:none;\">\n",
              "\n",
              "<svg xmlns=\"http://www.w3.org/2000/svg\" height=\"24px\"viewBox=\"0 0 24 24\"\n",
              "     width=\"24px\">\n",
              "    <g>\n",
              "        <path d=\"M19 3H5c-1.1 0-2 .9-2 2v14c0 1.1.9 2 2 2h14c1.1 0 2-.9 2-2V5c0-1.1-.9-2-2-2zM9 17H7v-7h2v7zm4 0h-2V7h2v10zm4 0h-2v-4h2v4z\"/>\n",
              "    </g>\n",
              "</svg>\n",
              "  </button>\n",
              "\n",
              "<style>\n",
              "  .colab-df-quickchart {\n",
              "      --bg-color: #E8F0FE;\n",
              "      --fill-color: #1967D2;\n",
              "      --hover-bg-color: #E2EBFA;\n",
              "      --hover-fill-color: #174EA6;\n",
              "      --disabled-fill-color: #AAA;\n",
              "      --disabled-bg-color: #DDD;\n",
              "  }\n",
              "\n",
              "  [theme=dark] .colab-df-quickchart {\n",
              "      --bg-color: #3B4455;\n",
              "      --fill-color: #D2E3FC;\n",
              "      --hover-bg-color: #434B5C;\n",
              "      --hover-fill-color: #FFFFFF;\n",
              "      --disabled-bg-color: #3B4455;\n",
              "      --disabled-fill-color: #666;\n",
              "  }\n",
              "\n",
              "  .colab-df-quickchart {\n",
              "    background-color: var(--bg-color);\n",
              "    border: none;\n",
              "    border-radius: 50%;\n",
              "    cursor: pointer;\n",
              "    display: none;\n",
              "    fill: var(--fill-color);\n",
              "    height: 32px;\n",
              "    padding: 0;\n",
              "    width: 32px;\n",
              "  }\n",
              "\n",
              "  .colab-df-quickchart:hover {\n",
              "    background-color: var(--hover-bg-color);\n",
              "    box-shadow: 0 1px 2px rgba(60, 64, 67, 0.3), 0 1px 3px 1px rgba(60, 64, 67, 0.15);\n",
              "    fill: var(--button-hover-fill-color);\n",
              "  }\n",
              "\n",
              "  .colab-df-quickchart-complete:disabled,\n",
              "  .colab-df-quickchart-complete:disabled:hover {\n",
              "    background-color: var(--disabled-bg-color);\n",
              "    fill: var(--disabled-fill-color);\n",
              "    box-shadow: none;\n",
              "  }\n",
              "\n",
              "  .colab-df-spinner {\n",
              "    border: 2px solid var(--fill-color);\n",
              "    border-color: transparent;\n",
              "    border-bottom-color: var(--fill-color);\n",
              "    animation:\n",
              "      spin 1s steps(1) infinite;\n",
              "  }\n",
              "\n",
              "  @keyframes spin {\n",
              "    0% {\n",
              "      border-color: transparent;\n",
              "      border-bottom-color: var(--fill-color);\n",
              "      border-left-color: var(--fill-color);\n",
              "    }\n",
              "    20% {\n",
              "      border-color: transparent;\n",
              "      border-left-color: var(--fill-color);\n",
              "      border-top-color: var(--fill-color);\n",
              "    }\n",
              "    30% {\n",
              "      border-color: transparent;\n",
              "      border-left-color: var(--fill-color);\n",
              "      border-top-color: var(--fill-color);\n",
              "      border-right-color: var(--fill-color);\n",
              "    }\n",
              "    40% {\n",
              "      border-color: transparent;\n",
              "      border-right-color: var(--fill-color);\n",
              "      border-top-color: var(--fill-color);\n",
              "    }\n",
              "    60% {\n",
              "      border-color: transparent;\n",
              "      border-right-color: var(--fill-color);\n",
              "    }\n",
              "    80% {\n",
              "      border-color: transparent;\n",
              "      border-right-color: var(--fill-color);\n",
              "      border-bottom-color: var(--fill-color);\n",
              "    }\n",
              "    90% {\n",
              "      border-color: transparent;\n",
              "      border-bottom-color: var(--fill-color);\n",
              "    }\n",
              "  }\n",
              "</style>\n",
              "\n",
              "  <script>\n",
              "    async function quickchart(key) {\n",
              "      const quickchartButtonEl =\n",
              "        document.querySelector('#' + key + ' button');\n",
              "      quickchartButtonEl.disabled = true;  // To prevent multiple clicks.\n",
              "      quickchartButtonEl.classList.add('colab-df-spinner');\n",
              "      try {\n",
              "        const charts = await google.colab.kernel.invokeFunction(\n",
              "            'suggestCharts', [key], {});\n",
              "      } catch (error) {\n",
              "        console.error('Error during call to suggestCharts:', error);\n",
              "      }\n",
              "      quickchartButtonEl.classList.remove('colab-df-spinner');\n",
              "      quickchartButtonEl.classList.add('colab-df-quickchart-complete');\n",
              "    }\n",
              "    (() => {\n",
              "      let quickchartButtonEl =\n",
              "        document.querySelector('#df-8992e7f5-79ec-41f8-bd03-e195fc3b9845 button');\n",
              "      quickchartButtonEl.style.display =\n",
              "        google.colab.kernel.accessAllowed ? 'block' : 'none';\n",
              "    })();\n",
              "  </script>\n",
              "</div>\n",
              "    </div>\n",
              "  </div>\n"
            ],
            "application/vnd.google.colaboratory.intrinsic+json": {
              "type": "dataframe"
            }
          },
          "metadata": {},
          "execution_count": 4
        }
      ]
    },
    {
      "cell_type": "code",
      "source": [
        "def plot_histogram(output_tensor,title):\n",
        "  output_numpy = output_tensor.detach().numpy()\n",
        "\n",
        "  plt.hist(output_numpy, bins=30, edgecolor='black', alpha=0.7)\n",
        "  plt.xlabel('Output Values')\n",
        "  plt.ylabel('Frequency')\n",
        "  plt.title(title)\n",
        "  plt.show()"
      ],
      "metadata": {
        "id": "gLUz3TvBmpKY"
      },
      "execution_count": 5,
      "outputs": []
    },
    {
      "cell_type": "code",
      "source": [
        "device = \"cuda\" if torch.cuda.is_available() else \"cpu\"\n",
        "device"
      ],
      "metadata": {
        "id": "Gih2lJACWHSi",
        "outputId": "cd172559-cec6-408d-fa68-07ea97add781",
        "colab": {
          "base_uri": "https://localhost:8080/",
          "height": 36
        }
      },
      "execution_count": 6,
      "outputs": [
        {
          "output_type": "execute_result",
          "data": {
            "text/plain": [
              "'cuda'"
            ],
            "application/vnd.google.colaboratory.intrinsic+json": {
              "type": "string"
            }
          },
          "metadata": {},
          "execution_count": 6
        }
      ]
    },
    {
      "cell_type": "code",
      "source": [
        "x = torch.load(path.join(datasets_path, \"items_img2vec.pth\")).to(device)\n",
        "x, x.shape"
      ],
      "metadata": {
        "colab": {
          "base_uri": "https://localhost:8080/"
        },
        "id": "S81FJj9utstn",
        "outputId": "690a90b1-0697-4036-9869-53710b1b7d5b"
      },
      "execution_count": 7,
      "outputs": [
        {
          "output_type": "execute_result",
          "data": {
            "text/plain": [
              "(tensor([[0.2134, 0.4643, 0.3334,  ..., 0.3668, 0.0379, 0.0898],\n",
              "         [0.5982, 0.7184, 0.2694,  ..., 0.2122, 0.6592, 0.0720],\n",
              "         [0.3819, 4.5064, 0.2355,  ..., 0.2252, 0.7095, 0.4182],\n",
              "         ...,\n",
              "         [0.0192, 0.2306, 0.6947,  ..., 0.2099, 0.2533, 0.1645],\n",
              "         [0.4130, 0.2520, 0.2924,  ..., 0.5590, 0.3986, 0.0838],\n",
              "         [0.0576, 1.2712, 1.8085,  ..., 0.6934, 0.9322, 0.0889]],\n",
              "        device='cuda:0'),\n",
              " torch.Size([251008, 2048]))"
            ]
          },
          "metadata": {},
          "execution_count": 7
        }
      ]
    },
    {
      "cell_type": "code",
      "source": [
        "x.dtype ,x.shape"
      ],
      "metadata": {
        "colab": {
          "base_uri": "https://localhost:8080/"
        },
        "id": "BQG4pouWuLVH",
        "outputId": "ddf41e63-2407-4588-d957-da0661677b98"
      },
      "execution_count": 8,
      "outputs": [
        {
          "output_type": "execute_result",
          "data": {
            "text/plain": [
              "(torch.float32, torch.Size([251008, 2048]))"
            ]
          },
          "metadata": {},
          "execution_count": 8
        }
      ]
    },
    {
      "cell_type": "code",
      "source": [
        "edge_indices_path = path.join(datasets_path, \"dataset\", \"polyvore_outfits\", \"nondisjoint\")"
      ],
      "metadata": {
        "id": "9mvzirN8tyMK"
      },
      "execution_count": 9,
      "outputs": []
    },
    {
      "cell_type": "code",
      "source": [
        "train_edge_index = torch.load(path.join(edge_indices_path, \"train_edge_index.pth\"))\n",
        "test_edge_index = torch.load(path.join(edge_indices_path, \"test_edge_index.pth\"))\n",
        "valid_edge_index = torch.load(path.join(edge_indices_path, \"valid_edge_index.pth\"))"
      ],
      "metadata": {
        "id": "QpssZBHZuUue"
      },
      "execution_count": 10,
      "outputs": []
    },
    {
      "cell_type": "code",
      "source": [
        "train_edge_index.shape, valid_edge_index.shape, test_edge_index.shape"
      ],
      "metadata": {
        "colab": {
          "base_uri": "https://localhost:8080/"
        },
        "id": "VCFN1Dp9um3w",
        "outputId": "9df12efa-7504-4849-f2be-503893126b46"
      },
      "execution_count": 11,
      "outputs": [
        {
          "output_type": "execute_result",
          "data": {
            "text/plain": [
              "(torch.Size([53306, 2, 171]),\n",
              " torch.Size([5000, 2, 91]),\n",
              " torch.Size([10000, 2, 136]))"
            ]
          },
          "metadata": {},
          "execution_count": 11
        }
      ]
    },
    {
      "cell_type": "code",
      "source": [
        "negative_train_edge_index = torch.load(path.join(edge_indices_path,\"negative_train_edge_index.pth\"))\n",
        "\n",
        "negative_train_edge_index.shape"
      ],
      "metadata": {
        "colab": {
          "base_uri": "https://localhost:8080/"
        },
        "id": "J8EFs4H-HhS9",
        "outputId": "df0ccd24-2c93-4296-c484-35f5e8c79154"
      },
      "execution_count": 12,
      "outputs": [
        {
          "output_type": "execute_result",
          "data": {
            "text/plain": [
              "torch.Size([53306, 2, 171])"
            ]
          },
          "metadata": {},
          "execution_count": 12
        }
      ]
    },
    {
      "cell_type": "code",
      "source": [
        "def get_node_embedding_with_mask_meaningless_edge_index_elements(x, edge_index):\n",
        "  mask = torch.where(edge_index==-1, torch.tensor(0), torch.tensor(1)).unsqueeze(-1)\n",
        "  r = x[edge_index] * mask\n",
        "  return r"
      ],
      "metadata": {
        "id": "n8pAOUMsqTxH"
      },
      "execution_count": 13,
      "outputs": []
    },
    {
      "cell_type": "code",
      "source": [
        "def concat_edge_indices(edge_index_tensor_by_groups):\n",
        "  result = torch.cat([edge_index_tensor_by_groups[i] for i in range(edge_index_tensor_by_groups.shape[0])],dim=-1)\n",
        "  result = result[:,torch.where(result[0]>-1)[0]]\n",
        "  return result"
      ],
      "metadata": {
        "id": "vMyux7JYvApm"
      },
      "execution_count": 14,
      "outputs": []
    },
    {
      "cell_type": "code",
      "source": [
        "concat_edge_indices(train_edge_index[:1])"
      ],
      "metadata": {
        "colab": {
          "base_uri": "https://localhost:8080/"
        },
        "id": "BCreRAxilaHj",
        "outputId": "24702cb8-fc79-4047-9089-1064ffd4c7d5"
      },
      "execution_count": 15,
      "outputs": [
        {
          "output_type": "execute_result",
          "data": {
            "text/plain": [
              "tensor([[204439, 154376, 154376, 154376, 154376, 154376, 154376, 154376, 191980,\n",
              "         191980, 191980, 192270, 192270, 192270, 192270,   6713,   6713,  78057,\n",
              "          78057,  78057,  78057,  78057, 100757, 100757, 100757, 100757, 100757,\n",
              "         100757],\n",
              "        [249298, 249298, 204439, 191980, 192270,   6713,  78057, 100757, 249298,\n",
              "         204439,   6713, 249298, 204439, 191980,   6713, 249298, 204439, 249298,\n",
              "         204439, 191980, 192270,   6713, 249298, 204439, 191980, 192270,   6713,\n",
              "          78057]])"
            ]
          },
          "metadata": {},
          "execution_count": 15
        }
      ]
    },
    {
      "cell_type": "code",
      "source": [
        "x.shape"
      ],
      "metadata": {
        "colab": {
          "base_uri": "https://localhost:8080/"
        },
        "id": "UKBOTWU-09nR",
        "outputId": "fa303f37-9290-43aa-d14d-a6694a81a210"
      },
      "execution_count": 16,
      "outputs": [
        {
          "output_type": "execute_result",
          "data": {
            "text/plain": [
              "torch.Size([251008, 2048])"
            ]
          },
          "metadata": {},
          "execution_count": 16
        }
      ]
    },
    {
      "cell_type": "code",
      "source": [
        "from torch import nn\n",
        "import torch.nn.functional as F\n",
        "from torch_geometric.nn import GCNConv, GATConv,MessagePassing\n",
        "from torch_geometric.utils import to_undirected\n",
        "\n",
        "import torch.optim as optim"
      ],
      "metadata": {
        "id": "n78uETa0vUTG"
      },
      "execution_count": 17,
      "outputs": []
    },
    {
      "cell_type": "code",
      "source": [
        "class MyGCNMLP(MessagePassing):\n",
        "  def __init__(self,in_channels, out_channels):\n",
        "    super(MyGCNMLP, self).__init__()\n",
        "\n",
        "    self.lin = torch.nn.Linear(in_channels, out_channels)\n",
        "\n",
        "\n",
        "  def forward(self, x, edge_index):\n",
        "    return self.lin(x)"
      ],
      "metadata": {
        "id": "RANzvxNZJatA"
      },
      "execution_count": 18,
      "outputs": []
    },
    {
      "cell_type": "code",
      "source": [
        "class StyleMindGCN(nn.Module):\n",
        "  def __init__(self, in_channels, hidden_channels, out_channels ,number_of_layers, model_type=\"GCN\" , dropout=0.5, learning_margin=False):\n",
        "    super(StyleMindGCN,self).__init__()\n",
        "\n",
        "    self.convs = torch.nn.ModuleList([self.get_model(model_type)(in_channels if i==0 else hidden_channels,hidden_channels if i<number_of_layers-1 else out_channels, bias=False if i<number_of_layers-1 else True) for i in range(number_of_layers)])\n",
        "    self.bns = torch.nn.ModuleList([torch.nn.BatchNorm1d(hidden_channels) for i in range(number_of_layers-1)])\n",
        "\n",
        "    self.learning_margin = learning_margin\n",
        "    if self.learning_margin:\n",
        "      self.final_prediction_margin = torch.nn.Parameter(torch.tensor(0.0))\n",
        "    else:\n",
        "      self.final_prediction_margin = torch.tensor(0.0)\n",
        "\n",
        "    self.dropout = dropout\n",
        "\n",
        "\n",
        "  def reset_parameters(self):\n",
        "    for conv in self.convs:\n",
        "        conv.reset_parameters()\n",
        "    for bn in self.bns:\n",
        "        bn.reset_parameters()\n",
        "\n",
        "\n",
        "  def get_model(self, model_type):\n",
        "    if(model_type==\"GAT\"):\n",
        "      return GATConv\n",
        "    elif(model_type==\"MLP\"):\n",
        "      return MyGCNMLP\n",
        "\n",
        "    else:\n",
        "      return GCNConv\n",
        "\n",
        "  def forward(self, x, edge_index, outfits):\n",
        "    # x is the tensor of node_features (i.e. ResNet representation of each image of each garment)\n",
        "    # edge_index is the (2, |E|) to represent edges between garments\n",
        "    # outfits are 3 dim tensors with shape of (|O|, 2 , |Maximum combination of garments in the outfits in dataset|)\n",
        "    edge_index = to_undirected(edge_index)\n",
        "\n",
        "    for conv, bn in zip(self.convs[:-1], self.bns):\n",
        "      x = conv(x, edge_index)\n",
        "      x = bn(x)\n",
        "      x = F.relu(x)\n",
        "      x = F.dropout(x, self.dropout)\n",
        "\n",
        "    x = self.convs[-1](x,edge_index)\n",
        "\n",
        "    o = get_node_embedding_with_mask_meaningless_edge_index_elements(x,outfits)\n",
        "    # the output will be in the shape of (|O|, 2, |Maximum combination of garments in the outfits in dataset|)\n",
        "    # o = (F.cosine_similarity(o[:,0,:].squeeze(1), o[:,1,:].squeeze(1),dim=-1)).sum(dim=-1) / (outfits[:,:1,:]>=0).float().sum(dim=(-1,-2))\n",
        "    o = (o[:,0,:] * o[:,1,:]).sum(dim=(-1,-2)) / (outfits[:,:1,:]>=0).float().sum(dim=(-1,-2))\n",
        "    # the output will be in the shape of |O|\n",
        "    # o = F.sigmoid(o)\n",
        "    return x, o+self.final_prediction_margin\n",
        "\n"
      ],
      "metadata": {
        "id": "hiDfVi00vJdO"
      },
      "execution_count": 19,
      "outputs": []
    },
    {
      "cell_type": "code",
      "source": [
        "class MarginForNegativesLoss(nn.Module):\n",
        "  def __init__(self, margin=3):\n",
        "    super(MarginForNegativesLoss, self).__init__()\n",
        "    self.margin = margin\n",
        "    self.loss_fn = nn.BCEWithLogitsLoss()\n",
        "\n",
        "\n",
        "  def forward(self, cosine_sims, labels):\n",
        "    cosine_sims[labels==0] += self.margin\n",
        "\n"
      ],
      "metadata": {
        "id": "XY__RSrmIMn3"
      },
      "execution_count": 20,
      "outputs": []
    },
    {
      "cell_type": "code",
      "source": [
        "torch.sigmoid(torch.tensor(-1))"
      ],
      "metadata": {
        "id": "uPP4cIbKKM_0",
        "outputId": "eb54b35c-7e5a-4667-ab07-2d7d82fcf313",
        "colab": {
          "base_uri": "https://localhost:8080/"
        }
      },
      "execution_count": 21,
      "outputs": [
        {
          "output_type": "execute_result",
          "data": {
            "text/plain": [
              "tensor(0.2689)"
            ]
          },
          "metadata": {},
          "execution_count": 21
        }
      ]
    },
    {
      "cell_type": "code",
      "source": [
        "def train(model, x, edge_index, outfits, labels, optimizer, loss_fn):\n",
        "  model.train()\n",
        "  optimizer.zero_grad()\n",
        "  embds,o = model(x, edge_index, outfits)\n",
        "\n",
        "  loss = loss_fn(o, labels)\n",
        "  loss.backward()\n",
        "\n",
        "  optimizer.step()\n",
        "\n",
        "  return loss.item()"
      ],
      "metadata": {
        "id": "km5pFkE_5CLC"
      },
      "execution_count": 22,
      "outputs": []
    },
    {
      "cell_type": "code",
      "source": [
        "@torch.no_grad()\n",
        "def test(model, x, edge_index, outfits, labels, decision_boundary=0.5):\n",
        "  model.eval()\n",
        "\n",
        "  embds,o = model(x, edge_index, outfits)\n",
        "  o = torch.sigmoid(o)\n",
        "  o_pred = torch.where(o>=decision_boundary, torch.tensor(1), torch.tensor(0))\n",
        "\n",
        "  acc = (o_pred==labels).float().sum() / o_pred.shape[0]\n",
        "\n",
        "  return  acc"
      ],
      "metadata": {
        "id": "83SDJGCQ7Khn"
      },
      "execution_count": 23,
      "outputs": []
    },
    {
      "cell_type": "code",
      "source": [
        "in_channels = x.shape[-1]\n",
        "hidden_channels = 128\n",
        "out_channels = 128\n",
        "lr = 0.01\n",
        "number_of_layers = 3\n",
        "dropout = 0.5"
      ],
      "metadata": {
        "id": "_9GDYCrF8hNW"
      },
      "execution_count": 24,
      "outputs": []
    },
    {
      "cell_type": "code",
      "source": [
        "model = StyleMindGCN(in_channels, hidden_channels\n",
        "                     ,out_channels, number_of_layers,\"GCN\", dropout, learning_margin=True).to(device)"
      ],
      "metadata": {
        "id": "vI9dHMxn8lRi"
      },
      "execution_count": 25,
      "outputs": []
    },
    {
      "cell_type": "code",
      "source": [
        "import gc\n",
        "\n",
        "gc.collect()\n",
        "torch.cuda.empty_cache()\n"
      ],
      "metadata": {
        "id": "l2ZNMMLHNbff"
      },
      "execution_count": 26,
      "outputs": []
    },
    {
      "cell_type": "code",
      "source": [
        "print(f\"Memory allocated: {torch.cuda.memory_allocated() / (1024 ** 2):.2f} MB\")\n",
        "print(f\"Memory reserved: {torch.cuda.memory_reserved() / (1024 ** 2):.2f} MB\")"
      ],
      "metadata": {
        "colab": {
          "base_uri": "https://localhost:8080/"
        },
        "id": "-_RQ-ogiLUWp",
        "outputId": "9da200df-1e19-4ff7-9a52-36a5dc5d443c"
      },
      "execution_count": 27,
      "outputs": [
        {
          "output_type": "stream",
          "name": "stdout",
          "text": [
            "Memory allocated: 1963.13 MB\n",
            "Memory reserved: 1964.00 MB\n"
          ]
        }
      ]
    },
    {
      "cell_type": "code",
      "source": [
        "train_edge_index.shape"
      ],
      "metadata": {
        "colab": {
          "base_uri": "https://localhost:8080/"
        },
        "id": "xoKmKHQuJdmo",
        "outputId": "6522bf99-5205-4a1f-df1c-3c5cc0a54999"
      },
      "execution_count": 28,
      "outputs": [
        {
          "output_type": "execute_result",
          "data": {
            "text/plain": [
              "torch.Size([53306, 2, 171])"
            ]
          },
          "metadata": {},
          "execution_count": 28
        }
      ]
    },
    {
      "cell_type": "code",
      "source": [
        "NUM_EPOCHS = 500"
      ],
      "metadata": {
        "id": "eoKQAKK-9tLB"
      },
      "execution_count": 29,
      "outputs": []
    },
    {
      "cell_type": "markdown",
      "source": [
        "# TODO:\n",
        "- [x] splitting train dataset to two part\n",
        "      - message_passing\n",
        "      - labels\n",
        "- [x] negative sampling  \n",
        "  naive negative sampling: We just have randomly selected\n",
        "    8 nodes to combine(2,nodes) to create some negative samples"
      ],
      "metadata": {
        "id": "HRYH1FTNEMz6"
      }
    },
    {
      "cell_type": "code",
      "source": [
        "%%time\n",
        "def split_train_data(train_edge_index, diameter=8):\n",
        "  edge_nums =  train_edge_index.shape[0]\n",
        "  random_permutation = torch.randperm(edge_nums)\n",
        "  eval_outfits = train_edge_index[random_permutation[:edge_nums//diameter]]\n",
        "  message_passing_edges = concat_edge_indices(train_edge_index[random_permutation[edge_nums//diameter:]])\n",
        "  return eval_outfits, message_passing_edges\n",
        "\n",
        "a = split_train_data(train_edge_index)\n",
        "[value.shape for  value in a]"
      ],
      "metadata": {
        "colab": {
          "base_uri": "https://localhost:8080/"
        },
        "id": "lPILhMhvEyqD",
        "outputId": "d6a7ec35-13ba-4dc6-eba2-9051d0f6bc57"
      },
      "execution_count": 30,
      "outputs": [
        {
          "output_type": "stream",
          "name": "stdout",
          "text": [
            "CPU times: user 243 ms, sys: 165 ms, total: 408 ms\n",
            "Wall time: 407 ms\n"
          ]
        },
        {
          "output_type": "execute_result",
          "data": {
            "text/plain": [
              "[torch.Size([6663, 2, 171]), torch.Size([2, 601126])]"
            ]
          },
          "metadata": {},
          "execution_count": 30
        }
      ]
    },
    {
      "cell_type": "markdown",
      "source": [
        "# Naive negative sampling"
      ],
      "metadata": {
        "id": "gMQC8BPG6_J5"
      }
    },
    {
      "cell_type": "code",
      "source": [
        "%%time\n",
        "import torch\n",
        "import itertools\n",
        "\n",
        "def create_random_negative_samples(num_set, num_samples, num_garment, padding_size):\n",
        "  combinations = [[list(itertools.combinations(torch.randperm(x.shape[0])[:num_garment].tolist(), 2)) for i in range(num_samples)] for j in range(num_set)]\n",
        "\n",
        "  tensor = torch.tensor(combinations).transpose(-1,-2)\n",
        "  tensor = torch.cat((tensor.flip(-2), tensor), dim=-1)\n",
        "  result = torch.full((num_set, num_samples, 2, padding_size), -1)\n",
        "  result[:,:,:,:tensor.shape[-1]] = tensor\n",
        "  return result\n",
        "\n",
        "# negative_samples = create_random_negative_samples(10, 5000, 8, train_edge_index.shape[-1])\n",
        "# negative_samples.shape"
      ],
      "metadata": {
        "colab": {
          "base_uri": "https://localhost:8080/"
        },
        "id": "6Q0oLDysG7ym",
        "outputId": "318578ba-8f1a-471b-9dc1-8040ad53a6a9"
      },
      "execution_count": 31,
      "outputs": [
        {
          "output_type": "stream",
          "name": "stdout",
          "text": [
            "CPU times: user 0 ns, sys: 8 µs, total: 8 µs\n",
            "Wall time: 11.4 µs\n"
          ]
        }
      ]
    },
    {
      "cell_type": "code",
      "source": [
        "valid_negative_samples = create_random_negative_samples(1, valid_edge_index.shape[0],8, valid_edge_index.shape[-1])[0]\n",
        "test_negative_samples = create_random_negative_samples(1, test_edge_index.shape[0],8, test_edge_index.shape[-1])[0]\n",
        "valid_negative_samples.shape, test_negative_samples.shape"
      ],
      "metadata": {
        "colab": {
          "base_uri": "https://localhost:8080/"
        },
        "id": "kjoBWZt0v-15",
        "outputId": "69d4d2da-40b4-40e7-a3d2-2cdb745bed7c"
      },
      "execution_count": 32,
      "outputs": [
        {
          "output_type": "execute_result",
          "data": {
            "text/plain": [
              "(torch.Size([5000, 2, 91]), torch.Size([10000, 2, 136]))"
            ]
          },
          "metadata": {},
          "execution_count": 32
        }
      ]
    },
    {
      "cell_type": "markdown",
      "source": [
        "# untrained model behaviour"
      ],
      "metadata": {
        "id": "c6QUPsdEl1fd"
      }
    },
    {
      "cell_type": "code",
      "source": [
        "train_positives_eval_outfits, message_passing_edges = split_train_data(train_edge_index, 5)\n",
        "train_negatives_eval_outfits = negative_train_edge_index[torch.randperm(negative_train_edge_index.shape[0])[:train_positives_eval_outfits.shape[0]]]\n",
        "train_labels = torch.cat((torch.ones(train_positives_eval_outfits.shape[0]),\n",
        "                          torch.zeros(train_negatives_eval_outfits.shape[0])))\n",
        "eval_outfits = torch.cat((train_positives_eval_outfits,train_negatives_eval_outfits), dim=0)\n",
        "\n",
        "embd, o = model(x.to(device), message_passing_edges.to(device), eval_outfits.to(device))\n",
        "embd = embd.to(\"cpu\")\n",
        "o = o.to(\"cpu\")"
      ],
      "metadata": {
        "id": "Vxba_usBl8PR",
        "outputId": "7f500e71-4b3c-4771-b80e-20bddd18a9ce",
        "colab": {
          "base_uri": "https://localhost:8080/",
          "height": 551
        }
      },
      "execution_count": 48,
      "outputs": [
        {
          "output_type": "error",
          "ename": "OutOfMemoryError",
          "evalue": "CUDA out of memory. Tried to allocate 3.48 GiB. GPU 0 has a total capacity of 14.74 GiB of which 2.79 GiB is free. Process 4495 has 11.95 GiB memory in use. Of the allocated memory 8.58 GiB is allocated by PyTorch, and 3.25 GiB is reserved by PyTorch but unallocated. If reserved but unallocated memory is large try setting PYTORCH_CUDA_ALLOC_CONF=expandable_segments:True to avoid fragmentation.  See documentation for Memory Management  (https://pytorch.org/docs/stable/notes/cuda.html#environment-variables)",
          "traceback": [
            "\u001b[0;31m---------------------------------------------------------------------------\u001b[0m",
            "\u001b[0;31mOutOfMemoryError\u001b[0m                          Traceback (most recent call last)",
            "\u001b[0;32m<ipython-input-48-10fbe4967049>\u001b[0m in \u001b[0;36m<cell line: 0>\u001b[0;34m()\u001b[0m\n\u001b[1;32m      5\u001b[0m \u001b[0meval_outfits\u001b[0m \u001b[0;34m=\u001b[0m \u001b[0mtorch\u001b[0m\u001b[0;34m.\u001b[0m\u001b[0mcat\u001b[0m\u001b[0;34m(\u001b[0m\u001b[0;34m(\u001b[0m\u001b[0mtrain_positives_eval_outfits\u001b[0m\u001b[0;34m,\u001b[0m\u001b[0mtrain_negatives_eval_outfits\u001b[0m\u001b[0;34m)\u001b[0m\u001b[0;34m,\u001b[0m \u001b[0mdim\u001b[0m\u001b[0;34m=\u001b[0m\u001b[0;36m0\u001b[0m\u001b[0;34m)\u001b[0m\u001b[0;34m\u001b[0m\u001b[0;34m\u001b[0m\u001b[0m\n\u001b[1;32m      6\u001b[0m \u001b[0;34m\u001b[0m\u001b[0m\n\u001b[0;32m----> 7\u001b[0;31m \u001b[0membd\u001b[0m\u001b[0;34m,\u001b[0m \u001b[0mo\u001b[0m \u001b[0;34m=\u001b[0m \u001b[0mmodel\u001b[0m\u001b[0;34m(\u001b[0m\u001b[0mx\u001b[0m\u001b[0;34m.\u001b[0m\u001b[0mto\u001b[0m\u001b[0;34m(\u001b[0m\u001b[0mdevice\u001b[0m\u001b[0;34m)\u001b[0m\u001b[0;34m,\u001b[0m \u001b[0mmessage_passing_edges\u001b[0m\u001b[0;34m.\u001b[0m\u001b[0mto\u001b[0m\u001b[0;34m(\u001b[0m\u001b[0mdevice\u001b[0m\u001b[0;34m)\u001b[0m\u001b[0;34m,\u001b[0m \u001b[0meval_outfits\u001b[0m\u001b[0;34m.\u001b[0m\u001b[0mto\u001b[0m\u001b[0;34m(\u001b[0m\u001b[0mdevice\u001b[0m\u001b[0;34m)\u001b[0m\u001b[0;34m)\u001b[0m\u001b[0;34m\u001b[0m\u001b[0;34m\u001b[0m\u001b[0m\n\u001b[0m\u001b[1;32m      8\u001b[0m \u001b[0membd\u001b[0m \u001b[0;34m=\u001b[0m \u001b[0membd\u001b[0m\u001b[0;34m.\u001b[0m\u001b[0mto\u001b[0m\u001b[0;34m(\u001b[0m\u001b[0;34m\"cpu\"\u001b[0m\u001b[0;34m)\u001b[0m\u001b[0;34m\u001b[0m\u001b[0;34m\u001b[0m\u001b[0m\n\u001b[1;32m      9\u001b[0m \u001b[0mo\u001b[0m \u001b[0;34m=\u001b[0m \u001b[0mo\u001b[0m\u001b[0;34m.\u001b[0m\u001b[0mto\u001b[0m\u001b[0;34m(\u001b[0m\u001b[0;34m\"cpu\"\u001b[0m\u001b[0;34m)\u001b[0m\u001b[0;34m\u001b[0m\u001b[0;34m\u001b[0m\u001b[0m\n",
            "\u001b[0;32m/usr/local/lib/python3.11/dist-packages/torch/nn/modules/module.py\u001b[0m in \u001b[0;36m_wrapped_call_impl\u001b[0;34m(self, *args, **kwargs)\u001b[0m\n\u001b[1;32m   1737\u001b[0m             \u001b[0;32mreturn\u001b[0m \u001b[0mself\u001b[0m\u001b[0;34m.\u001b[0m\u001b[0m_compiled_call_impl\u001b[0m\u001b[0;34m(\u001b[0m\u001b[0;34m*\u001b[0m\u001b[0margs\u001b[0m\u001b[0;34m,\u001b[0m \u001b[0;34m**\u001b[0m\u001b[0mkwargs\u001b[0m\u001b[0;34m)\u001b[0m  \u001b[0;31m# type: ignore[misc]\u001b[0m\u001b[0;34m\u001b[0m\u001b[0;34m\u001b[0m\u001b[0m\n\u001b[1;32m   1738\u001b[0m         \u001b[0;32melse\u001b[0m\u001b[0;34m:\u001b[0m\u001b[0;34m\u001b[0m\u001b[0;34m\u001b[0m\u001b[0m\n\u001b[0;32m-> 1739\u001b[0;31m             \u001b[0;32mreturn\u001b[0m \u001b[0mself\u001b[0m\u001b[0;34m.\u001b[0m\u001b[0m_call_impl\u001b[0m\u001b[0;34m(\u001b[0m\u001b[0;34m*\u001b[0m\u001b[0margs\u001b[0m\u001b[0;34m,\u001b[0m \u001b[0;34m**\u001b[0m\u001b[0mkwargs\u001b[0m\u001b[0;34m)\u001b[0m\u001b[0;34m\u001b[0m\u001b[0;34m\u001b[0m\u001b[0m\n\u001b[0m\u001b[1;32m   1740\u001b[0m \u001b[0;34m\u001b[0m\u001b[0m\n\u001b[1;32m   1741\u001b[0m     \u001b[0;31m# torchrec tests the code consistency with the following code\u001b[0m\u001b[0;34m\u001b[0m\u001b[0;34m\u001b[0m\u001b[0m\n",
            "\u001b[0;32m/usr/local/lib/python3.11/dist-packages/torch/nn/modules/module.py\u001b[0m in \u001b[0;36m_call_impl\u001b[0;34m(self, *args, **kwargs)\u001b[0m\n\u001b[1;32m   1748\u001b[0m                 \u001b[0;32mor\u001b[0m \u001b[0m_global_backward_pre_hooks\u001b[0m \u001b[0;32mor\u001b[0m \u001b[0m_global_backward_hooks\u001b[0m\u001b[0;34m\u001b[0m\u001b[0;34m\u001b[0m\u001b[0m\n\u001b[1;32m   1749\u001b[0m                 or _global_forward_hooks or _global_forward_pre_hooks):\n\u001b[0;32m-> 1750\u001b[0;31m             \u001b[0;32mreturn\u001b[0m \u001b[0mforward_call\u001b[0m\u001b[0;34m(\u001b[0m\u001b[0;34m*\u001b[0m\u001b[0margs\u001b[0m\u001b[0;34m,\u001b[0m \u001b[0;34m**\u001b[0m\u001b[0mkwargs\u001b[0m\u001b[0;34m)\u001b[0m\u001b[0;34m\u001b[0m\u001b[0;34m\u001b[0m\u001b[0m\n\u001b[0m\u001b[1;32m   1751\u001b[0m \u001b[0;34m\u001b[0m\u001b[0m\n\u001b[1;32m   1752\u001b[0m         \u001b[0mresult\u001b[0m \u001b[0;34m=\u001b[0m \u001b[0;32mNone\u001b[0m\u001b[0;34m\u001b[0m\u001b[0;34m\u001b[0m\u001b[0m\n",
            "\u001b[0;32m<ipython-input-27-4752e3bddf87>\u001b[0m in \u001b[0;36mforward\u001b[0;34m(self, x, edge_index, outfits)\u001b[0m\n\u001b[1;32m     45\u001b[0m     \u001b[0mx\u001b[0m \u001b[0;34m=\u001b[0m \u001b[0mself\u001b[0m\u001b[0;34m.\u001b[0m\u001b[0mconvs\u001b[0m\u001b[0;34m[\u001b[0m\u001b[0;34m-\u001b[0m\u001b[0;36m1\u001b[0m\u001b[0;34m]\u001b[0m\u001b[0;34m(\u001b[0m\u001b[0mx\u001b[0m\u001b[0;34m,\u001b[0m\u001b[0medge_index\u001b[0m\u001b[0;34m)\u001b[0m\u001b[0;34m\u001b[0m\u001b[0;34m\u001b[0m\u001b[0m\n\u001b[1;32m     46\u001b[0m \u001b[0;34m\u001b[0m\u001b[0m\n\u001b[0;32m---> 47\u001b[0;31m     \u001b[0mo\u001b[0m \u001b[0;34m=\u001b[0m \u001b[0mget_node_embedding_with_mask_meaningless_edge_index_elements\u001b[0m\u001b[0;34m(\u001b[0m\u001b[0mx\u001b[0m\u001b[0;34m,\u001b[0m\u001b[0moutfits\u001b[0m\u001b[0;34m)\u001b[0m\u001b[0;34m\u001b[0m\u001b[0;34m\u001b[0m\u001b[0m\n\u001b[0m\u001b[1;32m     48\u001b[0m     \u001b[0;31m# the output will be in the shape of (|O|, 2, |Maximum combination of garments in the outfits in dataset|)\u001b[0m\u001b[0;34m\u001b[0m\u001b[0;34m\u001b[0m\u001b[0m\n\u001b[1;32m     49\u001b[0m     \u001b[0;31m# o = (F.cosine_similarity(o[:,0,:].squeeze(1), o[:,1,:].squeeze(1),dim=-1)).sum(dim=-1) / (outfits[:,:1,:]>=0).float().sum(dim=(-1,-2))\u001b[0m\u001b[0;34m\u001b[0m\u001b[0;34m\u001b[0m\u001b[0m\n",
            "\u001b[0;32m<ipython-input-13-31fb264f63c0>\u001b[0m in \u001b[0;36mget_node_embedding_with_mask_meaningless_edge_index_elements\u001b[0;34m(x, edge_index)\u001b[0m\n\u001b[1;32m      1\u001b[0m \u001b[0;32mdef\u001b[0m \u001b[0mget_node_embedding_with_mask_meaningless_edge_index_elements\u001b[0m\u001b[0;34m(\u001b[0m\u001b[0mx\u001b[0m\u001b[0;34m,\u001b[0m \u001b[0medge_index\u001b[0m\u001b[0;34m)\u001b[0m\u001b[0;34m:\u001b[0m\u001b[0;34m\u001b[0m\u001b[0;34m\u001b[0m\u001b[0m\n\u001b[1;32m      2\u001b[0m   \u001b[0mmask\u001b[0m \u001b[0;34m=\u001b[0m \u001b[0mtorch\u001b[0m\u001b[0;34m.\u001b[0m\u001b[0mwhere\u001b[0m\u001b[0;34m(\u001b[0m\u001b[0medge_index\u001b[0m\u001b[0;34m==\u001b[0m\u001b[0;34m-\u001b[0m\u001b[0;36m1\u001b[0m\u001b[0;34m,\u001b[0m \u001b[0mtorch\u001b[0m\u001b[0;34m.\u001b[0m\u001b[0mtensor\u001b[0m\u001b[0;34m(\u001b[0m\u001b[0;36m0\u001b[0m\u001b[0;34m)\u001b[0m\u001b[0;34m,\u001b[0m \u001b[0mtorch\u001b[0m\u001b[0;34m.\u001b[0m\u001b[0mtensor\u001b[0m\u001b[0;34m(\u001b[0m\u001b[0;36m1\u001b[0m\u001b[0;34m)\u001b[0m\u001b[0;34m)\u001b[0m\u001b[0;34m.\u001b[0m\u001b[0munsqueeze\u001b[0m\u001b[0;34m(\u001b[0m\u001b[0;34m-\u001b[0m\u001b[0;36m1\u001b[0m\u001b[0;34m)\u001b[0m\u001b[0;34m\u001b[0m\u001b[0;34m\u001b[0m\u001b[0m\n\u001b[0;32m----> 3\u001b[0;31m   \u001b[0mr\u001b[0m \u001b[0;34m=\u001b[0m \u001b[0mx\u001b[0m\u001b[0;34m[\u001b[0m\u001b[0medge_index\u001b[0m\u001b[0;34m]\u001b[0m \u001b[0;34m*\u001b[0m \u001b[0mmask\u001b[0m\u001b[0;34m\u001b[0m\u001b[0;34m\u001b[0m\u001b[0m\n\u001b[0m\u001b[1;32m      4\u001b[0m   \u001b[0;32mreturn\u001b[0m \u001b[0mr\u001b[0m\u001b[0;34m\u001b[0m\u001b[0;34m\u001b[0m\u001b[0m\n",
            "\u001b[0;31mOutOfMemoryError\u001b[0m: CUDA out of memory. Tried to allocate 3.48 GiB. GPU 0 has a total capacity of 14.74 GiB of which 2.79 GiB is free. Process 4495 has 11.95 GiB memory in use. Of the allocated memory 8.58 GiB is allocated by PyTorch, and 3.25 GiB is reserved by PyTorch but unallocated. If reserved but unallocated memory is large try setting PYTORCH_CUDA_ALLOC_CONF=expandable_segments:True to avoid fragmentation.  See documentation for Memory Management  (https://pytorch.org/docs/stable/notes/cuda.html#environment-variables)"
          ]
        }
      ]
    },
    {
      "cell_type": "code",
      "source": [
        "plot_histogram(o[:o.shape[0]//2], \"inner product only model positives\")\n",
        "plot_histogram(o[o.shape[0]//2:], \"inner product only model negatives\")\n",
        "plot_histogram(torch.sigmoid(o[:o.shape[0]//2]), \"inner product only model positives sigmoid\")\n",
        "plot_histogram(torch.sigmoid(o[o.shape[0]//2:]), \"inner product only model negatives sigmoid\")"
      ],
      "metadata": {
        "id": "zHhYmznsmgX2",
        "outputId": "c6614312-95ff-4f96-9dd1-1059c9f7239f",
        "colab": {
          "base_uri": "https://localhost:8080/",
          "height": 1000
        }
      },
      "execution_count": 39,
      "outputs": [
        {
          "output_type": "display_data",
          "data": {
            "text/plain": [
              "<Figure size 640x480 with 1 Axes>"
            ],
            "image/png": "[encoded data removed]"
          },
          "metadata": {}
        },
        {
          "output_type": "display_data",
          "data": {
            "text/plain": [
              "<Figure size 640x480 with 1 Axes>"
            ],
            "image/png": "[encoded data removed]"
          },
          "metadata": {}
        },
        {
          "output_type": "display_data",
          "data": {
            "text/plain": [
              "<Figure size 640x480 with 1 Axes>"
            ],
            "image/png": "[encoded data removed]"
          },
          "metadata": {}
        },
        {
          "output_type": "display_data",
          "data": {
            "text/plain": [
              "<Figure size 640x480 with 1 Axes>"
            ],
            "image/png": "[encoded data removed]"
          },
          "metadata": {}
        }
      ]
    },
    {
      "cell_type": "code",
      "source": [
        "model.reset_parameters()\n",
        "\n",
        "optimizer = optim.Adam(model.parameters(), lr)\n",
        "loss_fn = nn.BCELoss()\n",
        "\n",
        "x = x.to(device)\n",
        "for epoch in range(NUM_EPOCHS):\n",
        "\n",
        "    train_positives_eval_outfits, message_passing_edges = split_train_data(train_edge_index, 8)\n",
        "    train_negatives_eval_outfits = negative_samples[epoch % negative_samples.shape[0]]\n",
        "    train_labels = torch.cat((torch.ones(train_positives_eval_outfits.shape[0]),\n",
        "                              torch.zeros(train_negatives_eval_outfits.shape[0])))\n",
        "    train_eval_outfits = torch.cat((train_positives_eval_outfits, train_negatives_eval_outfits), dim=0)\n",
        "    train_loss = train(model, x, message_passing_edges.to(device)\n",
        "    , train_eval_outfits.to(device), train_labels.to(device),\n",
        "                       loss_fn=loss_fn, optimizer=optimizer)\n",
        "    train_acc = test(model, x, message_passing_edges.to(device)\n",
        "    , train_eval_outfits.to(device), train_labels.to(device))\n",
        "\n",
        "\n",
        "    valid_message_passing_edges = torch.cat((concat_edge_indices(train_positives_eval_outfits)\n",
        "    , message_passing_edges), dim=-1)\n",
        "    valid_labels = torch.cat((torch.ones(valid_edge_index.shape[0]),\n",
        "                              torch.zeros(valid_negative_samples.shape[0])))\n",
        "    valid_eval_outfits = torch.cat((valid_edge_index, valid_negative_samples), dim=0)\n",
        "    valid_acc = test(model, x, valid_message_passing_edges.to(device)\n",
        "    , valid_eval_outfits.to(device), valid_labels.to(device))\n",
        "\n",
        "\n",
        "\n",
        "    test_message_passing_edges = torch.cat((concat_edge_indices(valid_edge_index)\n",
        "    , valid_message_passing_edges), dim=-1)\n",
        "    test_labels = torch.cat((torch.ones(test_edge_index.shape[0]),\n",
        "                              torch.zeros(test_negative_samples.shape[0])))\n",
        "    test_eval_outfits = torch.cat((test_edge_index, test_negative_samples), dim=0)\n",
        "    test_acc = test(model, x, test_message_passing_edges.to(device)\n",
        "    , test_eval_outfits.to(device), test_labels.to(device))\n",
        "\n",
        "    print(f'Epoch: {epoch:02d}, '\n",
        "          f'Loss: {train_loss:.4f}, '\n",
        "          f'Train: {100 * train_acc:.2f}%, '\n",
        "          f'Valid: {100 * valid_acc:.2f}% '\n",
        "          f'Test: {100 * test_acc:.2f}%')\n",
        "\n"
      ],
      "metadata": {
        "id": "XfIBGXzF9y51",
        "colab": {
          "base_uri": "https://localhost:8080/",
          "height": 219
        },
        "outputId": "277efc45-2fa5-4ed6-a146-74f05be1cd7e"
      },
      "execution_count": null,
      "outputs": [
        {
          "output_type": "error",
          "ename": "NameError",
          "evalue": "name 'negative_samples' is not defined",
          "traceback": [
            "\u001b[0;31m---------------------------------------------------------------------------\u001b[0m",
            "\u001b[0;31mNameError\u001b[0m                                 Traceback (most recent call last)",
            "\u001b[0;32m<ipython-input-35-cab401ecba03>\u001b[0m in \u001b[0;36m<cell line: 0>\u001b[0;34m()\u001b[0m\n\u001b[1;32m      8\u001b[0m \u001b[0;34m\u001b[0m\u001b[0m\n\u001b[1;32m      9\u001b[0m     \u001b[0mtrain_positives_eval_outfits\u001b[0m\u001b[0;34m,\u001b[0m \u001b[0mmessage_passing_edges\u001b[0m \u001b[0;34m=\u001b[0m \u001b[0msplit_train_data\u001b[0m\u001b[0;34m(\u001b[0m\u001b[0mtrain_edge_index\u001b[0m\u001b[0;34m,\u001b[0m \u001b[0;36m8\u001b[0m\u001b[0;34m)\u001b[0m\u001b[0;34m\u001b[0m\u001b[0;34m\u001b[0m\u001b[0m\n\u001b[0;32m---> 10\u001b[0;31m     \u001b[0mtrain_negatives_eval_outfits\u001b[0m \u001b[0;34m=\u001b[0m \u001b[0mnegative_samples\u001b[0m\u001b[0;34m[\u001b[0m\u001b[0mepoch\u001b[0m \u001b[0;34m%\u001b[0m \u001b[0mnegative_samples\u001b[0m\u001b[0;34m.\u001b[0m\u001b[0mshape\u001b[0m\u001b[0;34m[\u001b[0m\u001b[0;36m0\u001b[0m\u001b[0;34m]\u001b[0m\u001b[0;34m]\u001b[0m\u001b[0;34m\u001b[0m\u001b[0;34m\u001b[0m\u001b[0m\n\u001b[0m\u001b[1;32m     11\u001b[0m     train_labels = torch.cat((torch.ones(train_positives_eval_outfits.shape[0]),\n\u001b[1;32m     12\u001b[0m                               torch.zeros(train_negatives_eval_outfits.shape[0])))\n",
            "\u001b[0;31mNameError\u001b[0m: name 'negative_samples' is not defined"
          ]
        }
      ]
    },
    {
      "cell_type": "markdown",
      "source": [
        "## results:\n",
        "We achived the best test result of 75.22 in epoch 396. In addition, we think that we will achieve better results, if we use a stronger approach for negative sampling, like using compatiblity dataset that is available.\n",
        "\n",
        "in the next section, we will train our model on a dataset with better negative samples, but also the same positive ones."
      ],
      "metadata": {
        "id": "2qvm4HEY7FTd"
      }
    },
    {
      "cell_type": "markdown",
      "source": [
        "# Better negative samples"
      ],
      "metadata": {
        "id": "pe2RInbmH62r"
      }
    },
    {
      "cell_type": "code",
      "source": [
        "import matplotlib.pyplot as plt"
      ],
      "metadata": {
        "id": "gvK-9q6Z1UId"
      },
      "execution_count": 32,
      "outputs": []
    },
    {
      "cell_type": "code",
      "source": [
        "import copy"
      ],
      "metadata": {
        "id": "Tvdc5sQNACh1"
      },
      "execution_count": 40,
      "outputs": []
    },
    {
      "cell_type": "code",
      "source": [
        "model.reset_parameters()\n",
        "\n",
        "losses = []\n",
        "test_accs = []\n",
        "\n",
        "best_test_acc = 0\n",
        "best_model = None\n",
        "\n",
        "optimizer = optim.Adam(model.parameters(), lr)\n",
        "loss_fn = nn.BCEWithLogitsLoss()\n",
        "\n",
        "x = x.to(device)\n",
        "for epoch in range(NUM_EPOCHS):\n",
        "\n",
        "    train_positives_eval_outfits, message_passing_edges = split_train_data(train_edge_index, 5)\n",
        "    train_negatives_eval_outfits = negative_train_edge_index[torch.randperm(negative_train_edge_index.shape[0])[:train_positives_eval_outfits.shape[0]]]\n",
        "    train_labels = torch.cat((torch.ones(train_positives_eval_outfits.shape[0]),\n",
        "                              torch.zeros(train_negatives_eval_outfits.shape[0])))\n",
        "    train_eval_outfits = torch.cat((train_positives_eval_outfits, train_negatives_eval_outfits), dim=0)\n",
        "    train_loss = train(model, x, message_passing_edges.to(device)\n",
        "    , train_eval_outfits.to(device), train_labels.to(device),\n",
        "                       loss_fn=loss_fn, optimizer=optimizer)\n",
        "    train_acc = test(model, x, message_passing_edges.to(device)\n",
        "    , train_eval_outfits.to(device), train_labels.to(device))\n",
        "\n",
        "\n",
        "    valid_message_passing_edges = torch.cat((concat_edge_indices(train_positives_eval_outfits)\n",
        "    , message_passing_edges), dim=-1)\n",
        "    valid_labels = torch.cat((torch.ones(valid_edge_index.shape[0]),\n",
        "                              torch.zeros(valid_negative_samples.shape[0])))\n",
        "    valid_eval_outfits = torch.cat((valid_edge_index, valid_negative_samples), dim=0)\n",
        "    valid_acc = test(model, x, valid_message_passing_edges.to(device)\n",
        "    , valid_eval_outfits.to(device), valid_labels.to(device))\n",
        "\n",
        "\n",
        "\n",
        "    test_message_passing_edges = torch.cat((concat_edge_indices(valid_edge_index)\n",
        "    , valid_message_passing_edges), dim=-1)\n",
        "    test_labels = torch.cat((torch.ones(test_edge_index.shape[0]),\n",
        "                              torch.zeros(test_negative_samples.shape[0])))\n",
        "    test_eval_outfits = torch.cat((test_edge_index, test_negative_samples), dim=0)\n",
        "    test_acc = test(model, x, test_message_passing_edges.to(device)\n",
        "    , test_eval_outfits.to(device), test_labels.to(device))\n",
        "\n",
        "    if(test_acc > best_test_acc):\n",
        "        best_test_acc = test_acc\n",
        "        best_model = copy.deepcopy(model)\n",
        "\n",
        "    losses.append(train_loss)\n",
        "    test_accs.append(test_acc)\n",
        "    print(f'Epoch: {epoch:02d}, '\n",
        "          f'Loss: {train_loss:.4f}, '\n",
        "          f'Train: {100 * train_acc:.2f}%, '\n",
        "          f'Valid: {100 * valid_acc:.2f}% '\n",
        "          f'Test: {100 * test_acc:.2f}%')\n"
      ],
      "metadata": {
        "id": "15Aqxk3aH_et",
        "colab": {
          "base_uri": "https://localhost:8080/"
        },
        "outputId": "841780ec-a3c0-4a3d-f66e-7b1571edb97d"
      },
      "execution_count": 35,
      "outputs": [
        {
          "output_type": "stream",
          "name": "stdout",
          "text": [
            "Epoch: 00, Loss: 3.7516, Train: 50.00%, Valid: 49.99% Test: 49.99%\n",
            "Epoch: 01, Loss: 8.0754, Train: 49.79%, Valid: 49.83% Test: 49.84%\n",
            "Epoch: 02, Loss: 2.3860, Train: 49.99%, Valid: 49.93% Test: 49.97%\n",
            "Epoch: 03, Loss: 3.5005, Train: 49.97%, Valid: 49.96% Test: 49.97%\n",
            "Epoch: 04, Loss: 2.8723, Train: 49.98%, Valid: 49.98% Test: 49.96%\n",
            "Epoch: 05, Loss: 1.8874, Train: 49.96%, Valid: 49.95% Test: 49.98%\n",
            "Epoch: 06, Loss: 1.3387, Train: 49.91%, Valid: 49.94% Test: 49.97%\n",
            "Epoch: 07, Loss: 1.0858, Train: 49.92%, Valid: 49.88% Test: 49.94%\n",
            "Epoch: 08, Loss: 1.0265, Train: 49.88%, Valid: 49.85% Test: 49.93%\n",
            "Epoch: 09, Loss: 1.0050, Train: 49.85%, Valid: 49.89% Test: 49.85%\n",
            "Epoch: 10, Loss: 1.0034, Train: 49.77%, Valid: 49.80% Test: 49.88%\n",
            "Epoch: 11, Loss: 0.9976, Train: 49.78%, Valid: 49.73% Test: 49.75%\n",
            "Epoch: 12, Loss: 0.9652, Train: 49.71%, Valid: 49.72% Test: 49.71%\n",
            "Epoch: 13, Loss: 0.8966, Train: 49.58%, Valid: 49.51% Test: 49.55%\n",
            "Epoch: 14, Loss: 0.8574, Train: 49.49%, Valid: 49.35% Test: 49.43%\n",
            "Epoch: 15, Loss: 0.8065, Train: 49.41%, Valid: 49.18% Test: 49.25%\n",
            "Epoch: 16, Loss: 0.8051, Train: 49.44%, Valid: 49.20% Test: 49.29%\n",
            "Epoch: 17, Loss: 0.7846, Train: 49.34%, Valid: 49.23% Test: 49.18%\n",
            "Epoch: 18, Loss: 0.7875, Train: 49.34%, Valid: 48.98% Test: 49.06%\n",
            "Epoch: 19, Loss: 0.7628, Train: 49.44%, Valid: 49.10% Test: 49.05%\n",
            "Epoch: 20, Loss: 0.7457, Train: 49.38%, Valid: 49.29% Test: 49.22%\n",
            "Epoch: 21, Loss: 0.7414, Train: 49.48%, Valid: 49.31% Test: 49.27%\n",
            "Epoch: 22, Loss: 0.7556, Train: 49.50%, Valid: 49.22% Test: 49.08%\n",
            "Epoch: 23, Loss: 0.7398, Train: 49.50%, Valid: 49.25% Test: 48.98%\n",
            "Epoch: 24, Loss: 0.6940, Train: 49.39%, Valid: 49.13% Test: 49.00%\n",
            "Epoch: 25, Loss: 0.6850, Train: 49.44%, Valid: 48.88% Test: 48.93%\n",
            "Epoch: 26, Loss: 0.6806, Train: 49.33%, Valid: 48.99% Test: 48.73%\n",
            "Epoch: 27, Loss: 0.6722, Train: 49.34%, Valid: 48.97% Test: 48.93%\n",
            "Epoch: 28, Loss: 0.6490, Train: 49.59%, Valid: 48.90% Test: 48.86%\n",
            "Epoch: 29, Loss: 0.6687, Train: 49.99%, Valid: 49.73% Test: 49.34%\n",
            "Epoch: 30, Loss: 0.6482, Train: 50.45%, Valid: 49.67% Test: 49.58%\n",
            "Epoch: 31, Loss: 0.6227, Train: 50.83%, Valid: 50.34% Test: 49.98%\n",
            "Epoch: 32, Loss: 0.6375, Train: 51.23%, Valid: 51.54% Test: 50.33%\n",
            "Epoch: 33, Loss: 0.6361, Train: 52.12%, Valid: 52.33% Test: 51.08%\n",
            "Epoch: 34, Loss: 0.6296, Train: 52.81%, Valid: 52.62% Test: 52.33%\n",
            "Epoch: 35, Loss: 0.6254, Train: 53.90%, Valid: 54.22% Test: 53.50%\n",
            "Epoch: 36, Loss: 0.6134, Train: 54.05%, Valid: 54.83% Test: 53.89%\n",
            "Epoch: 37, Loss: 0.6149, Train: 55.47%, Valid: 56.16% Test: 55.05%\n",
            "Epoch: 38, Loss: 0.6219, Train: 56.34%, Valid: 57.08% Test: 55.88%\n",
            "Epoch: 39, Loss: 0.6021, Train: 57.56%, Valid: 57.66% Test: 57.27%\n",
            "Epoch: 40, Loss: 0.6176, Train: 58.29%, Valid: 59.04% Test: 57.85%\n",
            "Epoch: 41, Loss: 0.6029, Train: 58.67%, Valid: 58.82% Test: 58.66%\n",
            "Epoch: 42, Loss: 0.5998, Train: 59.56%, Valid: 59.67% Test: 59.83%\n",
            "Epoch: 43, Loss: 0.6035, Train: 59.92%, Valid: 60.33% Test: 60.06%\n",
            "Epoch: 44, Loss: 0.6099, Train: 60.59%, Valid: 61.61% Test: 60.90%\n",
            "Epoch: 45, Loss: 0.5852, Train: 61.12%, Valid: 61.36% Test: 61.04%\n",
            "Epoch: 46, Loss: 0.5753, Train: 61.98%, Valid: 62.07% Test: 61.73%\n",
            "Epoch: 47, Loss: 0.5821, Train: 62.49%, Valid: 63.33% Test: 62.78%\n",
            "Epoch: 48, Loss: 0.5767, Train: 62.41%, Valid: 63.37% Test: 63.09%\n",
            "Epoch: 49, Loss: 0.5655, Train: 63.27%, Valid: 63.91% Test: 63.70%\n",
            "Epoch: 50, Loss: 0.5783, Train: 64.16%, Valid: 64.64% Test: 64.32%\n",
            "Epoch: 51, Loss: 0.5903, Train: 63.77%, Valid: 64.32% Test: 65.15%\n",
            "Epoch: 52, Loss: 0.5725, Train: 64.62%, Valid: 64.73% Test: 65.62%\n",
            "Epoch: 53, Loss: 0.5653, Train: 64.66%, Valid: 65.29% Test: 66.33%\n",
            "Epoch: 54, Loss: 0.5655, Train: 65.16%, Valid: 65.54% Test: 66.33%\n",
            "Epoch: 55, Loss: 0.5708, Train: 65.09%, Valid: 65.42% Test: 66.53%\n",
            "Epoch: 56, Loss: 0.5666, Train: 65.83%, Valid: 65.90% Test: 66.94%\n",
            "Epoch: 57, Loss: 0.5607, Train: 65.68%, Valid: 66.16% Test: 67.45%\n",
            "Epoch: 58, Loss: 0.5610, Train: 65.66%, Valid: 66.16% Test: 67.88%\n",
            "Epoch: 59, Loss: 0.5661, Train: 66.27%, Valid: 65.95% Test: 67.78%\n",
            "Epoch: 60, Loss: 0.5754, Train: 65.45%, Valid: 66.16% Test: 67.53%\n",
            "Epoch: 61, Loss: 0.5561, Train: 65.92%, Valid: 66.80% Test: 67.50%\n",
            "Epoch: 62, Loss: 0.5585, Train: 65.70%, Valid: 66.53% Test: 68.19%\n",
            "Epoch: 63, Loss: 0.5541, Train: 66.39%, Valid: 66.99% Test: 68.03%\n",
            "Epoch: 64, Loss: 0.5458, Train: 66.76%, Valid: 67.67% Test: 68.22%\n",
            "Epoch: 65, Loss: 0.5490, Train: 67.11%, Valid: 67.14% Test: 68.14%\n",
            "Epoch: 66, Loss: 0.5557, Train: 66.91%, Valid: 66.66% Test: 68.38%\n",
            "Epoch: 67, Loss: 0.5443, Train: 67.73%, Valid: 66.79% Test: 69.25%\n",
            "Epoch: 68, Loss: 0.5501, Train: 67.91%, Valid: 67.23% Test: 69.11%\n",
            "Epoch: 69, Loss: 0.5480, Train: 68.11%, Valid: 67.36% Test: 69.51%\n",
            "Epoch: 70, Loss: 0.5468, Train: 68.79%, Valid: 67.20% Test: 69.36%\n",
            "Epoch: 71, Loss: 0.5431, Train: 68.89%, Valid: 67.65% Test: 69.70%\n",
            "Epoch: 72, Loss: 0.5468, Train: 68.32%, Valid: 67.30% Test: 69.65%\n",
            "Epoch: 73, Loss: 0.5395, Train: 68.83%, Valid: 68.15% Test: 69.73%\n",
            "Epoch: 74, Loss: 0.5325, Train: 69.47%, Valid: 68.45% Test: 70.42%\n",
            "Epoch: 75, Loss: 0.5296, Train: 69.32%, Valid: 68.87% Test: 70.08%\n",
            "Epoch: 76, Loss: 0.5403, Train: 69.29%, Valid: 68.38% Test: 70.41%\n",
            "Epoch: 77, Loss: 0.5365, Train: 69.17%, Valid: 68.40% Test: 70.76%\n",
            "Epoch: 78, Loss: 0.5461, Train: 69.12%, Valid: 68.55% Test: 70.24%\n",
            "Epoch: 79, Loss: 0.5358, Train: 68.79%, Valid: 68.58% Test: 70.49%\n",
            "Epoch: 80, Loss: 0.5303, Train: 69.21%, Valid: 68.92% Test: 70.13%\n",
            "Epoch: 81, Loss: 0.5294, Train: 69.53%, Valid: 68.63% Test: 70.40%\n",
            "Epoch: 82, Loss: 0.5318, Train: 69.28%, Valid: 68.32% Test: 70.88%\n",
            "Epoch: 83, Loss: 0.5371, Train: 69.58%, Valid: 68.40% Test: 70.47%\n",
            "Epoch: 84, Loss: 0.5398, Train: 69.55%, Valid: 68.64% Test: 70.52%\n",
            "Epoch: 85, Loss: 0.5367, Train: 70.13%, Valid: 68.87% Test: 70.81%\n",
            "Epoch: 86, Loss: 0.5348, Train: 69.81%, Valid: 69.20% Test: 70.61%\n",
            "Epoch: 87, Loss: 0.5318, Train: 69.89%, Valid: 69.05% Test: 70.51%\n",
            "Epoch: 88, Loss: 0.5281, Train: 70.41%, Valid: 68.63% Test: 70.60%\n",
            "Epoch: 89, Loss: 0.5310, Train: 70.28%, Valid: 68.73% Test: 71.09%\n",
            "Epoch: 90, Loss: 0.5296, Train: 70.67%, Valid: 68.52% Test: 70.54%\n",
            "Epoch: 91, Loss: 0.5340, Train: 69.80%, Valid: 68.59% Test: 70.53%\n",
            "Epoch: 92, Loss: 0.5202, Train: 70.54%, Valid: 69.19% Test: 71.03%\n",
            "Epoch: 93, Loss: 0.5231, Train: 70.04%, Valid: 68.72% Test: 70.63%\n",
            "Epoch: 94, Loss: 0.5255, Train: 69.88%, Valid: 68.78% Test: 70.83%\n",
            "Epoch: 95, Loss: 0.5221, Train: 70.26%, Valid: 69.07% Test: 71.12%\n",
            "Epoch: 96, Loss: 0.5304, Train: 70.04%, Valid: 68.47% Test: 71.29%\n",
            "Epoch: 97, Loss: 0.5287, Train: 70.46%, Valid: 69.26% Test: 71.11%\n",
            "Epoch: 98, Loss: 0.5131, Train: 70.74%, Valid: 68.93% Test: 71.20%\n",
            "Epoch: 99, Loss: 0.5209, Train: 70.51%, Valid: 68.09% Test: 71.19%\n",
            "Epoch: 100, Loss: 0.5176, Train: 70.85%, Valid: 68.70% Test: 71.41%\n",
            "Epoch: 101, Loss: 0.5175, Train: 71.14%, Valid: 69.04% Test: 71.08%\n",
            "Epoch: 102, Loss: 0.5162, Train: 70.95%, Valid: 69.12% Test: 71.28%\n",
            "Epoch: 103, Loss: 0.5231, Train: 70.80%, Valid: 69.09% Test: 72.01%\n",
            "Epoch: 104, Loss: 0.5195, Train: 71.19%, Valid: 68.55% Test: 71.32%\n",
            "Epoch: 105, Loss: 0.5113, Train: 70.71%, Valid: 68.98% Test: 71.38%\n",
            "Epoch: 106, Loss: 0.5130, Train: 70.68%, Valid: 69.54% Test: 70.49%\n",
            "Epoch: 107, Loss: 0.5101, Train: 70.89%, Valid: 69.29% Test: 71.09%\n",
            "Epoch: 108, Loss: 0.5158, Train: 71.11%, Valid: 69.53% Test: 71.38%\n",
            "Epoch: 109, Loss: 0.5178, Train: 71.12%, Valid: 69.73% Test: 71.55%\n",
            "Epoch: 110, Loss: 0.5146, Train: 71.03%, Valid: 69.32% Test: 71.50%\n",
            "Epoch: 111, Loss: 0.5127, Train: 70.87%, Valid: 69.42% Test: 71.71%\n",
            "Epoch: 112, Loss: 0.5105, Train: 71.53%, Valid: 69.46% Test: 71.39%\n",
            "Epoch: 113, Loss: 0.5214, Train: 70.87%, Valid: 69.56% Test: 71.59%\n",
            "Epoch: 114, Loss: 0.5260, Train: 70.97%, Valid: 69.79% Test: 71.47%\n",
            "Epoch: 115, Loss: 0.5156, Train: 71.12%, Valid: 70.28% Test: 71.34%\n",
            "Epoch: 116, Loss: 0.5170, Train: 71.09%, Valid: 69.76% Test: 71.30%\n",
            "Epoch: 117, Loss: 0.5190, Train: 71.21%, Valid: 70.25% Test: 71.20%\n",
            "Epoch: 118, Loss: 0.5129, Train: 70.94%, Valid: 69.94% Test: 71.24%\n",
            "Epoch: 119, Loss: 0.5123, Train: 71.18%, Valid: 69.20% Test: 71.67%\n",
            "Epoch: 120, Loss: 0.5089, Train: 71.65%, Valid: 69.72% Test: 71.67%\n",
            "Epoch: 121, Loss: 0.5089, Train: 71.52%, Valid: 69.73% Test: 71.93%\n",
            "Epoch: 122, Loss: 0.5107, Train: 71.14%, Valid: 69.68% Test: 72.10%\n",
            "Epoch: 123, Loss: 0.5145, Train: 71.90%, Valid: 69.53% Test: 71.94%\n",
            "Epoch: 124, Loss: 0.5083, Train: 71.75%, Valid: 69.64% Test: 71.69%\n",
            "Epoch: 125, Loss: 0.5066, Train: 71.79%, Valid: 70.37% Test: 71.94%\n",
            "Epoch: 126, Loss: 0.5139, Train: 71.37%, Valid: 70.47% Test: 71.64%\n",
            "Epoch: 127, Loss: 0.5037, Train: 71.49%, Valid: 69.78% Test: 71.08%\n",
            "Epoch: 128, Loss: 0.5142, Train: 70.88%, Valid: 69.87% Test: 71.28%\n",
            "Epoch: 129, Loss: 0.5094, Train: 71.36%, Valid: 70.20% Test: 71.77%\n",
            "Epoch: 130, Loss: 0.5091, Train: 71.44%, Valid: 69.81% Test: 71.86%\n",
            "Epoch: 131, Loss: 0.5056, Train: 71.53%, Valid: 70.34% Test: 71.50%\n",
            "Epoch: 132, Loss: 0.5118, Train: 71.19%, Valid: 70.12% Test: 72.17%\n",
            "Epoch: 133, Loss: 0.5058, Train: 71.53%, Valid: 69.67% Test: 72.10%\n",
            "Epoch: 134, Loss: 0.5112, Train: 71.61%, Valid: 70.08% Test: 71.90%\n",
            "Epoch: 135, Loss: 0.5025, Train: 71.60%, Valid: 70.35% Test: 71.95%\n",
            "Epoch: 136, Loss: 0.5123, Train: 72.01%, Valid: 70.38% Test: 72.31%\n",
            "Epoch: 137, Loss: 0.5074, Train: 71.55%, Valid: 70.71% Test: 71.78%\n",
            "Epoch: 138, Loss: 0.4990, Train: 71.98%, Valid: 70.27% Test: 72.17%\n",
            "Epoch: 139, Loss: 0.5066, Train: 72.09%, Valid: 70.59% Test: 72.15%\n",
            "Epoch: 140, Loss: 0.5037, Train: 72.51%, Valid: 70.17% Test: 71.36%\n",
            "Epoch: 141, Loss: 0.5015, Train: 71.81%, Valid: 70.53% Test: 72.19%\n",
            "Epoch: 142, Loss: 0.5011, Train: 72.27%, Valid: 70.18% Test: 72.33%\n",
            "Epoch: 143, Loss: 0.5079, Train: 72.00%, Valid: 69.74% Test: 72.18%\n",
            "Epoch: 144, Loss: 0.5070, Train: 72.35%, Valid: 69.94% Test: 72.14%\n",
            "Epoch: 145, Loss: 0.5011, Train: 72.10%, Valid: 69.94% Test: 72.15%\n",
            "Epoch: 146, Loss: 0.5013, Train: 72.05%, Valid: 69.73% Test: 72.26%\n",
            "Epoch: 147, Loss: 0.5048, Train: 72.51%, Valid: 70.01% Test: 72.00%\n",
            "Epoch: 148, Loss: 0.5002, Train: 72.28%, Valid: 70.74% Test: 71.70%\n",
            "Epoch: 149, Loss: 0.4974, Train: 72.25%, Valid: 70.53% Test: 71.90%\n",
            "Epoch: 150, Loss: 0.5000, Train: 72.13%, Valid: 69.96% Test: 71.44%\n",
            "Epoch: 151, Loss: 0.4997, Train: 71.73%, Valid: 70.06% Test: 71.67%\n",
            "Epoch: 152, Loss: 0.4994, Train: 71.98%, Valid: 70.39% Test: 71.45%\n",
            "Epoch: 153, Loss: 0.5064, Train: 71.84%, Valid: 70.14% Test: 72.39%\n",
            "Epoch: 154, Loss: 0.4941, Train: 72.37%, Valid: 70.26% Test: 72.15%\n",
            "Epoch: 155, Loss: 0.5010, Train: 72.25%, Valid: 70.16% Test: 72.31%\n",
            "Epoch: 156, Loss: 0.5010, Train: 72.51%, Valid: 69.58% Test: 71.63%\n",
            "Epoch: 157, Loss: 0.5019, Train: 72.55%, Valid: 70.02% Test: 71.92%\n",
            "Epoch: 158, Loss: 0.4954, Train: 72.11%, Valid: 70.66% Test: 72.64%\n",
            "Epoch: 159, Loss: 0.4965, Train: 71.80%, Valid: 70.55% Test: 72.21%\n",
            "Epoch: 160, Loss: 0.5040, Train: 71.84%, Valid: 70.95% Test: 72.22%\n",
            "Epoch: 161, Loss: 0.4943, Train: 71.87%, Valid: 70.44% Test: 72.42%\n",
            "Epoch: 162, Loss: 0.5013, Train: 72.01%, Valid: 70.41% Test: 72.11%\n",
            "Epoch: 163, Loss: 0.4979, Train: 72.51%, Valid: 70.28% Test: 72.31%\n",
            "Epoch: 164, Loss: 0.4961, Train: 72.24%, Valid: 70.55% Test: 72.25%\n",
            "Epoch: 165, Loss: 0.4957, Train: 72.54%, Valid: 70.34% Test: 72.45%\n",
            "Epoch: 166, Loss: 0.4925, Train: 72.68%, Valid: 70.57% Test: 72.32%\n",
            "Epoch: 167, Loss: 0.4945, Train: 72.14%, Valid: 70.51% Test: 72.56%\n",
            "Epoch: 168, Loss: 0.5009, Train: 72.44%, Valid: 71.20% Test: 72.24%\n",
            "Epoch: 169, Loss: 0.4936, Train: 72.44%, Valid: 70.73% Test: 71.93%\n",
            "Epoch: 170, Loss: 0.4953, Train: 72.61%, Valid: 70.38% Test: 72.04%\n",
            "Epoch: 171, Loss: 0.4899, Train: 72.38%, Valid: 70.72% Test: 72.31%\n",
            "Epoch: 172, Loss: 0.5027, Train: 72.47%, Valid: 70.72% Test: 72.44%\n",
            "Epoch: 173, Loss: 0.5041, Train: 72.41%, Valid: 70.66% Test: 72.44%\n",
            "Epoch: 174, Loss: 0.4962, Train: 72.47%, Valid: 70.14% Test: 72.73%\n",
            "Epoch: 175, Loss: 0.5005, Train: 72.30%, Valid: 70.09% Test: 72.21%\n",
            "Epoch: 176, Loss: 0.4947, Train: 72.11%, Valid: 70.59% Test: 72.10%\n",
            "Epoch: 177, Loss: 0.4908, Train: 72.24%, Valid: 70.45% Test: 72.24%\n",
            "Epoch: 178, Loss: 0.4904, Train: 72.83%, Valid: 70.32% Test: 72.33%\n",
            "Epoch: 179, Loss: 0.4894, Train: 72.88%, Valid: 70.56% Test: 72.10%\n",
            "Epoch: 180, Loss: 0.4937, Train: 73.12%, Valid: 71.16% Test: 72.52%\n",
            "Epoch: 181, Loss: 0.4961, Train: 72.77%, Valid: 70.05% Test: 72.25%\n",
            "Epoch: 182, Loss: 0.4946, Train: 73.02%, Valid: 69.88% Test: 72.51%\n",
            "Epoch: 183, Loss: 0.4920, Train: 72.79%, Valid: 70.24% Test: 72.64%\n",
            "Epoch: 184, Loss: 0.4966, Train: 72.95%, Valid: 70.23% Test: 72.44%\n",
            "Epoch: 185, Loss: 0.4967, Train: 72.84%, Valid: 71.03% Test: 72.64%\n",
            "Epoch: 186, Loss: 0.5028, Train: 72.32%, Valid: 71.04% Test: 72.75%\n",
            "Epoch: 187, Loss: 0.4997, Train: 72.57%, Valid: 71.03% Test: 72.30%\n",
            "Epoch: 188, Loss: 0.4920, Train: 72.89%, Valid: 70.80% Test: 72.10%\n",
            "Epoch: 189, Loss: 0.4953, Train: 72.68%, Valid: 71.17% Test: 72.67%\n",
            "Epoch: 190, Loss: 0.4961, Train: 73.09%, Valid: 70.42% Test: 72.42%\n",
            "Epoch: 191, Loss: 0.4929, Train: 73.29%, Valid: 70.70% Test: 72.28%\n",
            "Epoch: 192, Loss: 0.4916, Train: 73.15%, Valid: 70.62% Test: 72.83%\n",
            "Epoch: 193, Loss: 0.4929, Train: 73.21%, Valid: 70.88% Test: 72.89%\n",
            "Epoch: 194, Loss: 0.4942, Train: 72.47%, Valid: 70.95% Test: 72.74%\n",
            "Epoch: 195, Loss: 0.4975, Train: 72.48%, Valid: 71.05% Test: 72.53%\n",
            "Epoch: 196, Loss: 0.4910, Train: 73.16%, Valid: 71.28% Test: 72.64%\n",
            "Epoch: 197, Loss: 0.4942, Train: 72.31%, Valid: 70.97% Test: 72.33%\n",
            "Epoch: 198, Loss: 0.4970, Train: 72.88%, Valid: 70.47% Test: 72.53%\n",
            "Epoch: 199, Loss: 0.4923, Train: 72.88%, Valid: 70.60% Test: 72.39%\n",
            "Epoch: 200, Loss: 0.4919, Train: 73.11%, Valid: 70.78% Test: 72.60%\n",
            "Epoch: 201, Loss: 0.4901, Train: 72.68%, Valid: 70.69% Test: 72.22%\n",
            "Epoch: 202, Loss: 0.4887, Train: 73.38%, Valid: 70.13% Test: 72.21%\n",
            "Epoch: 203, Loss: 0.4902, Train: 73.10%, Valid: 70.58% Test: 72.47%\n",
            "Epoch: 204, Loss: 0.4920, Train: 72.64%, Valid: 70.89% Test: 72.29%\n",
            "Epoch: 205, Loss: 0.4933, Train: 72.84%, Valid: 70.65% Test: 72.42%\n",
            "Epoch: 206, Loss: 0.4892, Train: 73.33%, Valid: 70.08% Test: 72.35%\n",
            "Epoch: 207, Loss: 0.4906, Train: 72.93%, Valid: 70.45% Test: 72.78%\n",
            "Epoch: 208, Loss: 0.4915, Train: 73.19%, Valid: 70.65% Test: 72.78%\n",
            "Epoch: 209, Loss: 0.4963, Train: 73.16%, Valid: 70.31% Test: 72.85%\n",
            "Epoch: 210, Loss: 0.4859, Train: 72.84%, Valid: 71.29% Test: 73.12%\n",
            "Epoch: 211, Loss: 0.4935, Train: 72.90%, Valid: 69.95% Test: 72.73%\n",
            "Epoch: 212, Loss: 0.4915, Train: 73.67%, Valid: 70.27% Test: 73.16%\n",
            "Epoch: 213, Loss: 0.4858, Train: 73.26%, Valid: 70.12% Test: 72.99%\n",
            "Epoch: 214, Loss: 0.4890, Train: 73.36%, Valid: 70.69% Test: 73.09%\n",
            "Epoch: 215, Loss: 0.4885, Train: 73.37%, Valid: 70.87% Test: 73.12%\n",
            "Epoch: 216, Loss: 0.4840, Train: 73.67%, Valid: 70.48% Test: 72.96%\n",
            "Epoch: 217, Loss: 0.4905, Train: 72.73%, Valid: 70.81% Test: 73.00%\n",
            "Epoch: 218, Loss: 0.4890, Train: 73.72%, Valid: 70.30% Test: 73.35%\n",
            "Epoch: 219, Loss: 0.4859, Train: 73.03%, Valid: 71.04% Test: 73.40%\n",
            "Epoch: 220, Loss: 0.4948, Train: 73.38%, Valid: 70.88% Test: 73.01%\n",
            "Epoch: 221, Loss: 0.4944, Train: 73.23%, Valid: 71.22% Test: 73.68%\n",
            "Epoch: 222, Loss: 0.4894, Train: 73.00%, Valid: 71.16% Test: 72.92%\n",
            "Epoch: 223, Loss: 0.4835, Train: 73.13%, Valid: 70.90% Test: 73.25%\n",
            "Epoch: 224, Loss: 0.4912, Train: 73.28%, Valid: 71.36% Test: 72.80%\n",
            "Epoch: 225, Loss: 0.4884, Train: 72.79%, Valid: 71.17% Test: 72.75%\n",
            "Epoch: 226, Loss: 0.4912, Train: 73.04%, Valid: 71.25% Test: 72.75%\n",
            "Epoch: 227, Loss: 0.4967, Train: 72.81%, Valid: 70.91% Test: 73.14%\n",
            "Epoch: 228, Loss: 0.4879, Train: 73.41%, Valid: 71.71% Test: 72.63%\n",
            "Epoch: 229, Loss: 0.4869, Train: 73.24%, Valid: 71.15% Test: 73.02%\n",
            "Epoch: 230, Loss: 0.4876, Train: 73.37%, Valid: 70.91% Test: 72.99%\n",
            "Epoch: 231, Loss: 0.4865, Train: 73.21%, Valid: 71.40% Test: 72.85%\n",
            "Epoch: 232, Loss: 0.4900, Train: 73.44%, Valid: 71.02% Test: 72.61%\n",
            "Epoch: 233, Loss: 0.4904, Train: 73.42%, Valid: 71.05% Test: 72.94%\n",
            "Epoch: 234, Loss: 0.4860, Train: 73.81%, Valid: 70.64% Test: 73.07%\n",
            "Epoch: 235, Loss: 0.4872, Train: 73.17%, Valid: 70.86% Test: 73.10%\n",
            "Epoch: 236, Loss: 0.4907, Train: 73.45%, Valid: 70.95% Test: 73.17%\n",
            "Epoch: 237, Loss: 0.4871, Train: 73.50%, Valid: 71.26% Test: 73.11%\n",
            "Epoch: 238, Loss: 0.4877, Train: 73.54%, Valid: 70.81% Test: 72.93%\n",
            "Epoch: 239, Loss: 0.4845, Train: 73.49%, Valid: 70.42% Test: 72.62%\n",
            "Epoch: 240, Loss: 0.4892, Train: 73.19%, Valid: 70.79% Test: 72.80%\n",
            "Epoch: 241, Loss: 0.4840, Train: 73.66%, Valid: 70.97% Test: 73.14%\n",
            "Epoch: 242, Loss: 0.4822, Train: 73.79%, Valid: 71.05% Test: 73.18%\n",
            "Epoch: 243, Loss: 0.4828, Train: 73.53%, Valid: 71.44% Test: 72.96%\n",
            "Epoch: 244, Loss: 0.4860, Train: 73.49%, Valid: 71.09% Test: 73.46%\n",
            "Epoch: 245, Loss: 0.4849, Train: 73.46%, Valid: 71.18% Test: 73.06%\n",
            "Epoch: 246, Loss: 0.4909, Train: 73.09%, Valid: 70.85% Test: 73.34%\n",
            "Epoch: 247, Loss: 0.4875, Train: 72.94%, Valid: 71.17% Test: 73.29%\n",
            "Epoch: 248, Loss: 0.4882, Train: 73.15%, Valid: 71.17% Test: 73.08%\n",
            "Epoch: 249, Loss: 0.4865, Train: 73.48%, Valid: 71.17% Test: 73.01%\n",
            "Epoch: 250, Loss: 0.4847, Train: 73.20%, Valid: 71.06% Test: 73.03%\n",
            "Epoch: 251, Loss: 0.4868, Train: 72.99%, Valid: 70.87% Test: 73.11%\n",
            "Epoch: 252, Loss: 0.4821, Train: 73.47%, Valid: 71.20% Test: 72.93%\n",
            "Epoch: 253, Loss: 0.4874, Train: 73.23%, Valid: 71.59% Test: 72.92%\n",
            "Epoch: 254, Loss: 0.4871, Train: 73.35%, Valid: 71.03% Test: 72.92%\n",
            "Epoch: 255, Loss: 0.4836, Train: 73.37%, Valid: 71.15% Test: 72.96%\n",
            "Epoch: 256, Loss: 0.4821, Train: 73.36%, Valid: 71.49% Test: 73.24%\n",
            "Epoch: 257, Loss: 0.4842, Train: 73.63%, Valid: 71.07% Test: 73.26%\n",
            "Epoch: 258, Loss: 0.4830, Train: 73.77%, Valid: 71.96% Test: 73.10%\n",
            "Epoch: 259, Loss: 0.4886, Train: 73.99%, Valid: 71.16% Test: 73.71%\n",
            "Epoch: 260, Loss: 0.4865, Train: 74.32%, Valid: 71.47% Test: 73.43%\n",
            "Epoch: 261, Loss: 0.4838, Train: 73.81%, Valid: 71.38% Test: 73.54%\n",
            "Epoch: 262, Loss: 0.4795, Train: 74.08%, Valid: 70.93% Test: 73.28%\n",
            "Epoch: 263, Loss: 0.4801, Train: 74.49%, Valid: 71.33% Test: 73.66%\n",
            "Epoch: 264, Loss: 0.4886, Train: 73.61%, Valid: 71.87% Test: 73.86%\n",
            "Epoch: 265, Loss: 0.4844, Train: 73.57%, Valid: 71.36% Test: 73.65%\n",
            "Epoch: 266, Loss: 0.4856, Train: 74.15%, Valid: 71.03% Test: 73.58%\n",
            "Epoch: 267, Loss: 0.4894, Train: 73.68%, Valid: 71.23% Test: 73.43%\n",
            "Epoch: 268, Loss: 0.4839, Train: 74.16%, Valid: 71.32% Test: 73.18%\n",
            "Epoch: 269, Loss: 0.4818, Train: 74.04%, Valid: 71.15% Test: 73.71%\n",
            "Epoch: 270, Loss: 0.4798, Train: 74.04%, Valid: 71.50% Test: 73.97%\n",
            "Epoch: 271, Loss: 0.4825, Train: 73.81%, Valid: 71.50% Test: 73.50%\n",
            "Epoch: 272, Loss: 0.4821, Train: 73.61%, Valid: 71.15% Test: 73.29%\n",
            "Epoch: 273, Loss: 0.4805, Train: 73.99%, Valid: 71.13% Test: 73.06%\n",
            "Epoch: 274, Loss: 0.4852, Train: 73.60%, Valid: 71.51% Test: 73.52%\n",
            "Epoch: 275, Loss: 0.4818, Train: 74.06%, Valid: 71.30% Test: 72.91%\n",
            "Epoch: 276, Loss: 0.4821, Train: 73.54%, Valid: 71.04% Test: 73.25%\n",
            "Epoch: 277, Loss: 0.4844, Train: 73.15%, Valid: 71.18% Test: 73.00%\n",
            "Epoch: 278, Loss: 0.4839, Train: 73.63%, Valid: 71.79% Test: 72.99%\n",
            "Epoch: 279, Loss: 0.4837, Train: 73.37%, Valid: 71.17% Test: 72.82%\n",
            "Epoch: 280, Loss: 0.4852, Train: 73.78%, Valid: 71.24% Test: 72.86%\n",
            "Epoch: 282, Loss: 0.4811, Train: 73.55%, Valid: 71.73% Test: 73.33%\n",
            "Epoch: 283, Loss: 0.4859, Train: 73.67%, Valid: 71.22% Test: 73.32%\n",
            "Epoch: 284, Loss: 0.4833, Train: 73.24%, Valid: 72.18% Test: 73.26%\n",
            "Epoch: 285, Loss: 0.4834, Train: 73.43%, Valid: 71.55% Test: 72.92%\n",
            "Epoch: 286, Loss: 0.4815, Train: 73.42%, Valid: 72.08% Test: 72.60%\n",
            "Epoch: 287, Loss: 0.4810, Train: 73.27%, Valid: 71.40% Test: 72.67%\n",
            "Epoch: 288, Loss: 0.4832, Train: 73.40%, Valid: 71.71% Test: 72.92%\n",
            "Epoch: 289, Loss: 0.4827, Train: 73.31%, Valid: 71.68% Test: 72.59%\n",
            "Epoch: 290, Loss: 0.4843, Train: 73.24%, Valid: 71.26% Test: 73.03%\n",
            "Epoch: 291, Loss: 0.4829, Train: 73.45%, Valid: 71.15% Test: 72.75%\n",
            "Epoch: 292, Loss: 0.4841, Train: 73.71%, Valid: 71.00% Test: 72.90%\n",
            "Epoch: 293, Loss: 0.4846, Train: 73.89%, Valid: 71.27% Test: 72.57%\n",
            "Epoch: 294, Loss: 0.4800, Train: 74.13%, Valid: 71.56% Test: 73.14%\n",
            "Epoch: 295, Loss: 0.4800, Train: 73.98%, Valid: 71.52% Test: 72.99%\n",
            "Epoch: 296, Loss: 0.4767, Train: 74.17%, Valid: 71.62% Test: 72.71%\n",
            "Epoch: 297, Loss: 0.4804, Train: 73.98%, Valid: 71.31% Test: 72.96%\n",
            "Epoch: 298, Loss: 0.4820, Train: 74.26%, Valid: 71.77% Test: 73.32%\n",
            "Epoch: 299, Loss: 0.4813, Train: 74.25%, Valid: 71.54% Test: 73.18%\n",
            "Epoch: 300, Loss: 0.4840, Train: 73.52%, Valid: 71.76% Test: 73.31%\n",
            "Epoch: 301, Loss: 0.4738, Train: 73.96%, Valid: 71.79% Test: 73.45%\n",
            "Epoch: 302, Loss: 0.4804, Train: 73.51%, Valid: 71.78% Test: 73.50%\n",
            "Epoch: 303, Loss: 0.4841, Train: 73.91%, Valid: 72.05% Test: 73.44%\n",
            "Epoch: 304, Loss: 0.4837, Train: 73.90%, Valid: 71.27% Test: 73.08%\n",
            "Epoch: 305, Loss: 0.4835, Train: 73.98%, Valid: 71.68% Test: 72.97%\n",
            "Epoch: 306, Loss: 0.4870, Train: 73.83%, Valid: 70.92% Test: 73.11%\n",
            "Epoch: 307, Loss: 0.4826, Train: 73.48%, Valid: 71.37% Test: 72.94%\n",
            "Epoch: 308, Loss: 0.4814, Train: 73.49%, Valid: 71.12% Test: 72.60%\n",
            "Epoch: 309, Loss: 0.4820, Train: 74.01%, Valid: 71.43% Test: 73.17%\n",
            "Epoch: 310, Loss: 0.4752, Train: 73.57%, Valid: 70.81% Test: 73.42%\n",
            "Epoch: 311, Loss: 0.4835, Train: 73.20%, Valid: 71.54% Test: 73.30%\n",
            "Epoch: 312, Loss: 0.4849, Train: 73.52%, Valid: 71.65% Test: 72.96%\n",
            "Epoch: 313, Loss: 0.4785, Train: 73.78%, Valid: 71.79% Test: 73.55%\n",
            "Epoch: 314, Loss: 0.4823, Train: 74.15%, Valid: 71.47% Test: 73.81%\n",
            "Epoch: 315, Loss: 0.4872, Train: 73.58%, Valid: 71.26% Test: 73.61%\n",
            "Epoch: 316, Loss: 0.4833, Train: 73.63%, Valid: 70.96% Test: 73.49%\n",
            "Epoch: 317, Loss: 0.4783, Train: 74.25%, Valid: 71.28% Test: 73.52%\n",
            "Epoch: 318, Loss: 0.4855, Train: 73.72%, Valid: 71.31% Test: 73.67%\n",
            "Epoch: 319, Loss: 0.4817, Train: 74.18%, Valid: 71.24% Test: 73.75%\n",
            "Epoch: 320, Loss: 0.4799, Train: 73.77%, Valid: 71.20% Test: 73.71%\n",
            "Epoch: 321, Loss: 0.4822, Train: 73.89%, Valid: 70.84% Test: 73.39%\n",
            "Epoch: 322, Loss: 0.4838, Train: 73.98%, Valid: 71.42% Test: 73.78%\n",
            "Epoch: 323, Loss: 0.4778, Train: 74.60%, Valid: 71.34% Test: 73.79%\n",
            "Epoch: 324, Loss: 0.4799, Train: 74.32%, Valid: 71.37% Test: 73.53%\n",
            "Epoch: 325, Loss: 0.4797, Train: 73.99%, Valid: 71.60% Test: 73.46%\n",
            "Epoch: 326, Loss: 0.4789, Train: 74.18%, Valid: 70.92% Test: 73.53%\n",
            "Epoch: 327, Loss: 0.4762, Train: 74.02%, Valid: 71.01% Test: 73.67%\n",
            "Epoch: 328, Loss: 0.4830, Train: 73.83%, Valid: 70.95% Test: 73.75%\n",
            "Epoch: 329, Loss: 0.4804, Train: 73.75%, Valid: 71.41% Test: 73.11%\n",
            "Epoch: 330, Loss: 0.4773, Train: 74.68%, Valid: 70.97% Test: 73.57%\n",
            "Epoch: 331, Loss: 0.4795, Train: 73.43%, Valid: 71.62% Test: 73.24%\n",
            "Epoch: 332, Loss: 0.4786, Train: 74.18%, Valid: 71.14% Test: 73.15%\n",
            "Epoch: 333, Loss: 0.4795, Train: 73.99%, Valid: 71.60% Test: 73.58%\n",
            "Epoch: 334, Loss: 0.4788, Train: 73.80%, Valid: 71.12% Test: 73.58%\n",
            "Epoch: 335, Loss: 0.4750, Train: 74.49%, Valid: 71.57% Test: 73.72%\n",
            "Epoch: 336, Loss: 0.4771, Train: 74.42%, Valid: 71.30% Test: 73.92%\n",
            "Epoch: 337, Loss: 0.4803, Train: 73.74%, Valid: 71.64% Test: 73.98%\n",
            "Epoch: 338, Loss: 0.4747, Train: 74.26%, Valid: 72.20% Test: 74.07%\n",
            "Epoch: 339, Loss: 0.4761, Train: 74.41%, Valid: 72.10% Test: 73.96%\n",
            "Epoch: 340, Loss: 0.4797, Train: 73.90%, Valid: 71.91% Test: 73.66%\n",
            "Epoch: 341, Loss: 0.4820, Train: 74.29%, Valid: 72.06% Test: 74.29%\n",
            "Epoch: 342, Loss: 0.4815, Train: 74.06%, Valid: 72.09% Test: 73.82%\n",
            "Epoch: 343, Loss: 0.4797, Train: 73.93%, Valid: 72.04% Test: 73.79%\n",
            "Epoch: 344, Loss: 0.4750, Train: 74.55%, Valid: 71.20% Test: 73.88%\n",
            "Epoch: 345, Loss: 0.4761, Train: 74.71%, Valid: 71.25% Test: 74.08%\n",
            "Epoch: 346, Loss: 0.4794, Train: 74.30%, Valid: 71.10% Test: 73.75%\n",
            "Epoch: 347, Loss: 0.4790, Train: 74.45%, Valid: 71.76% Test: 74.18%\n",
            "Epoch: 348, Loss: 0.4806, Train: 73.56%, Valid: 72.24% Test: 73.77%\n",
            "Epoch: 349, Loss: 0.4838, Train: 73.70%, Valid: 72.57% Test: 73.83%\n",
            "Epoch: 350, Loss: 0.4779, Train: 74.23%, Valid: 72.09% Test: 74.12%\n",
            "Epoch: 351, Loss: 0.4766, Train: 74.15%, Valid: 72.00% Test: 74.00%\n",
            "Epoch: 352, Loss: 0.4760, Train: 74.31%, Valid: 71.24% Test: 73.97%\n",
            "Epoch: 353, Loss: 0.4837, Train: 73.93%, Valid: 71.46% Test: 74.32%\n",
            "Epoch: 354, Loss: 0.4754, Train: 74.23%, Valid: 71.45% Test: 74.22%\n",
            "Epoch: 355, Loss: 0.4815, Train: 74.30%, Valid: 71.43% Test: 73.54%\n",
            "Epoch: 356, Loss: 0.4810, Train: 73.84%, Valid: 71.39% Test: 73.54%\n",
            "Epoch: 357, Loss: 0.4757, Train: 74.13%, Valid: 71.63% Test: 73.30%\n",
            "Epoch: 358, Loss: 0.4807, Train: 74.13%, Valid: 71.68% Test: 73.68%\n",
            "Epoch: 359, Loss: 0.4810, Train: 73.82%, Valid: 71.50% Test: 73.89%\n",
            "Epoch: 360, Loss: 0.4784, Train: 74.61%, Valid: 70.42% Test: 73.82%\n",
            "Epoch: 361, Loss: 0.4825, Train: 74.18%, Valid: 71.75% Test: 73.96%\n",
            "Epoch: 362, Loss: 0.4747, Train: 74.00%, Valid: 71.25% Test: 73.98%\n",
            "Epoch: 363, Loss: 0.4747, Train: 74.16%, Valid: 71.14% Test: 73.42%\n",
            "Epoch: 364, Loss: 0.4780, Train: 74.29%, Valid: 72.18% Test: 73.46%\n",
            "Epoch: 365, Loss: 0.4755, Train: 74.29%, Valid: 71.37% Test: 73.65%\n",
            "Epoch: 366, Loss: 0.4792, Train: 74.54%, Valid: 71.21% Test: 73.60%\n",
            "Epoch: 367, Loss: 0.4773, Train: 74.54%, Valid: 71.89% Test: 73.75%\n",
            "Epoch: 368, Loss: 0.4832, Train: 73.68%, Valid: 71.26% Test: 73.64%\n",
            "Epoch: 369, Loss: 0.4785, Train: 74.05%, Valid: 71.18% Test: 73.71%\n",
            "Epoch: 370, Loss: 0.4792, Train: 74.11%, Valid: 71.01% Test: 73.81%\n",
            "Epoch: 371, Loss: 0.4778, Train: 74.01%, Valid: 71.44% Test: 74.40%\n",
            "Epoch: 372, Loss: 0.4723, Train: 74.89%, Valid: 71.04% Test: 73.99%\n",
            "Epoch: 373, Loss: 0.4779, Train: 74.50%, Valid: 71.60% Test: 74.07%\n",
            "Epoch: 374, Loss: 0.4754, Train: 74.88%, Valid: 71.15% Test: 74.11%\n",
            "Epoch: 375, Loss: 0.4714, Train: 74.27%, Valid: 71.41% Test: 73.73%\n",
            "Epoch: 376, Loss: 0.4787, Train: 74.30%, Valid: 71.61% Test: 74.10%\n",
            "Epoch: 377, Loss: 0.4783, Train: 73.93%, Valid: 71.52% Test: 73.93%\n",
            "Epoch: 378, Loss: 0.4796, Train: 74.34%, Valid: 71.91% Test: 73.54%\n",
            "Epoch: 379, Loss: 0.4733, Train: 74.36%, Valid: 71.88% Test: 74.03%\n",
            "Epoch: 380, Loss: 0.4736, Train: 74.52%, Valid: 71.46% Test: 73.75%\n",
            "Epoch: 381, Loss: 0.4736, Train: 74.44%, Valid: 71.82% Test: 74.22%\n",
            "Epoch: 382, Loss: 0.4791, Train: 73.90%, Valid: 71.66% Test: 73.72%\n",
            "Epoch: 383, Loss: 0.4786, Train: 73.95%, Valid: 71.54% Test: 73.93%\n",
            "Epoch: 384, Loss: 0.4796, Train: 74.03%, Valid: 71.66% Test: 73.56%\n",
            "Epoch: 385, Loss: 0.4770, Train: 75.03%, Valid: 71.94% Test: 73.76%\n",
            "Epoch: 386, Loss: 0.4775, Train: 74.01%, Valid: 72.13% Test: 74.36%\n",
            "Epoch: 387, Loss: 0.4755, Train: 74.49%, Valid: 72.51% Test: 74.29%\n",
            "Epoch: 388, Loss: 0.4760, Train: 74.69%, Valid: 71.85% Test: 74.31%\n",
            "Epoch: 389, Loss: 0.4827, Train: 73.77%, Valid: 72.07% Test: 73.94%\n",
            "Epoch: 390, Loss: 0.4780, Train: 74.23%, Valid: 72.45% Test: 73.78%\n",
            "Epoch: 391, Loss: 0.4751, Train: 74.23%, Valid: 72.53% Test: 74.15%\n",
            "Epoch: 392, Loss: 0.4780, Train: 74.65%, Valid: 72.53% Test: 74.00%\n",
            "Epoch: 393, Loss: 0.4738, Train: 74.63%, Valid: 72.01% Test: 74.44%\n",
            "Epoch: 394, Loss: 0.4779, Train: 74.68%, Valid: 71.57% Test: 74.04%\n",
            "Epoch: 395, Loss: 0.4741, Train: 74.72%, Valid: 72.03% Test: 74.23%\n",
            "Epoch: 396, Loss: 0.4782, Train: 74.31%, Valid: 72.33% Test: 73.71%\n",
            "Epoch: 397, Loss: 0.4724, Train: 74.15%, Valid: 72.52% Test: 73.82%\n",
            "Epoch: 398, Loss: 0.4741, Train: 74.65%, Valid: 72.17% Test: 74.30%\n",
            "Epoch: 399, Loss: 0.4717, Train: 74.61%, Valid: 72.38% Test: 74.25%\n",
            "Epoch: 400, Loss: 0.4767, Train: 74.27%, Valid: 72.31% Test: 74.40%\n",
            "Epoch: 401, Loss: 0.4718, Train: 74.01%, Valid: 72.53% Test: 74.15%\n",
            "Epoch: 402, Loss: 0.4711, Train: 74.63%, Valid: 72.48% Test: 74.17%\n",
            "Epoch: 403, Loss: 0.4754, Train: 74.22%, Valid: 72.34% Test: 74.01%\n",
            "Epoch: 404, Loss: 0.4794, Train: 74.26%, Valid: 71.98% Test: 74.01%\n",
            "Epoch: 405, Loss: 0.4736, Train: 74.43%, Valid: 71.57% Test: 74.14%\n",
            "Epoch: 406, Loss: 0.4705, Train: 74.16%, Valid: 71.78% Test: 73.56%\n",
            "Epoch: 407, Loss: 0.4806, Train: 74.52%, Valid: 71.65% Test: 73.68%\n",
            "Epoch: 408, Loss: 0.4771, Train: 73.87%, Valid: 71.88% Test: 73.60%\n",
            "Epoch: 409, Loss: 0.4768, Train: 73.96%, Valid: 71.85% Test: 73.57%\n",
            "Epoch: 410, Loss: 0.4708, Train: 74.57%, Valid: 72.01% Test: 74.07%\n",
            "Epoch: 411, Loss: 0.4771, Train: 73.90%, Valid: 71.79% Test: 73.82%\n",
            "Epoch: 412, Loss: 0.4771, Train: 74.30%, Valid: 72.28% Test: 73.82%\n",
            "Epoch: 413, Loss: 0.4726, Train: 74.05%, Valid: 72.20% Test: 74.21%\n",
            "Epoch: 414, Loss: 0.4769, Train: 74.01%, Valid: 71.96% Test: 74.33%\n",
            "Epoch: 415, Loss: 0.4709, Train: 74.43%, Valid: 71.91% Test: 73.96%\n",
            "Epoch: 416, Loss: 0.4756, Train: 74.28%, Valid: 71.69% Test: 74.31%\n",
            "Epoch: 417, Loss: 0.4712, Train: 74.04%, Valid: 72.64% Test: 74.49%\n",
            "Epoch: 418, Loss: 0.4736, Train: 74.66%, Valid: 72.43% Test: 74.12%\n",
            "Epoch: 419, Loss: 0.4726, Train: 74.66%, Valid: 72.21% Test: 74.48%\n",
            "Epoch: 420, Loss: 0.4719, Train: 74.48%, Valid: 72.17% Test: 74.14%\n",
            "Epoch: 421, Loss: 0.4688, Train: 74.76%, Valid: 72.19% Test: 74.36%\n",
            "Epoch: 422, Loss: 0.4747, Train: 75.15%, Valid: 72.14% Test: 74.56%\n",
            "Epoch: 423, Loss: 0.4736, Train: 74.22%, Valid: 72.09% Test: 74.36%\n",
            "Epoch: 424, Loss: 0.4713, Train: 74.89%, Valid: 72.43% Test: 73.89%\n",
            "Epoch: 425, Loss: 0.4791, Train: 73.88%, Valid: 72.22% Test: 73.89%\n",
            "Epoch: 426, Loss: 0.4758, Train: 74.48%, Valid: 72.13% Test: 74.14%\n",
            "Epoch: 427, Loss: 0.4728, Train: 74.16%, Valid: 72.25% Test: 74.01%\n",
            "Epoch: 428, Loss: 0.4695, Train: 74.22%, Valid: 72.57% Test: 74.20%\n",
            "Epoch: 429, Loss: 0.4769, Train: 73.65%, Valid: 71.99% Test: 73.97%\n",
            "Epoch: 430, Loss: 0.4695, Train: 74.41%, Valid: 72.26% Test: 73.99%\n",
            "Epoch: 431, Loss: 0.4781, Train: 74.32%, Valid: 72.32% Test: 73.57%\n",
            "Epoch: 432, Loss: 0.4729, Train: 74.00%, Valid: 72.19% Test: 73.82%\n",
            "Epoch: 433, Loss: 0.4702, Train: 74.24%, Valid: 72.19% Test: 73.57%\n",
            "Epoch: 434, Loss: 0.4760, Train: 73.84%, Valid: 71.81% Test: 73.85%\n",
            "Epoch: 435, Loss: 0.4776, Train: 73.72%, Valid: 72.02% Test: 73.68%\n",
            "Epoch: 436, Loss: 0.4731, Train: 74.04%, Valid: 72.07% Test: 73.74%\n",
            "Epoch: 437, Loss: 0.4731, Train: 73.37%, Valid: 72.74% Test: 73.51%\n",
            "Epoch: 438, Loss: 0.4727, Train: 73.85%, Valid: 72.81% Test: 73.77%\n",
            "Epoch: 439, Loss: 0.4734, Train: 73.75%, Valid: 72.75% Test: 73.72%\n",
            "Epoch: 440, Loss: 0.4710, Train: 73.90%, Valid: 72.71% Test: 73.93%\n",
            "Epoch: 441, Loss: 0.4727, Train: 73.69%, Valid: 72.48% Test: 74.24%\n",
            "Epoch: 442, Loss: 0.4783, Train: 74.08%, Valid: 72.35% Test: 74.35%\n",
            "Epoch: 443, Loss: 0.4744, Train: 74.25%, Valid: 72.32% Test: 73.94%\n",
            "Epoch: 444, Loss: 0.4748, Train: 74.58%, Valid: 72.04% Test: 74.08%\n",
            "Epoch: 445, Loss: 0.4719, Train: 74.58%, Valid: 72.63% Test: 74.19%\n",
            "Epoch: 446, Loss: 0.4769, Train: 74.08%, Valid: 72.49% Test: 74.18%\n",
            "Epoch: 447, Loss: 0.4783, Train: 73.89%, Valid: 72.53% Test: 74.30%\n",
            "Epoch: 448, Loss: 0.4736, Train: 74.32%, Valid: 72.37% Test: 74.29%\n",
            "Epoch: 449, Loss: 0.4794, Train: 74.23%, Valid: 72.23% Test: 74.31%\n",
            "Epoch: 450, Loss: 0.4719, Train: 74.49%, Valid: 71.88% Test: 74.11%\n",
            "Epoch: 451, Loss: 0.4703, Train: 74.74%, Valid: 72.22% Test: 74.23%\n",
            "Epoch: 452, Loss: 0.4723, Train: 74.67%, Valid: 72.75% Test: 74.15%\n",
            "Epoch: 453, Loss: 0.4749, Train: 74.33%, Valid: 72.85% Test: 74.06%\n",
            "Epoch: 454, Loss: 0.4756, Train: 74.44%, Valid: 72.42% Test: 73.93%\n",
            "Epoch: 455, Loss: 0.4704, Train: 73.63%, Valid: 72.50% Test: 74.21%\n",
            "Epoch: 456, Loss: 0.4729, Train: 74.05%, Valid: 72.35% Test: 74.21%\n",
            "Epoch: 457, Loss: 0.4711, Train: 74.46%, Valid: 72.55% Test: 74.02%\n",
            "Epoch: 458, Loss: 0.4731, Train: 74.49%, Valid: 72.00% Test: 74.12%\n",
            "Epoch: 459, Loss: 0.4679, Train: 74.07%, Valid: 72.04% Test: 74.40%\n",
            "Epoch: 460, Loss: 0.4685, Train: 74.27%, Valid: 72.26% Test: 74.41%\n",
            "Epoch: 461, Loss: 0.4752, Train: 74.04%, Valid: 72.03% Test: 73.85%\n",
            "Epoch: 462, Loss: 0.4722, Train: 74.13%, Valid: 71.43% Test: 74.07%\n",
            "Epoch: 463, Loss: 0.4758, Train: 74.42%, Valid: 72.35% Test: 74.02%\n",
            "Epoch: 464, Loss: 0.4758, Train: 74.05%, Valid: 71.89% Test: 74.31%\n",
            "Epoch: 465, Loss: 0.4733, Train: 74.27%, Valid: 72.29% Test: 73.80%\n",
            "Epoch: 466, Loss: 0.4762, Train: 74.28%, Valid: 72.65% Test: 74.11%\n",
            "Epoch: 467, Loss: 0.4715, Train: 74.38%, Valid: 72.77% Test: 74.21%\n",
            "Epoch: 468, Loss: 0.4732, Train: 74.14%, Valid: 72.47% Test: 74.32%\n",
            "Epoch: 469, Loss: 0.4695, Train: 74.55%, Valid: 72.55% Test: 74.35%\n",
            "Epoch: 470, Loss: 0.4741, Train: 73.97%, Valid: 73.31% Test: 74.12%\n",
            "Epoch: 471, Loss: 0.4684, Train: 74.80%, Valid: 72.43% Test: 73.88%\n",
            "Epoch: 472, Loss: 0.4719, Train: 73.96%, Valid: 72.79% Test: 74.05%\n",
            "Epoch: 473, Loss: 0.4752, Train: 74.25%, Valid: 72.90% Test: 74.22%\n",
            "Epoch: 474, Loss: 0.4718, Train: 73.88%, Valid: 72.99% Test: 74.14%\n",
            "Epoch: 475, Loss: 0.4687, Train: 73.98%, Valid: 72.92% Test: 74.27%\n",
            "Epoch: 476, Loss: 0.4706, Train: 74.56%, Valid: 72.35% Test: 74.36%\n",
            "Epoch: 477, Loss: 0.4701, Train: 74.25%, Valid: 72.67% Test: 74.32%\n",
            "Epoch: 478, Loss: 0.4748, Train: 73.84%, Valid: 72.76% Test: 74.30%\n",
            "Epoch: 479, Loss: 0.4706, Train: 74.49%, Valid: 73.19% Test: 74.61%\n",
            "Epoch: 480, Loss: 0.4745, Train: 74.85%, Valid: 72.59% Test: 74.19%\n",
            "Epoch: 481, Loss: 0.4734, Train: 74.46%, Valid: 72.32% Test: 74.29%\n",
            "Epoch: 482, Loss: 0.4771, Train: 74.36%, Valid: 72.18% Test: 74.20%\n",
            "Epoch: 483, Loss: 0.4760, Train: 74.20%, Valid: 72.52% Test: 74.56%\n",
            "Epoch: 484, Loss: 0.4680, Train: 74.08%, Valid: 72.91% Test: 74.47%\n",
            "Epoch: 485, Loss: 0.4732, Train: 73.89%, Valid: 72.31% Test: 74.36%\n",
            "Epoch: 486, Loss: 0.4731, Train: 74.04%, Valid: 72.36% Test: 74.35%\n",
            "Epoch: 487, Loss: 0.4684, Train: 74.74%, Valid: 72.09% Test: 74.30%\n",
            "Epoch: 488, Loss: 0.4710, Train: 74.17%, Valid: 72.13% Test: 74.39%\n",
            "Epoch: 489, Loss: 0.4699, Train: 74.23%, Valid: 72.56% Test: 74.09%\n",
            "Epoch: 490, Loss: 0.4717, Train: 74.24%, Valid: 72.29% Test: 74.36%\n",
            "Epoch: 491, Loss: 0.4687, Train: 74.62%, Valid: 72.14% Test: 74.32%\n",
            "Epoch: 492, Loss: 0.4758, Train: 74.38%, Valid: 72.66% Test: 74.44%\n",
            "Epoch: 493, Loss: 0.4695, Train: 74.35%, Valid: 72.64% Test: 74.40%\n",
            "Epoch: 494, Loss: 0.4734, Train: 74.16%, Valid: 72.00% Test: 74.44%\n",
            "Epoch: 495, Loss: 0.4714, Train: 73.89%, Valid: 72.48% Test: 74.22%\n",
            "Epoch: 496, Loss: 0.4686, Train: 74.10%, Valid: 71.67% Test: 74.16%\n",
            "Epoch: 497, Loss: 0.4682, Train: 73.90%, Valid: 71.78% Test: 74.12%\n",
            "Epoch: 498, Loss: 0.4689, Train: 74.02%, Valid: 72.34% Test: 74.47%\n",
            "Epoch: 499, Loss: 0.4714, Train: 73.90%, Valid: 72.32% Test: 74.17%\n"
          ]
        }
      ]
    },
    {
      "cell_type": "code",
      "source": [
        "best_test_acc"
      ],
      "metadata": {
        "id": "dKH2Lz85C4Og",
        "outputId": "9a8ca900-c765-482d-b580-4719664896de",
        "colab": {
          "base_uri": "https://localhost:8080/"
        }
      },
      "execution_count": 36,
      "outputs": [
        {
          "output_type": "execute_result",
          "data": {
            "text/plain": [
              "tensor(0.7461, device='cuda:0')"
            ]
          },
          "metadata": {},
          "execution_count": 36
        }
      ]
    },
    {
      "cell_type": "code",
      "source": [
        "embd, o = best_model(x, message_passing_edges.to(device)\n",
        "    , train_eval_outfits.to(device))\n",
        "\n",
        "embd = embd.detach().cpu()\n",
        "o  = o.detach().cpu()"
      ],
      "metadata": {
        "id": "eeY6av8hC7Oj"
      },
      "execution_count": 44,
      "outputs": []
    },
    {
      "cell_type": "code",
      "source": [
        "plot_histogram(o[:o.shape[0]//2], \"inner product only model positives\")\n",
        "plot_histogram(o[o.shape[0]//2:], \"inner product only model negatives\")\n",
        "plot_histogram(torch.sigmoid(o[:o.shape[0]//2]), \"inner product only model positives sigmoid\")\n",
        "plot_histogram(torch.sigmoid(o[o.shape[0]//2:]), \"inner product only model negatives sigmoid\")"
      ],
      "metadata": {
        "id": "y2sKQFS0DYDd",
        "outputId": "478a0ce7-e3b1-429b-f82a-cae0475b35e4",
        "colab": {
          "base_uri": "https://localhost:8080/",
          "height": 1000
        }
      },
      "execution_count": 45,
      "outputs": [
        {
          "output_type": "display_data",
          "data": {
            "text/plain": [
              "<Figure size 640x480 with 1 Axes>"
            ],
            "image/png": "[encoded data removed]"
          },
          "metadata": {}
        },
        {
          "output_type": "display_data",
          "data": {
            "text/plain": [
              "<Figure size 640x480 with 1 Axes>"
            ],
            "image/png": "[encoded data removed]"
          },
          "metadata": {}
        },
        {
          "output_type": "display_data",
          "data": {
            "text/plain": [
              "<Figure size 640x480 with 1 Axes>"
            ],
            "image/png": "[encoded data removed]"
          },
          "metadata": {}
        },
        {
          "output_type": "display_data",
          "data": {
            "text/plain": [
              "<Figure size 640x480 with 1 Axes>"
            ],
            "image/png": "[encoded data removed]"
          },
          "metadata": {}
        }
      ]
    },
    {
      "cell_type": "code",
      "source": [
        "embd.norm()"
      ],
      "metadata": {
        "id": "qvPSduN0G14u"
      },
      "execution_count": null,
      "outputs": []
    },
    {
      "cell_type": "markdown",
      "source": [
        "# Decision boundary\n",
        "\n",
        "based on the diagram above, we decided to define the decision boundary of 0.7\n"
      ],
      "metadata": {
        "id": "hwIb7sc1GZS7"
      }
    },
    {
      "cell_type": "code",
      "source": [
        "save_model(model, datasets_path, \"StyleMind-GCN, only inner product of embedding are used.\")"
      ],
      "metadata": {
        "id": "okmwZ_SeEpYe",
        "outputId": "791702eb-d3bf-4fe6-878b-1c4d7146d2ee",
        "colab": {
          "base_uri": "https://localhost:8080/",
          "height": 164
        }
      },
      "execution_count": 38,
      "outputs": [
        {
          "output_type": "error",
          "ename": "NameError",
          "evalue": "name 'save_model' is not defined",
          "traceback": [
            "\u001b[0;31m---------------------------------------------------------------------------\u001b[0m",
            "\u001b[0;31mNameError\u001b[0m                                 Traceback (most recent call last)",
            "\u001b[0;32m<ipython-input-38-3e3eed2a7bf8>\u001b[0m in \u001b[0;36m<cell line: 0>\u001b[0;34m()\u001b[0m\n\u001b[0;32m----> 1\u001b[0;31m \u001b[0msave_model\u001b[0m\u001b[0;34m(\u001b[0m\u001b[0mmodel\u001b[0m\u001b[0;34m,\u001b[0m \u001b[0mdatasets_path\u001b[0m\u001b[0;34m,\u001b[0m \u001b[0;34m\"StyleMind-GCN, only inner product of embedding are used.\"\u001b[0m\u001b[0;34m)\u001b[0m\u001b[0;34m\u001b[0m\u001b[0;34m\u001b[0m\u001b[0m\n\u001b[0m",
            "\u001b[0;31mNameError\u001b[0m: name 'save_model' is not defined"
          ]
        }
      ]
    },
    {
      "cell_type": "code",
      "source": [
        "save_mod"
      ],
      "metadata": {
        "id": "szOEHhqDEksf"
      },
      "execution_count": null,
      "outputs": []
    },
    {
      "cell_type": "markdown",
      "source": [
        "#Adding bias to sigmoid inputs"
      ],
      "metadata": {
        "id": "OhVMKDOkn8vB"
      }
    },
    {
      "cell_type": "code",
      "source": [
        "import copy"
      ],
      "metadata": {
        "id": "TlnNhG5kpz2K"
      },
      "execution_count": 34,
      "outputs": []
    },
    {
      "cell_type": "code",
      "source": [
        "model.reset_parameters()\n",
        "\n",
        "losses = []\n",
        "test_accs = []\n",
        "\n",
        "best_test_acc = 0\n",
        "best_model = None\n",
        "\n",
        "optimizer = optim.Adam(model.parameters(), lr)\n",
        "loss_fn = nn.BCEWithLogitsLoss()\n",
        "\n",
        "x = x.to(device)\n",
        "for epoch in range(NUM_EPOCHS):\n",
        "\n",
        "    train_positives_eval_outfits, message_passing_edges = split_train_data(train_edge_index, 5)\n",
        "    train_negatives_eval_outfits = negative_train_edge_index[torch.randperm(negative_train_edge_index.shape[0])[:train_positives_eval_outfits.shape[0]]]\n",
        "    train_labels = torch.cat((torch.ones(train_positives_eval_outfits.shape[0]),\n",
        "                              torch.zeros(train_negatives_eval_outfits.shape[0])))\n",
        "    train_eval_outfits = torch.cat((train_positives_eval_outfits, train_negatives_eval_outfits), dim=0)\n",
        "    train_loss = train(model, x, message_passing_edges.to(device)\n",
        "    , train_eval_outfits.to(device), train_labels.to(device),\n",
        "                       loss_fn=loss_fn, optimizer=optimizer)\n",
        "    train_acc = test(model, x, message_passing_edges.to(device)\n",
        "    , train_eval_outfits.to(device), train_labels.to(device))\n",
        "\n",
        "\n",
        "    valid_message_passing_edges = torch.cat((concat_edge_indices(train_positives_eval_outfits)\n",
        "    , message_passing_edges), dim=-1)\n",
        "    valid_labels = torch.cat((torch.ones(valid_edge_index.shape[0]),\n",
        "                              torch.zeros(valid_negative_samples.shape[0])))\n",
        "    valid_eval_outfits = torch.cat((valid_edge_index, valid_negative_samples), dim=0)\n",
        "    valid_acc = test(model, x, valid_message_passing_edges.to(device)\n",
        "    , valid_eval_outfits.to(device), valid_labels.to(device))\n",
        "\n",
        "\n",
        "\n",
        "    test_message_passing_edges = torch.cat((concat_edge_indices(valid_edge_index)\n",
        "    , valid_message_passing_edges), dim=-1)\n",
        "    test_labels = torch.cat((torch.ones(test_edge_index.shape[0]),\n",
        "                              torch.zeros(test_negative_samples.shape[0])))\n",
        "    test_eval_outfits = torch.cat((test_edge_index, test_negative_samples), dim=0)\n",
        "    test_acc = test(model, x, test_message_passing_edges.to(device)\n",
        "    , test_eval_outfits.to(device), test_labels.to(device))\n",
        "\n",
        "    if(test_acc > best_test_acc):\n",
        "        best_test_acc = test_acc\n",
        "        best_model = copy.deepcopy(model)\n",
        "\n",
        "    losses.append(train_loss)\n",
        "    test_accs.append(test_acc)\n",
        "    print(f'Epoch: {epoch:02d}, '\n",
        "          f'Loss: {train_loss:.4f}, '\n",
        "          f'Train: {100 * train_acc:.2f}%, '\n",
        "          f'Valid: {100 * valid_acc:.2f}% '\n",
        "          f'Test: {100 * test_acc:.2f}%')\n"
      ],
      "metadata": {
        "id": "Vq0qVTG5oDJJ",
        "outputId": "159952c0-e3ee-4329-96c5-0c9a62115891",
        "colab": {
          "base_uri": "https://localhost:8080/"
        }
      },
      "execution_count": 35,
      "outputs": [
        {
          "output_type": "stream",
          "name": "stdout",
          "text": [
            "Epoch: 00, Loss: 3.8664, Train: 50.00%, Valid: 50.00% Test: 49.99%\n",
            "Epoch: 01, Loss: 9.1651, Train: 49.93%, Valid: 49.94% Test: 49.93%\n",
            "Epoch: 02, Loss: 2.8556, Train: 49.95%, Valid: 49.96% Test: 49.97%\n",
            "Epoch: 03, Loss: 2.9327, Train: 49.95%, Valid: 49.97% Test: 49.98%\n",
            "Epoch: 04, Loss: 2.6509, Train: 49.93%, Valid: 49.97% Test: 49.97%\n",
            "Epoch: 05, Loss: 2.0487, Train: 49.95%, Valid: 49.99% Test: 49.97%\n",
            "Epoch: 06, Loss: 1.5795, Train: 49.95%, Valid: 49.96% Test: 49.97%\n",
            "Epoch: 07, Loss: 1.2907, Train: 49.94%, Valid: 49.95% Test: 49.97%\n",
            "Epoch: 08, Loss: 1.1198, Train: 49.96%, Valid: 49.99% Test: 49.97%\n",
            "Epoch: 09, Loss: 1.0559, Train: 49.96%, Valid: 49.96% Test: 49.96%\n",
            "Epoch: 10, Loss: 0.9901, Train: 49.96%, Valid: 49.97% Test: 49.97%\n",
            "Epoch: 11, Loss: 0.9583, Train: 49.97%, Valid: 49.96% Test: 49.96%\n",
            "Epoch: 12, Loss: 0.9466, Train: 49.95%, Valid: 49.98% Test: 49.96%\n",
            "Epoch: 13, Loss: 0.9028, Train: 49.93%, Valid: 49.94% Test: 49.97%\n",
            "Epoch: 14, Loss: 0.8368, Train: 49.92%, Valid: 49.93% Test: 49.96%\n",
            "Epoch: 15, Loss: 0.7912, Train: 49.89%, Valid: 49.88% Test: 49.97%\n",
            "Epoch: 16, Loss: 0.7871, Train: 49.93%, Valid: 49.81% Test: 49.91%\n",
            "Epoch: 17, Loss: 0.7734, Train: 49.97%, Valid: 49.85% Test: 49.91%\n",
            "Epoch: 18, Loss: 0.7266, Train: 49.90%, Valid: 49.79% Test: 49.89%\n",
            "Epoch: 19, Loss: 0.7328, Train: 49.85%, Valid: 49.83% Test: 49.84%\n",
            "Epoch: 20, Loss: 0.6818, Train: 49.85%, Valid: 49.78% Test: 49.82%\n",
            "Epoch: 21, Loss: 0.6762, Train: 49.81%, Valid: 49.76% Test: 49.84%\n",
            "Epoch: 22, Loss: 0.6767, Train: 49.81%, Valid: 49.76% Test: 49.70%\n",
            "Epoch: 23, Loss: 0.6532, Train: 49.80%, Valid: 49.71% Test: 49.76%\n",
            "Epoch: 24, Loss: 0.6553, Train: 49.79%, Valid: 49.54% Test: 49.53%\n",
            "Epoch: 25, Loss: 0.6357, Train: 49.82%, Valid: 49.42% Test: 49.49%\n",
            "Epoch: 26, Loss: 0.6143, Train: 50.08%, Valid: 49.41% Test: 49.40%\n",
            "Epoch: 27, Loss: 0.6132, Train: 50.68%, Valid: 49.71% Test: 49.60%\n",
            "Epoch: 28, Loss: 0.6319, Train: 52.48%, Valid: 51.45% Test: 51.54%\n",
            "Epoch: 29, Loss: 0.6040, Train: 55.77%, Valid: 53.80% Test: 55.90%\n",
            "Epoch: 30, Loss: 0.5968, Train: 61.06%, Valid: 59.42% Test: 62.88%\n",
            "Epoch: 31, Loss: 0.5949, Train: 66.47%, Valid: 63.77% Test: 68.93%\n",
            "Epoch: 32, Loss: 0.5730, Train: 71.17%, Valid: 67.45% Test: 73.36%\n",
            "Epoch: 33, Loss: 0.5710, Train: 74.49%, Valid: 69.95% Test: 76.24%\n",
            "Epoch: 34, Loss: 0.5716, Train: 76.76%, Valid: 71.66% Test: 77.84%\n",
            "Epoch: 35, Loss: 0.5870, Train: 78.50%, Valid: 72.68% Test: 79.49%\n",
            "Epoch: 36, Loss: 0.5637, Train: 79.59%, Valid: 74.04% Test: 80.28%\n",
            "Epoch: 37, Loss: 0.5552, Train: 80.03%, Valid: 75.11% Test: 80.59%\n",
            "Epoch: 38, Loss: 0.5648, Train: 81.29%, Valid: 75.47% Test: 81.53%\n",
            "Epoch: 39, Loss: 0.5487, Train: 81.58%, Valid: 76.08% Test: 81.86%\n",
            "Epoch: 40, Loss: 0.5521, Train: 81.94%, Valid: 75.86% Test: 82.23%\n",
            "Epoch: 41, Loss: 0.5461, Train: 82.22%, Valid: 76.39% Test: 81.99%\n",
            "Epoch: 42, Loss: 0.5354, Train: 82.15%, Valid: 77.14% Test: 82.38%\n",
            "Epoch: 43, Loss: 0.5333, Train: 82.48%, Valid: 76.83% Test: 82.22%\n",
            "Epoch: 44, Loss: 0.5250, Train: 83.09%, Valid: 77.38% Test: 82.73%\n",
            "Epoch: 45, Loss: 0.5401, Train: 82.64%, Valid: 77.16% Test: 82.84%\n",
            "Epoch: 46, Loss: 0.5269, Train: 82.74%, Valid: 77.36% Test: 83.39%\n",
            "Epoch: 47, Loss: 0.5280, Train: 82.64%, Valid: 77.68% Test: 83.35%\n",
            "Epoch: 48, Loss: 0.5161, Train: 83.22%, Valid: 78.01% Test: 83.45%\n",
            "Epoch: 49, Loss: 0.5209, Train: 82.89%, Valid: 77.81% Test: 83.21%\n",
            "Epoch: 50, Loss: 0.5072, Train: 83.58%, Valid: 78.81% Test: 83.61%\n",
            "Epoch: 51, Loss: 0.5013, Train: 83.95%, Valid: 78.26% Test: 84.04%\n",
            "Epoch: 52, Loss: 0.4961, Train: 83.74%, Valid: 77.86% Test: 83.94%\n",
            "Epoch: 53, Loss: 0.5155, Train: 83.45%, Valid: 78.14% Test: 83.74%\n",
            "Epoch: 54, Loss: 0.5030, Train: 83.45%, Valid: 78.38% Test: 84.26%\n",
            "Epoch: 55, Loss: 0.5018, Train: 84.11%, Valid: 78.66% Test: 84.11%\n",
            "Epoch: 56, Loss: 0.5076, Train: 84.23%, Valid: 79.25% Test: 84.34%\n",
            "Epoch: 57, Loss: 0.5045, Train: 83.79%, Valid: 79.12% Test: 84.38%\n",
            "Epoch: 58, Loss: 0.4980, Train: 84.02%, Valid: 79.50% Test: 84.32%\n",
            "Epoch: 59, Loss: 0.4926, Train: 83.92%, Valid: 79.34% Test: 84.50%\n",
            "Epoch: 60, Loss: 0.4868, Train: 84.20%, Valid: 79.10% Test: 84.43%\n",
            "Epoch: 61, Loss: 0.4889, Train: 84.70%, Valid: 79.46% Test: 84.48%\n",
            "Epoch: 62, Loss: 0.4936, Train: 84.30%, Valid: 79.60% Test: 84.82%\n",
            "Epoch: 63, Loss: 0.4850, Train: 84.22%, Valid: 80.02% Test: 84.57%\n",
            "Epoch: 64, Loss: 0.4887, Train: 84.04%, Valid: 79.82% Test: 85.02%\n",
            "Epoch: 65, Loss: 0.4868, Train: 83.94%, Valid: 79.84% Test: 84.95%\n",
            "Epoch: 66, Loss: 0.4774, Train: 83.98%, Valid: 80.35% Test: 84.96%\n",
            "Epoch: 67, Loss: 0.4749, Train: 84.38%, Valid: 79.99% Test: 84.96%\n",
            "Epoch: 68, Loss: 0.4817, Train: 84.41%, Valid: 79.63% Test: 84.99%\n",
            "Epoch: 69, Loss: 0.4818, Train: 84.30%, Valid: 79.95% Test: 85.35%\n",
            "Epoch: 70, Loss: 0.4746, Train: 84.47%, Valid: 80.20% Test: 85.11%\n",
            "Epoch: 71, Loss: 0.4647, Train: 84.42%, Valid: 80.46% Test: 85.65%\n",
            "Epoch: 72, Loss: 0.4644, Train: 84.35%, Valid: 80.55% Test: 85.26%\n",
            "Epoch: 73, Loss: 0.4660, Train: 84.36%, Valid: 80.28% Test: 85.57%\n",
            "Epoch: 74, Loss: 0.4628, Train: 84.49%, Valid: 80.52% Test: 85.41%\n",
            "Epoch: 75, Loss: 0.4662, Train: 85.00%, Valid: 80.80% Test: 85.86%\n",
            "Epoch: 76, Loss: 0.4670, Train: 84.35%, Valid: 80.61% Test: 85.67%\n",
            "Epoch: 77, Loss: 0.4701, Train: 84.30%, Valid: 80.41% Test: 85.85%\n",
            "Epoch: 78, Loss: 0.4645, Train: 84.56%, Valid: 81.07% Test: 85.68%\n",
            "Epoch: 79, Loss: 0.4630, Train: 84.70%, Valid: 80.90% Test: 86.24%\n",
            "Epoch: 80, Loss: 0.4514, Train: 84.91%, Valid: 81.25% Test: 86.03%\n",
            "Epoch: 81, Loss: 0.4650, Train: 84.87%, Valid: 81.19% Test: 85.84%\n",
            "Epoch: 82, Loss: 0.4472, Train: 84.93%, Valid: 81.22% Test: 85.89%\n",
            "Epoch: 83, Loss: 0.4487, Train: 85.27%, Valid: 81.00% Test: 86.23%\n",
            "Epoch: 84, Loss: 0.4492, Train: 84.95%, Valid: 81.43% Test: 86.37%\n",
            "Epoch: 85, Loss: 0.4575, Train: 85.21%, Valid: 81.69% Test: 86.42%\n",
            "Epoch: 86, Loss: 0.4460, Train: 84.58%, Valid: 81.71% Test: 86.25%\n",
            "Epoch: 87, Loss: 0.4408, Train: 85.21%, Valid: 81.40% Test: 86.03%\n",
            "Epoch: 88, Loss: 0.4547, Train: 85.03%, Valid: 81.63% Test: 86.32%\n",
            "Epoch: 89, Loss: 0.4358, Train: 85.50%, Valid: 81.23% Test: 86.19%\n",
            "Epoch: 90, Loss: 0.4429, Train: 85.00%, Valid: 81.44% Test: 86.58%\n",
            "Epoch: 91, Loss: 0.4404, Train: 84.95%, Valid: 81.66% Test: 86.28%\n",
            "Epoch: 92, Loss: 0.4471, Train: 84.81%, Valid: 81.62% Test: 86.53%\n",
            "Epoch: 93, Loss: 0.4430, Train: 85.01%, Valid: 81.66% Test: 86.51%\n",
            "Epoch: 94, Loss: 0.4389, Train: 85.50%, Valid: 81.64% Test: 86.39%\n",
            "Epoch: 95, Loss: 0.4374, Train: 85.12%, Valid: 82.10% Test: 86.28%\n",
            "Epoch: 96, Loss: 0.4391, Train: 85.39%, Valid: 81.50% Test: 86.39%\n",
            "Epoch: 97, Loss: 0.4335, Train: 85.48%, Valid: 81.72% Test: 86.33%\n",
            "Epoch: 98, Loss: 0.4396, Train: 85.29%, Valid: 81.55% Test: 86.53%\n",
            "Epoch: 99, Loss: 0.4240, Train: 85.56%, Valid: 81.92% Test: 86.66%\n",
            "Epoch: 100, Loss: 0.4343, Train: 85.24%, Valid: 82.37% Test: 86.55%\n",
            "Epoch: 101, Loss: 0.4281, Train: 85.88%, Valid: 82.03% Test: 86.47%\n",
            "Epoch: 102, Loss: 0.4355, Train: 85.36%, Valid: 82.04% Test: 86.70%\n",
            "Epoch: 103, Loss: 0.4276, Train: 85.24%, Valid: 82.54% Test: 86.93%\n",
            "Epoch: 104, Loss: 0.4183, Train: 85.70%, Valid: 82.54% Test: 86.48%\n",
            "Epoch: 105, Loss: 0.4245, Train: 85.30%, Valid: 82.48% Test: 86.63%\n",
            "Epoch: 106, Loss: 0.4266, Train: 85.47%, Valid: 82.64% Test: 86.46%\n",
            "Epoch: 107, Loss: 0.4281, Train: 85.72%, Valid: 82.25% Test: 86.87%\n",
            "Epoch: 108, Loss: 0.4216, Train: 85.77%, Valid: 82.40% Test: 86.76%\n",
            "Epoch: 109, Loss: 0.4184, Train: 85.71%, Valid: 82.26% Test: 86.69%\n",
            "Epoch: 110, Loss: 0.4256, Train: 85.75%, Valid: 82.18% Test: 86.88%\n",
            "Epoch: 111, Loss: 0.4148, Train: 85.92%, Valid: 82.47% Test: 86.64%\n",
            "Epoch: 112, Loss: 0.4232, Train: 85.98%, Valid: 82.36% Test: 86.87%\n",
            "Epoch: 113, Loss: 0.4121, Train: 85.78%, Valid: 82.13% Test: 87.01%\n",
            "Epoch: 114, Loss: 0.4235, Train: 85.88%, Valid: 82.88% Test: 86.75%\n",
            "Epoch: 115, Loss: 0.4180, Train: 85.68%, Valid: 82.36% Test: 86.74%\n",
            "Epoch: 116, Loss: 0.4161, Train: 85.85%, Valid: 82.60% Test: 86.51%\n",
            "Epoch: 117, Loss: 0.4141, Train: 85.57%, Valid: 82.30% Test: 86.88%\n",
            "Epoch: 118, Loss: 0.4149, Train: 85.83%, Valid: 82.47% Test: 86.85%\n",
            "Epoch: 119, Loss: 0.4065, Train: 85.96%, Valid: 82.71% Test: 87.11%\n",
            "Epoch: 120, Loss: 0.4139, Train: 85.84%, Valid: 82.63% Test: 87.13%\n",
            "Epoch: 121, Loss: 0.4177, Train: 85.83%, Valid: 82.60% Test: 87.04%\n",
            "Epoch: 122, Loss: 0.4089, Train: 85.78%, Valid: 82.80% Test: 87.00%\n",
            "Epoch: 123, Loss: 0.4107, Train: 86.03%, Valid: 82.78% Test: 87.21%\n",
            "Epoch: 124, Loss: 0.4047, Train: 86.18%, Valid: 82.96% Test: 87.11%\n",
            "Epoch: 125, Loss: 0.4144, Train: 86.16%, Valid: 83.02% Test: 87.14%\n",
            "Epoch: 126, Loss: 0.4088, Train: 85.81%, Valid: 82.80% Test: 86.84%\n",
            "Epoch: 127, Loss: 0.4066, Train: 85.81%, Valid: 83.20% Test: 87.11%\n",
            "Epoch: 128, Loss: 0.4028, Train: 85.93%, Valid: 82.85% Test: 87.07%\n",
            "Epoch: 129, Loss: 0.4056, Train: 85.85%, Valid: 83.08% Test: 87.26%\n",
            "Epoch: 130, Loss: 0.3935, Train: 86.13%, Valid: 82.98% Test: 87.46%\n",
            "Epoch: 131, Loss: 0.4039, Train: 86.11%, Valid: 83.11% Test: 87.47%\n",
            "Epoch: 132, Loss: 0.4057, Train: 85.93%, Valid: 83.28% Test: 87.46%\n",
            "Epoch: 133, Loss: 0.4049, Train: 86.10%, Valid: 83.30% Test: 87.50%\n",
            "Epoch: 134, Loss: 0.4026, Train: 86.60%, Valid: 83.26% Test: 87.20%\n",
            "Epoch: 135, Loss: 0.4048, Train: 86.15%, Valid: 83.01% Test: 87.46%\n",
            "Epoch: 136, Loss: 0.3965, Train: 86.13%, Valid: 83.46% Test: 87.53%\n",
            "Epoch: 137, Loss: 0.3959, Train: 86.52%, Valid: 83.34% Test: 87.32%\n",
            "Epoch: 138, Loss: 0.3942, Train: 86.21%, Valid: 83.57% Test: 87.20%\n",
            "Epoch: 139, Loss: 0.3966, Train: 86.32%, Valid: 83.59% Test: 87.49%\n",
            "Epoch: 140, Loss: 0.3901, Train: 86.23%, Valid: 83.21% Test: 87.32%\n",
            "Epoch: 141, Loss: 0.3921, Train: 86.60%, Valid: 83.09% Test: 87.32%\n",
            "Epoch: 142, Loss: 0.3930, Train: 86.53%, Valid: 83.70% Test: 87.19%\n",
            "Epoch: 143, Loss: 0.3931, Train: 86.14%, Valid: 82.92% Test: 87.24%\n",
            "Epoch: 144, Loss: 0.3971, Train: 86.23%, Valid: 83.34% Test: 87.11%\n",
            "Epoch: 145, Loss: 0.3955, Train: 86.04%, Valid: 83.12% Test: 87.32%\n",
            "Epoch: 146, Loss: 0.3935, Train: 86.19%, Valid: 83.91% Test: 87.28%\n",
            "Epoch: 147, Loss: 0.3966, Train: 86.03%, Valid: 83.28% Test: 87.18%\n",
            "Epoch: 148, Loss: 0.3907, Train: 86.21%, Valid: 83.90% Test: 87.15%\n",
            "Epoch: 149, Loss: 0.3861, Train: 86.38%, Valid: 83.65% Test: 87.27%\n",
            "Epoch: 150, Loss: 0.3887, Train: 86.35%, Valid: 83.61% Test: 87.36%\n",
            "Epoch: 151, Loss: 0.3843, Train: 86.36%, Valid: 83.67% Test: 87.51%\n",
            "Epoch: 152, Loss: 0.3937, Train: 86.31%, Valid: 83.61% Test: 87.26%\n",
            "Epoch: 153, Loss: 0.3847, Train: 86.45%, Valid: 83.65% Test: 87.33%\n",
            "Epoch: 154, Loss: 0.3901, Train: 86.48%, Valid: 83.83% Test: 87.29%\n",
            "Epoch: 155, Loss: 0.3840, Train: 86.50%, Valid: 83.53% Test: 87.32%\n",
            "Epoch: 156, Loss: 0.3783, Train: 86.54%, Valid: 83.59% Test: 87.78%\n",
            "Epoch: 157, Loss: 0.3860, Train: 86.39%, Valid: 84.06% Test: 87.64%\n",
            "Epoch: 158, Loss: 0.3854, Train: 86.39%, Valid: 83.36% Test: 87.78%\n",
            "Epoch: 159, Loss: 0.3755, Train: 86.91%, Valid: 83.74% Test: 87.79%\n",
            "Epoch: 160, Loss: 0.3883, Train: 86.44%, Valid: 84.26% Test: 87.72%\n",
            "Epoch: 161, Loss: 0.3889, Train: 86.40%, Valid: 84.09% Test: 87.58%\n",
            "Epoch: 162, Loss: 0.3813, Train: 86.53%, Valid: 84.04% Test: 88.07%\n",
            "Epoch: 163, Loss: 0.3838, Train: 86.42%, Valid: 84.15% Test: 87.80%\n",
            "Epoch: 164, Loss: 0.3811, Train: 86.70%, Valid: 84.24% Test: 87.82%\n",
            "Epoch: 165, Loss: 0.3761, Train: 86.44%, Valid: 84.20% Test: 87.94%\n",
            "Epoch: 166, Loss: 0.3808, Train: 86.39%, Valid: 84.53% Test: 87.89%\n",
            "Epoch: 167, Loss: 0.3840, Train: 86.20%, Valid: 84.84% Test: 87.71%\n",
            "Epoch: 168, Loss: 0.3767, Train: 86.49%, Valid: 84.41% Test: 87.82%\n",
            "Epoch: 169, Loss: 0.3837, Train: 86.34%, Valid: 84.61% Test: 87.96%\n",
            "Epoch: 170, Loss: 0.3763, Train: 86.82%, Valid: 84.30% Test: 87.67%\n",
            "Epoch: 171, Loss: 0.3820, Train: 86.17%, Valid: 84.07% Test: 87.88%\n",
            "Epoch: 172, Loss: 0.3808, Train: 86.59%, Valid: 84.13% Test: 87.86%\n",
            "Epoch: 173, Loss: 0.3821, Train: 86.45%, Valid: 84.23% Test: 87.74%\n",
            "Epoch: 174, Loss: 0.3686, Train: 86.57%, Valid: 84.08% Test: 87.66%\n",
            "Epoch: 175, Loss: 0.3723, Train: 86.51%, Valid: 84.54% Test: 87.84%\n",
            "Epoch: 176, Loss: 0.3727, Train: 86.76%, Valid: 83.99% Test: 87.92%\n",
            "Epoch: 177, Loss: 0.3750, Train: 86.52%, Valid: 84.41% Test: 87.73%\n",
            "Epoch: 178, Loss: 0.3729, Train: 86.69%, Valid: 84.23% Test: 88.19%\n",
            "Epoch: 179, Loss: 0.3703, Train: 86.66%, Valid: 84.02% Test: 88.04%\n",
            "Epoch: 180, Loss: 0.3709, Train: 86.57%, Valid: 84.00% Test: 87.78%\n",
            "Epoch: 181, Loss: 0.3752, Train: 86.33%, Valid: 84.16% Test: 87.73%\n",
            "Epoch: 182, Loss: 0.3743, Train: 86.65%, Valid: 84.05% Test: 87.83%\n",
            "Epoch: 183, Loss: 0.3687, Train: 86.51%, Valid: 84.36% Test: 87.93%\n",
            "Epoch: 184, Loss: 0.3685, Train: 86.44%, Valid: 84.32% Test: 87.99%\n",
            "Epoch: 185, Loss: 0.3618, Train: 87.02%, Valid: 84.65% Test: 88.04%\n",
            "Epoch: 186, Loss: 0.3610, Train: 86.84%, Valid: 83.96% Test: 88.02%\n",
            "Epoch: 187, Loss: 0.3714, Train: 86.80%, Valid: 84.14% Test: 87.95%\n",
            "Epoch: 188, Loss: 0.3701, Train: 86.52%, Valid: 84.58% Test: 87.99%\n",
            "Epoch: 189, Loss: 0.3736, Train: 86.54%, Valid: 84.49% Test: 88.01%\n",
            "Epoch: 190, Loss: 0.3708, Train: 86.76%, Valid: 84.67% Test: 88.16%\n",
            "Epoch: 191, Loss: 0.3630, Train: 86.38%, Valid: 84.27% Test: 87.93%\n",
            "Epoch: 192, Loss: 0.3641, Train: 86.53%, Valid: 84.54% Test: 87.91%\n",
            "Epoch: 193, Loss: 0.3603, Train: 86.93%, Valid: 84.53% Test: 88.02%\n",
            "Epoch: 194, Loss: 0.3613, Train: 87.21%, Valid: 84.80% Test: 88.24%\n",
            "Epoch: 195, Loss: 0.3579, Train: 87.21%, Valid: 84.81% Test: 88.71%\n",
            "Epoch: 196, Loss: 0.3681, Train: 86.86%, Valid: 84.55% Test: 88.28%\n",
            "Epoch: 197, Loss: 0.3664, Train: 86.78%, Valid: 84.60% Test: 88.49%\n",
            "Epoch: 198, Loss: 0.3553, Train: 87.04%, Valid: 84.91% Test: 88.31%\n",
            "Epoch: 199, Loss: 0.3539, Train: 87.46%, Valid: 84.82% Test: 88.27%\n",
            "Epoch: 200, Loss: 0.3551, Train: 86.98%, Valid: 83.97% Test: 88.54%\n",
            "Epoch: 201, Loss: 0.3665, Train: 86.72%, Valid: 85.01% Test: 88.44%\n",
            "Epoch: 202, Loss: 0.3602, Train: 87.01%, Valid: 84.81% Test: 88.04%\n",
            "Epoch: 203, Loss: 0.3571, Train: 87.05%, Valid: 84.72% Test: 88.36%\n",
            "Epoch: 204, Loss: 0.3604, Train: 87.27%, Valid: 84.73% Test: 87.99%\n",
            "Epoch: 205, Loss: 0.3610, Train: 86.94%, Valid: 84.29% Test: 87.90%\n",
            "Epoch: 206, Loss: 0.3608, Train: 86.73%, Valid: 84.38% Test: 88.14%\n",
            "Epoch: 207, Loss: 0.3651, Train: 86.81%, Valid: 84.44% Test: 87.82%\n",
            "Epoch: 208, Loss: 0.3559, Train: 87.07%, Valid: 84.40% Test: 87.82%\n",
            "Epoch: 209, Loss: 0.3628, Train: 86.47%, Valid: 84.44% Test: 87.96%\n",
            "Epoch: 210, Loss: 0.3623, Train: 86.86%, Valid: 84.64% Test: 87.67%\n",
            "Epoch: 211, Loss: 0.3556, Train: 87.04%, Valid: 84.99% Test: 87.96%\n",
            "Epoch: 212, Loss: 0.3564, Train: 86.99%, Valid: 84.33% Test: 88.22%\n",
            "Epoch: 213, Loss: 0.3588, Train: 86.81%, Valid: 84.98% Test: 88.42%\n",
            "Epoch: 214, Loss: 0.3659, Train: 86.96%, Valid: 85.02% Test: 88.26%\n",
            "Epoch: 215, Loss: 0.3561, Train: 87.09%, Valid: 84.99% Test: 88.40%\n",
            "Epoch: 217, Loss: 0.3544, Train: 87.25%, Valid: 85.05% Test: 88.27%\n",
            "Epoch: 218, Loss: 0.3537, Train: 86.86%, Valid: 84.79% Test: 88.27%\n",
            "Epoch: 219, Loss: 0.3532, Train: 87.14%, Valid: 85.01% Test: 88.27%\n",
            "Epoch: 220, Loss: 0.3543, Train: 86.83%, Valid: 84.72% Test: 88.13%\n",
            "Epoch: 221, Loss: 0.3563, Train: 86.49%, Valid: 85.19% Test: 88.32%\n",
            "Epoch: 222, Loss: 0.3583, Train: 86.96%, Valid: 85.12% Test: 88.08%\n",
            "Epoch: 223, Loss: 0.3530, Train: 86.46%, Valid: 84.79% Test: 88.34%\n",
            "Epoch: 224, Loss: 0.3515, Train: 87.35%, Valid: 84.90% Test: 88.58%\n",
            "Epoch: 225, Loss: 0.3546, Train: 86.94%, Valid: 85.70% Test: 88.27%\n",
            "Epoch: 226, Loss: 0.3487, Train: 87.04%, Valid: 85.37% Test: 88.45%\n",
            "Epoch: 227, Loss: 0.3510, Train: 87.48%, Valid: 85.24% Test: 88.82%\n",
            "Epoch: 228, Loss: 0.3530, Train: 86.95%, Valid: 85.15% Test: 88.83%\n",
            "Epoch: 229, Loss: 0.3518, Train: 87.14%, Valid: 85.26% Test: 88.85%\n",
            "Epoch: 230, Loss: 0.3523, Train: 87.01%, Valid: 85.62% Test: 88.64%\n",
            "Epoch: 231, Loss: 0.3501, Train: 87.46%, Valid: 85.15% Test: 88.47%\n",
            "Epoch: 232, Loss: 0.3468, Train: 87.12%, Valid: 85.68% Test: 88.46%\n",
            "Epoch: 233, Loss: 0.3476, Train: 86.92%, Valid: 85.30% Test: 88.71%\n",
            "Epoch: 234, Loss: 0.3436, Train: 87.22%, Valid: 85.14% Test: 88.58%\n",
            "Epoch: 235, Loss: 0.3502, Train: 87.24%, Valid: 85.21% Test: 88.64%\n",
            "Epoch: 236, Loss: 0.3493, Train: 87.18%, Valid: 85.06% Test: 88.73%\n",
            "Epoch: 237, Loss: 0.3479, Train: 87.08%, Valid: 84.76% Test: 88.43%\n",
            "Epoch: 238, Loss: 0.3505, Train: 86.65%, Valid: 85.33% Test: 88.50%\n",
            "Epoch: 239, Loss: 0.3441, Train: 87.10%, Valid: 84.71% Test: 87.93%\n",
            "Epoch: 240, Loss: 0.3537, Train: 86.68%, Valid: 84.84% Test: 88.12%\n",
            "Epoch: 241, Loss: 0.3474, Train: 87.03%, Valid: 85.23% Test: 88.18%\n",
            "Epoch: 242, Loss: 0.3441, Train: 87.49%, Valid: 85.02% Test: 88.29%\n",
            "Epoch: 243, Loss: 0.3485, Train: 87.01%, Valid: 84.96% Test: 88.55%\n",
            "Epoch: 244, Loss: 0.3433, Train: 87.37%, Valid: 85.74% Test: 89.07%\n",
            "Epoch: 245, Loss: 0.3469, Train: 87.28%, Valid: 85.19% Test: 88.85%\n",
            "Epoch: 246, Loss: 0.3485, Train: 87.29%, Valid: 85.32% Test: 89.08%\n",
            "Epoch: 247, Loss: 0.3397, Train: 87.41%, Valid: 85.67% Test: 88.99%\n",
            "Epoch: 248, Loss: 0.3484, Train: 86.97%, Valid: 85.26% Test: 88.72%\n",
            "Epoch: 249, Loss: 0.3417, Train: 87.36%, Valid: 85.44% Test: 88.43%\n",
            "Epoch: 250, Loss: 0.3401, Train: 87.40%, Valid: 85.19% Test: 88.40%\n",
            "Epoch: 251, Loss: 0.3418, Train: 87.25%, Valid: 85.56% Test: 88.53%\n",
            "Epoch: 252, Loss: 0.3437, Train: 87.24%, Valid: 85.08% Test: 88.46%\n",
            "Epoch: 253, Loss: 0.3398, Train: 87.15%, Valid: 85.28% Test: 88.96%\n",
            "Epoch: 254, Loss: 0.3444, Train: 87.40%, Valid: 85.12% Test: 88.82%\n",
            "Epoch: 255, Loss: 0.3438, Train: 87.25%, Valid: 85.63% Test: 88.74%\n",
            "Epoch: 256, Loss: 0.3420, Train: 86.96%, Valid: 85.57% Test: 88.80%\n",
            "Epoch: 257, Loss: 0.3495, Train: 86.93%, Valid: 85.08% Test: 88.31%\n",
            "Epoch: 258, Loss: 0.3361, Train: 87.48%, Valid: 85.48% Test: 88.21%\n",
            "Epoch: 259, Loss: 0.3448, Train: 86.84%, Valid: 85.33% Test: 88.31%\n",
            "Epoch: 260, Loss: 0.3433, Train: 87.31%, Valid: 85.10% Test: 88.30%\n",
            "Epoch: 261, Loss: 0.3400, Train: 87.47%, Valid: 85.16% Test: 88.40%\n",
            "Epoch: 262, Loss: 0.3400, Train: 87.14%, Valid: 85.21% Test: 88.56%\n",
            "Epoch: 263, Loss: 0.3379, Train: 87.52%, Valid: 85.01% Test: 88.66%\n",
            "Epoch: 264, Loss: 0.3345, Train: 87.41%, Valid: 85.31% Test: 88.95%\n",
            "Epoch: 265, Loss: 0.3382, Train: 87.56%, Valid: 85.06% Test: 89.01%\n",
            "Epoch: 266, Loss: 0.3360, Train: 87.41%, Valid: 85.62% Test: 88.77%\n",
            "Epoch: 267, Loss: 0.3408, Train: 87.66%, Valid: 85.55% Test: 88.47%\n",
            "Epoch: 268, Loss: 0.3401, Train: 87.09%, Valid: 85.74% Test: 88.64%\n",
            "Epoch: 269, Loss: 0.3388, Train: 87.37%, Valid: 85.62% Test: 88.72%\n",
            "Epoch: 270, Loss: 0.3248, Train: 87.88%, Valid: 85.94% Test: 88.84%\n",
            "Epoch: 271, Loss: 0.3330, Train: 87.85%, Valid: 85.42% Test: 88.63%\n",
            "Epoch: 272, Loss: 0.3371, Train: 87.71%, Valid: 85.93% Test: 89.02%\n",
            "Epoch: 273, Loss: 0.3343, Train: 87.23%, Valid: 85.98% Test: 88.99%\n",
            "Epoch: 274, Loss: 0.3383, Train: 87.43%, Valid: 85.84% Test: 89.02%\n",
            "Epoch: 275, Loss: 0.3379, Train: 87.22%, Valid: 85.92% Test: 89.11%\n",
            "Epoch: 276, Loss: 0.3374, Train: 87.31%, Valid: 86.04% Test: 88.96%\n",
            "Epoch: 277, Loss: 0.3457, Train: 87.41%, Valid: 85.80% Test: 88.80%\n",
            "Epoch: 278, Loss: 0.3328, Train: 87.52%, Valid: 85.65% Test: 89.02%\n",
            "Epoch: 279, Loss: 0.3432, Train: 87.23%, Valid: 85.62% Test: 88.71%\n",
            "Epoch: 280, Loss: 0.3402, Train: 87.37%, Valid: 86.10% Test: 88.71%\n",
            "Epoch: 281, Loss: 0.3368, Train: 87.39%, Valid: 86.02% Test: 88.72%\n",
            "Epoch: 282, Loss: 0.3293, Train: 87.85%, Valid: 85.57% Test: 88.88%\n",
            "Epoch: 283, Loss: 0.3333, Train: 87.68%, Valid: 85.54% Test: 89.21%\n",
            "Epoch: 284, Loss: 0.3356, Train: 87.27%, Valid: 85.91% Test: 89.36%\n",
            "Epoch: 285, Loss: 0.3355, Train: 87.46%, Valid: 85.74% Test: 89.17%\n",
            "Epoch: 286, Loss: 0.3313, Train: 87.51%, Valid: 85.50% Test: 89.11%\n",
            "Epoch: 287, Loss: 0.3328, Train: 87.39%, Valid: 85.97% Test: 89.25%\n",
            "Epoch: 288, Loss: 0.3350, Train: 87.42%, Valid: 85.54% Test: 88.78%\n",
            "Epoch: 289, Loss: 0.3247, Train: 87.78%, Valid: 85.70% Test: 89.14%\n",
            "Epoch: 290, Loss: 0.3353, Train: 87.60%, Valid: 85.83% Test: 89.02%\n",
            "Epoch: 291, Loss: 0.3290, Train: 87.67%, Valid: 85.75% Test: 89.04%\n",
            "Epoch: 292, Loss: 0.3266, Train: 87.98%, Valid: 86.02% Test: 89.14%\n",
            "Epoch: 293, Loss: 0.3295, Train: 87.91%, Valid: 86.02% Test: 89.06%\n",
            "Epoch: 294, Loss: 0.3322, Train: 87.53%, Valid: 85.79% Test: 89.15%\n",
            "Epoch: 295, Loss: 0.3284, Train: 87.49%, Valid: 86.02% Test: 89.03%\n",
            "Epoch: 296, Loss: 0.3265, Train: 87.72%, Valid: 85.76% Test: 89.05%\n",
            "Epoch: 297, Loss: 0.3267, Train: 87.84%, Valid: 86.04% Test: 89.02%\n",
            "Epoch: 298, Loss: 0.3304, Train: 87.79%, Valid: 85.96% Test: 89.07%\n",
            "Epoch: 299, Loss: 0.3293, Train: 87.50%, Valid: 86.33% Test: 89.39%\n",
            "Epoch: 300, Loss: 0.3212, Train: 87.96%, Valid: 86.10% Test: 89.46%\n",
            "Epoch: 301, Loss: 0.3248, Train: 87.70%, Valid: 86.13% Test: 89.66%\n",
            "Epoch: 302, Loss: 0.3335, Train: 87.55%, Valid: 86.29% Test: 89.60%\n",
            "Epoch: 303, Loss: 0.3268, Train: 88.16%, Valid: 85.71% Test: 89.71%\n",
            "Epoch: 304, Loss: 0.3270, Train: 88.00%, Valid: 85.92% Test: 89.46%\n",
            "Epoch: 305, Loss: 0.3245, Train: 87.95%, Valid: 86.41% Test: 89.16%\n",
            "Epoch: 306, Loss: 0.3226, Train: 88.15%, Valid: 86.31% Test: 89.34%\n",
            "Epoch: 307, Loss: 0.3276, Train: 87.52%, Valid: 86.04% Test: 88.80%\n",
            "Epoch: 308, Loss: 0.3233, Train: 87.72%, Valid: 86.21% Test: 89.28%\n",
            "Epoch: 309, Loss: 0.3232, Train: 88.05%, Valid: 86.41% Test: 89.34%\n",
            "Epoch: 310, Loss: 0.3268, Train: 87.86%, Valid: 86.33% Test: 89.55%\n",
            "Epoch: 311, Loss: 0.3209, Train: 88.07%, Valid: 85.86% Test: 89.37%\n",
            "Epoch: 312, Loss: 0.3213, Train: 87.97%, Valid: 86.40% Test: 89.16%\n",
            "Epoch: 313, Loss: 0.3229, Train: 87.78%, Valid: 86.06% Test: 89.39%\n",
            "Epoch: 314, Loss: 0.3251, Train: 88.09%, Valid: 86.76% Test: 89.36%\n",
            "Epoch: 316, Loss: 0.3258, Train: 87.82%, Valid: 86.30% Test: 89.48%\n",
            "Epoch: 317, Loss: 0.3249, Train: 87.64%, Valid: 86.58% Test: 89.56%\n",
            "Epoch: 318, Loss: 0.3227, Train: 87.67%, Valid: 86.56% Test: 89.49%\n",
            "Epoch: 319, Loss: 0.3192, Train: 87.80%, Valid: 86.81% Test: 89.44%\n",
            "Epoch: 320, Loss: 0.3249, Train: 87.67%, Valid: 86.80% Test: 89.65%\n",
            "Epoch: 321, Loss: 0.3223, Train: 87.90%, Valid: 86.67% Test: 89.42%\n",
            "Epoch: 322, Loss: 0.3172, Train: 88.14%, Valid: 86.44% Test: 89.64%\n",
            "Epoch: 323, Loss: 0.3243, Train: 88.20%, Valid: 86.50% Test: 89.32%\n",
            "Epoch: 324, Loss: 0.3176, Train: 88.07%, Valid: 86.23% Test: 89.25%\n",
            "Epoch: 325, Loss: 0.3180, Train: 88.23%, Valid: 86.25% Test: 89.24%\n",
            "Epoch: 326, Loss: 0.3239, Train: 87.79%, Valid: 86.16% Test: 89.35%\n",
            "Epoch: 327, Loss: 0.3201, Train: 88.11%, Valid: 86.28% Test: 89.37%\n",
            "Epoch: 328, Loss: 0.3187, Train: 87.76%, Valid: 86.45% Test: 89.31%\n",
            "Epoch: 329, Loss: 0.3228, Train: 87.83%, Valid: 86.05% Test: 89.29%\n",
            "Epoch: 330, Loss: 0.3186, Train: 87.88%, Valid: 86.55% Test: 89.57%\n",
            "Epoch: 331, Loss: 0.3170, Train: 87.90%, Valid: 87.06% Test: 89.43%\n",
            "Epoch: 332, Loss: 0.3189, Train: 88.20%, Valid: 86.26% Test: 89.58%\n",
            "Epoch: 333, Loss: 0.3190, Train: 88.05%, Valid: 86.51% Test: 89.48%\n",
            "Epoch: 334, Loss: 0.3217, Train: 87.97%, Valid: 86.83% Test: 89.52%\n",
            "Epoch: 335, Loss: 0.3120, Train: 88.55%, Valid: 86.46% Test: 89.58%\n",
            "Epoch: 336, Loss: 0.3172, Train: 88.25%, Valid: 86.29% Test: 89.75%\n",
            "Epoch: 337, Loss: 0.3157, Train: 88.26%, Valid: 86.53% Test: 89.71%\n",
            "Epoch: 338, Loss: 0.3127, Train: 88.05%, Valid: 86.96% Test: 89.94%\n",
            "Epoch: 339, Loss: 0.3096, Train: 88.22%, Valid: 86.50% Test: 89.64%\n",
            "Epoch: 340, Loss: 0.3175, Train: 87.95%, Valid: 86.41% Test: 89.54%\n",
            "Epoch: 341, Loss: 0.3195, Train: 88.07%, Valid: 86.47% Test: 89.61%\n",
            "Epoch: 342, Loss: 0.3128, Train: 88.17%, Valid: 86.64% Test: 89.39%\n",
            "Epoch: 343, Loss: 0.3064, Train: 88.28%, Valid: 86.73% Test: 89.41%\n",
            "Epoch: 344, Loss: 0.3092, Train: 88.22%, Valid: 86.58% Test: 89.43%\n",
            "Epoch: 345, Loss: 0.3111, Train: 88.35%, Valid: 86.63% Test: 89.89%\n",
            "Epoch: 346, Loss: 0.3192, Train: 88.23%, Valid: 86.36% Test: 89.97%\n",
            "Epoch: 347, Loss: 0.3087, Train: 88.23%, Valid: 86.99% Test: 89.92%\n",
            "Epoch: 348, Loss: 0.3122, Train: 88.34%, Valid: 86.80% Test: 89.98%\n",
            "Epoch: 349, Loss: 0.3111, Train: 88.54%, Valid: 86.74% Test: 89.80%\n",
            "Epoch: 350, Loss: 0.3113, Train: 88.35%, Valid: 86.79% Test: 89.67%\n",
            "Epoch: 351, Loss: 0.3162, Train: 87.96%, Valid: 86.56% Test: 89.74%\n",
            "Epoch: 352, Loss: 0.3147, Train: 88.10%, Valid: 86.87% Test: 89.81%\n",
            "Epoch: 353, Loss: 0.3119, Train: 88.21%, Valid: 86.82% Test: 89.74%\n",
            "Epoch: 354, Loss: 0.3176, Train: 88.20%, Valid: 86.75% Test: 89.73%\n",
            "Epoch: 355, Loss: 0.3142, Train: 88.07%, Valid: 86.69% Test: 89.62%\n",
            "Epoch: 356, Loss: 0.3127, Train: 88.18%, Valid: 86.53% Test: 89.52%\n",
            "Epoch: 357, Loss: 0.3127, Train: 88.04%, Valid: 86.19% Test: 89.53%\n",
            "Epoch: 358, Loss: 0.3091, Train: 88.23%, Valid: 87.06% Test: 89.49%\n",
            "Epoch: 359, Loss: 0.3159, Train: 88.34%, Valid: 86.68% Test: 89.64%\n",
            "Epoch: 360, Loss: 0.3089, Train: 88.39%, Valid: 86.68% Test: 89.72%\n",
            "Epoch: 361, Loss: 0.3118, Train: 87.94%, Valid: 86.98% Test: 89.71%\n",
            "Epoch: 362, Loss: 0.3126, Train: 87.99%, Valid: 86.84% Test: 89.84%\n",
            "Epoch: 363, Loss: 0.3111, Train: 88.17%, Valid: 86.97% Test: 90.13%\n",
            "Epoch: 364, Loss: 0.3130, Train: 88.30%, Valid: 87.23% Test: 89.75%\n",
            "Epoch: 365, Loss: 0.3067, Train: 88.27%, Valid: 87.44% Test: 89.56%\n",
            "Epoch: 367, Loss: 0.3135, Train: 88.16%, Valid: 87.02% Test: 89.84%\n",
            "Epoch: 368, Loss: 0.3163, Train: 88.17%, Valid: 86.67% Test: 89.75%\n",
            "Epoch: 369, Loss: 0.3106, Train: 88.43%, Valid: 86.76% Test: 89.93%\n",
            "Epoch: 370, Loss: 0.3109, Train: 88.14%, Valid: 87.25% Test: 89.93%\n",
            "Epoch: 371, Loss: 0.3168, Train: 88.25%, Valid: 87.02% Test: 89.66%\n",
            "Epoch: 372, Loss: 0.3164, Train: 88.04%, Valid: 86.32% Test: 89.62%\n",
            "Epoch: 373, Loss: 0.3068, Train: 87.89%, Valid: 86.72% Test: 89.38%\n",
            "Epoch: 374, Loss: 0.3081, Train: 88.13%, Valid: 86.47% Test: 89.27%\n",
            "Epoch: 375, Loss: 0.3015, Train: 88.54%, Valid: 86.85% Test: 89.24%\n",
            "Epoch: 376, Loss: 0.3090, Train: 88.48%, Valid: 87.02% Test: 89.48%\n",
            "Epoch: 377, Loss: 0.3109, Train: 88.68%, Valid: 86.80% Test: 89.52%\n",
            "Epoch: 378, Loss: 0.3122, Train: 88.12%, Valid: 86.74% Test: 89.60%\n",
            "Epoch: 379, Loss: 0.3011, Train: 88.30%, Valid: 87.07% Test: 89.65%\n",
            "Epoch: 380, Loss: 0.3077, Train: 88.40%, Valid: 86.75% Test: 89.72%\n",
            "Epoch: 381, Loss: 0.3045, Train: 88.28%, Valid: 86.85% Test: 89.78%\n",
            "Epoch: 382, Loss: 0.3134, Train: 88.36%, Valid: 86.89% Test: 89.43%\n",
            "Epoch: 383, Loss: 0.3095, Train: 88.24%, Valid: 86.80% Test: 89.56%\n",
            "Epoch: 384, Loss: 0.3047, Train: 88.62%, Valid: 87.17% Test: 89.61%\n",
            "Epoch: 385, Loss: 0.3019, Train: 88.46%, Valid: 87.34% Test: 89.66%\n",
            "Epoch: 386, Loss: 0.3029, Train: 88.65%, Valid: 87.22% Test: 89.99%\n",
            "Epoch: 387, Loss: 0.2978, Train: 88.65%, Valid: 87.07% Test: 90.35%\n",
            "Epoch: 388, Loss: 0.3056, Train: 88.67%, Valid: 87.35% Test: 90.26%\n",
            "Epoch: 389, Loss: 0.3077, Train: 88.52%, Valid: 87.33% Test: 90.43%\n",
            "Epoch: 390, Loss: 0.3022, Train: 88.66%, Valid: 87.51% Test: 90.16%\n",
            "Epoch: 391, Loss: 0.3022, Train: 88.61%, Valid: 87.35% Test: 90.17%\n",
            "Epoch: 392, Loss: 0.3064, Train: 88.47%, Valid: 87.36% Test: 90.32%\n",
            "Epoch: 393, Loss: 0.3095, Train: 88.20%, Valid: 87.68% Test: 90.11%\n",
            "Epoch: 394, Loss: 0.3074, Train: 88.42%, Valid: 87.56% Test: 90.18%\n",
            "Epoch: 395, Loss: 0.3100, Train: 88.45%, Valid: 87.42% Test: 90.36%\n",
            "Epoch: 396, Loss: 0.2991, Train: 88.68%, Valid: 87.48% Test: 90.03%\n",
            "Epoch: 397, Loss: 0.3106, Train: 87.94%, Valid: 87.12% Test: 90.11%\n",
            "Epoch: 398, Loss: 0.3033, Train: 88.27%, Valid: 87.29% Test: 90.07%\n",
            "Epoch: 399, Loss: 0.2940, Train: 88.91%, Valid: 87.62% Test: 89.86%\n",
            "Epoch: 400, Loss: 0.3006, Train: 88.71%, Valid: 87.31% Test: 89.93%\n",
            "Epoch: 401, Loss: 0.3005, Train: 88.46%, Valid: 87.35% Test: 90.19%\n",
            "Epoch: 402, Loss: 0.3016, Train: 88.47%, Valid: 87.50% Test: 90.17%\n",
            "Epoch: 403, Loss: 0.2973, Train: 88.64%, Valid: 87.42% Test: 89.94%\n",
            "Epoch: 404, Loss: 0.2982, Train: 88.78%, Valid: 87.32% Test: 89.92%\n",
            "Epoch: 405, Loss: 0.2914, Train: 88.77%, Valid: 87.24% Test: 90.08%\n",
            "Epoch: 406, Loss: 0.2975, Train: 88.70%, Valid: 87.44% Test: 90.21%\n",
            "Epoch: 407, Loss: 0.3094, Train: 88.17%, Valid: 87.31% Test: 90.15%\n",
            "Epoch: 408, Loss: 0.3031, Train: 88.79%, Valid: 87.41% Test: 89.65%\n",
            "Epoch: 409, Loss: 0.2960, Train: 88.50%, Valid: 87.23% Test: 89.67%\n",
            "Epoch: 410, Loss: 0.3024, Train: 88.59%, Valid: 87.16% Test: 89.60%\n",
            "Epoch: 411, Loss: 0.3019, Train: 88.31%, Valid: 87.33% Test: 89.78%\n",
            "Epoch: 412, Loss: 0.3073, Train: 88.49%, Valid: 87.12% Test: 89.88%\n",
            "Epoch: 413, Loss: 0.2990, Train: 88.48%, Valid: 87.40% Test: 89.77%\n",
            "Epoch: 414, Loss: 0.2946, Train: 88.85%, Valid: 87.26% Test: 90.20%\n",
            "Epoch: 415, Loss: 0.2947, Train: 88.78%, Valid: 87.40% Test: 90.23%\n",
            "Epoch: 416, Loss: 0.2989, Train: 88.49%, Valid: 87.20% Test: 90.06%\n",
            "Epoch: 417, Loss: 0.3076, Train: 88.23%, Valid: 87.20% Test: 89.79%\n",
            "Epoch: 418, Loss: 0.3018, Train: 88.23%, Valid: 87.10% Test: 89.54%\n",
            "Epoch: 419, Loss: 0.2937, Train: 88.73%, Valid: 87.41% Test: 89.89%\n",
            "Epoch: 420, Loss: 0.2923, Train: 88.98%, Valid: 87.33% Test: 90.05%\n",
            "Epoch: 421, Loss: 0.2950, Train: 89.04%, Valid: 87.37% Test: 90.20%\n",
            "Epoch: 422, Loss: 0.2993, Train: 88.90%, Valid: 87.90% Test: 90.35%\n",
            "Epoch: 423, Loss: 0.2977, Train: 88.69%, Valid: 87.48% Test: 90.65%\n",
            "Epoch: 424, Loss: 0.2977, Train: 88.75%, Valid: 87.69% Test: 90.52%\n",
            "Epoch: 425, Loss: 0.2943, Train: 88.94%, Valid: 87.35% Test: 90.60%\n",
            "Epoch: 426, Loss: 0.3009, Train: 89.03%, Valid: 87.30% Test: 90.49%\n",
            "Epoch: 427, Loss: 0.2932, Train: 88.89%, Valid: 87.55% Test: 90.40%\n",
            "Epoch: 428, Loss: 0.2979, Train: 88.73%, Valid: 87.68% Test: 90.56%\n",
            "Epoch: 429, Loss: 0.2998, Train: 89.09%, Valid: 87.58% Test: 90.50%\n",
            "Epoch: 430, Loss: 0.2940, Train: 89.32%, Valid: 87.59% Test: 90.78%\n",
            "Epoch: 431, Loss: 0.2938, Train: 88.91%, Valid: 87.82% Test: 90.67%\n",
            "Epoch: 432, Loss: 0.2945, Train: 88.98%, Valid: 87.96% Test: 90.47%\n",
            "Epoch: 433, Loss: 0.3024, Train: 88.83%, Valid: 87.58% Test: 90.78%\n",
            "Epoch: 434, Loss: 0.2976, Train: 88.81%, Valid: 87.70% Test: 90.54%\n",
            "Epoch: 435, Loss: 0.2949, Train: 88.77%, Valid: 87.64% Test: 90.17%\n",
            "Epoch: 436, Loss: 0.2926, Train: 88.78%, Valid: 87.67% Test: 90.31%\n",
            "Epoch: 437, Loss: 0.2951, Train: 88.74%, Valid: 87.79% Test: 90.46%\n",
            "Epoch: 438, Loss: 0.2935, Train: 88.73%, Valid: 87.90% Test: 90.59%\n",
            "Epoch: 439, Loss: 0.2928, Train: 88.75%, Valid: 87.82% Test: 90.52%\n",
            "Epoch: 440, Loss: 0.2955, Train: 88.56%, Valid: 87.99% Test: 90.43%\n",
            "Epoch: 441, Loss: 0.2928, Train: 89.16%, Valid: 87.73% Test: 90.11%\n",
            "Epoch: 442, Loss: 0.2910, Train: 88.82%, Valid: 87.79% Test: 90.36%\n",
            "Epoch: 443, Loss: 0.2914, Train: 88.84%, Valid: 87.59% Test: 90.36%\n",
            "Epoch: 444, Loss: 0.2900, Train: 88.62%, Valid: 87.84% Test: 90.60%\n",
            "Epoch: 445, Loss: 0.2983, Train: 88.95%, Valid: 88.02% Test: 90.58%\n",
            "Epoch: 446, Loss: 0.2917, Train: 89.24%, Valid: 87.55% Test: 90.74%\n",
            "Epoch: 447, Loss: 0.2934, Train: 88.83%, Valid: 87.55% Test: 90.75%\n",
            "Epoch: 448, Loss: 0.2984, Train: 88.70%, Valid: 87.54% Test: 90.72%\n",
            "Epoch: 449, Loss: 0.2932, Train: 88.77%, Valid: 87.64% Test: 90.75%\n",
            "Epoch: 450, Loss: 0.2920, Train: 88.67%, Valid: 87.73% Test: 90.33%\n",
            "Epoch: 451, Loss: 0.2918, Train: 89.02%, Valid: 87.65% Test: 90.30%\n",
            "Epoch: 452, Loss: 0.2925, Train: 88.71%, Valid: 87.73% Test: 90.53%\n",
            "Epoch: 453, Loss: 0.2904, Train: 88.72%, Valid: 87.51% Test: 90.20%\n",
            "Epoch: 454, Loss: 0.2947, Train: 88.75%, Valid: 87.37% Test: 90.35%\n",
            "Epoch: 455, Loss: 0.2898, Train: 89.05%, Valid: 88.09% Test: 90.38%\n",
            "Epoch: 456, Loss: 0.2962, Train: 88.81%, Valid: 87.65% Test: 90.45%\n",
            "Epoch: 457, Loss: 0.2919, Train: 88.34%, Valid: 87.72% Test: 90.53%\n",
            "Epoch: 458, Loss: 0.2961, Train: 88.91%, Valid: 88.11% Test: 90.46%\n",
            "Epoch: 460, Loss: 0.2888, Train: 89.04%, Valid: 88.24% Test: 90.46%\n",
            "Epoch: 461, Loss: 0.2900, Train: 88.72%, Valid: 87.92% Test: 90.32%\n",
            "Epoch: 462, Loss: 0.2939, Train: 88.63%, Valid: 87.87% Test: 90.20%\n",
            "Epoch: 463, Loss: 0.2892, Train: 88.68%, Valid: 88.07% Test: 90.50%\n",
            "Epoch: 464, Loss: 0.2912, Train: 88.73%, Valid: 87.82% Test: 90.58%\n",
            "Epoch: 465, Loss: 0.2953, Train: 88.79%, Valid: 87.65% Test: 90.62%\n",
            "Epoch: 466, Loss: 0.2882, Train: 88.96%, Valid: 88.05% Test: 91.00%\n",
            "Epoch: 467, Loss: 0.2918, Train: 88.83%, Valid: 88.10% Test: 90.92%\n",
            "Epoch: 468, Loss: 0.2883, Train: 89.06%, Valid: 88.21% Test: 90.99%\n",
            "Epoch: 469, Loss: 0.2907, Train: 89.04%, Valid: 88.41% Test: 90.92%\n",
            "Epoch: 470, Loss: 0.2884, Train: 89.27%, Valid: 88.41% Test: 91.17%\n",
            "Epoch: 471, Loss: 0.2891, Train: 89.28%, Valid: 88.05% Test: 91.13%\n",
            "Epoch: 472, Loss: 0.2849, Train: 89.24%, Valid: 88.22% Test: 91.30%\n",
            "Epoch: 473, Loss: 0.2850, Train: 88.95%, Valid: 88.52% Test: 91.22%\n",
            "Epoch: 474, Loss: 0.2859, Train: 89.22%, Valid: 87.99% Test: 91.14%\n",
            "Epoch: 475, Loss: 0.2877, Train: 89.27%, Valid: 87.79% Test: 90.76%\n",
            "Epoch: 476, Loss: 0.2946, Train: 88.99%, Valid: 87.98% Test: 90.52%\n",
            "Epoch: 477, Loss: 0.2901, Train: 88.73%, Valid: 87.39% Test: 90.23%\n",
            "Epoch: 478, Loss: 0.2905, Train: 89.04%, Valid: 87.78% Test: 90.34%\n",
            "Epoch: 479, Loss: 0.2819, Train: 89.41%, Valid: 87.58% Test: 90.56%\n",
            "Epoch: 480, Loss: 0.2825, Train: 89.16%, Valid: 87.85% Test: 90.76%\n",
            "Epoch: 481, Loss: 0.2882, Train: 89.22%, Valid: 87.78% Test: 90.90%\n",
            "Epoch: 482, Loss: 0.2836, Train: 89.62%, Valid: 88.12% Test: 90.51%\n",
            "Epoch: 483, Loss: 0.2823, Train: 89.27%, Valid: 88.43% Test: 90.90%\n",
            "Epoch: 484, Loss: 0.2856, Train: 89.55%, Valid: 88.05% Test: 90.71%\n",
            "Epoch: 485, Loss: 0.2884, Train: 89.05%, Valid: 88.13% Test: 90.78%\n",
            "Epoch: 486, Loss: 0.2792, Train: 89.34%, Valid: 88.06% Test: 90.93%\n",
            "Epoch: 487, Loss: 0.2840, Train: 89.57%, Valid: 88.07% Test: 91.40%\n",
            "Epoch: 488, Loss: 0.2897, Train: 89.15%, Valid: 88.33% Test: 91.38%\n",
            "Epoch: 489, Loss: 0.2874, Train: 89.15%, Valid: 88.28% Test: 91.11%\n",
            "Epoch: 490, Loss: 0.2823, Train: 89.41%, Valid: 88.25% Test: 90.95%\n",
            "Epoch: 491, Loss: 0.2886, Train: 89.15%, Valid: 87.94% Test: 91.01%\n",
            "Epoch: 492, Loss: 0.2907, Train: 89.44%, Valid: 88.00% Test: 91.18%\n",
            "Epoch: 493, Loss: 0.2865, Train: 89.11%, Valid: 88.36% Test: 91.28%\n",
            "Epoch: 494, Loss: 0.2810, Train: 89.49%, Valid: 88.33% Test: 91.25%\n",
            "Epoch: 495, Loss: 0.2862, Train: 89.29%, Valid: 88.19% Test: 91.21%\n",
            "Epoch: 496, Loss: 0.2830, Train: 89.53%, Valid: 88.34% Test: 91.24%\n",
            "Epoch: 497, Loss: 0.2827, Train: 89.23%, Valid: 88.01% Test: 91.29%\n",
            "Epoch: 498, Loss: 0.2771, Train: 89.31%, Valid: 88.23% Test: 91.26%\n",
            "Epoch: 499, Loss: 0.2842, Train: 89.26%, Valid: 88.11% Test: 91.44%\n"
          ]
        }
      ]
    },
    {
      "cell_type": "code",
      "source": [
        "best_test_acc"
      ],
      "metadata": {
        "id": "6-M4KBN01t5I",
        "outputId": "f1d8d4d7-fd4d-4e89-e19a-c4224439083f",
        "colab": {
          "base_uri": "https://localhost:8080/"
        }
      },
      "execution_count": 36,
      "outputs": [
        {
          "output_type": "execute_result",
          "data": {
            "text/plain": [
              "tensor(0.9144, device='cuda:0')"
            ]
          },
          "metadata": {},
          "execution_count": 36
        }
      ]
    },
    {
      "cell_type": "code",
      "source": [
        "save_model(best_model, datasets_path, \"StyleMind-GCN_biased_outputs.pth\")"
      ],
      "metadata": {
        "id": "QbVUu5361xjg"
      },
      "execution_count": 40,
      "outputs": []
    },
    {
      "cell_type": "code",
      "source": [
        "best_model.final_prediction_margin"
      ],
      "metadata": {
        "id": "dL6G0_-c2fiW",
        "outputId": "68908c26-d37f-42e4-b71b-63d20af4c277",
        "colab": {
          "base_uri": "https://localhost:8080/"
        }
      },
      "execution_count": 43,
      "outputs": [
        {
          "output_type": "execute_result",
          "data": {
            "text/plain": [
              "Parameter containing:\n",
              "tensor(-2.1042, device='cuda:0', requires_grad=True)"
            ]
          },
          "metadata": {},
          "execution_count": 43
        }
      ]
    },
    {
      "cell_type": "code",
      "source": [
        "embd, o = best_model(x, message_passing_edges.to(device)\n",
        "    , train_eval_outfits.to(device))\n",
        "\n",
        "embd = embd.detach().cpu()\n",
        "o  = o.detach().cpu()"
      ],
      "metadata": {
        "id": "5wG2F66V2OIu"
      },
      "execution_count": 41,
      "outputs": []
    },
    {
      "cell_type": "code",
      "source": [
        "plot_histogram(o[:o.shape[0]//2], \"inner product only model positives\")\n",
        "plot_histogram(o[o.shape[0]//2:], \"inner product only model negatives\")\n",
        "plot_histogram(torch.sigmoid(o[:o.shape[0]//2]), \"inner product only model positives sigmoid\")\n",
        "plot_histogram(torch.sigmoid(o[o.shape[0]//2:]), \"inner product only model negatives sigmoid\")"
      ],
      "metadata": {
        "id": "6D6bCFoR2W2i",
        "outputId": "d9b00005-e61d-4a36-aa54-e7d3925b6d1e",
        "colab": {
          "base_uri": "https://localhost:8080/",
          "height": 1000
        }
      },
      "execution_count": 42,
      "outputs": [
        {
          "output_type": "display_data",
          "data": {
            "text/plain": [
              "<Figure size 640x480 with 1 Axes>"
            ],
            "image/png": "[encoded data removed]"
          },
          "metadata": {}
        },
        {
          "output_type": "display_data",
          "data": {
            "text/plain": [
              "<Figure size 640x480 with 1 Axes>"
            ],
            "image/png": "[encoded data removed]"
          },
          "metadata": {}
        },
        {
          "output_type": "display_data",
          "data": {
            "text/plain": [
              "<Figure size 640x480 with 1 Axes>"
            ],
            "image/png": "[encoded data removed]"
          },
          "metadata": {}
        },
        {
          "output_type": "display_data",
          "data": {
            "text/plain": [
              "<Figure size 640x480 with 1 Axes>"
            ],
            "image/png": "[encoded data removed]"
          },
          "metadata": {}
        }
      ]
    },
    {
      "cell_type": "code",
      "source": [
        "positives = o[:o.shape[0]//2]\n",
        "negatives = o[o.shape[0]//2:]\n",
        "\n",
        "train_eval_outfits[positives.argmin()] ,train_eval_outfits[o.shape[0]//2+negatives.argmax()]"
      ],
      "metadata": {
        "id": "BITEIY493E02",
        "outputId": "9ee82952-dfc5-4739-9048-5f222b71d586",
        "colab": {
          "base_uri": "https://localhost:8080/"
        }
      },
      "execution_count": 55,
      "outputs": [
        {
          "output_type": "execute_result",
          "data": {
            "text/plain": [
              "(tensor([[193375,     -1,     -1,     -1,     -1,     -1,     -1,     -1,     -1,\n",
              "              -1,     -1,     -1,     -1,     -1,     -1,     -1,     -1,     -1,\n",
              "              -1,     -1,     -1,     -1,     -1,     -1,     -1,     -1,     -1,\n",
              "              -1,     -1,     -1,     -1,     -1,     -1,     -1,     -1,     -1,\n",
              "              -1,     -1,     -1,     -1,     -1,     -1,     -1,     -1,     -1,\n",
              "              -1,     -1,     -1,     -1,     -1,     -1,     -1,     -1,     -1,\n",
              "              -1,     -1,     -1,     -1,     -1,     -1,     -1,     -1,     -1,\n",
              "              -1,     -1,     -1,     -1,     -1,     -1,     -1,     -1,     -1,\n",
              "              -1,     -1,     -1,     -1,     -1,     -1,     -1,     -1,     -1,\n",
              "              -1,     -1,     -1,     -1,     -1,     -1,     -1,     -1,     -1,\n",
              "              -1,     -1,     -1,     -1,     -1,     -1,     -1,     -1,     -1,\n",
              "              -1,     -1,     -1,     -1,     -1,     -1,     -1,     -1,     -1,\n",
              "              -1,     -1,     -1,     -1,     -1,     -1,     -1,     -1,     -1,\n",
              "              -1,     -1,     -1,     -1,     -1,     -1,     -1,     -1,     -1,\n",
              "              -1,     -1,     -1,     -1,     -1,     -1,     -1,     -1,     -1,\n",
              "              -1,     -1,     -1,     -1,     -1,     -1,     -1,     -1,     -1,\n",
              "              -1,     -1,     -1,     -1,     -1,     -1,     -1,     -1,     -1,\n",
              "              -1,     -1,     -1,     -1,     -1,     -1,     -1,     -1,     -1,\n",
              "              -1,     -1,     -1,     -1,     -1,     -1,     -1,     -1,     -1],\n",
              "         [ 37800,     -1,     -1,     -1,     -1,     -1,     -1,     -1,     -1,\n",
              "              -1,     -1,     -1,     -1,     -1,     -1,     -1,     -1,     -1,\n",
              "              -1,     -1,     -1,     -1,     -1,     -1,     -1,     -1,     -1,\n",
              "              -1,     -1,     -1,     -1,     -1,     -1,     -1,     -1,     -1,\n",
              "              -1,     -1,     -1,     -1,     -1,     -1,     -1,     -1,     -1,\n",
              "              -1,     -1,     -1,     -1,     -1,     -1,     -1,     -1,     -1,\n",
              "              -1,     -1,     -1,     -1,     -1,     -1,     -1,     -1,     -1,\n",
              "              -1,     -1,     -1,     -1,     -1,     -1,     -1,     -1,     -1,\n",
              "              -1,     -1,     -1,     -1,     -1,     -1,     -1,     -1,     -1,\n",
              "              -1,     -1,     -1,     -1,     -1,     -1,     -1,     -1,     -1,\n",
              "              -1,     -1,     -1,     -1,     -1,     -1,     -1,     -1,     -1,\n",
              "              -1,     -1,     -1,     -1,     -1,     -1,     -1,     -1,     -1,\n",
              "              -1,     -1,     -1,     -1,     -1,     -1,     -1,     -1,     -1,\n",
              "              -1,     -1,     -1,     -1,     -1,     -1,     -1,     -1,     -1,\n",
              "              -1,     -1,     -1,     -1,     -1,     -1,     -1,     -1,     -1,\n",
              "              -1,     -1,     -1,     -1,     -1,     -1,     -1,     -1,     -1,\n",
              "              -1,     -1,     -1,     -1,     -1,     -1,     -1,     -1,     -1,\n",
              "              -1,     -1,     -1,     -1,     -1,     -1,     -1,     -1,     -1,\n",
              "              -1,     -1,     -1,     -1,     -1,     -1,     -1,     -1,     -1]]),\n",
              " tensor([[167183, 167183,  72078,     -1,     -1,     -1,     -1,     -1,     -1,\n",
              "              -1,     -1,     -1,     -1,     -1,     -1,     -1,     -1,     -1,\n",
              "              -1,     -1,     -1,     -1,     -1,     -1,     -1,     -1,     -1,\n",
              "              -1,     -1,     -1,     -1,     -1,     -1,     -1,     -1,     -1,\n",
              "              -1,     -1,     -1,     -1,     -1,     -1,     -1,     -1,     -1,\n",
              "              -1,     -1,     -1,     -1,     -1,     -1,     -1,     -1,     -1,\n",
              "              -1,     -1,     -1,     -1,     -1,     -1,     -1,     -1,     -1,\n",
              "              -1,     -1,     -1,     -1,     -1,     -1,     -1,     -1,     -1,\n",
              "              -1,     -1,     -1,     -1,     -1,     -1,     -1,     -1,     -1,\n",
              "              -1,     -1,     -1,     -1,     -1,     -1,     -1,     -1,     -1,\n",
              "              -1,     -1,     -1,     -1,     -1,     -1,     -1,     -1,     -1,\n",
              "              -1,     -1,     -1,     -1,     -1,     -1,     -1,     -1,     -1,\n",
              "              -1,     -1,     -1,     -1,     -1,     -1,     -1,     -1,     -1,\n",
              "              -1,     -1,     -1,     -1,     -1,     -1,     -1,     -1,     -1,\n",
              "              -1,     -1,     -1,     -1,     -1,     -1,     -1,     -1,     -1,\n",
              "              -1,     -1,     -1,     -1,     -1,     -1,     -1,     -1,     -1,\n",
              "              -1,     -1,     -1,     -1,     -1,     -1,     -1,     -1,     -1,\n",
              "              -1,     -1,     -1,     -1,     -1,     -1,     -1,     -1,     -1,\n",
              "              -1,     -1,     -1,     -1,     -1,     -1,     -1,     -1,     -1],\n",
              "         [245702,  72078, 245702,     -1,     -1,     -1,     -1,     -1,     -1,\n",
              "              -1,     -1,     -1,     -1,     -1,     -1,     -1,     -1,     -1,\n",
              "              -1,     -1,     -1,     -1,     -1,     -1,     -1,     -1,     -1,\n",
              "              -1,     -1,     -1,     -1,     -1,     -1,     -1,     -1,     -1,\n",
              "              -1,     -1,     -1,     -1,     -1,     -1,     -1,     -1,     -1,\n",
              "              -1,     -1,     -1,     -1,     -1,     -1,     -1,     -1,     -1,\n",
              "              -1,     -1,     -1,     -1,     -1,     -1,     -1,     -1,     -1,\n",
              "              -1,     -1,     -1,     -1,     -1,     -1,     -1,     -1,     -1,\n",
              "              -1,     -1,     -1,     -1,     -1,     -1,     -1,     -1,     -1,\n",
              "              -1,     -1,     -1,     -1,     -1,     -1,     -1,     -1,     -1,\n",
              "              -1,     -1,     -1,     -1,     -1,     -1,     -1,     -1,     -1,\n",
              "              -1,     -1,     -1,     -1,     -1,     -1,     -1,     -1,     -1,\n",
              "              -1,     -1,     -1,     -1,     -1,     -1,     -1,     -1,     -1,\n",
              "              -1,     -1,     -1,     -1,     -1,     -1,     -1,     -1,     -1,\n",
              "              -1,     -1,     -1,     -1,     -1,     -1,     -1,     -1,     -1,\n",
              "              -1,     -1,     -1,     -1,     -1,     -1,     -1,     -1,     -1,\n",
              "              -1,     -1,     -1,     -1,     -1,     -1,     -1,     -1,     -1,\n",
              "              -1,     -1,     -1,     -1,     -1,     -1,     -1,     -1,     -1,\n",
              "              -1,     -1,     -1,     -1,     -1,     -1,     -1,     -1,     -1]]))"
            ]
          },
          "metadata": {},
          "execution_count": 55
        }
      ]
    },
    {
      "cell_type": "code",
      "source": [
        "# the worst false negatives\n",
        "values, indices = torch.topk(positives, 10, largest=False)\n",
        "\n",
        "outfits = train_eval_outfits[(o.shape[0]//2)+indices][torch.where(train_eval_outfits[(o.shape[0]//2)+indices]>-1)]\n",
        "number_of_garments_per_outfit = (train_eval_outfits[o.shape[0]//2+indices]>-1).float().sum(dim=(-1,-2))\n",
        "\n",
        "outfits, number_of_garments_per_outfitj\n",
        "i = 0\n",
        "result = []\n",
        "for j in number_of_garments_per_outfit.int():\n",
        "  result.append(set(outfits[i:i+j].tolist()))\n",
        "  i += j\n",
        "\n",
        "result = {k: [items.loc[items['index']==i]['ID'].item() for i in o]  for k,o in enumerate(result)}\n",
        "\n",
        "import json\n",
        "\n",
        "with open(\"worstFPs.json\", \"w\") as f:\n",
        "  json.dump(result, f, indent=4)"
      ],
      "metadata": {
        "id": "mNVZWPeX32Mm"
      },
      "execution_count": 126,
      "outputs": []
    },
    {
      "cell_type": "code",
      "source": [
        "# the worst false positives\n",
        "values, indices = torch.topk(negatives, 10, largest=False)\n",
        "\n",
        "outfits = train_eval_outfits[indices][torch.where(train_eval_outfits[indices]>-1)]\n",
        "number_of_garments_per_outfit = (train_eval_outfits[indices]>-1).float().sum(dim=(-1,-2))\n",
        "\n",
        "outfits, number_of_garments_per_outfit\n",
        "i = 0\n",
        "result = []\n",
        "for j in number_of_garments_per_outfit.int():\n",
        "  result.append(set(outfits[i:i+j].tolist()))\n",
        "  i += j\n",
        "\n",
        "result = {k: [items.loc[items['index']==i]['ID'].item() for i in o]  for k,o in enumerate(result)}\n",
        "\n",
        "import json\n",
        "\n",
        "with open(\"worstFNs.json\", \"w\") as f:\n",
        "  json.dump(result, f, indent=4)"
      ],
      "metadata": {
        "id": "jVLfU_h1-8Kz"
      },
      "execution_count": null,
      "outputs": []
    },
    {
      "cell_type": "code",
      "source": [
        "ss = torch.randn(10).to(device)\n",
        "\n",
        "\n",
        "a = set(ss.tolist())\n",
        "a"
      ],
      "metadata": {
        "id": "1fXcLVeC8AId",
        "outputId": "f6a0a1f8-eff1-4710-ac77-b9360c260b2d",
        "colab": {
          "base_uri": "https://localhost:8080/"
        }
      },
      "execution_count": 104,
      "outputs": [
        {
          "output_type": "execute_result",
          "data": {
            "text/plain": [
              "{-0.9159104824066162,\n",
              " -0.3835882246494293,\n",
              " -0.30730435252189636,\n",
              " -0.17330965399742126,\n",
              " -0.16745677590370178,\n",
              " 0.44133099913597107,\n",
              " 0.7212685942649841,\n",
              " 0.9103254675865173,\n",
              " 0.9919949173927307,\n",
              " 1.2212848663330078}"
            ]
          },
          "metadata": {},
          "execution_count": 104
        }
      ]
    },
    {
      "cell_type": "code",
      "source": [
        "# the worst false positives"
      ],
      "metadata": {
        "id": "0aAOhgt14KHr"
      },
      "execution_count": null,
      "outputs": []
    },
    {
      "cell_type": "code",
      "source": [
        "import gc\n",
        "\n",
        "gc.collect()\n",
        "torch.cuda.empty_cache()"
      ],
      "metadata": {
        "id": "nfS7ahRuoa5Q"
      },
      "execution_count": 47,
      "outputs": []
    },
    {
      "cell_type": "markdown",
      "source": [
        "# train model with cosine similarities. (instead of simple inner product).\n",
        "\n",
        "### the result are the same and the model is not certain about negative samples. in the other word the model, embeds the nodes, such that the negative samples are orthogonal in total.\n",
        "\n",
        "## Pros:\n",
        "  - faster convergance\n",
        "\n",
        "##Cons:\n",
        "  - more memory consuming."
      ],
      "metadata": {
        "id": "yUBGsZaZz1t1"
      }
    },
    {
      "cell_type": "code",
      "source": [
        "model.reset_parameters()\n",
        "\n",
        "losses = []\n",
        "test_accs = []\n",
        "\n",
        "best_test_acc = 0\n",
        "best_model = None\n",
        "\n",
        "optimizer = optim.Adam(model.parameters(), lr)\n",
        "loss_fn = nn.BCEWithLogitsLoss()\n",
        "\n",
        "x = x.to(device)\n",
        "for epoch in range(400):\n",
        "\n",
        "    train_positives_eval_outfits, message_passing_edges = split_train_data(train_edge_index[:int(0.8*train_edge_index.shape[0])], 8)\n",
        "    train_negatives_eval_outfits = negative_train_edge_index[torch.randperm(negative_train_edge_index.shape[0])[:train_positives_eval_outfits.shape[0]]]\n",
        "    train_labels = torch.cat((torch.ones(train_positives_eval_outfits.shape[0]),\n",
        "                              torch.zeros(train_negatives_eval_outfits.shape[0])))\n",
        "    train_eval_outfits = torch.cat((train_positives_eval_outfits, train_negatives_eval_outfits), dim=0)\n",
        "    train_loss = train(model, x, message_passing_edges.to(device)\n",
        "    , train_eval_outfits.to(device), train_labels.to(device),\n",
        "                       loss_fn=loss_fn, optimizer=optimizer)\n",
        "    train_acc = test(model, x, message_passing_edges.to(device)\n",
        "    , train_eval_outfits.to(device), train_labels.to(device))\n",
        "\n",
        "\n",
        "    valid_message_passing_edges = torch.cat((concat_edge_indices(train_positives_eval_outfits)\n",
        "    , message_passing_edges), dim=-1)\n",
        "    valid_labels = torch.cat((torch.ones(valid_edge_index.shape[0]),\n",
        "                              torch.zeros(valid_negative_samples.shape[0])))\n",
        "    valid_eval_outfits = torch.cat((valid_edge_index, valid_negative_samples), dim=0)\n",
        "    valid_acc = test(model, x, valid_message_passing_edges.to(device)\n",
        "    , valid_eval_outfits.to(device), valid_labels.to(device))\n",
        "\n",
        "\n",
        "\n",
        "    test_message_passing_edges = torch.cat((concat_edge_indices(valid_edge_index)\n",
        "    , valid_message_passing_edges), dim=-1)\n",
        "    test_labels = torch.cat((torch.ones(test_edge_index.shape[0]),\n",
        "                              torch.zeros(test_negative_samples.shape[0])))\n",
        "    test_eval_outfits = torch.cat((test_edge_index, test_negative_samples), dim=0)\n",
        "    test_acc = test(model, x, test_message_passing_edges.to(device)\n",
        "    , test_eval_outfits.to(device), test_labels.to(device))\n",
        "\n",
        "    if(test_acc > best_test_acc):\n",
        "        best_test_acc = test_acc\n",
        "        best_model = copy.deepcopy(model)\n",
        "\n",
        "    losses.append(train_loss)\n",
        "    test_accs.append(test_acc)\n",
        "    print(f'Epoch: {epoch:02d}, '\n",
        "          f'Loss: {train_loss:.4f}, '\n",
        "          f'Train: {100 * train_acc:.2f}%, '\n",
        "          f'Valid: {100 * valid_acc:.2f}% '\n",
        "          f'Test: {100 * test_acc:.2f}%')\n"
      ],
      "metadata": {
        "id": "bufVr35GMflF",
        "outputId": "57171d66-455b-4b6e-fa91-df6dfd07fde4",
        "colab": {
          "base_uri": "https://localhost:8080/",
          "height": 1000
        }
      },
      "execution_count": null,
      "outputs": [
        {
          "output_type": "stream",
          "name": "stdout",
          "text": [
            "Epoch: 00, Loss: 0.7318, Train: 50.00%, Valid: 50.00% Test: 50.00%\n",
            "Epoch: 01, Loss: 0.7169, Train: 50.00%, Valid: 50.00% Test: 49.99%\n",
            "Epoch: 02, Loss: 0.6912, Train: 50.00%, Valid: 50.00% Test: 50.00%\n",
            "Epoch: 03, Loss: 0.6817, Train: 50.00%, Valid: 50.00% Test: 50.00%\n",
            "Epoch: 04, Loss: 0.6740, Train: 50.00%, Valid: 50.00% Test: 50.00%\n",
            "Epoch: 05, Loss: 0.6656, Train: 50.00%, Valid: 50.00% Test: 50.00%\n",
            "Epoch: 06, Loss: 0.6569, Train: 50.00%, Valid: 50.00% Test: 50.00%\n",
            "Epoch: 07, Loss: 0.6459, Train: 50.00%, Valid: 50.00% Test: 50.00%\n",
            "Epoch: 08, Loss: 0.6404, Train: 50.00%, Valid: 50.00% Test: 50.00%\n",
            "Epoch: 09, Loss: 0.6362, Train: 50.00%, Valid: 50.00% Test: 50.00%\n",
            "Epoch: 10, Loss: 0.6301, Train: 50.00%, Valid: 50.00% Test: 50.00%\n",
            "Epoch: 11, Loss: 0.6255, Train: 50.00%, Valid: 50.00% Test: 50.00%\n",
            "Epoch: 12, Loss: 0.6209, Train: 50.00%, Valid: 50.00% Test: 50.00%\n",
            "Epoch: 13, Loss: 0.6189, Train: 50.00%, Valid: 50.00% Test: 50.00%\n",
            "Epoch: 14, Loss: 0.6142, Train: 50.00%, Valid: 50.00% Test: 50.00%\n",
            "Epoch: 15, Loss: 0.6141, Train: 50.00%, Valid: 50.00% Test: 50.00%\n",
            "Epoch: 16, Loss: 0.6121, Train: 50.00%, Valid: 50.00% Test: 50.00%\n",
            "Epoch: 17, Loss: 0.6128, Train: 50.00%, Valid: 50.00% Test: 50.00%\n",
            "Epoch: 18, Loss: 0.6095, Train: 50.00%, Valid: 50.00% Test: 50.00%\n",
            "Epoch: 19, Loss: 0.6100, Train: 50.00%, Valid: 50.00% Test: 50.00%\n",
            "Epoch: 20, Loss: 0.6059, Train: 50.00%, Valid: 50.00% Test: 50.00%\n",
            "Epoch: 21, Loss: 0.6094, Train: 50.00%, Valid: 50.00% Test: 50.00%\n",
            "Epoch: 22, Loss: 0.6050, Train: 50.00%, Valid: 50.00% Test: 50.00%\n",
            "Epoch: 23, Loss: 0.6056, Train: 50.00%, Valid: 50.00% Test: 50.00%\n",
            "Epoch: 24, Loss: 0.6058, Train: 50.00%, Valid: 50.00% Test: 49.99%\n",
            "Epoch: 25, Loss: 0.6053, Train: 50.02%, Valid: 49.99% Test: 49.99%\n",
            "Epoch: 26, Loss: 0.6044, Train: 50.02%, Valid: 49.99% Test: 49.98%\n",
            "Epoch: 27, Loss: 0.6050, Train: 50.07%, Valid: 49.98% Test: 49.98%\n",
            "Epoch: 28, Loss: 0.6049, Train: 50.09%, Valid: 49.98% Test: 49.99%\n",
            "Epoch: 29, Loss: 0.6028, Train: 50.02%, Valid: 49.97% Test: 49.99%\n",
            "Epoch: 30, Loss: 0.6053, Train: 50.05%, Valid: 49.98% Test: 50.00%\n",
            "Epoch: 31, Loss: 0.6033, Train: 50.03%, Valid: 49.98% Test: 49.99%\n",
            "Epoch: 32, Loss: 0.6057, Train: 50.08%, Valid: 49.94% Test: 49.98%\n",
            "Epoch: 33, Loss: 0.6043, Train: 50.23%, Valid: 49.91% Test: 49.96%\n",
            "Epoch: 34, Loss: 0.6049, Train: 50.89%, Valid: 49.84% Test: 49.93%\n",
            "Epoch: 35, Loss: 0.6032, Train: 51.67%, Valid: 49.90% Test: 50.05%\n",
            "Epoch: 36, Loss: 0.6041, Train: 52.74%, Valid: 50.28% Test: 50.64%\n",
            "Epoch: 37, Loss: 0.6018, Train: 55.01%, Valid: 51.14% Test: 51.65%\n",
            "Epoch: 38, Loss: 0.6028, Train: 57.48%, Valid: 53.04% Test: 53.75%\n",
            "Epoch: 39, Loss: 0.6017, Train: 59.30%, Valid: 54.73% Test: 56.15%\n",
            "Epoch: 40, Loss: 0.6021, Train: 61.21%, Valid: 57.60% Test: 58.89%\n",
            "Epoch: 41, Loss: 0.6013, Train: 64.03%, Valid: 60.64% Test: 62.68%\n",
            "Epoch: 42, Loss: 0.6023, Train: 65.68%, Valid: 62.44% Test: 65.04%\n",
            "Epoch: 43, Loss: 0.6004, Train: 67.48%, Valid: 64.02% Test: 66.46%\n",
            "Epoch: 44, Loss: 0.5994, Train: 67.53%, Valid: 64.28% Test: 66.68%\n",
            "Epoch: 45, Loss: 0.6020, Train: 66.75%, Valid: 64.28% Test: 66.86%\n",
            "Epoch: 46, Loss: 0.6017, Train: 66.91%, Valid: 64.78% Test: 67.24%\n",
            "Epoch: 47, Loss: 0.6008, Train: 67.92%, Valid: 65.91% Test: 67.95%\n",
            "Epoch: 48, Loss: 0.6014, Train: 67.54%, Valid: 67.21% Test: 68.79%\n",
            "Epoch: 49, Loss: 0.6008, Train: 68.56%, Valid: 68.19% Test: 69.53%\n",
            "Epoch: 50, Loss: 0.5978, Train: 69.59%, Valid: 68.39% Test: 69.61%\n",
            "Epoch: 51, Loss: 0.5995, Train: 67.77%, Valid: 66.98% Test: 68.55%\n",
            "Epoch: 52, Loss: 0.6009, Train: 67.48%, Valid: 66.73% Test: 68.25%\n",
            "Epoch: 53, Loss: 0.5982, Train: 68.56%, Valid: 66.24% Test: 68.55%\n",
            "Epoch: 54, Loss: 0.6003, Train: 69.12%, Valid: 67.19% Test: 69.50%\n",
            "Epoch: 55, Loss: 0.5994, Train: 70.48%, Valid: 68.29% Test: 71.13%\n",
            "Epoch: 56, Loss: 0.5979, Train: 71.28%, Valid: 69.74% Test: 72.52%\n",
            "Epoch: 57, Loss: 0.5988, Train: 71.62%, Valid: 70.32% Test: 72.71%\n",
            "Epoch: 58, Loss: 0.5982, Train: 72.14%, Valid: 70.42% Test: 72.89%\n",
            "Epoch: 59, Loss: 0.5983, Train: 71.71%, Valid: 70.06% Test: 72.39%\n",
            "Epoch: 60, Loss: 0.5993, Train: 70.92%, Valid: 69.63% Test: 71.59%\n",
            "Epoch: 61, Loss: 0.5977, Train: 71.14%, Valid: 69.78% Test: 71.97%\n",
            "Epoch: 62, Loss: 0.6006, Train: 71.07%, Valid: 70.55% Test: 72.35%\n",
            "Epoch: 63, Loss: 0.6002, Train: 70.57%, Valid: 70.71% Test: 72.21%\n",
            "Epoch: 64, Loss: 0.5978, Train: 71.23%, Valid: 71.41% Test: 72.68%\n",
            "Epoch: 65, Loss: 0.6000, Train: 71.97%, Valid: 71.90% Test: 73.04%\n",
            "Epoch: 66, Loss: 0.5985, Train: 72.28%, Valid: 71.33% Test: 73.31%\n",
            "Epoch: 67, Loss: 0.5991, Train: 71.54%, Valid: 70.88% Test: 73.07%\n",
            "Epoch: 68, Loss: 0.5972, Train: 71.81%, Valid: 69.97% Test: 72.25%\n",
            "Epoch: 69, Loss: 0.5976, Train: 70.95%, Valid: 68.86% Test: 71.31%\n",
            "Epoch: 70, Loss: 0.5984, Train: 70.48%, Valid: 68.13% Test: 70.56%\n",
            "Epoch: 71, Loss: 0.5977, Train: 69.27%, Valid: 66.87% Test: 70.07%\n",
            "Epoch: 72, Loss: 0.5954, Train: 69.65%, Valid: 66.80% Test: 69.38%\n",
            "Epoch: 73, Loss: 0.5971, Train: 68.79%, Valid: 66.51% Test: 69.07%\n",
            "Epoch: 74, Loss: 0.5970, Train: 68.30%, Valid: 66.02% Test: 68.31%\n",
            "Epoch: 75, Loss: 0.5976, Train: 66.44%, Valid: 64.84% Test: 66.53%\n",
            "Epoch: 76, Loss: 0.5971, Train: 65.63%, Valid: 63.62% Test: 65.57%\n",
            "Epoch: 77, Loss: 0.5974, Train: 64.77%, Valid: 62.49% Test: 64.05%\n",
            "Epoch: 78, Loss: 0.5979, Train: 64.62%, Valid: 62.95% Test: 64.18%\n",
            "Epoch: 79, Loss: 0.5980, Train: 65.27%, Valid: 64.08% Test: 65.13%\n",
            "Epoch: 80, Loss: 0.5972, Train: 67.50%, Valid: 66.31% Test: 67.75%\n",
            "Epoch: 81, Loss: 0.5970, Train: 70.37%, Valid: 69.37% Test: 71.52%\n",
            "Epoch: 82, Loss: 0.5967, Train: 72.26%, Valid: 71.40% Test: 73.70%\n",
            "Epoch: 83, Loss: 0.5950, Train: 73.71%, Valid: 72.36% Test: 74.76%\n",
            "Epoch: 84, Loss: 0.5978, Train: 73.40%, Valid: 72.99% Test: 75.11%\n",
            "Epoch: 85, Loss: 0.5954, Train: 73.30%, Valid: 73.45% Test: 75.51%\n",
            "Epoch: 86, Loss: 0.5978, Train: 73.93%, Valid: 73.40% Test: 75.82%\n",
            "Epoch: 87, Loss: 0.5988, Train: 73.63%, Valid: 73.57% Test: 75.56%\n",
            "Epoch: 88, Loss: 0.5980, Train: 72.99%, Valid: 71.76% Test: 74.22%\n",
            "Epoch: 89, Loss: 0.5981, Train: 72.56%, Valid: 71.04% Test: 73.51%\n",
            "Epoch: 90, Loss: 0.5988, Train: 72.24%, Valid: 71.22% Test: 73.60%\n",
            "Epoch: 91, Loss: 0.5953, Train: 72.30%, Valid: 70.99% Test: 73.36%\n",
            "Epoch: 92, Loss: 0.5963, Train: 72.08%, Valid: 70.14% Test: 72.65%\n",
            "Epoch: 93, Loss: 0.5962, Train: 71.30%, Valid: 68.89% Test: 71.86%\n",
            "Epoch: 94, Loss: 0.5970, Train: 70.56%, Valid: 68.59% Test: 70.98%\n",
            "Epoch: 95, Loss: 0.5938, Train: 69.84%, Valid: 66.95% Test: 69.34%\n",
            "Epoch: 96, Loss: 0.5963, Train: 68.91%, Valid: 66.58% Test: 69.29%\n",
            "Epoch: 97, Loss: 0.5956, Train: 69.78%, Valid: 67.15% Test: 69.98%\n",
            "Epoch: 98, Loss: 0.5960, Train: 69.40%, Valid: 67.03% Test: 69.33%\n",
            "Epoch: 99, Loss: 0.5952, Train: 69.22%, Valid: 66.54% Test: 69.01%\n",
            "Epoch: 100, Loss: 0.5964, Train: 68.87%, Valid: 66.43% Test: 68.57%\n",
            "Epoch: 101, Loss: 0.5973, Train: 68.92%, Valid: 66.23% Test: 68.71%\n",
            "Epoch: 102, Loss: 0.5952, Train: 69.93%, Valid: 66.23% Test: 69.32%\n",
            "Epoch: 103, Loss: 0.5954, Train: 69.56%, Valid: 67.34% Test: 70.09%\n",
            "Epoch: 104, Loss: 0.5961, Train: 72.35%, Valid: 70.83% Test: 73.32%\n",
            "Epoch: 105, Loss: 0.5947, Train: 73.36%, Valid: 73.53% Test: 75.53%\n",
            "Epoch: 106, Loss: 0.5944, Train: 71.81%, Valid: 73.04% Test: 73.97%\n",
            "Epoch: 107, Loss: 0.5956, Train: 70.83%, Valid: 71.95% Test: 72.64%\n",
            "Epoch: 108, Loss: 0.5947, Train: 70.30%, Valid: 72.01% Test: 72.08%\n",
            "Epoch: 109, Loss: 0.5942, Train: 70.75%, Valid: 72.18% Test: 72.69%\n",
            "Epoch: 110, Loss: 0.5956, Train: 70.85%, Valid: 73.49% Test: 73.74%\n",
            "Epoch: 111, Loss: 0.5940, Train: 72.36%, Valid: 73.32% Test: 74.06%\n",
            "Epoch: 112, Loss: 0.5957, Train: 72.28%, Valid: 73.52% Test: 74.47%\n",
            "Epoch: 113, Loss: 0.5936, Train: 72.96%, Valid: 73.91% Test: 75.28%\n",
            "Epoch: 114, Loss: 0.5964, Train: 73.52%, Valid: 73.27% Test: 75.88%\n",
            "Epoch: 115, Loss: 0.5963, Train: 72.35%, Valid: 71.41% Test: 74.15%\n",
            "Epoch: 116, Loss: 0.5964, Train: 69.40%, Valid: 67.08% Test: 69.63%\n",
            "Epoch: 117, Loss: 0.5941, Train: 66.11%, Valid: 62.40% Test: 64.22%\n",
            "Epoch: 118, Loss: 0.5946, Train: 63.82%, Valid: 59.46% Test: 60.82%\n",
            "Epoch: 119, Loss: 0.5950, Train: 61.15%, Valid: 56.71% Test: 58.06%\n"
          ]
        },
        {
          "output_type": "error",
          "ename": "KeyboardInterrupt",
          "evalue": "",
          "traceback": [
            "\u001b[0;31m---------------------------------------------------------------------------\u001b[0m",
            "\u001b[0;31mKeyboardInterrupt\u001b[0m                         Traceback (most recent call last)",
            "\u001b[0;32m<ipython-input-38-87770e90cbdb>\u001b[0m in \u001b[0;36m<cell line: 0>\u001b[0;34m()\u001b[0m\n\u001b[1;32m     18\u001b[0m                               torch.zeros(train_negatives_eval_outfits.shape[0])))\n\u001b[1;32m     19\u001b[0m     \u001b[0mtrain_eval_outfits\u001b[0m \u001b[0;34m=\u001b[0m \u001b[0mtorch\u001b[0m\u001b[0;34m.\u001b[0m\u001b[0mcat\u001b[0m\u001b[0;34m(\u001b[0m\u001b[0;34m(\u001b[0m\u001b[0mtrain_positives_eval_outfits\u001b[0m\u001b[0;34m,\u001b[0m \u001b[0mtrain_negatives_eval_outfits\u001b[0m\u001b[0;34m)\u001b[0m\u001b[0;34m,\u001b[0m \u001b[0mdim\u001b[0m\u001b[0;34m=\u001b[0m\u001b[0;36m0\u001b[0m\u001b[0;34m)\u001b[0m\u001b[0;34m\u001b[0m\u001b[0;34m\u001b[0m\u001b[0m\n\u001b[0;32m---> 20\u001b[0;31m     train_loss = train(model, x, message_passing_edges.to(device)\n\u001b[0m\u001b[1;32m     21\u001b[0m     \u001b[0;34m,\u001b[0m \u001b[0mtrain_eval_outfits\u001b[0m\u001b[0;34m.\u001b[0m\u001b[0mto\u001b[0m\u001b[0;34m(\u001b[0m\u001b[0mdevice\u001b[0m\u001b[0;34m)\u001b[0m\u001b[0;34m,\u001b[0m \u001b[0mtrain_labels\u001b[0m\u001b[0;34m.\u001b[0m\u001b[0mto\u001b[0m\u001b[0;34m(\u001b[0m\u001b[0mdevice\u001b[0m\u001b[0;34m)\u001b[0m\u001b[0;34m,\u001b[0m\u001b[0;34m\u001b[0m\u001b[0;34m\u001b[0m\u001b[0m\n\u001b[1;32m     22\u001b[0m                        loss_fn=loss_fn, optimizer=optimizer)\n",
            "\u001b[0;32m<ipython-input-23-e0f101cbd21b>\u001b[0m in \u001b[0;36mtrain\u001b[0;34m(model, x, edge_index, outfits, labels, optimizer, loss_fn)\u001b[0m\n\u001b[1;32m      9\u001b[0m   \u001b[0moptimizer\u001b[0m\u001b[0;34m.\u001b[0m\u001b[0mstep\u001b[0m\u001b[0;34m(\u001b[0m\u001b[0;34m)\u001b[0m\u001b[0;34m\u001b[0m\u001b[0;34m\u001b[0m\u001b[0m\n\u001b[1;32m     10\u001b[0m \u001b[0;34m\u001b[0m\u001b[0m\n\u001b[0;32m---> 11\u001b[0;31m   \u001b[0;32mreturn\u001b[0m \u001b[0mloss\u001b[0m\u001b[0;34m.\u001b[0m\u001b[0mitem\u001b[0m\u001b[0;34m(\u001b[0m\u001b[0;34m)\u001b[0m\u001b[0;34m\u001b[0m\u001b[0;34m\u001b[0m\u001b[0m\n\u001b[0m",
            "\u001b[0;31mKeyboardInterrupt\u001b[0m: "
          ]
        }
      ]
    },
    {
      "cell_type": "code",
      "source": [
        "best_test_acc"
      ],
      "metadata": {
        "id": "5zxK9UkD0_09",
        "outputId": "bcc634c7-d3ea-4245-e595-72ca02727543",
        "colab": {
          "base_uri": "https://localhost:8080/"
        }
      },
      "execution_count": null,
      "outputs": [
        {
          "output_type": "execute_result",
          "data": {
            "text/plain": [
              "tensor(0.7587, device='cuda:0')"
            ]
          },
          "metadata": {},
          "execution_count": 39
        }
      ]
    },
    {
      "cell_type": "code",
      "source": [
        "import gc\n",
        "import torch\n",
        "\n",
        "gc.collect()\n",
        "torch.cuda.empty_cache()"
      ],
      "metadata": {
        "id": "f3Gen3WHx46i"
      },
      "execution_count": null,
      "outputs": []
    },
    {
      "cell_type": "code",
      "source": [
        "torch.cuda.reset_peak_memory_stats()\n",
        "torch.cuda.reset_accumulated_memory_stats()"
      ],
      "metadata": {
        "id": "I1r82EBGWyeD"
      },
      "execution_count": null,
      "outputs": []
    },
    {
      "cell_type": "code",
      "source": [
        "torch.cuda.empty_cache()"
      ],
      "metadata": {
        "id": "atO9zQ4QW0T3"
      },
      "execution_count": null,
      "outputs": []
    },
    {
      "cell_type": "code",
      "source": [
        "m = x[:100].cpu()\n",
        "m"
      ],
      "metadata": {
        "id": "3fFxXZvrN8U9",
        "outputId": "e65dcdb7-3dcb-4f37-80ab-0803db0f4012",
        "colab": {
          "base_uri": "https://localhost:8080/"
        }
      },
      "execution_count": null,
      "outputs": [
        {
          "output_type": "execute_result",
          "data": {
            "text/plain": [
              "tensor([[0.2134, 0.4643, 0.3334,  ..., 0.3668, 0.0379, 0.0898],\n",
              "        [0.5982, 0.7184, 0.2694,  ..., 0.2122, 0.6592, 0.0720],\n",
              "        [0.3819, 4.5064, 0.2355,  ..., 0.2252, 0.7095, 0.4182],\n",
              "        ...,\n",
              "        [0.4332, 1.0498, 0.8459,  ..., 0.1372, 0.1394, 0.4783],\n",
              "        [0.2474, 0.4604, 0.6189,  ..., 0.0801, 0.5642, 1.3976],\n",
              "        [1.7186, 0.4958, 0.3872,  ..., 0.2463, 0.6565, 0.0996]])"
            ]
          },
          "metadata": {},
          "execution_count": 32
        }
      ]
    },
    {
      "cell_type": "code",
      "source": [
        "get_node_embedding_with_mask_meaningless_edge_index_elements(x.cpu(), train_eval_outfits[:100])"
      ],
      "metadata": {
        "id": "tXh454zZOabb"
      },
      "execution_count": null,
      "outputs": []
    },
    {
      "cell_type": "code",
      "source": [
        "torch.cuda.empty_cache()"
      ],
      "metadata": {
        "id": "q2YGJZzcM_T4"
      },
      "execution_count": null,
      "outputs": []
    },
    {
      "cell_type": "code",
      "source": [
        "best_test_acc.item()"
      ],
      "metadata": {
        "colab": {
          "base_uri": "https://localhost:8080/"
        },
        "id": "hgQKg2KvHR7o",
        "outputId": "2b38e4ae-af39-4f0b-d97f-8b9654f4f541"
      },
      "execution_count": null,
      "outputs": [
        {
          "output_type": "execute_result",
          "data": {
            "text/plain": [
              "0.757099986076355"
            ]
          },
          "metadata": {},
          "execution_count": 99
        }
      ]
    },
    {
      "cell_type": "code",
      "source": [
        "def save_model(model, data_path, name):\n",
        "  torch.save(model.state_dict(), path.join(data_path,name))"
      ],
      "metadata": {
        "id": "Y3HYYbneImY_"
      },
      "execution_count": 39,
      "outputs": []
    },
    {
      "cell_type": "code",
      "source": [
        "save_model(best_model, datasets_path, \"best_gcn_model_based_with_cosine.pth\")\n",
        "save_model(model, datasets_path, \"last_gcn_model_based_with_cosine.pth\")"
      ],
      "metadata": {
        "id": "NsNybwag4qSh"
      },
      "execution_count": null,
      "outputs": []
    },
    {
      "cell_type": "code",
      "source": [],
      "metadata": {
        "id": "Oe4sG_oxEVAC"
      },
      "execution_count": null,
      "outputs": []
    },
    {
      "cell_type": "code",
      "source": [
        "model.load_state_dict(torch.load(path.join(datasets_path,\"last_gcn_model_based_with_cosine.pth\")))"
      ],
      "metadata": {
        "id": "oV1gDpy9WrvW",
        "outputId": "41bd4ed3-ba6c-4cc6-8055-016f60fb18c1",
        "colab": {
          "base_uri": "https://localhost:8080/"
        }
      },
      "execution_count": null,
      "outputs": [
        {
          "output_type": "execute_result",
          "data": {
            "text/plain": [
              "<All keys matched successfully>"
            ]
          },
          "metadata": {},
          "execution_count": 34
        }
      ]
    },
    {
      "cell_type": "code",
      "source": [
        "train_positives_eval_outfits, message_passing_edges = split_train_data(train_edge_index, 5)\n",
        "train_negatives_eval_outfits = negative_train_edge_index[torch.randperm(negative_train_edge_index.shape[0])[:train_positives_eval_outfits.shape[0]]]\n",
        "train_labels = torch.cat((torch.ones(train_positives_eval_outfits.shape[0]),\n",
        "                          torch.zeros(train_negatives_eval_outfits.shape[0])))\n",
        "train_eval_outfits = torch.cat((train_positives_eval_outfits, train_negatives_eval_outfits), dim=0)\n",
        "valid_message_passing_edges = torch.cat((concat_edge_indices(train_positives_eval_outfits)\n",
        ", message_passing_edges), dim=-1)\n",
        "valid_eval_outfits = torch.cat((valid_edge_index, valid_negative_samples), dim=0)\n",
        "\n",
        "test_message_passing_edges = torch.cat((concat_edge_indices(valid_edge_index)\n",
        ", valid_message_passing_edges), dim=-1)\n",
        "test_labels = torch.cat((torch.ones(test_edge_index.shape[0]),\n",
        "                        torch.zeros(test_negative_samples.shape[0])))\n",
        "test_eval_outfits = torch.cat((test_edge_index, test_negative_samples), dim=0)\n"
      ],
      "metadata": {
        "id": "ml_QzGLEWxga"
      },
      "execution_count": null,
      "outputs": []
    },
    {
      "cell_type": "code",
      "source": [
        "train_positives_eval_outfits, message_passing_edges = split_train_data(train_edge_index, 5)\n",
        "train_negatives_eval_outfits = negative_train_edge_index[torch.randperm(negative_train_edge_index.shape[0])[:train_positives_eval_outfits.shape[0]]]\n",
        "train_labels = torch.cat((torch.ones(train_positives_eval_outfits.shape[0]),\n",
        "                          torch.zeros(train_negatives_eval_outfits.shape[0])))\n",
        "eval_outfits = torch.cat((train_positives_eval_outfits,train_negatives_eval_outfits), dim=0)\n",
        "\n",
        "embd, o = model(x, message_passing_edges.to(device), eval_outfits.to(device))\n",
        "embd = embd.to(\"cpu\")\n",
        "o = o.to(\"cpu\")"
      ],
      "metadata": {
        "id": "6C6e5Ry51SYJ"
      },
      "execution_count": null,
      "outputs": []
    },
    {
      "cell_type": "code",
      "source": [
        "o[:].shape"
      ],
      "metadata": {
        "id": "lIqYbweh2JRK",
        "outputId": "45175820-6676-4c0a-adaf-a49701aaa52c",
        "colab": {
          "base_uri": "https://localhost:8080/"
        }
      },
      "execution_count": null,
      "outputs": [
        {
          "output_type": "execute_result",
          "data": {
            "text/plain": [
              "torch.Size([21322])"
            ]
          },
          "metadata": {},
          "execution_count": 38
        }
      ]
    },
    {
      "cell_type": "code",
      "source": [
        "plot_histogram(o[:train_positives_eval_outfits.shape[0]], \"Histogram of positive samples\")\n",
        "plot_histogram(o[train_negatives_eval_outfits.shape[0]:], \"Histogram of negative samples\")"
      ],
      "metadata": {
        "id": "TkTLFysv3f7t",
        "outputId": "3811c281-086d-48f6-a5fd-0acf3441e549",
        "colab": {
          "base_uri": "https://localhost:8080/",
          "height": 927
        }
      },
      "execution_count": null,
      "outputs": [
        {
          "output_type": "display_data",
          "data": {
            "text/plain": [
              "<Figure size 640x480 with 1 Axes>"
            ],
            "image/png": "[encoded data removed]"
          },
          "metadata": {}
        },
        {
          "output_type": "display_data",
          "data": {
            "text/plain": [
              "<Figure size 640x480 with 1 Axes>"
            ],
            "image/png": "[encoded data removed]"
          },
          "metadata": {}
        }
      ]
    },
    {
      "cell_type": "code",
      "source": [
        "import matplotlib.pyplot as plt"
      ],
      "metadata": {
        "id": "M04xUkPz6K7R"
      },
      "execution_count": null,
      "outputs": []
    },
    {
      "cell_type": "code",
      "source": [
        "plot_histogram(o[:train_positives_eval_outfits.shape[0]], \"Histogram of positive samples for last epoch model\")\n",
        "plot_histogram(o[train_negatives_eval_outfits.shape[0]:], \"Histogram of negative samples for last epoch model\")"
      ],
      "metadata": {
        "id": "ObkIXMUq6A_z",
        "outputId": "34f95cc3-48b9-4729-d1af-54d5402a6e5f",
        "colab": {
          "base_uri": "https://localhost:8080/",
          "height": 927
        }
      },
      "execution_count": null,
      "outputs": [
        {
          "output_type": "display_data",
          "data": {
            "text/plain": [
              "<Figure size 640x480 with 1 Axes>"
            ],
            "image/png": "[encoded data removed]"
          },
          "metadata": {}
        },
        {
          "output_type": "display_data",
          "data": {
            "text/plain": [
              "<Figure size 640x480 with 1 Axes>"
            ],
            "image/png": "[encoded data removed]"
          },
          "metadata": {}
        }
      ]
    },
    {
      "cell_type": "code",
      "source": [],
      "metadata": {
        "id": "1qzrlIFP3r_d"
      },
      "execution_count": null,
      "outputs": []
    },
    {
      "cell_type": "code",
      "source": [
        "negative_train_edge_index.shape"
      ],
      "metadata": {
        "id": "EUyYn7Jc2Mu-",
        "outputId": "fd167569-74c4-40ac-9427-77de93ea7707",
        "colab": {
          "base_uri": "https://localhost:8080/"
        }
      },
      "execution_count": null,
      "outputs": [
        {
          "output_type": "execute_result",
          "data": {
            "text/plain": [
              "torch.Size([53306, 2, 171])"
            ]
          },
          "metadata": {},
          "execution_count": 48
        }
      ]
    },
    {
      "cell_type": "code",
      "source": [
        "train_acc = test(model, x, message_passing_edges.to(device)\n",
        ", train_eval_outfits.to(device), train_labels.to(device))"
      ],
      "metadata": {
        "id": "2DsFYhIlW_Ei"
      },
      "execution_count": null,
      "outputs": []
    },
    {
      "cell_type": "code",
      "source": [],
      "metadata": {
        "id": "XHGFjH9PYIC6"
      },
      "execution_count": null,
      "outputs": []
    },
    {
      "cell_type": "code",
      "source": [
        "embd, o = model(x, test_message_passing_edges.to(device)\n",
        ", train_eval_outfits[14000:].to(device))\n",
        "\n",
        "embd = embd.cpu()\n",
        "o = o.cpu()\n",
        "\n"
      ],
      "metadata": {
        "id": "PFeB5XgYXCpn"
      },
      "execution_count": null,
      "outputs": []
    },
    {
      "cell_type": "code",
      "source": [
        "train_eval_outfits[14000:][18]"
      ],
      "metadata": {
        "id": "i-v-WsiAY_Re",
        "outputId": "e45ff51f-e68f-45ca-f8b0-e899c1a70396",
        "colab": {
          "base_uri": "https://localhost:8080/"
        }
      },
      "execution_count": null,
      "outputs": [
        {
          "output_type": "execute_result",
          "data": {
            "text/plain": [
              "tensor([[205458, 205458,  53235,  42435,  42435,  42435,     -1,     -1,     -1,\n",
              "             -1,     -1,     -1,     -1,     -1,     -1,     -1,     -1,     -1,\n",
              "             -1,     -1,     -1,     -1,     -1,     -1,     -1,     -1,     -1,\n",
              "             -1,     -1,     -1,     -1,     -1,     -1,     -1,     -1,     -1,\n",
              "             -1,     -1,     -1,     -1,     -1,     -1,     -1,     -1,     -1,\n",
              "             -1,     -1,     -1,     -1,     -1,     -1,     -1,     -1,     -1,\n",
              "             -1,     -1,     -1,     -1,     -1,     -1,     -1,     -1,     -1,\n",
              "             -1,     -1,     -1,     -1,     -1,     -1,     -1,     -1,     -1,\n",
              "             -1,     -1,     -1,     -1,     -1,     -1,     -1,     -1,     -1,\n",
              "             -1,     -1,     -1,     -1,     -1,     -1,     -1,     -1,     -1,\n",
              "             -1,     -1,     -1,     -1,     -1,     -1,     -1,     -1,     -1,\n",
              "             -1,     -1,     -1,     -1,     -1,     -1,     -1,     -1,     -1,\n",
              "             -1,     -1,     -1,     -1,     -1,     -1,     -1,     -1,     -1,\n",
              "             -1,     -1,     -1,     -1,     -1,     -1,     -1,     -1,     -1,\n",
              "             -1,     -1,     -1,     -1,     -1,     -1,     -1,     -1,     -1,\n",
              "             -1,     -1,     -1,     -1,     -1,     -1,     -1,     -1,     -1,\n",
              "             -1,     -1,     -1,     -1,     -1,     -1,     -1,     -1,     -1,\n",
              "             -1,     -1,     -1,     -1,     -1,     -1,     -1,     -1,     -1,\n",
              "             -1,     -1,     -1,     -1,     -1,     -1,     -1,     -1,     -1],\n",
              "        [ 53235,   9357,   9357, 205458,  53235,   9357,     -1,     -1,     -1,\n",
              "             -1,     -1,     -1,     -1,     -1,     -1,     -1,     -1,     -1,\n",
              "             -1,     -1,     -1,     -1,     -1,     -1,     -1,     -1,     -1,\n",
              "             -1,     -1,     -1,     -1,     -1,     -1,     -1,     -1,     -1,\n",
              "             -1,     -1,     -1,     -1,     -1,     -1,     -1,     -1,     -1,\n",
              "             -1,     -1,     -1,     -1,     -1,     -1,     -1,     -1,     -1,\n",
              "             -1,     -1,     -1,     -1,     -1,     -1,     -1,     -1,     -1,\n",
              "             -1,     -1,     -1,     -1,     -1,     -1,     -1,     -1,     -1,\n",
              "             -1,     -1,     -1,     -1,     -1,     -1,     -1,     -1,     -1,\n",
              "             -1,     -1,     -1,     -1,     -1,     -1,     -1,     -1,     -1,\n",
              "             -1,     -1,     -1,     -1,     -1,     -1,     -1,     -1,     -1,\n",
              "             -1,     -1,     -1,     -1,     -1,     -1,     -1,     -1,     -1,\n",
              "             -1,     -1,     -1,     -1,     -1,     -1,     -1,     -1,     -1,\n",
              "             -1,     -1,     -1,     -1,     -1,     -1,     -1,     -1,     -1,\n",
              "             -1,     -1,     -1,     -1,     -1,     -1,     -1,     -1,     -1,\n",
              "             -1,     -1,     -1,     -1,     -1,     -1,     -1,     -1,     -1,\n",
              "             -1,     -1,     -1,     -1,     -1,     -1,     -1,     -1,     -1,\n",
              "             -1,     -1,     -1,     -1,     -1,     -1,     -1,     -1,     -1,\n",
              "             -1,     -1,     -1,     -1,     -1,     -1,     -1,     -1,     -1]])"
            ]
          },
          "metadata": {},
          "execution_count": 79
        }
      ]
    },
    {
      "cell_type": "code",
      "source": [
        "items.loc[items['index'].isin([205458,  53235,  42435,9357])]"
      ],
      "metadata": {
        "id": "xXuFnYR1ZguC",
        "outputId": "e638108e-8bfb-4eda-a7b5-0371b0b046ca",
        "colab": {
          "base_uri": "https://localhost:8080/",
          "height": 507
        }
      },
      "execution_count": null,
      "outputs": [
        {
          "output_type": "execute_result",
          "data": {
            "text/plain": [
              "        Unnamed: 0   index         ID  \\\n",
              "9357          9357    9357  213438505   \n",
              "42435        42435   42435   35211694   \n",
              "53235        53235   53235  208070724   \n",
              "205458      205458  205458  153558426   \n",
              "\n",
              "                                                 url_name  \\\n",
              "9357                    fabulous in pink cluster earrings   \n",
              "42435   notte marchesa silk-chiffon silk-organza halte...   \n",
              "53235                       espadrilles with lacing 29.99   \n",
              "205458                   dolce gabbana sicily von crystal   \n",
              "\n",
              "                                              description  \\\n",
              "9357                                                  NaN   \n",
              "42435                                                 NaN   \n",
              "53235   Yellow. Satin sandals with an adjustable strap...   \n",
              "205458                                                NaN   \n",
              "\n",
              "                                     catgeories           title  \\\n",
              "9357                                        NaN             NaN   \n",
              "42435                                       NaN             NaN   \n",
              "53235   [\"Women's Fashion\", 'Shoes', 'Sandals']  Sandals $24.99   \n",
              "205458                                      NaN             NaN   \n",
              "\n",
              "                                                  related  category_id  \\\n",
              "9357                                                  NaN           11   \n",
              "42435                                                 NaN            1   \n",
              "53235   ['Flats sandals', 'Yellow sandals', 'Rubber so...            6   \n",
              "205458                                                NaN            5   \n",
              "\n",
              "       semantic_category  name_len  \n",
              "9357           jewellery        33  \n",
              "42435           all-body        51  \n",
              "53235              shoes        29  \n",
              "205458              bags        32  "
            ],
            "text/html": [
              "\n",
              "  <div id=\"df-f57496eb-171a-44bf-9465-727563b8b09e\" class=\"colab-df-container\">\n",
              "    <div>\n",
              "<style scoped>\n",
              "    .dataframe tbody tr th:only-of-type {\n",
              "        vertical-align: middle;\n",
              "    }\n",
              "\n",
              "    .dataframe tbody tr th {\n",
              "        vertical-align: top;\n",
              "    }\n",
              "\n",
              "    .dataframe thead th {\n",
              "        text-align: right;\n",
              "    }\n",
              "</style>\n",
              "<table border=\"1\" class=\"dataframe\">\n",
              "  <thead>\n",
              "    <tr style=\"text-align: right;\">\n",
              "      <th></th>\n",
              "      <th>Unnamed: 0</th>\n",
              "      <th>index</th>\n",
              "      <th>ID</th>\n",
              "      <th>url_name</th>\n",
              "      <th>description</th>\n",
              "      <th>catgeories</th>\n",
              "      <th>title</th>\n",
              "      <th>related</th>\n",
              "      <th>category_id</th>\n",
              "      <th>semantic_category</th>\n",
              "      <th>name_len</th>\n",
              "    </tr>\n",
              "  </thead>\n",
              "  <tbody>\n",
              "    <tr>\n",
              "      <th>9357</th>\n",
              "      <td>9357</td>\n",
              "      <td>9357</td>\n",
              "      <td>213438505</td>\n",
              "      <td>fabulous in pink cluster earrings</td>\n",
              "      <td>NaN</td>\n",
              "      <td>NaN</td>\n",
              "      <td>NaN</td>\n",
              "      <td>NaN</td>\n",
              "      <td>11</td>\n",
              "      <td>jewellery</td>\n",
              "      <td>33</td>\n",
              "    </tr>\n",
              "    <tr>\n",
              "      <th>42435</th>\n",
              "      <td>42435</td>\n",
              "      <td>42435</td>\n",
              "      <td>35211694</td>\n",
              "      <td>notte marchesa silk-chiffon silk-organza halte...</td>\n",
              "      <td>NaN</td>\n",
              "      <td>NaN</td>\n",
              "      <td>NaN</td>\n",
              "      <td>NaN</td>\n",
              "      <td>1</td>\n",
              "      <td>all-body</td>\n",
              "      <td>51</td>\n",
              "    </tr>\n",
              "    <tr>\n",
              "      <th>53235</th>\n",
              "      <td>53235</td>\n",
              "      <td>53235</td>\n",
              "      <td>208070724</td>\n",
              "      <td>espadrilles with lacing 29.99</td>\n",
              "      <td>Yellow. Satin sandals with an adjustable strap...</td>\n",
              "      <td>[\"Women's Fashion\", 'Shoes', 'Sandals']</td>\n",
              "      <td>Sandals $24.99</td>\n",
              "      <td>['Flats sandals', 'Yellow sandals', 'Rubber so...</td>\n",
              "      <td>6</td>\n",
              "      <td>shoes</td>\n",
              "      <td>29</td>\n",
              "    </tr>\n",
              "    <tr>\n",
              "      <th>205458</th>\n",
              "      <td>205458</td>\n",
              "      <td>205458</td>\n",
              "      <td>153558426</td>\n",
              "      <td>dolce gabbana sicily von crystal</td>\n",
              "      <td>NaN</td>\n",
              "      <td>NaN</td>\n",
              "      <td>NaN</td>\n",
              "      <td>NaN</td>\n",
              "      <td>5</td>\n",
              "      <td>bags</td>\n",
              "      <td>32</td>\n",
              "    </tr>\n",
              "  </tbody>\n",
              "</table>\n",
              "</div>\n",
              "    <div class=\"colab-df-buttons\">\n",
              "\n",
              "  <div class=\"colab-df-container\">\n",
              "    <button class=\"colab-df-convert\" onclick=\"convertToInteractive('df-f57496eb-171a-44bf-9465-727563b8b09e')\"\n",
              "            title=\"Convert this dataframe to an interactive table.\"\n",
              "            style=\"display:none;\">\n",
              "\n",
              "  <svg xmlns=\"http://www.w3.org/2000/svg\" height=\"24px\" viewBox=\"0 -960 960 960\">\n",
              "    <path d=\"M120-120v-720h720v720H120Zm60-500h600v-160H180v160Zm220 220h160v-160H400v160Zm0 220h160v-160H400v160ZM180-400h160v-160H180v160Zm440 0h160v-160H620v160ZM180-180h160v-160H180v160Zm440 0h160v-160H620v160Z\"/>\n",
              "  </svg>\n",
              "    </button>\n",
              "\n",
              "  <style>\n",
              "    .colab-df-container {\n",
              "      display:flex;\n",
              "      gap: 12px;\n",
              "    }\n",
              "\n",
              "    .colab-df-convert {\n",
              "      background-color: #E8F0FE;\n",
              "      border: none;\n",
              "      border-radius: 50%;\n",
              "      cursor: pointer;\n",
              "      display: none;\n",
              "      fill: #1967D2;\n",
              "      height: 32px;\n",
              "      padding: 0 0 0 0;\n",
              "      width: 32px;\n",
              "    }\n",
              "\n",
              "    .colab-df-convert:hover {\n",
              "      background-color: #E2EBFA;\n",
              "      box-shadow: 0px 1px 2px rgba(60, 64, 67, 0.3), 0px 1px 3px 1px rgba(60, 64, 67, 0.15);\n",
              "      fill: #174EA6;\n",
              "    }\n",
              "\n",
              "    .colab-df-buttons div {\n",
              "      margin-bottom: 4px;\n",
              "    }\n",
              "\n",
              "    [theme=dark] .colab-df-convert {\n",
              "      background-color: #3B4455;\n",
              "      fill: #D2E3FC;\n",
              "    }\n",
              "\n",
              "    [theme=dark] .colab-df-convert:hover {\n",
              "      background-color: #434B5C;\n",
              "      box-shadow: 0px 1px 3px 1px rgba(0, 0, 0, 0.15);\n",
              "      filter: drop-shadow(0px 1px 2px rgba(0, 0, 0, 0.3));\n",
              "      fill: #FFFFFF;\n",
              "    }\n",
              "  </style>\n",
              "\n",
              "    <script>\n",
              "      const buttonEl =\n",
              "        document.querySelector('#df-f57496eb-171a-44bf-9465-727563b8b09e button.colab-df-convert');\n",
              "      buttonEl.style.display =\n",
              "        google.colab.kernel.accessAllowed ? 'block' : 'none';\n",
              "\n",
              "      async function convertToInteractive(key) {\n",
              "        const element = document.querySelector('#df-f57496eb-171a-44bf-9465-727563b8b09e');\n",
              "        const dataTable =\n",
              "          await google.colab.kernel.invokeFunction('convertToInteractive',\n",
              "                                                    [key], {});\n",
              "        if (!dataTable) return;\n",
              "\n",
              "        const docLinkHtml = 'Like what you see? Visit the ' +\n",
              "          '<a target=\"_blank\" href=https://colab.research.google.com/notebooks/data_table.ipynb>data table notebook</a>'\n",
              "          + ' to learn more about interactive tables.';\n",
              "        element.innerHTML = '';\n",
              "        dataTable['output_type'] = 'display_data';\n",
              "        await google.colab.output.renderOutput(dataTable, element);\n",
              "        const docLink = document.createElement('div');\n",
              "        docLink.innerHTML = docLinkHtml;\n",
              "        element.appendChild(docLink);\n",
              "      }\n",
              "    </script>\n",
              "  </div>\n",
              "\n",
              "\n",
              "<div id=\"df-4e2cb269-4d95-4dcc-8709-33eb237e1d96\">\n",
              "  <button class=\"colab-df-quickchart\" onclick=\"quickchart('df-4e2cb269-4d95-4dcc-8709-33eb237e1d96')\"\n",
              "            title=\"Suggest charts\"\n",
              "            style=\"display:none;\">\n",
              "\n",
              "<svg xmlns=\"http://www.w3.org/2000/svg\" height=\"24px\"viewBox=\"0 0 24 24\"\n",
              "     width=\"24px\">\n",
              "    <g>\n",
              "        <path d=\"M19 3H5c-1.1 0-2 .9-2 2v14c0 1.1.9 2 2 2h14c1.1 0 2-.9 2-2V5c0-1.1-.9-2-2-2zM9 17H7v-7h2v7zm4 0h-2V7h2v10zm4 0h-2v-4h2v4z\"/>\n",
              "    </g>\n",
              "</svg>\n",
              "  </button>\n",
              "\n",
              "<style>\n",
              "  .colab-df-quickchart {\n",
              "      --bg-color: #E8F0FE;\n",
              "      --fill-color: #1967D2;\n",
              "      --hover-bg-color: #E2EBFA;\n",
              "      --hover-fill-color: #174EA6;\n",
              "      --disabled-fill-color: #AAA;\n",
              "      --disabled-bg-color: #DDD;\n",
              "  }\n",
              "\n",
              "  [theme=dark] .colab-df-quickchart {\n",
              "      --bg-color: #3B4455;\n",
              "      --fill-color: #D2E3FC;\n",
              "      --hover-bg-color: #434B5C;\n",
              "      --hover-fill-color: #FFFFFF;\n",
              "      --disabled-bg-color: #3B4455;\n",
              "      --disabled-fill-color: #666;\n",
              "  }\n",
              "\n",
              "  .colab-df-quickchart {\n",
              "    background-color: var(--bg-color);\n",
              "    border: none;\n",
              "    border-radius: 50%;\n",
              "    cursor: pointer;\n",
              "    display: none;\n",
              "    fill: var(--fill-color);\n",
              "    height: 32px;\n",
              "    padding: 0;\n",
              "    width: 32px;\n",
              "  }\n",
              "\n",
              "  .colab-df-quickchart:hover {\n",
              "    background-color: var(--hover-bg-color);\n",
              "    box-shadow: 0 1px 2px rgba(60, 64, 67, 0.3), 0 1px 3px 1px rgba(60, 64, 67, 0.15);\n",
              "    fill: var(--button-hover-fill-color);\n",
              "  }\n",
              "\n",
              "  .colab-df-quickchart-complete:disabled,\n",
              "  .colab-df-quickchart-complete:disabled:hover {\n",
              "    background-color: var(--disabled-bg-color);\n",
              "    fill: var(--disabled-fill-color);\n",
              "    box-shadow: none;\n",
              "  }\n",
              "\n",
              "  .colab-df-spinner {\n",
              "    border: 2px solid var(--fill-color);\n",
              "    border-color: transparent;\n",
              "    border-bottom-color: var(--fill-color);\n",
              "    animation:\n",
              "      spin 1s steps(1) infinite;\n",
              "  }\n",
              "\n",
              "  @keyframes spin {\n",
              "    0% {\n",
              "      border-color: transparent;\n",
              "      border-bottom-color: var(--fill-color);\n",
              "      border-left-color: var(--fill-color);\n",
              "    }\n",
              "    20% {\n",
              "      border-color: transparent;\n",
              "      border-left-color: var(--fill-color);\n",
              "      border-top-color: var(--fill-color);\n",
              "    }\n",
              "    30% {\n",
              "      border-color: transparent;\n",
              "      border-left-color: var(--fill-color);\n",
              "      border-top-color: var(--fill-color);\n",
              "      border-right-color: var(--fill-color);\n",
              "    }\n",
              "    40% {\n",
              "      border-color: transparent;\n",
              "      border-right-color: var(--fill-color);\n",
              "      border-top-color: var(--fill-color);\n",
              "    }\n",
              "    60% {\n",
              "      border-color: transparent;\n",
              "      border-right-color: var(--fill-color);\n",
              "    }\n",
              "    80% {\n",
              "      border-color: transparent;\n",
              "      border-right-color: var(--fill-color);\n",
              "      border-bottom-color: var(--fill-color);\n",
              "    }\n",
              "    90% {\n",
              "      border-color: transparent;\n",
              "      border-bottom-color: var(--fill-color);\n",
              "    }\n",
              "  }\n",
              "</style>\n",
              "\n",
              "  <script>\n",
              "    async function quickchart(key) {\n",
              "      const quickchartButtonEl =\n",
              "        document.querySelector('#' + key + ' button');\n",
              "      quickchartButtonEl.disabled = true;  // To prevent multiple clicks.\n",
              "      quickchartButtonEl.classList.add('colab-df-spinner');\n",
              "      try {\n",
              "        const charts = await google.colab.kernel.invokeFunction(\n",
              "            'suggestCharts', [key], {});\n",
              "      } catch (error) {\n",
              "        console.error('Error during call to suggestCharts:', error);\n",
              "      }\n",
              "      quickchartButtonEl.classList.remove('colab-df-spinner');\n",
              "      quickchartButtonEl.classList.add('colab-df-quickchart-complete');\n",
              "    }\n",
              "    (() => {\n",
              "      let quickchartButtonEl =\n",
              "        document.querySelector('#df-4e2cb269-4d95-4dcc-8709-33eb237e1d96 button');\n",
              "      quickchartButtonEl.style.display =\n",
              "        google.colab.kernel.accessAllowed ? 'block' : 'none';\n",
              "    })();\n",
              "  </script>\n",
              "</div>\n",
              "    </div>\n",
              "  </div>\n"
            ],
            "application/vnd.google.colaboratory.intrinsic+json": {
              "type": "dataframe",
              "summary": "{\n  \"name\": \"items\",\n  \"rows\": 4,\n  \"fields\": [\n    {\n      \"column\": \"Unnamed: 0\",\n      \"properties\": {\n        \"dtype\": \"number\",\n        \"std\": 87244,\n        \"min\": 9357,\n        \"max\": 205458,\n        \"num_unique_values\": 4,\n        \"samples\": [\n          42435,\n          205458,\n          9357\n        ],\n        \"semantic_type\": \"\",\n        \"description\": \"\"\n      }\n    },\n    {\n      \"column\": \"index\",\n      \"properties\": {\n        \"dtype\": \"number\",\n        \"std\": 87244,\n        \"min\": 9357,\n        \"max\": 205458,\n        \"num_unique_values\": 4,\n        \"samples\": [\n          42435,\n          205458,\n          9357\n        ],\n        \"semantic_type\": \"\",\n        \"description\": \"\"\n      }\n    },\n    {\n      \"column\": \"ID\",\n      \"properties\": {\n        \"dtype\": \"number\",\n        \"std\": 82783360,\n        \"min\": 35211694,\n        \"max\": 213438505,\n        \"num_unique_values\": 4,\n        \"samples\": [\n          35211694,\n          153558426,\n          213438505\n        ],\n        \"semantic_type\": \"\",\n        \"description\": \"\"\n      }\n    },\n    {\n      \"column\": \"url_name\",\n      \"properties\": {\n        \"dtype\": \"string\",\n        \"num_unique_values\": 4,\n        \"samples\": [\n          \"notte marchesa silk-chiffon silk-organza halterneck\",\n          \"dolce gabbana sicily von crystal\",\n          \"fabulous in pink cluster earrings\"\n        ],\n        \"semantic_type\": \"\",\n        \"description\": \"\"\n      }\n    },\n    {\n      \"column\": \"description\",\n      \"properties\": {\n        \"dtype\": \"category\",\n        \"num_unique_values\": 1,\n        \"samples\": [\n          \"Yellow. Satin sandals with an adjustable strap at heel. Faux leather lining and insoles. Rubber soles.\"\n        ],\n        \"semantic_type\": \"\",\n        \"description\": \"\"\n      }\n    },\n    {\n      \"column\": \"catgeories\",\n      \"properties\": {\n        \"dtype\": \"category\",\n        \"num_unique_values\": 1,\n        \"samples\": [\n          \"[\\\"Women's Fashion\\\", 'Shoes', 'Sandals']\"\n        ],\n        \"semantic_type\": \"\",\n        \"description\": \"\"\n      }\n    },\n    {\n      \"column\": \"title\",\n      \"properties\": {\n        \"dtype\": \"category\",\n        \"num_unique_values\": 1,\n        \"samples\": [\n          \"Sandals $24.99\"\n        ],\n        \"semantic_type\": \"\",\n        \"description\": \"\"\n      }\n    },\n    {\n      \"column\": \"related\",\n      \"properties\": {\n        \"dtype\": \"category\",\n        \"num_unique_values\": 1,\n        \"samples\": [\n          \"['Flats sandals', 'Yellow sandals', 'Rubber sole shoes', 'Satin shoes', 'Adjustable strap sandals', 'Flat heel sandals']\"\n        ],\n        \"semantic_type\": \"\",\n        \"description\": \"\"\n      }\n    },\n    {\n      \"column\": \"category_id\",\n      \"properties\": {\n        \"dtype\": \"number\",\n        \"std\": 4,\n        \"min\": 1,\n        \"max\": 11,\n        \"num_unique_values\": 4,\n        \"samples\": [\n          1\n        ],\n        \"semantic_type\": \"\",\n        \"description\": \"\"\n      }\n    },\n    {\n      \"column\": \"semantic_category\",\n      \"properties\": {\n        \"dtype\": \"string\",\n        \"num_unique_values\": 4,\n        \"samples\": [\n          \"all-body\"\n        ],\n        \"semantic_type\": \"\",\n        \"description\": \"\"\n      }\n    },\n    {\n      \"column\": \"name_len\",\n      \"properties\": {\n        \"dtype\": \"number\",\n        \"std\": 9,\n        \"min\": 29,\n        \"max\": 51,\n        \"num_unique_values\": 4,\n        \"samples\": [\n          51\n        ],\n        \"semantic_type\": \"\",\n        \"description\": \"\"\n      }\n    }\n  ]\n}"
            }
          },
          "metadata": {},
          "execution_count": 80
        }
      ]
    },
    {
      "cell_type": "code",
      "source": [
        "torch.argmin(o)"
      ],
      "metadata": {
        "id": "_ZnXHB_gXb8l",
        "outputId": "5e43aa83-ad4c-43d9-a4f9-32ca0cd4e8c6",
        "colab": {
          "base_uri": "https://localhost:8080/"
        }
      },
      "execution_count": null,
      "outputs": [
        {
          "output_type": "execute_result",
          "data": {
            "text/plain": [
              "tensor(3439)"
            ]
          },
          "metadata": {},
          "execution_count": 63
        }
      ]
    },
    {
      "cell_type": "code",
      "source": [
        "torch.argmax(o)"
      ],
      "metadata": {
        "id": "RMbRHTP6ZG5W",
        "outputId": "1c7331a2-0b32-4bc0-9336-1c4c9a52ec9e",
        "colab": {
          "base_uri": "https://localhost:8080/"
        }
      },
      "execution_count": null,
      "outputs": [
        {
          "output_type": "execute_result",
          "data": {
            "text/plain": [
              "tensor(7257)"
            ]
          },
          "metadata": {},
          "execution_count": 69
        }
      ]
    },
    {
      "cell_type": "code",
      "source": [
        "indices = (o > 0.8).nonzero(as_tuple=True)\n",
        "indices"
      ],
      "metadata": {
        "id": "T_oH9XUDbXy8",
        "outputId": "30075326-f88d-4069-e6d6-e97c1608b842",
        "colab": {
          "base_uri": "https://localhost:8080/"
        }
      },
      "execution_count": null,
      "outputs": [
        {
          "output_type": "execute_result",
          "data": {
            "text/plain": [
              "(tensor([  18,  132,  159,  259,  439,  513,  711,  796, 1006, 1008, 1347, 1401,\n",
              "         1462, 1580, 1594, 1630, 1647, 1692, 1772, 1790, 1825, 1841, 1905, 2251,\n",
              "         2558, 2564, 2727, 2854, 3030, 3210, 3472, 3551, 3873, 4045, 4159, 4199,\n",
              "         4279, 4412, 4535, 4649, 5113, 5183, 5217, 5224, 5333, 5385, 5436, 5480,\n",
              "         5538, 5794, 5858, 5886, 5900, 5924, 6022, 6092, 6146, 6390, 6449, 6495,\n",
              "         6498, 6562, 6634, 6776, 7019, 7092, 7257, 7272, 7309]),)"
            ]
          },
          "metadata": {},
          "execution_count": 84
        }
      ]
    },
    {
      "cell_type": "code",
      "source": [
        "o.shape, (o[o<0.5]).shape"
      ],
      "metadata": {
        "id": "rnkKlqP-aLM7",
        "outputId": "69dc1c47-daf6-4f73-e24b-dea934a979a0",
        "colab": {
          "base_uri": "https://localhost:8080/"
        }
      },
      "execution_count": null,
      "outputs": [
        {
          "output_type": "execute_result",
          "data": {
            "text/plain": [
              "(torch.Size([7322]), torch.Size([3653]))"
            ]
          },
          "metadata": {},
          "execution_count": 83
        }
      ]
    },
    {
      "cell_type": "code",
      "source": [
        "train_eval_outfits.shape"
      ],
      "metadata": {
        "id": "X3sADvHQXkfC",
        "outputId": "3a8125e8-df4d-4067-f7d0-14e7f05a25ef",
        "colab": {
          "base_uri": "https://localhost:8080/"
        }
      },
      "execution_count": null,
      "outputs": [
        {
          "output_type": "execute_result",
          "data": {
            "text/plain": [
              "torch.Size([21322, 2, 171])"
            ]
          },
          "metadata": {},
          "execution_count": 42
        }
      ]
    },
    {
      "cell_type": "code",
      "source": [
        "node_embeddigns, o = best_model(x, test_message_passing_edges.to(device), test_eval_outfits.to(device))\n",
        "\n",
        "o.shape"
      ],
      "metadata": {
        "colab": {
          "base_uri": "https://localhost:8080/",
          "height": 388
        },
        "id": "MKP9dC22HIuM",
        "outputId": "c78b628a-84d6-47c3-8347-d78ab02035e1"
      },
      "execution_count": null,
      "outputs": [
        {
          "output_type": "error",
          "ename": "OutOfMemoryError",
          "evalue": "CUDA out of memory. Tried to allocate 2.60 GiB. GPU 0 has a total capacity of 14.74 GiB of which 1.51 GiB is free. Process 69290 has 13.23 GiB memory in use. Of the allocated memory 11.11 GiB is allocated by PyTorch, and 1.99 GiB is reserved by PyTorch but unallocated. If reserved but unallocated memory is large try setting PYTORCH_CUDA_ALLOC_CONF=expandable_segments:True to avoid fragmentation.  See documentation for Memory Management  (https://pytorch.org/docs/stable/notes/cuda.html#environment-variables)",
          "traceback": [
            "\u001b[0;31m---------------------------------------------------------------------------\u001b[0m",
            "\u001b[0;31mOutOfMemoryError\u001b[0m                          Traceback (most recent call last)",
            "\u001b[0;32m<ipython-input-140-45450555bb49>\u001b[0m in \u001b[0;36m<cell line: 0>\u001b[0;34m()\u001b[0m\n\u001b[0;32m----> 1\u001b[0;31m \u001b[0mnode_embeddigns\u001b[0m\u001b[0;34m,\u001b[0m \u001b[0mo\u001b[0m \u001b[0;34m=\u001b[0m \u001b[0mbest_model\u001b[0m\u001b[0;34m(\u001b[0m\u001b[0mx\u001b[0m\u001b[0;34m,\u001b[0m \u001b[0mtest_message_passing_edges\u001b[0m\u001b[0;34m.\u001b[0m\u001b[0mto\u001b[0m\u001b[0;34m(\u001b[0m\u001b[0mdevice\u001b[0m\u001b[0;34m)\u001b[0m\u001b[0;34m,\u001b[0m \u001b[0mtest_eval_outfits\u001b[0m\u001b[0;34m.\u001b[0m\u001b[0mto\u001b[0m\u001b[0;34m(\u001b[0m\u001b[0mdevice\u001b[0m\u001b[0;34m)\u001b[0m\u001b[0;34m)\u001b[0m\u001b[0;34m\u001b[0m\u001b[0;34m\u001b[0m\u001b[0m\n\u001b[0m\u001b[1;32m      2\u001b[0m \u001b[0;34m\u001b[0m\u001b[0m\n\u001b[1;32m      3\u001b[0m \u001b[0mo\u001b[0m\u001b[0;34m.\u001b[0m\u001b[0mshape\u001b[0m\u001b[0;34m\u001b[0m\u001b[0;34m\u001b[0m\u001b[0m\n",
            "\u001b[0;32m/usr/local/lib/python3.11/dist-packages/torch/nn/modules/module.py\u001b[0m in \u001b[0;36m_wrapped_call_impl\u001b[0;34m(self, *args, **kwargs)\u001b[0m\n\u001b[1;32m   1737\u001b[0m             \u001b[0;32mreturn\u001b[0m \u001b[0mself\u001b[0m\u001b[0;34m.\u001b[0m\u001b[0m_compiled_call_impl\u001b[0m\u001b[0;34m(\u001b[0m\u001b[0;34m*\u001b[0m\u001b[0margs\u001b[0m\u001b[0;34m,\u001b[0m \u001b[0;34m**\u001b[0m\u001b[0mkwargs\u001b[0m\u001b[0;34m)\u001b[0m  \u001b[0;31m# type: ignore[misc]\u001b[0m\u001b[0;34m\u001b[0m\u001b[0;34m\u001b[0m\u001b[0m\n\u001b[1;32m   1738\u001b[0m         \u001b[0;32melse\u001b[0m\u001b[0;34m:\u001b[0m\u001b[0;34m\u001b[0m\u001b[0;34m\u001b[0m\u001b[0m\n\u001b[0;32m-> 1739\u001b[0;31m             \u001b[0;32mreturn\u001b[0m \u001b[0mself\u001b[0m\u001b[0;34m.\u001b[0m\u001b[0m_call_impl\u001b[0m\u001b[0;34m(\u001b[0m\u001b[0;34m*\u001b[0m\u001b[0margs\u001b[0m\u001b[0;34m,\u001b[0m \u001b[0;34m**\u001b[0m\u001b[0mkwargs\u001b[0m\u001b[0;34m)\u001b[0m\u001b[0;34m\u001b[0m\u001b[0;34m\u001b[0m\u001b[0m\n\u001b[0m\u001b[1;32m   1740\u001b[0m \u001b[0;34m\u001b[0m\u001b[0m\n\u001b[1;32m   1741\u001b[0m     \u001b[0;31m# torchrec tests the code consistency with the following code\u001b[0m\u001b[0;34m\u001b[0m\u001b[0;34m\u001b[0m\u001b[0m\n",
            "\u001b[0;32m/usr/local/lib/python3.11/dist-packages/torch/nn/modules/module.py\u001b[0m in \u001b[0;36m_call_impl\u001b[0;34m(self, *args, **kwargs)\u001b[0m\n\u001b[1;32m   1748\u001b[0m                 \u001b[0;32mor\u001b[0m \u001b[0m_global_backward_pre_hooks\u001b[0m \u001b[0;32mor\u001b[0m \u001b[0m_global_backward_hooks\u001b[0m\u001b[0;34m\u001b[0m\u001b[0;34m\u001b[0m\u001b[0m\n\u001b[1;32m   1749\u001b[0m                 or _global_forward_hooks or _global_forward_pre_hooks):\n\u001b[0;32m-> 1750\u001b[0;31m             \u001b[0;32mreturn\u001b[0m \u001b[0mforward_call\u001b[0m\u001b[0;34m(\u001b[0m\u001b[0;34m*\u001b[0m\u001b[0margs\u001b[0m\u001b[0;34m,\u001b[0m \u001b[0;34m**\u001b[0m\u001b[0mkwargs\u001b[0m\u001b[0;34m)\u001b[0m\u001b[0;34m\u001b[0m\u001b[0;34m\u001b[0m\u001b[0m\n\u001b[0m\u001b[1;32m   1751\u001b[0m \u001b[0;34m\u001b[0m\u001b[0m\n\u001b[1;32m   1752\u001b[0m         \u001b[0mresult\u001b[0m \u001b[0;34m=\u001b[0m \u001b[0;32mNone\u001b[0m\u001b[0;34m\u001b[0m\u001b[0;34m\u001b[0m\u001b[0m\n",
            "\u001b[0;32m<ipython-input-94-5f0be87ef649>\u001b[0m in \u001b[0;36mforward\u001b[0;34m(self, x, edge_index, outfits)\u001b[0m\n\u001b[1;32m     39\u001b[0m     \u001b[0mx\u001b[0m \u001b[0;34m=\u001b[0m \u001b[0mself\u001b[0m\u001b[0;34m.\u001b[0m\u001b[0mconvs\u001b[0m\u001b[0;34m[\u001b[0m\u001b[0;34m-\u001b[0m\u001b[0;36m1\u001b[0m\u001b[0;34m]\u001b[0m\u001b[0;34m(\u001b[0m\u001b[0mx\u001b[0m\u001b[0;34m,\u001b[0m\u001b[0medge_index\u001b[0m\u001b[0;34m)\u001b[0m\u001b[0;34m\u001b[0m\u001b[0;34m\u001b[0m\u001b[0m\n\u001b[1;32m     40\u001b[0m \u001b[0;34m\u001b[0m\u001b[0m\n\u001b[0;32m---> 41\u001b[0;31m     \u001b[0mo\u001b[0m \u001b[0;34m=\u001b[0m \u001b[0mget_node_embedding_with_mask_meaningless_edge_index_elements\u001b[0m\u001b[0;34m(\u001b[0m\u001b[0mx\u001b[0m\u001b[0;34m,\u001b[0m\u001b[0moutfits\u001b[0m\u001b[0;34m)\u001b[0m\u001b[0;34m\u001b[0m\u001b[0;34m\u001b[0m\u001b[0m\n\u001b[0m\u001b[1;32m     42\u001b[0m     \u001b[0;31m# the output will be in the shape of (|O|, 2, |Maximum combination of garments in the outfits in dataset|)\u001b[0m\u001b[0;34m\u001b[0m\u001b[0;34m\u001b[0m\u001b[0m\n\u001b[1;32m     43\u001b[0m     \u001b[0mo\u001b[0m \u001b[0;34m=\u001b[0m \u001b[0;34m(\u001b[0m\u001b[0mo\u001b[0m\u001b[0;34m[\u001b[0m\u001b[0;34m:\u001b[0m\u001b[0;34m,\u001b[0m\u001b[0;36m0\u001b[0m\u001b[0;34m,\u001b[0m\u001b[0;34m:\u001b[0m\u001b[0;34m]\u001b[0m \u001b[0;34m*\u001b[0m \u001b[0mo\u001b[0m\u001b[0;34m[\u001b[0m\u001b[0;34m:\u001b[0m\u001b[0;34m,\u001b[0m\u001b[0;36m1\u001b[0m\u001b[0;34m,\u001b[0m\u001b[0;34m:\u001b[0m\u001b[0;34m]\u001b[0m\u001b[0;34m)\u001b[0m\u001b[0;34m.\u001b[0m\u001b[0msum\u001b[0m\u001b[0;34m(\u001b[0m\u001b[0mdim\u001b[0m\u001b[0;34m=\u001b[0m\u001b[0;34m(\u001b[0m\u001b[0;34m-\u001b[0m\u001b[0;36m1\u001b[0m\u001b[0;34m,\u001b[0m\u001b[0;34m-\u001b[0m\u001b[0;36m2\u001b[0m\u001b[0;34m)\u001b[0m\u001b[0;34m)\u001b[0m \u001b[0;34m/\u001b[0m \u001b[0;34m(\u001b[0m\u001b[0moutfits\u001b[0m\u001b[0;34m[\u001b[0m\u001b[0;34m:\u001b[0m\u001b[0;34m,\u001b[0m\u001b[0;34m:\u001b[0m\u001b[0;36m1\u001b[0m\u001b[0;34m,\u001b[0m\u001b[0;34m:\u001b[0m\u001b[0;34m]\u001b[0m\u001b[0;34m>=\u001b[0m\u001b[0;36m0\u001b[0m\u001b[0;34m)\u001b[0m\u001b[0;34m.\u001b[0m\u001b[0mfloat\u001b[0m\u001b[0;34m(\u001b[0m\u001b[0;34m)\u001b[0m\u001b[0;34m.\u001b[0m\u001b[0msum\u001b[0m\u001b[0;34m(\u001b[0m\u001b[0mdim\u001b[0m\u001b[0;34m=\u001b[0m\u001b[0;34m(\u001b[0m\u001b[0;34m-\u001b[0m\u001b[0;36m1\u001b[0m\u001b[0;34m,\u001b[0m\u001b[0;34m-\u001b[0m\u001b[0;36m2\u001b[0m\u001b[0;34m)\u001b[0m\u001b[0;34m)\u001b[0m\u001b[0;34m\u001b[0m\u001b[0;34m\u001b[0m\u001b[0m\n",
            "\u001b[0;32m<ipython-input-12-31fb264f63c0>\u001b[0m in \u001b[0;36mget_node_embedding_with_mask_meaningless_edge_index_elements\u001b[0;34m(x, edge_index)\u001b[0m\n\u001b[1;32m      1\u001b[0m \u001b[0;32mdef\u001b[0m \u001b[0mget_node_embedding_with_mask_meaningless_edge_index_elements\u001b[0m\u001b[0;34m(\u001b[0m\u001b[0mx\u001b[0m\u001b[0;34m,\u001b[0m \u001b[0medge_index\u001b[0m\u001b[0;34m)\u001b[0m\u001b[0;34m:\u001b[0m\u001b[0;34m\u001b[0m\u001b[0;34m\u001b[0m\u001b[0m\n\u001b[1;32m      2\u001b[0m   \u001b[0mmask\u001b[0m \u001b[0;34m=\u001b[0m \u001b[0mtorch\u001b[0m\u001b[0;34m.\u001b[0m\u001b[0mwhere\u001b[0m\u001b[0;34m(\u001b[0m\u001b[0medge_index\u001b[0m\u001b[0;34m==\u001b[0m\u001b[0;34m-\u001b[0m\u001b[0;36m1\u001b[0m\u001b[0;34m,\u001b[0m \u001b[0mtorch\u001b[0m\u001b[0;34m.\u001b[0m\u001b[0mtensor\u001b[0m\u001b[0;34m(\u001b[0m\u001b[0;36m0\u001b[0m\u001b[0;34m)\u001b[0m\u001b[0;34m,\u001b[0m \u001b[0mtorch\u001b[0m\u001b[0;34m.\u001b[0m\u001b[0mtensor\u001b[0m\u001b[0;34m(\u001b[0m\u001b[0;36m1\u001b[0m\u001b[0;34m)\u001b[0m\u001b[0;34m)\u001b[0m\u001b[0;34m.\u001b[0m\u001b[0munsqueeze\u001b[0m\u001b[0;34m(\u001b[0m\u001b[0;34m-\u001b[0m\u001b[0;36m1\u001b[0m\u001b[0;34m)\u001b[0m\u001b[0;34m\u001b[0m\u001b[0;34m\u001b[0m\u001b[0m\n\u001b[0;32m----> 3\u001b[0;31m   \u001b[0mr\u001b[0m \u001b[0;34m=\u001b[0m \u001b[0mx\u001b[0m\u001b[0;34m[\u001b[0m\u001b[0medge_index\u001b[0m\u001b[0;34m]\u001b[0m \u001b[0;34m*\u001b[0m \u001b[0mmask\u001b[0m\u001b[0;34m\u001b[0m\u001b[0;34m\u001b[0m\u001b[0m\n\u001b[0m\u001b[1;32m      4\u001b[0m   \u001b[0;32mreturn\u001b[0m \u001b[0mr\u001b[0m\u001b[0;34m\u001b[0m\u001b[0;34m\u001b[0m\u001b[0m\n",
            "\u001b[0;31mOutOfMemoryError\u001b[0m: CUDA out of memory. Tried to allocate 2.60 GiB. GPU 0 has a total capacity of 14.74 GiB of which 1.51 GiB is free. Process 69290 has 13.23 GiB memory in use. Of the allocated memory 11.11 GiB is allocated by PyTorch, and 1.99 GiB is reserved by PyTorch but unallocated. If reserved but unallocated memory is large try setting PYTORCH_CUDA_ALLOC_CONF=expandable_segments:True to avoid fragmentation.  See documentation for Memory Management  (https://pytorch.org/docs/stable/notes/cuda.html#environment-variables)"
          ]
        }
      ]
    },
    {
      "cell_type": "code",
      "source": [
        "import gc\n",
        "\n",
        "gc.collect()\n",
        "torch.cuda.empty_cache()"
      ],
      "metadata": {
        "id": "mwsfnVNxSZNX"
      },
      "execution_count": null,
      "outputs": []
    },
    {
      "cell_type": "code",
      "source": [
        "\n",
        "plt.title(\"StyleMind\")\n",
        "plt.plot(losses[3:], label=\"training loss\" + \" - \" + \"StyleMind-GCN\")\n",
        "plt.plot(test_accs[3:], label=\"test accuracy\" + \" - \" + \"StyleMind-GCN\")\n",
        "plt.legend()\n",
        "plt.show()\n"
      ],
      "metadata": {
        "colab": {
          "base_uri": "https://localhost:8080/",
          "height": 452
        },
        "id": "No16L9nr1swB",
        "outputId": "606a9271-783b-46bb-ef5a-856bc85e5c39"
      },
      "execution_count": null,
      "outputs": [
        {
          "output_type": "display_data",
          "data": {
            "text/plain": [
              "<Figure size 640x480 with 1 Axes>"
            ],
            "image/png": "[encoded data removed]"
          },
          "metadata": {}
        }
      ]
    },
    {
      "cell_type": "code",
      "source": [
        "mlp_model = StyleMindGCN(in_channels, hidden_channels\n",
        "                     ,out_channels, number_of_layers,\"MLP\", dropout).to(device)"
      ],
      "metadata": {
        "id": "TqbjdQXdI5Ww"
      },
      "execution_count": null,
      "outputs": []
    },
    {
      "cell_type": "code",
      "source": [
        "mlp_model.reset_parameters()\n",
        "\n",
        "losses = []\n",
        "test_accs = []\n",
        "\n",
        "best_test_acc = 0\n",
        "best_mlp_model = None\n",
        "\n",
        "optimizer = optim.Adam(mlp_model.parameters(), lr)\n",
        "loss_fn = nn.BCELoss()\n",
        "\n",
        "x = x.to(device)\n",
        "for epoch in range(NUM_EPOCHS):\n",
        "\n",
        "    train_positives_eval_outfits, message_passing_edges = split_train_data(train_edge_index, 5)\n",
        "    train_negatives_eval_outfits = negative_train_edge_index[torch.randperm(negative_train_edge_index.shape[0])[:train_positives_eval_outfits.shape[0]]]\n",
        "    train_labels = torch.cat((torch.ones(train_positives_eval_outfits.shape[0]),\n",
        "                              torch.zeros(train_negatives_eval_outfits.shape[0])))\n",
        "    train_eval_outfits = torch.cat((train_positives_eval_outfits, train_negatives_eval_outfits), dim=0)\n",
        "    train_loss = train(mlp_model, x, message_passing_edges.to(device)\n",
        "    , train_eval_outfits.to(device), train_labels.to(device),\n",
        "                       loss_fn=loss_fn, optimizer=optimizer)\n",
        "    train_acc = test(mlp_model, x, message_passing_edges.to(device)\n",
        "    , train_eval_outfits.to(device), train_labels.to(device))\n",
        "\n",
        "\n",
        "    valid_message_passing_edges = torch.cat((concat_edge_indices(train_positives_eval_outfits)\n",
        "    , message_passing_edges), dim=-1)\n",
        "    valid_labels = torch.cat((torch.ones(valid_edge_index.shape[0]),\n",
        "                              torch.zeros(valid_negative_samples.shape[0])))\n",
        "    valid_eval_outfits = torch.cat((valid_edge_index, valid_negative_samples), dim=0)\n",
        "    valid_acc = test(mlp_model, x, valid_message_passing_edges.to(device)\n",
        "    , valid_eval_outfits.to(device), valid_labels.to(device))\n",
        "\n",
        "\n",
        "\n",
        "    test_message_passing_edges = torch.cat((concat_edge_indices(valid_edge_index)\n",
        "    , valid_message_passing_edges), dim=-1)\n",
        "    test_labels = torch.cat((torch.ones(test_edge_index.shape[0]),\n",
        "                              torch.zeros(test_negative_samples.shape[0])))\n",
        "    test_eval_outfits = torch.cat((test_edge_index, test_negative_samples), dim=0)\n",
        "    test_acc = test(mlp_model, x, test_message_passing_edges.to(device)\n",
        "    , test_eval_outfits.to(device), test_labels.to(device))\n",
        "\n",
        "    if(test_acc > best_test_acc):\n",
        "        best_test_acc = test_acc\n",
        "        best_mlp_model = copy.deepcopy(mlp_model)\n",
        "\n",
        "    losses.append(train_loss)\n",
        "    test_accs.append(test_acc)\n",
        "    print(f'Epoch: {epoch:02d}, '\n",
        "          f'Loss: {train_loss:.4f}, '\n",
        "          f'Train: {100 * train_acc:.2f}%, '\n",
        "          f'Valid: {100 * valid_acc:.2f}% '\n",
        "          f'Test: {100 * test_acc:.2f}%')\n"
      ],
      "metadata": {
        "colab": {
          "base_uri": "https://localhost:8080/",
          "height": 370
        },
        "id": "wwSwyILyJDNQ",
        "outputId": "8e0b15f1-5590-4654-ef06-8e65db5f4337"
      },
      "execution_count": null,
      "outputs": [
        {
          "output_type": "error",
          "ename": "TypeError",
          "evalue": "Linear.forward() takes 2 positional arguments but 3 were given",
          "traceback": [
            "\u001b[0;31m---------------------------------------------------------------------------\u001b[0m",
            "\u001b[0;31mTypeError\u001b[0m                                 Traceback (most recent call last)",
            "\u001b[0;32m<ipython-input-58-4222ef10bed9>\u001b[0m in \u001b[0;36m<cell line: 0>\u001b[0;34m()\u001b[0m\n\u001b[1;32m     18\u001b[0m                               torch.zeros(train_negatives_eval_outfits.shape[0])))\n\u001b[1;32m     19\u001b[0m     \u001b[0mtrain_eval_outfits\u001b[0m \u001b[0;34m=\u001b[0m \u001b[0mtorch\u001b[0m\u001b[0;34m.\u001b[0m\u001b[0mcat\u001b[0m\u001b[0;34m(\u001b[0m\u001b[0;34m(\u001b[0m\u001b[0mtrain_positives_eval_outfits\u001b[0m\u001b[0;34m,\u001b[0m \u001b[0mtrain_negatives_eval_outfits\u001b[0m\u001b[0;34m)\u001b[0m\u001b[0;34m,\u001b[0m \u001b[0mdim\u001b[0m\u001b[0;34m=\u001b[0m\u001b[0;36m0\u001b[0m\u001b[0;34m)\u001b[0m\u001b[0;34m\u001b[0m\u001b[0;34m\u001b[0m\u001b[0m\n\u001b[0;32m---> 20\u001b[0;31m     train_loss = train(mlp_model, x, message_passing_edges.to(device)\n\u001b[0m\u001b[1;32m     21\u001b[0m     \u001b[0;34m,\u001b[0m \u001b[0mtrain_eval_outfits\u001b[0m\u001b[0;34m.\u001b[0m\u001b[0mto\u001b[0m\u001b[0;34m(\u001b[0m\u001b[0mdevice\u001b[0m\u001b[0;34m)\u001b[0m\u001b[0;34m,\u001b[0m \u001b[0mtrain_labels\u001b[0m\u001b[0;34m.\u001b[0m\u001b[0mto\u001b[0m\u001b[0;34m(\u001b[0m\u001b[0mdevice\u001b[0m\u001b[0;34m)\u001b[0m\u001b[0;34m,\u001b[0m\u001b[0;34m\u001b[0m\u001b[0;34m\u001b[0m\u001b[0m\n\u001b[1;32m     22\u001b[0m                        loss_fn=loss_fn, optimizer=optimizer)\n",
            "\u001b[0;32m<ipython-input-19-e0f101cbd21b>\u001b[0m in \u001b[0;36mtrain\u001b[0;34m(model, x, edge_index, outfits, labels, optimizer, loss_fn)\u001b[0m\n\u001b[1;32m      2\u001b[0m   \u001b[0mmodel\u001b[0m\u001b[0;34m.\u001b[0m\u001b[0mtrain\u001b[0m\u001b[0;34m(\u001b[0m\u001b[0;34m)\u001b[0m\u001b[0;34m\u001b[0m\u001b[0;34m\u001b[0m\u001b[0m\n\u001b[1;32m      3\u001b[0m   \u001b[0moptimizer\u001b[0m\u001b[0;34m.\u001b[0m\u001b[0mzero_grad\u001b[0m\u001b[0;34m(\u001b[0m\u001b[0;34m)\u001b[0m\u001b[0;34m\u001b[0m\u001b[0;34m\u001b[0m\u001b[0m\n\u001b[0;32m----> 4\u001b[0;31m   \u001b[0membds\u001b[0m\u001b[0;34m,\u001b[0m\u001b[0mo\u001b[0m \u001b[0;34m=\u001b[0m \u001b[0mmodel\u001b[0m\u001b[0;34m(\u001b[0m\u001b[0mx\u001b[0m\u001b[0;34m,\u001b[0m \u001b[0medge_index\u001b[0m\u001b[0;34m,\u001b[0m \u001b[0moutfits\u001b[0m\u001b[0;34m)\u001b[0m\u001b[0;34m\u001b[0m\u001b[0;34m\u001b[0m\u001b[0m\n\u001b[0m\u001b[1;32m      5\u001b[0m \u001b[0;34m\u001b[0m\u001b[0m\n\u001b[1;32m      6\u001b[0m   \u001b[0mloss\u001b[0m \u001b[0;34m=\u001b[0m \u001b[0mloss_fn\u001b[0m\u001b[0;34m(\u001b[0m\u001b[0mo\u001b[0m\u001b[0;34m,\u001b[0m \u001b[0mlabels\u001b[0m\u001b[0;34m)\u001b[0m\u001b[0;34m\u001b[0m\u001b[0;34m\u001b[0m\u001b[0m\n",
            "\u001b[0;32m/usr/local/lib/python3.11/dist-packages/torch/nn/modules/module.py\u001b[0m in \u001b[0;36m_wrapped_call_impl\u001b[0;34m(self, *args, **kwargs)\u001b[0m\n\u001b[1;32m   1737\u001b[0m             \u001b[0;32mreturn\u001b[0m \u001b[0mself\u001b[0m\u001b[0;34m.\u001b[0m\u001b[0m_compiled_call_impl\u001b[0m\u001b[0;34m(\u001b[0m\u001b[0;34m*\u001b[0m\u001b[0margs\u001b[0m\u001b[0;34m,\u001b[0m \u001b[0;34m**\u001b[0m\u001b[0mkwargs\u001b[0m\u001b[0;34m)\u001b[0m  \u001b[0;31m# type: ignore[misc]\u001b[0m\u001b[0;34m\u001b[0m\u001b[0;34m\u001b[0m\u001b[0m\n\u001b[1;32m   1738\u001b[0m         \u001b[0;32melse\u001b[0m\u001b[0;34m:\u001b[0m\u001b[0;34m\u001b[0m\u001b[0;34m\u001b[0m\u001b[0m\n\u001b[0;32m-> 1739\u001b[0;31m             \u001b[0;32mreturn\u001b[0m \u001b[0mself\u001b[0m\u001b[0;34m.\u001b[0m\u001b[0m_call_impl\u001b[0m\u001b[0;34m(\u001b[0m\u001b[0;34m*\u001b[0m\u001b[0margs\u001b[0m\u001b[0;34m,\u001b[0m \u001b[0;34m**\u001b[0m\u001b[0mkwargs\u001b[0m\u001b[0;34m)\u001b[0m\u001b[0;34m\u001b[0m\u001b[0;34m\u001b[0m\u001b[0m\n\u001b[0m\u001b[1;32m   1740\u001b[0m \u001b[0;34m\u001b[0m\u001b[0m\n\u001b[1;32m   1741\u001b[0m     \u001b[0;31m# torchrec tests the code consistency with the following code\u001b[0m\u001b[0;34m\u001b[0m\u001b[0;34m\u001b[0m\u001b[0m\n",
            "\u001b[0;32m/usr/local/lib/python3.11/dist-packages/torch/nn/modules/module.py\u001b[0m in \u001b[0;36m_call_impl\u001b[0;34m(self, *args, **kwargs)\u001b[0m\n\u001b[1;32m   1748\u001b[0m                 \u001b[0;32mor\u001b[0m \u001b[0m_global_backward_pre_hooks\u001b[0m \u001b[0;32mor\u001b[0m \u001b[0m_global_backward_hooks\u001b[0m\u001b[0;34m\u001b[0m\u001b[0;34m\u001b[0m\u001b[0m\n\u001b[1;32m   1749\u001b[0m                 or _global_forward_hooks or _global_forward_pre_hooks):\n\u001b[0;32m-> 1750\u001b[0;31m             \u001b[0;32mreturn\u001b[0m \u001b[0mforward_call\u001b[0m\u001b[0;34m(\u001b[0m\u001b[0;34m*\u001b[0m\u001b[0margs\u001b[0m\u001b[0;34m,\u001b[0m \u001b[0;34m**\u001b[0m\u001b[0mkwargs\u001b[0m\u001b[0;34m)\u001b[0m\u001b[0;34m\u001b[0m\u001b[0;34m\u001b[0m\u001b[0m\n\u001b[0m\u001b[1;32m   1751\u001b[0m \u001b[0;34m\u001b[0m\u001b[0m\n\u001b[1;32m   1752\u001b[0m         \u001b[0mresult\u001b[0m \u001b[0;34m=\u001b[0m \u001b[0;32mNone\u001b[0m\u001b[0;34m\u001b[0m\u001b[0;34m\u001b[0m\u001b[0m\n",
            "\u001b[0;32m<ipython-input-23-047233aefab8>\u001b[0m in \u001b[0;36mforward\u001b[0;34m(self, x, edge_index, outfits)\u001b[0m\n\u001b[1;32m     31\u001b[0m \u001b[0;34m\u001b[0m\u001b[0m\n\u001b[1;32m     32\u001b[0m     \u001b[0;32mfor\u001b[0m \u001b[0mconv\u001b[0m\u001b[0;34m,\u001b[0m \u001b[0mbn\u001b[0m \u001b[0;32min\u001b[0m \u001b[0mzip\u001b[0m\u001b[0;34m(\u001b[0m\u001b[0mself\u001b[0m\u001b[0;34m.\u001b[0m\u001b[0mconvs\u001b[0m\u001b[0;34m[\u001b[0m\u001b[0;34m:\u001b[0m\u001b[0;34m-\u001b[0m\u001b[0;36m1\u001b[0m\u001b[0;34m]\u001b[0m\u001b[0;34m,\u001b[0m \u001b[0mself\u001b[0m\u001b[0;34m.\u001b[0m\u001b[0mbns\u001b[0m\u001b[0;34m)\u001b[0m\u001b[0;34m:\u001b[0m\u001b[0;34m\u001b[0m\u001b[0;34m\u001b[0m\u001b[0m\n\u001b[0;32m---> 33\u001b[0;31m       \u001b[0mx\u001b[0m \u001b[0;34m=\u001b[0m \u001b[0mconv\u001b[0m\u001b[0;34m(\u001b[0m\u001b[0mx\u001b[0m\u001b[0;34m,\u001b[0m \u001b[0medge_index\u001b[0m\u001b[0;34m)\u001b[0m\u001b[0;34m\u001b[0m\u001b[0;34m\u001b[0m\u001b[0m\n\u001b[0m\u001b[1;32m     34\u001b[0m       \u001b[0mx\u001b[0m \u001b[0;34m=\u001b[0m \u001b[0mbn\u001b[0m\u001b[0;34m(\u001b[0m\u001b[0mx\u001b[0m\u001b[0;34m)\u001b[0m\u001b[0;34m\u001b[0m\u001b[0;34m\u001b[0m\u001b[0m\n\u001b[1;32m     35\u001b[0m       \u001b[0mx\u001b[0m \u001b[0;34m=\u001b[0m \u001b[0mF\u001b[0m\u001b[0;34m.\u001b[0m\u001b[0mrelu\u001b[0m\u001b[0;34m(\u001b[0m\u001b[0mx\u001b[0m\u001b[0;34m)\u001b[0m\u001b[0;34m\u001b[0m\u001b[0;34m\u001b[0m\u001b[0m\n",
            "\u001b[0;32m/usr/local/lib/python3.11/dist-packages/torch/nn/modules/module.py\u001b[0m in \u001b[0;36m_wrapped_call_impl\u001b[0;34m(self, *args, **kwargs)\u001b[0m\n\u001b[1;32m   1737\u001b[0m             \u001b[0;32mreturn\u001b[0m \u001b[0mself\u001b[0m\u001b[0;34m.\u001b[0m\u001b[0m_compiled_call_impl\u001b[0m\u001b[0;34m(\u001b[0m\u001b[0;34m*\u001b[0m\u001b[0margs\u001b[0m\u001b[0;34m,\u001b[0m \u001b[0;34m**\u001b[0m\u001b[0mkwargs\u001b[0m\u001b[0;34m)\u001b[0m  \u001b[0;31m# type: ignore[misc]\u001b[0m\u001b[0;34m\u001b[0m\u001b[0;34m\u001b[0m\u001b[0m\n\u001b[1;32m   1738\u001b[0m         \u001b[0;32melse\u001b[0m\u001b[0;34m:\u001b[0m\u001b[0;34m\u001b[0m\u001b[0;34m\u001b[0m\u001b[0m\n\u001b[0;32m-> 1739\u001b[0;31m             \u001b[0;32mreturn\u001b[0m \u001b[0mself\u001b[0m\u001b[0;34m.\u001b[0m\u001b[0m_call_impl\u001b[0m\u001b[0;34m(\u001b[0m\u001b[0;34m*\u001b[0m\u001b[0margs\u001b[0m\u001b[0;34m,\u001b[0m \u001b[0;34m**\u001b[0m\u001b[0mkwargs\u001b[0m\u001b[0;34m)\u001b[0m\u001b[0;34m\u001b[0m\u001b[0;34m\u001b[0m\u001b[0m\n\u001b[0m\u001b[1;32m   1740\u001b[0m \u001b[0;34m\u001b[0m\u001b[0m\n\u001b[1;32m   1741\u001b[0m     \u001b[0;31m# torchrec tests the code consistency with the following code\u001b[0m\u001b[0;34m\u001b[0m\u001b[0;34m\u001b[0m\u001b[0m\n",
            "\u001b[0;32m/usr/local/lib/python3.11/dist-packages/torch/nn/modules/module.py\u001b[0m in \u001b[0;36m_call_impl\u001b[0;34m(self, *args, **kwargs)\u001b[0m\n\u001b[1;32m   1748\u001b[0m                 \u001b[0;32mor\u001b[0m \u001b[0m_global_backward_pre_hooks\u001b[0m \u001b[0;32mor\u001b[0m \u001b[0m_global_backward_hooks\u001b[0m\u001b[0;34m\u001b[0m\u001b[0;34m\u001b[0m\u001b[0m\n\u001b[1;32m   1749\u001b[0m                 or _global_forward_hooks or _global_forward_pre_hooks):\n\u001b[0;32m-> 1750\u001b[0;31m             \u001b[0;32mreturn\u001b[0m \u001b[0mforward_call\u001b[0m\u001b[0;34m(\u001b[0m\u001b[0;34m*\u001b[0m\u001b[0margs\u001b[0m\u001b[0;34m,\u001b[0m \u001b[0;34m**\u001b[0m\u001b[0mkwargs\u001b[0m\u001b[0;34m)\u001b[0m\u001b[0;34m\u001b[0m\u001b[0;34m\u001b[0m\u001b[0m\n\u001b[0m\u001b[1;32m   1751\u001b[0m \u001b[0;34m\u001b[0m\u001b[0m\n\u001b[1;32m   1752\u001b[0m         \u001b[0mresult\u001b[0m \u001b[0;34m=\u001b[0m \u001b[0;32mNone\u001b[0m\u001b[0;34m\u001b[0m\u001b[0;34m\u001b[0m\u001b[0m\n",
            "\u001b[0;31mTypeError\u001b[0m: Linear.forward() takes 2 positional arguments but 3 were given"
          ]
        }
      ]
    }
  ]
}