{
  "nbformat": 4,
  "nbformat_minor": 0,
  "metadata": {
    "colab": {
      "provenance": [],
      "include_colab_link": true
    },
    "kernelspec": {
      "name": "python3",
      "display_name": "Python 3"
    },
    "language_info": {
      "name": "python"
    }
  },
  "cells": [
    {
      "cell_type": "markdown",
      "metadata": {
        "id": "view-in-github",
        "colab_type": "text"
      },
      "source": [
        "<a href=\"https://colab.research.google.com/github/Alijgh003/StyleMind-GNN/blob/main/StyleMind_GCN.ipynb\" target=\"_parent\"><img src=\"https://colab.research.google.com/assets/colab-badge.svg\" alt=\"Open In Colab\"/></a>"
      ]
    },
    {
      "cell_type": "code",
      "source": [
        "import torch\n",
        "import matplotlib.pyplot as plt\n",
        "import copy\n",
        "import pandas as pd"
      ],
      "metadata": {
        "id": "ilOURpAYkjuf"
      },
      "execution_count": 1,
      "outputs": []
    },
    {
      "cell_type": "code",
      "execution_count": 2,
      "metadata": {
        "colab": {
          "base_uri": "https://localhost:8080/"
        },
        "id": "_ejZ_JBMqRQu",
        "outputId": "c74e4493-d8cc-481b-b6cb-029c258f4c28"
      },
      "outputs": [
        {
          "output_type": "stream",
          "name": "stdout",
          "text": [
            "Collecting torch-geometric\n",
            "  Downloading torch_geometric-2.6.1-py3-none-any.whl.metadata (63 kB)\n",
            "\u001b[?25l     \u001b[90m━━━━━━━━━━━━━━━━━━━━━━━━━━━━━━━━━━━━━━━━\u001b[0m \u001b[32m0.0/63.1 kB\u001b[0m \u001b[31m?\u001b[0m eta \u001b[36m-:--:--\u001b[0m\r\u001b[2K     \u001b[90m━━━━━━━━━━━━━━━━━━━━━━━━━━━━━━━━━━━━━━━━\u001b[0m \u001b[32m63.1/63.1 kB\u001b[0m \u001b[31m4.9 MB/s\u001b[0m eta \u001b[36m0:00:00\u001b[0m\n",
            "\u001b[?25hRequirement already satisfied: aiohttp in /usr/local/lib/python3.11/dist-packages (from torch-geometric) (3.11.14)\n",
            "Requirement already satisfied: fsspec in /usr/local/lib/python3.11/dist-packages (from torch-geometric) (2025.3.0)\n",
            "Requirement already satisfied: jinja2 in /usr/local/lib/python3.11/dist-packages (from torch-geometric) (3.1.6)\n",
            "Requirement already satisfied: numpy in /usr/local/lib/python3.11/dist-packages (from torch-geometric) (2.0.2)\n",
            "Requirement already satisfied: psutil>=5.8.0 in /usr/local/lib/python3.11/dist-packages (from torch-geometric) (5.9.5)\n",
            "Requirement already satisfied: pyparsing in /usr/local/lib/python3.11/dist-packages (from torch-geometric) (3.2.3)\n",
            "Requirement already satisfied: requests in /usr/local/lib/python3.11/dist-packages (from torch-geometric) (2.32.3)\n",
            "Requirement already satisfied: tqdm in /usr/local/lib/python3.11/dist-packages (from torch-geometric) (4.67.1)\n",
            "Requirement already satisfied: aiohappyeyeballs>=2.3.0 in /usr/local/lib/python3.11/dist-packages (from aiohttp->torch-geometric) (2.6.1)\n",
            "Requirement already satisfied: aiosignal>=1.1.2 in /usr/local/lib/python3.11/dist-packages (from aiohttp->torch-geometric) (1.3.2)\n",
            "Requirement already satisfied: attrs>=17.3.0 in /usr/local/lib/python3.11/dist-packages (from aiohttp->torch-geometric) (25.3.0)\n",
            "Requirement already satisfied: frozenlist>=1.1.1 in /usr/local/lib/python3.11/dist-packages (from aiohttp->torch-geometric) (1.5.0)\n",
            "Requirement already satisfied: multidict<7.0,>=4.5 in /usr/local/lib/python3.11/dist-packages (from aiohttp->torch-geometric) (6.2.0)\n",
            "Requirement already satisfied: propcache>=0.2.0 in /usr/local/lib/python3.11/dist-packages (from aiohttp->torch-geometric) (0.3.1)\n",
            "Requirement already satisfied: yarl<2.0,>=1.17.0 in /usr/local/lib/python3.11/dist-packages (from aiohttp->torch-geometric) (1.18.3)\n",
            "Requirement already satisfied: MarkupSafe>=2.0 in /usr/local/lib/python3.11/dist-packages (from jinja2->torch-geometric) (3.0.2)\n",
            "Requirement already satisfied: charset-normalizer<4,>=2 in /usr/local/lib/python3.11/dist-packages (from requests->torch-geometric) (3.4.1)\n",
            "Requirement already satisfied: idna<4,>=2.5 in /usr/local/lib/python3.11/dist-packages (from requests->torch-geometric) (3.10)\n",
            "Requirement already satisfied: urllib3<3,>=1.21.1 in /usr/local/lib/python3.11/dist-packages (from requests->torch-geometric) (2.3.0)\n",
            "Requirement already satisfied: certifi>=2017.4.17 in /usr/local/lib/python3.11/dist-packages (from requests->torch-geometric) (2025.1.31)\n",
            "Downloading torch_geometric-2.6.1-py3-none-any.whl (1.1 MB)\n",
            "\u001b[2K   \u001b[90m━━━━━━━━━━━━━━━━━━━━━━━━━━━━━━━━━━━━━━━━\u001b[0m \u001b[32m1.1/1.1 MB\u001b[0m \u001b[31m57.3 MB/s\u001b[0m eta \u001b[36m0:00:00\u001b[0m\n",
            "\u001b[?25hInstalling collected packages: torch-geometric\n",
            "Successfully installed torch-geometric-2.6.1\n",
            "  Preparing metadata (setup.py) ... \u001b[?25l\u001b[?25hdone\n",
            "\u001b[2K   \u001b[90m━━━━━━━━━━━━━━━━━━━━━━━━━━━━━━━━━━━━━━━━\u001b[0m \u001b[32m363.4/363.4 MB\u001b[0m \u001b[31m3.8 MB/s\u001b[0m eta \u001b[36m0:00:00\u001b[0m\n",
            "\u001b[2K   \u001b[90m━━━━━━━━━━━━━━━━━━━━━━━━━━━━━━━━━━━━━━━━\u001b[0m \u001b[32m13.8/13.8 MB\u001b[0m \u001b[31m52.9 MB/s\u001b[0m eta \u001b[36m0:00:00\u001b[0m\n",
            "\u001b[2K   \u001b[90m━━━━━━━━━━━━━━━━━━━━━━━━━━━━━━━━━━━━━━━━\u001b[0m \u001b[32m24.6/24.6 MB\u001b[0m \u001b[31m32.3 MB/s\u001b[0m eta \u001b[36m0:00:00\u001b[0m\n",
            "\u001b[2K   \u001b[90m━━━━━━━━━━━━━━━━━━━━━━━━━━━━━━━━━━━━━━━━\u001b[0m \u001b[32m883.7/883.7 kB\u001b[0m \u001b[31m43.3 MB/s\u001b[0m eta \u001b[36m0:00:00\u001b[0m\n",
            "\u001b[2K   \u001b[90m━━━━━━━━━━━━━━━━━━━━━━━━━━━━━━━━━━━━━━━━\u001b[0m \u001b[32m664.8/664.8 MB\u001b[0m \u001b[31m2.9 MB/s\u001b[0m eta \u001b[36m0:00:00\u001b[0m\n",
            "\u001b[2K   \u001b[90m━━━━━━━━━━━━━━━━━━━━━━━━━━━━━━━━━━━━━━━━\u001b[0m \u001b[32m211.5/211.5 MB\u001b[0m \u001b[31m5.9 MB/s\u001b[0m eta \u001b[36m0:00:00\u001b[0m\n",
            "\u001b[2K   \u001b[90m━━━━━━━━━━━━━━━━━━━━━━━━━━━━━━━━━━━━━━━━\u001b[0m \u001b[32m56.3/56.3 MB\u001b[0m \u001b[31m14.8 MB/s\u001b[0m eta \u001b[36m0:00:00\u001b[0m\n",
            "\u001b[2K   \u001b[90m━━━━━━━━━━━━━━━━━━━━━━━━━━━━━━━━━━━━━━━━\u001b[0m \u001b[32m127.9/127.9 MB\u001b[0m \u001b[31m7.7 MB/s\u001b[0m eta \u001b[36m0:00:00\u001b[0m\n",
            "\u001b[2K   \u001b[90m━━━━━━━━━━━━━━━━━━━━━━━━━━━━━━━━━━━━━━━━\u001b[0m \u001b[32m207.5/207.5 MB\u001b[0m \u001b[31m6.0 MB/s\u001b[0m eta \u001b[36m0:00:00\u001b[0m\n",
            "\u001b[2K   \u001b[90m━━━━━━━━━━━━━━━━━━━━━━━━━━━━━━━━━━━━━━━━\u001b[0m \u001b[32m21.1/21.1 MB\u001b[0m \u001b[31m93.8 MB/s\u001b[0m eta \u001b[36m0:00:00\u001b[0m\n",
            "\u001b[?25h  Building wheel for deepsnap (setup.py) ... \u001b[?25l\u001b[?25hdone\n"
          ]
        }
      ],
      "source": [
        "torch_version = str(torch.__version__)\n",
        "# scatter_src = f\"https://pytorch-geometric.com/whl/torch-{torch_version}.html\"\n",
        "# sparse_src = f\"https://pytorch-geometric.com/whl/torch-{torch_version}.html\"\n",
        "# !pip install torch-scatter -f $scatter_src\n",
        "# !pip install torch-sparse -f $sparse_src\n",
        "!pip install torch-geometric\n",
        "!pip install -q git+https://github.com/snap-stanford/deepsnap.git"
      ]
    },
    {
      "cell_type": "code",
      "source": [
        "from google.colab import drive\n",
        "drive.mount(\"/content/drive\")"
      ],
      "metadata": {
        "id": "j54KJfvCqx5M",
        "colab": {
          "base_uri": "https://localhost:8080/"
        },
        "outputId": "72bf5a6c-e099-4bef-eedd-bbfade066c04"
      },
      "execution_count": 3,
      "outputs": [
        {
          "output_type": "stream",
          "name": "stdout",
          "text": [
            "Mounted at /content/drive\n"
          ]
        }
      ]
    },
    {
      "cell_type": "code",
      "source": [
        "datasets_path = \"/content/drive/MyDrive/StyleMind-GNN\""
      ],
      "metadata": {
        "id": "zv1V_GrYq5i3"
      },
      "execution_count": 4,
      "outputs": []
    },
    {
      "cell_type": "code",
      "source": [
        "from os import path"
      ],
      "metadata": {
        "id": "rgDdePkytykH"
      },
      "execution_count": 5,
      "outputs": []
    },
    {
      "cell_type": "code",
      "source": [
        "import pandas as pd\n",
        "items = pd.read_csv(path.join(datasets_path, \"new_items.csv\"))\n",
        "items.set_index(\"ID\")"
      ],
      "metadata": {
        "colab": {
          "base_uri": "https://localhost:8080/",
          "height": 1000
        },
        "id": "twTtZX4HAX9j",
        "outputId": "ccd14b1e-c079-409b-86ff-eeb95261aabb"
      },
      "execution_count": 6,
      "outputs": [
        {
          "output_type": "execute_result",
          "data": {
            "text/plain": [
              "           Unnamed: 0   index                                       url_name  \\\n",
              "ID                                                                             \n",
              "211990161           0       0                   neck print chiffon plus size   \n",
              "183179503           1       1  christian pellizzari floral jacquard trousers   \n",
              "152771755           2       2            natures jewelry stainless steel not   \n",
              "190445143           3       3                balmain women high waist flared   \n",
              "211444470           4       4                  acler orson high waist belted   \n",
              "...               ...     ...                                            ...   \n",
              "108411005      251003  251003          arnica embellished hand painted skirt   \n",
              "212452593      251004  251004                 thom browne little boy knitted   \n",
              "208651882      251005  251005              colorful vortex print shawl scarf   \n",
              "209210426      251006  251006               floral embroidered mesh see thru   \n",
              "181567392      251007  251007        shein sheinside extreme destroyed denim   \n",
              "\n",
              "                                                 description  \\\n",
              "ID                                                             \n",
              "211990161                                                NaN   \n",
              "183179503  Gold and black silk blend floral jacquard trou...   \n",
              "152771755                                                NaN   \n",
              "190445143  Decorative gold colored buttons with lion deta...   \n",
              "211444470  This Acler Orson High Waist Belted Short featu...   \n",
              "...                                                      ...   \n",
              "108411005  Shop Stella Jean in our expertly curated in-se...   \n",
              "212452593                                                NaN   \n",
              "208651882                                                NaN   \n",
              "209210426                                                NaN   \n",
              "181567392                                                NaN   \n",
              "\n",
              "                                                  catgeories  \\\n",
              "ID                                                             \n",
              "211990161                                                NaN   \n",
              "183179503  [\"Women's Fashion\", 'Clothing', 'Pants', 'Chri...   \n",
              "152771755                                                NaN   \n",
              "190445143  [\"Women's Fashion\", 'Clothing', 'Pants', 'Balm...   \n",
              "211444470  [\"Women's Fashion\", 'Clothing', 'Shorts', 'Mar...   \n",
              "...                                                      ...   \n",
              "108411005  [\"Women's Fashion\", 'Clothing', 'Skirts', 'Kne...   \n",
              "212452593                                                NaN   \n",
              "208651882                                                NaN   \n",
              "209210426                                                NaN   \n",
              "181567392                                                NaN   \n",
              "\n",
              "                                                   title  \\\n",
              "ID                                                         \n",
              "211990161                                            NaN   \n",
              "183179503  Christian Pellizzari floral jacquard trousers   \n",
              "152771755                                            NaN   \n",
              "190445143     Balmain Women High Waist Flared Knit Pants   \n",
              "211444470            Acler Orson High Waist Belted Short   \n",
              "...                                                  ...   \n",
              "108411005          Arnica Embellished Hand Painted Skirt   \n",
              "212452593                                            NaN   \n",
              "208651882                                            NaN   \n",
              "209210426                                            NaN   \n",
              "181567392                                            NaN   \n",
              "\n",
              "                                                     related  category_id  \\\n",
              "ID                                                                          \n",
              "211990161                                                NaN            3   \n",
              "183179503  ['Floral pants', 'Grey pants', 'Print pants', ...            2   \n",
              "152771755                                                NaN           11   \n",
              "190445143  ['Balmain', 'Flared pants', 'High-waisted pant...            2   \n",
              "211444470  ['Short shorts', 'High-waisted shorts', 'High ...            2   \n",
              "...                                                      ...          ...   \n",
              "108411005                 ['Red skirt', 'Embellished skirt']            2   \n",
              "212452593                                                NaN            4   \n",
              "208651882                                                NaN            8   \n",
              "209210426                                                NaN            3   \n",
              "181567392                                                NaN            4   \n",
              "\n",
              "          semantic_category  name_len  \n",
              "ID                                     \n",
              "211990161              tops        28  \n",
              "183179503           bottoms        45  \n",
              "152771755         jewellery        35  \n",
              "190445143           bottoms        31  \n",
              "211444470           bottoms        29  \n",
              "...                     ...       ...  \n",
              "108411005           bottoms        37  \n",
              "212452593         outerwear        30  \n",
              "208651882           scarves        33  \n",
              "209210426              tops        32  \n",
              "181567392         outerwear        39  \n",
              "\n",
              "[251008 rows x 10 columns]"
            ],
            "text/html": [
              "\n",
              "  <div id=\"df-522947e9-c3f6-4b75-aacf-b99c4283e565\" class=\"colab-df-container\">\n",
              "    <div>\n",
              "<style scoped>\n",
              "    .dataframe tbody tr th:only-of-type {\n",
              "        vertical-align: middle;\n",
              "    }\n",
              "\n",
              "    .dataframe tbody tr th {\n",
              "        vertical-align: top;\n",
              "    }\n",
              "\n",
              "    .dataframe thead th {\n",
              "        text-align: right;\n",
              "    }\n",
              "</style>\n",
              "<table border=\"1\" class=\"dataframe\">\n",
              "  <thead>\n",
              "    <tr style=\"text-align: right;\">\n",
              "      <th></th>\n",
              "      <th>Unnamed: 0</th>\n",
              "      <th>index</th>\n",
              "      <th>url_name</th>\n",
              "      <th>description</th>\n",
              "      <th>catgeories</th>\n",
              "      <th>title</th>\n",
              "      <th>related</th>\n",
              "      <th>category_id</th>\n",
              "      <th>semantic_category</th>\n",
              "      <th>name_len</th>\n",
              "    </tr>\n",
              "    <tr>\n",
              "      <th>ID</th>\n",
              "      <th></th>\n",
              "      <th></th>\n",
              "      <th></th>\n",
              "      <th></th>\n",
              "      <th></th>\n",
              "      <th></th>\n",
              "      <th></th>\n",
              "      <th></th>\n",
              "      <th></th>\n",
              "      <th></th>\n",
              "    </tr>\n",
              "  </thead>\n",
              "  <tbody>\n",
              "    <tr>\n",
              "      <th>211990161</th>\n",
              "      <td>0</td>\n",
              "      <td>0</td>\n",
              "      <td>neck print chiffon plus size</td>\n",
              "      <td>NaN</td>\n",
              "      <td>NaN</td>\n",
              "      <td>NaN</td>\n",
              "      <td>NaN</td>\n",
              "      <td>3</td>\n",
              "      <td>tops</td>\n",
              "      <td>28</td>\n",
              "    </tr>\n",
              "    <tr>\n",
              "      <th>183179503</th>\n",
              "      <td>1</td>\n",
              "      <td>1</td>\n",
              "      <td>christian pellizzari floral jacquard trousers</td>\n",
              "      <td>Gold and black silk blend floral jacquard trou...</td>\n",
              "      <td>[\"Women's Fashion\", 'Clothing', 'Pants', 'Chri...</td>\n",
              "      <td>Christian Pellizzari floral jacquard trousers</td>\n",
              "      <td>['Floral pants', 'Grey pants', 'Print pants', ...</td>\n",
              "      <td>2</td>\n",
              "      <td>bottoms</td>\n",
              "      <td>45</td>\n",
              "    </tr>\n",
              "    <tr>\n",
              "      <th>152771755</th>\n",
              "      <td>2</td>\n",
              "      <td>2</td>\n",
              "      <td>natures jewelry stainless steel not</td>\n",
              "      <td>NaN</td>\n",
              "      <td>NaN</td>\n",
              "      <td>NaN</td>\n",
              "      <td>NaN</td>\n",
              "      <td>11</td>\n",
              "      <td>jewellery</td>\n",
              "      <td>35</td>\n",
              "    </tr>\n",
              "    <tr>\n",
              "      <th>190445143</th>\n",
              "      <td>3</td>\n",
              "      <td>3</td>\n",
              "      <td>balmain women high waist flared</td>\n",
              "      <td>Decorative gold colored buttons with lion deta...</td>\n",
              "      <td>[\"Women's Fashion\", 'Clothing', 'Pants', 'Balm...</td>\n",
              "      <td>Balmain Women High Waist Flared Knit Pants</td>\n",
              "      <td>['Balmain', 'Flared pants', 'High-waisted pant...</td>\n",
              "      <td>2</td>\n",
              "      <td>bottoms</td>\n",
              "      <td>31</td>\n",
              "    </tr>\n",
              "    <tr>\n",
              "      <th>211444470</th>\n",
              "      <td>4</td>\n",
              "      <td>4</td>\n",
              "      <td>acler orson high waist belted</td>\n",
              "      <td>This Acler Orson High Waist Belted Short featu...</td>\n",
              "      <td>[\"Women's Fashion\", 'Clothing', 'Shorts', 'Mar...</td>\n",
              "      <td>Acler Orson High Waist Belted Short</td>\n",
              "      <td>['Short shorts', 'High-waisted shorts', 'High ...</td>\n",
              "      <td>2</td>\n",
              "      <td>bottoms</td>\n",
              "      <td>29</td>\n",
              "    </tr>\n",
              "    <tr>\n",
              "      <th>...</th>\n",
              "      <td>...</td>\n",
              "      <td>...</td>\n",
              "      <td>...</td>\n",
              "      <td>...</td>\n",
              "      <td>...</td>\n",
              "      <td>...</td>\n",
              "      <td>...</td>\n",
              "      <td>...</td>\n",
              "      <td>...</td>\n",
              "      <td>...</td>\n",
              "    </tr>\n",
              "    <tr>\n",
              "      <th>108411005</th>\n",
              "      <td>251003</td>\n",
              "      <td>251003</td>\n",
              "      <td>arnica embellished hand painted skirt</td>\n",
              "      <td>Shop Stella Jean in our expertly curated in-se...</td>\n",
              "      <td>[\"Women's Fashion\", 'Clothing', 'Skirts', 'Kne...</td>\n",
              "      <td>Arnica Embellished Hand Painted Skirt</td>\n",
              "      <td>['Red skirt', 'Embellished skirt']</td>\n",
              "      <td>2</td>\n",
              "      <td>bottoms</td>\n",
              "      <td>37</td>\n",
              "    </tr>\n",
              "    <tr>\n",
              "      <th>212452593</th>\n",
              "      <td>251004</td>\n",
              "      <td>251004</td>\n",
              "      <td>thom browne little boy knitted</td>\n",
              "      <td>NaN</td>\n",
              "      <td>NaN</td>\n",
              "      <td>NaN</td>\n",
              "      <td>NaN</td>\n",
              "      <td>4</td>\n",
              "      <td>outerwear</td>\n",
              "      <td>30</td>\n",
              "    </tr>\n",
              "    <tr>\n",
              "      <th>208651882</th>\n",
              "      <td>251005</td>\n",
              "      <td>251005</td>\n",
              "      <td>colorful vortex print shawl scarf</td>\n",
              "      <td>NaN</td>\n",
              "      <td>NaN</td>\n",
              "      <td>NaN</td>\n",
              "      <td>NaN</td>\n",
              "      <td>8</td>\n",
              "      <td>scarves</td>\n",
              "      <td>33</td>\n",
              "    </tr>\n",
              "    <tr>\n",
              "      <th>209210426</th>\n",
              "      <td>251006</td>\n",
              "      <td>251006</td>\n",
              "      <td>floral embroidered mesh see thru</td>\n",
              "      <td>NaN</td>\n",
              "      <td>NaN</td>\n",
              "      <td>NaN</td>\n",
              "      <td>NaN</td>\n",
              "      <td>3</td>\n",
              "      <td>tops</td>\n",
              "      <td>32</td>\n",
              "    </tr>\n",
              "    <tr>\n",
              "      <th>181567392</th>\n",
              "      <td>251007</td>\n",
              "      <td>251007</td>\n",
              "      <td>shein sheinside extreme destroyed denim</td>\n",
              "      <td>NaN</td>\n",
              "      <td>NaN</td>\n",
              "      <td>NaN</td>\n",
              "      <td>NaN</td>\n",
              "      <td>4</td>\n",
              "      <td>outerwear</td>\n",
              "      <td>39</td>\n",
              "    </tr>\n",
              "  </tbody>\n",
              "</table>\n",
              "<p>251008 rows × 10 columns</p>\n",
              "</div>\n",
              "    <div class=\"colab-df-buttons\">\n",
              "\n",
              "  <div class=\"colab-df-container\">\n",
              "    <button class=\"colab-df-convert\" onclick=\"convertToInteractive('df-522947e9-c3f6-4b75-aacf-b99c4283e565')\"\n",
              "            title=\"Convert this dataframe to an interactive table.\"\n",
              "            style=\"display:none;\">\n",
              "\n",
              "  <svg xmlns=\"http://www.w3.org/2000/svg\" height=\"24px\" viewBox=\"0 -960 960 960\">\n",
              "    <path d=\"M120-120v-720h720v720H120Zm60-500h600v-160H180v160Zm220 220h160v-160H400v160Zm0 220h160v-160H400v160ZM180-400h160v-160H180v160Zm440 0h160v-160H620v160ZM180-180h160v-160H180v160Zm440 0h160v-160H620v160Z\"/>\n",
              "  </svg>\n",
              "    </button>\n",
              "\n",
              "  <style>\n",
              "    .colab-df-container {\n",
              "      display:flex;\n",
              "      gap: 12px;\n",
              "    }\n",
              "\n",
              "    .colab-df-convert {\n",
              "      background-color: #E8F0FE;\n",
              "      border: none;\n",
              "      border-radius: 50%;\n",
              "      cursor: pointer;\n",
              "      display: none;\n",
              "      fill: #1967D2;\n",
              "      height: 32px;\n",
              "      padding: 0 0 0 0;\n",
              "      width: 32px;\n",
              "    }\n",
              "\n",
              "    .colab-df-convert:hover {\n",
              "      background-color: #E2EBFA;\n",
              "      box-shadow: 0px 1px 2px rgba(60, 64, 67, 0.3), 0px 1px 3px 1px rgba(60, 64, 67, 0.15);\n",
              "      fill: #174EA6;\n",
              "    }\n",
              "\n",
              "    .colab-df-buttons div {\n",
              "      margin-bottom: 4px;\n",
              "    }\n",
              "\n",
              "    [theme=dark] .colab-df-convert {\n",
              "      background-color: #3B4455;\n",
              "      fill: #D2E3FC;\n",
              "    }\n",
              "\n",
              "    [theme=dark] .colab-df-convert:hover {\n",
              "      background-color: #434B5C;\n",
              "      box-shadow: 0px 1px 3px 1px rgba(0, 0, 0, 0.15);\n",
              "      filter: drop-shadow(0px 1px 2px rgba(0, 0, 0, 0.3));\n",
              "      fill: #FFFFFF;\n",
              "    }\n",
              "  </style>\n",
              "\n",
              "    <script>\n",
              "      const buttonEl =\n",
              "        document.querySelector('#df-522947e9-c3f6-4b75-aacf-b99c4283e565 button.colab-df-convert');\n",
              "      buttonEl.style.display =\n",
              "        google.colab.kernel.accessAllowed ? 'block' : 'none';\n",
              "\n",
              "      async function convertToInteractive(key) {\n",
              "        const element = document.querySelector('#df-522947e9-c3f6-4b75-aacf-b99c4283e565');\n",
              "        const dataTable =\n",
              "          await google.colab.kernel.invokeFunction('convertToInteractive',\n",
              "                                                    [key], {});\n",
              "        if (!dataTable) return;\n",
              "\n",
              "        const docLinkHtml = 'Like what you see? Visit the ' +\n",
              "          '<a target=\"_blank\" href=https://colab.research.google.com/notebooks/data_table.ipynb>data table notebook</a>'\n",
              "          + ' to learn more about interactive tables.';\n",
              "        element.innerHTML = '';\n",
              "        dataTable['output_type'] = 'display_data';\n",
              "        await google.colab.output.renderOutput(dataTable, element);\n",
              "        const docLink = document.createElement('div');\n",
              "        docLink.innerHTML = docLinkHtml;\n",
              "        element.appendChild(docLink);\n",
              "      }\n",
              "    </script>\n",
              "  </div>\n",
              "\n",
              "\n",
              "<div id=\"df-facdc4ff-0974-4f85-8bc7-cbdf19583d77\">\n",
              "  <button class=\"colab-df-quickchart\" onclick=\"quickchart('df-facdc4ff-0974-4f85-8bc7-cbdf19583d77')\"\n",
              "            title=\"Suggest charts\"\n",
              "            style=\"display:none;\">\n",
              "\n",
              "<svg xmlns=\"http://www.w3.org/2000/svg\" height=\"24px\"viewBox=\"0 0 24 24\"\n",
              "     width=\"24px\">\n",
              "    <g>\n",
              "        <path d=\"M19 3H5c-1.1 0-2 .9-2 2v14c0 1.1.9 2 2 2h14c1.1 0 2-.9 2-2V5c0-1.1-.9-2-2-2zM9 17H7v-7h2v7zm4 0h-2V7h2v10zm4 0h-2v-4h2v4z\"/>\n",
              "    </g>\n",
              "</svg>\n",
              "  </button>\n",
              "\n",
              "<style>\n",
              "  .colab-df-quickchart {\n",
              "      --bg-color: #E8F0FE;\n",
              "      --fill-color: #1967D2;\n",
              "      --hover-bg-color: #E2EBFA;\n",
              "      --hover-fill-color: #174EA6;\n",
              "      --disabled-fill-color: #AAA;\n",
              "      --disabled-bg-color: #DDD;\n",
              "  }\n",
              "\n",
              "  [theme=dark] .colab-df-quickchart {\n",
              "      --bg-color: #3B4455;\n",
              "      --fill-color: #D2E3FC;\n",
              "      --hover-bg-color: #434B5C;\n",
              "      --hover-fill-color: #FFFFFF;\n",
              "      --disabled-bg-color: #3B4455;\n",
              "      --disabled-fill-color: #666;\n",
              "  }\n",
              "\n",
              "  .colab-df-quickchart {\n",
              "    background-color: var(--bg-color);\n",
              "    border: none;\n",
              "    border-radius: 50%;\n",
              "    cursor: pointer;\n",
              "    display: none;\n",
              "    fill: var(--fill-color);\n",
              "    height: 32px;\n",
              "    padding: 0;\n",
              "    width: 32px;\n",
              "  }\n",
              "\n",
              "  .colab-df-quickchart:hover {\n",
              "    background-color: var(--hover-bg-color);\n",
              "    box-shadow: 0 1px 2px rgba(60, 64, 67, 0.3), 0 1px 3px 1px rgba(60, 64, 67, 0.15);\n",
              "    fill: var(--button-hover-fill-color);\n",
              "  }\n",
              "\n",
              "  .colab-df-quickchart-complete:disabled,\n",
              "  .colab-df-quickchart-complete:disabled:hover {\n",
              "    background-color: var(--disabled-bg-color);\n",
              "    fill: var(--disabled-fill-color);\n",
              "    box-shadow: none;\n",
              "  }\n",
              "\n",
              "  .colab-df-spinner {\n",
              "    border: 2px solid var(--fill-color);\n",
              "    border-color: transparent;\n",
              "    border-bottom-color: var(--fill-color);\n",
              "    animation:\n",
              "      spin 1s steps(1) infinite;\n",
              "  }\n",
              "\n",
              "  @keyframes spin {\n",
              "    0% {\n",
              "      border-color: transparent;\n",
              "      border-bottom-color: var(--fill-color);\n",
              "      border-left-color: var(--fill-color);\n",
              "    }\n",
              "    20% {\n",
              "      border-color: transparent;\n",
              "      border-left-color: var(--fill-color);\n",
              "      border-top-color: var(--fill-color);\n",
              "    }\n",
              "    30% {\n",
              "      border-color: transparent;\n",
              "      border-left-color: var(--fill-color);\n",
              "      border-top-color: var(--fill-color);\n",
              "      border-right-color: var(--fill-color);\n",
              "    }\n",
              "    40% {\n",
              "      border-color: transparent;\n",
              "      border-right-color: var(--fill-color);\n",
              "      border-top-color: var(--fill-color);\n",
              "    }\n",
              "    60% {\n",
              "      border-color: transparent;\n",
              "      border-right-color: var(--fill-color);\n",
              "    }\n",
              "    80% {\n",
              "      border-color: transparent;\n",
              "      border-right-color: var(--fill-color);\n",
              "      border-bottom-color: var(--fill-color);\n",
              "    }\n",
              "    90% {\n",
              "      border-color: transparent;\n",
              "      border-bottom-color: var(--fill-color);\n",
              "    }\n",
              "  }\n",
              "</style>\n",
              "\n",
              "  <script>\n",
              "    async function quickchart(key) {\n",
              "      const quickchartButtonEl =\n",
              "        document.querySelector('#' + key + ' button');\n",
              "      quickchartButtonEl.disabled = true;  // To prevent multiple clicks.\n",
              "      quickchartButtonEl.classList.add('colab-df-spinner');\n",
              "      try {\n",
              "        const charts = await google.colab.kernel.invokeFunction(\n",
              "            'suggestCharts', [key], {});\n",
              "      } catch (error) {\n",
              "        console.error('Error during call to suggestCharts:', error);\n",
              "      }\n",
              "      quickchartButtonEl.classList.remove('colab-df-spinner');\n",
              "      quickchartButtonEl.classList.add('colab-df-quickchart-complete');\n",
              "    }\n",
              "    (() => {\n",
              "      let quickchartButtonEl =\n",
              "        document.querySelector('#df-facdc4ff-0974-4f85-8bc7-cbdf19583d77 button');\n",
              "      quickchartButtonEl.style.display =\n",
              "        google.colab.kernel.accessAllowed ? 'block' : 'none';\n",
              "    })();\n",
              "  </script>\n",
              "</div>\n",
              "    </div>\n",
              "  </div>\n"
            ],
            "application/vnd.google.colaboratory.intrinsic+json": {
              "type": "dataframe"
            }
          },
          "metadata": {},
          "execution_count": 6
        }
      ]
    },
    {
      "cell_type": "markdown",
      "source": [
        "#Utils"
      ],
      "metadata": {
        "id": "aXkST-nF232r"
      }
    },
    {
      "cell_type": "markdown",
      "source": [
        "##Histoagram"
      ],
      "metadata": {
        "id": "TQozgg6I26xZ"
      }
    },
    {
      "cell_type": "code",
      "source": [
        "def plot_histogram(output_tensor,title):\n",
        "  output_numpy = output_tensor.detach().numpy()\n",
        "\n",
        "  plt.hist(output_numpy, bins=30, edgecolor='black', alpha=0.7)\n",
        "  plt.xlabel('Output Values')\n",
        "  plt.ylabel('Frequency')\n",
        "  plt.title(title)\n",
        "  plt.show()"
      ],
      "metadata": {
        "id": "gLUz3TvBmpKY"
      },
      "execution_count": 7,
      "outputs": []
    },
    {
      "cell_type": "markdown",
      "source": [
        "##Free Cuda_Memory"
      ],
      "metadata": {
        "id": "JLxOZjV029nq"
      }
    },
    {
      "cell_type": "code",
      "source": [
        "import gc\n",
        "\n",
        "def free_cuda_memory(model):\n",
        "  model = model.cpu()\n",
        "  gc.collect()\n",
        "  torch.cuda.empty_cache()"
      ],
      "metadata": {
        "id": "u_grAuc33DC6"
      },
      "execution_count": 8,
      "outputs": []
    },
    {
      "cell_type": "code",
      "source": [
        "device = \"cuda\" if torch.cuda.is_available() else \"cpu\"\n",
        "device"
      ],
      "metadata": {
        "id": "Gih2lJACWHSi",
        "colab": {
          "base_uri": "https://localhost:8080/",
          "height": 36
        },
        "outputId": "754bfb6a-6321-4cfa-89d2-81b19916348b"
      },
      "execution_count": 9,
      "outputs": [
        {
          "output_type": "execute_result",
          "data": {
            "text/plain": [
              "'cuda'"
            ],
            "application/vnd.google.colaboratory.intrinsic+json": {
              "type": "string"
            }
          },
          "metadata": {},
          "execution_count": 9
        }
      ]
    },
    {
      "cell_type": "code",
      "source": [
        "x = torch.load(path.join(datasets_path, \"items_img2vec.pth\")).to(device)\n",
        "x, x.shape"
      ],
      "metadata": {
        "id": "S81FJj9utstn",
        "outputId": "fedd88b9-016f-4d69-a59f-d7fa5eaade41",
        "colab": {
          "base_uri": "https://localhost:8080/"
        }
      },
      "execution_count": 10,
      "outputs": [
        {
          "output_type": "execute_result",
          "data": {
            "text/plain": [
              "(tensor([[0.2134, 0.4643, 0.3334,  ..., 0.3668, 0.0379, 0.0898],\n",
              "         [0.5982, 0.7184, 0.2694,  ..., 0.2122, 0.6592, 0.0720],\n",
              "         [0.3819, 4.5064, 0.2355,  ..., 0.2252, 0.7095, 0.4182],\n",
              "         ...,\n",
              "         [0.0192, 0.2306, 0.6947,  ..., 0.2099, 0.2533, 0.1645],\n",
              "         [0.4130, 0.2520, 0.2924,  ..., 0.5590, 0.3986, 0.0838],\n",
              "         [0.0576, 1.2712, 1.8085,  ..., 0.6934, 0.9322, 0.0889]],\n",
              "        device='cuda:0'),\n",
              " torch.Size([251008, 2048]))"
            ]
          },
          "metadata": {},
          "execution_count": 10
        }
      ]
    },
    {
      "cell_type": "code",
      "source": [
        "x.dtype ,x.shape"
      ],
      "metadata": {
        "id": "BQG4pouWuLVH",
        "outputId": "4bdadfec-6974-401c-dda3-9303fc6b0694",
        "colab": {
          "base_uri": "https://localhost:8080/"
        }
      },
      "execution_count": 11,
      "outputs": [
        {
          "output_type": "execute_result",
          "data": {
            "text/plain": [
              "(torch.float32, torch.Size([251008, 2048]))"
            ]
          },
          "metadata": {},
          "execution_count": 11
        }
      ]
    },
    {
      "cell_type": "code",
      "source": [
        "edge_indices_path = path.join(datasets_path, \"dataset\", \"polyvore_outfits\", \"nondisjoint\")"
      ],
      "metadata": {
        "id": "9mvzirN8tyMK"
      },
      "execution_count": 12,
      "outputs": []
    },
    {
      "cell_type": "code",
      "source": [
        "train_edge_index = torch.load(path.join(edge_indices_path, \"train_edge_index.pth\"))\n",
        "test_edge_index = torch.load(path.join(edge_indices_path, \"test_edge_index.pth\"))\n",
        "valid_edge_index = torch.load(path.join(edge_indices_path, \"valid_edge_index.pth\"))"
      ],
      "metadata": {
        "id": "QpssZBHZuUue"
      },
      "execution_count": 13,
      "outputs": []
    },
    {
      "cell_type": "code",
      "source": [
        "def get_node_embedding_with_mask_meaningless_edge_index_elements(x, edge_index):\n",
        "    mask = torch.where(edge_index==-1, torch.tensor(0), torch.tensor(1)).unsqueeze(-1)\n",
        "    r = x[edge_index] * mask\n",
        "    return r"
      ],
      "metadata": {
        "id": "PRucN2Hg9MnG"
      },
      "execution_count": 14,
      "outputs": []
    },
    {
      "cell_type": "code",
      "source": [
        "train_edge_index.shape, valid_edge_index.shape, test_edge_index.shape"
      ],
      "metadata": {
        "id": "VCFN1Dp9um3w",
        "outputId": "10e40b5d-a987-42f4-c597-85a9d3493e8f",
        "colab": {
          "base_uri": "https://localhost:8080/"
        }
      },
      "execution_count": 15,
      "outputs": [
        {
          "output_type": "execute_result",
          "data": {
            "text/plain": [
              "(torch.Size([53306, 2, 171]),\n",
              " torch.Size([5000, 2, 91]),\n",
              " torch.Size([10000, 2, 136]))"
            ]
          },
          "metadata": {},
          "execution_count": 15
        }
      ]
    },
    {
      "cell_type": "code",
      "source": [
        "negative_train_edge_index = torch.load(path.join(edge_indices_path,\"negative_train_edge_index.pth\"))\n",
        "valid_negative_samples = torch.load(path.join(edge_indices_path, \"negative_valid_edge_index.pth\"))\n",
        "test_negative_samples = torch.load(path.join(edge_indices_path, \"negative_test_edge_index.pth\"))\n",
        "\n",
        "negative_train_edge_index.shape , valid_negative_samples.shape, test_negative_samples.shape"
      ],
      "metadata": {
        "id": "J8EFs4H-HhS9",
        "outputId": "1a1b58f2-193b-41b8-c06f-345eb4289111",
        "colab": {
          "base_uri": "https://localhost:8080/"
        }
      },
      "execution_count": 16,
      "outputs": [
        {
          "output_type": "execute_result",
          "data": {
            "text/plain": [
              "(torch.Size([53306, 2, 171]),\n",
              " torch.Size([5000, 2, 91]),\n",
              " torch.Size([10000, 2, 136]))"
            ]
          },
          "metadata": {},
          "execution_count": 16
        }
      ]
    },
    {
      "cell_type": "code",
      "source": [
        "def build_edge_indices_with_groups(edge_index_tensor_by_groups):\n",
        "  if(edge_index_tensor_by_groups.shape[0]>0):\n",
        "    result = torch.cat([edge_index_tensor_by_groups[i] for i in range(edge_index_tensor_by_groups.shape[0])],dim=-1)\n",
        "    result = result[:,torch.where(result[0]>-1)[0]]\n",
        "    return result\n",
        "  else:\n",
        "    return torch.randn((2, 1))"
      ],
      "metadata": {
        "id": "vMyux7JYvApm"
      },
      "execution_count": 17,
      "outputs": []
    },
    {
      "cell_type": "code",
      "source": [
        "def build_edge_indices_and_indices_with_groups(edge_index_tensor_by_groups):\n",
        "  if(edge_index_tensor_by_groups.shape[0]>0):\n",
        "    edge_indices = torch.cat([edge_index_tensor_by_groups[i] for i in range(edge_index_tensor_by_groups.shape[0])],dim=-1)\n",
        "    indices = torch.cat([torch.full((edge_index_tensor_by_groups[i].shape[-1],), i) for i in range(edge_index_tensor_by_groups.shape[0])], dim=-1)\n",
        "    indices = indices[edge_indices[0]>=0].view(-1,1)\n",
        "    edge_indices = edge_indices[edge_indices>=0].view(2,-1)\n",
        "    return edge_indices, indices\n",
        "  else:\n",
        "    return torch.randn((2, 1)), torch.randn((2,1))"
      ],
      "metadata": {
        "id": "qDYQfNHWs0kD"
      },
      "execution_count": 18,
      "outputs": []
    },
    {
      "cell_type": "code",
      "source": [
        "def calculate_compatiblity_score(x,edge_indices, indices):\n",
        "  target = torch.zeros((indices.max()+1,1)).to(device)\n",
        "  y = x[edge_indices]\n",
        "  y = (y[0] * y[1]).sum(dim=-1,keepdim=True)\n",
        "  target.scatter_reduce_(0, index=indices, src=y, reduce=\"mean\",include_self=False)\n",
        "  return target.squeeze()"
      ],
      "metadata": {
        "id": "0UFXb2sdtbIs"
      },
      "execution_count": 58,
      "outputs": []
    },
    {
      "cell_type": "code",
      "source": [
        "edge_indices, indices = build_edge_indices_and_indices_with_groups(train_edge_index[:100])\n",
        "tar = calculate_compatiblity_score(x, edge_indices.to(device), indices.to(device))\n",
        "tar.shape"
      ],
      "metadata": {
        "colab": {
          "base_uri": "https://localhost:8080/"
        },
        "id": "9omElxF8wsxP",
        "outputId": "9f6388a5-49f2-4513-8176-492fdbcb442c"
      },
      "execution_count": 20,
      "outputs": [
        {
          "output_type": "execute_result",
          "data": {
            "text/plain": [
              "torch.Size([100])"
            ]
          },
          "metadata": {},
          "execution_count": 20
        }
      ]
    },
    {
      "cell_type": "code",
      "source": [
        "tar"
      ],
      "metadata": {
        "id": "bSuOez0A9vnb",
        "outputId": "7e918485-704c-40e8-dec0-5468d697fe1b",
        "colab": {
          "base_uri": "https://localhost:8080/"
        }
      },
      "execution_count": 21,
      "outputs": [
        {
          "output_type": "execute_result",
          "data": {
            "text/plain": [
              "tensor([419.0509, 448.1321, 498.0437, 350.9666, 482.6711, 432.8515, 464.9888,\n",
              "        421.7769, 387.6389, 462.8925, 415.8946, 512.3922, 370.9036, 516.5302,\n",
              "        437.6462, 405.2110, 409.5149, 472.8797, 411.3566, 351.5302, 313.0767,\n",
              "        408.7160, 387.6802, 406.1909, 557.4059, 387.4788, 398.7500, 429.7994,\n",
              "        505.3622, 519.9713, 412.5199, 386.3550, 376.0437, 410.2458, 380.0667,\n",
              "        442.0264, 322.8790, 417.3535, 459.7623, 382.7239, 399.0750, 400.9355,\n",
              "        506.4187, 375.6386, 372.9266, 386.4139, 361.3969, 417.6104, 420.8267,\n",
              "        448.8434, 382.7982, 497.8201, 474.0064, 460.6767, 370.1786, 477.3382,\n",
              "        489.0884, 526.3711, 427.1512, 452.3283, 366.3074, 381.6527, 442.7252,\n",
              "        483.2226, 408.2810, 605.6363, 472.3602, 416.8810, 435.1624, 419.9797,\n",
              "        458.6159, 552.3799, 396.3334, 376.8961, 478.1298, 391.7595, 441.3335,\n",
              "        468.1162, 432.7667, 542.0621, 488.4359, 472.3268, 431.1635, 428.4202,\n",
              "        449.2213, 438.7948, 396.9152, 440.7265, 455.7757, 376.1034, 456.8265,\n",
              "        429.2880, 362.2111, 372.2627, 427.9365, 448.6025, 498.0580, 439.3594,\n",
              "        494.8027, 427.5661], device='cuda:0')"
            ]
          },
          "metadata": {},
          "execution_count": 21
        }
      ]
    },
    {
      "cell_type": "code",
      "source": [
        "res = get_node_embedding_with_mask_meaningless_edge_index_elements(x, train_edge_index[:100].to(device))\n",
        "res = (res[:,0] * res[:,1]).sum(dim=(-1,-2)) / ((train_edge_index[:100])[:,:1,:]>=0).sum(dim=(-1,-2)).to(device)\n",
        "res"
      ],
      "metadata": {
        "id": "qTDz5PsH-AL5",
        "outputId": "f4dafcb4-d373-47cd-912a-941a5a84437e",
        "colab": {
          "base_uri": "https://localhost:8080/"
        }
      },
      "execution_count": 22,
      "outputs": [
        {
          "output_type": "execute_result",
          "data": {
            "text/plain": [
              "tensor([419.0509, 448.1322, 498.0437, 350.9666, 482.6711, 432.8515, 464.9888,\n",
              "        421.7769, 387.6389, 462.8926, 415.8946, 512.3921, 370.9036, 516.5302,\n",
              "        437.6462, 405.2111, 409.5149, 472.8797, 411.3566, 351.5302, 313.0767,\n",
              "        408.7160, 387.6801, 406.1909, 557.4059, 387.4788, 398.7500, 429.7993,\n",
              "        505.3622, 519.9713, 412.5199, 386.3549, 376.0437, 410.2457, 380.0667,\n",
              "        442.0264, 322.8790, 417.3535, 459.7622, 382.7239, 399.0750, 400.9355,\n",
              "        506.4188, 375.6386, 372.9266, 386.4139, 361.3969, 417.6104, 420.8268,\n",
              "        448.8435, 382.7982, 497.8201, 474.0064, 460.6767, 370.1786, 477.3383,\n",
              "        489.0885, 526.3711, 427.1512, 452.3283, 366.3075, 381.6527, 442.7252,\n",
              "        483.2226, 408.2809, 605.6362, 472.3602, 416.8810, 435.1624, 419.9797,\n",
              "        458.6159, 552.3799, 396.3334, 376.8961, 478.1298, 391.7595, 441.3335,\n",
              "        468.1162, 432.7667, 542.0621, 488.4358, 472.3268, 431.1634, 428.4202,\n",
              "        449.2213, 438.7948, 396.9152, 440.7265, 455.7756, 376.1034, 456.8265,\n",
              "        429.2880, 362.2111, 372.2627, 427.9365, 448.6026, 498.0580, 439.3594,\n",
              "        494.8027, 427.5662], device='cuda:0')"
            ]
          },
          "metadata": {},
          "execution_count": 22
        }
      ]
    },
    {
      "cell_type": "code",
      "source": [
        "import gc\n",
        "\n",
        "gc.collect()\n",
        "\n",
        "torch.cuda.empty_cache()"
      ],
      "metadata": {
        "id": "vy64DdkJ_BCY"
      },
      "execution_count": null,
      "outputs": []
    },
    {
      "cell_type": "code",
      "source": [
        "from torch import nn\n",
        "import torch.nn.functional as F\n",
        "from torch_geometric.nn import GCNConv, GATConv,MessagePassing\n",
        "from torch_geometric.utils import to_undirected\n",
        "from torch.utils.data import DataLoader, TensorDataset\n",
        "\n",
        "\n",
        "import torch.optim as optim"
      ],
      "metadata": {
        "id": "n78uETa0vUTG"
      },
      "execution_count": 23,
      "outputs": []
    },
    {
      "cell_type": "code",
      "source": [
        "class MyGCNMLP(MessagePassing):\n",
        "  def __init__(self,in_channels, out_channels, bias):\n",
        "    super(MyGCNMLP, self).__init__()\n",
        "\n",
        "    self.lin = torch.nn.Linear(in_channels, out_channels, bias)\n",
        "\n",
        "\n",
        "  def forward(self, x, edge_index):\n",
        "    return self.lin(x)"
      ],
      "metadata": {
        "id": "RANzvxNZJatA"
      },
      "execution_count": 24,
      "outputs": []
    },
    {
      "cell_type": "code",
      "source": [
        "class StyleMindGCN(nn.Module):\n",
        "  def __init__(self, in_channels, hidden_channels, out_channels ,number_of_layers, model_type=\"GCN\" , dropout=0.5, learning_margin=False):\n",
        "    super(StyleMindGCN,self).__init__()\n",
        "\n",
        "    self.convs = torch.nn.ModuleList([self.get_model(model_type)(in_channels if i==0 else hidden_channels,hidden_channels if i<number_of_layers-1 else out_channels, bias=False if i<number_of_layers-1 else True) for i in range(number_of_layers)])\n",
        "    self.bns = torch.nn.ModuleList([torch.nn.BatchNorm1d(hidden_channels) for i in range(number_of_layers-1)])\n",
        "\n",
        "    self.learning_margin = learning_margin\n",
        "    if self.learning_margin:\n",
        "      self.final_prediction_margin = torch.nn.Parameter(torch.tensor(0.0))\n",
        "    else:\n",
        "      self.final_prediction_margin = torch.tensor(0.0)\n",
        "\n",
        "    self.dropout = dropout\n",
        "\n",
        "\n",
        "  def reset_parameters(self):\n",
        "    for conv in self.convs:\n",
        "        conv.reset_parameters()\n",
        "    for bn in self.bns:\n",
        "        bn.reset_parameters()\n",
        "\n",
        "\n",
        "  def get_model(self, model_type):\n",
        "    if(model_type==\"GAT\"):\n",
        "      return GATConv\n",
        "    elif(model_type==\"MLP\"):\n",
        "      return MyGCNMLP\n",
        "\n",
        "    else:\n",
        "      return GCNConv\n",
        "\n",
        "  def forward(self, x, edge_index, outfits_edge_indices,outfits_indices):\n",
        "    # x is the tensor of node_features (i.e. ResNet representation of each image of each garment)\n",
        "    # edge_index is the (2, |E|) to represent edges between garments\n",
        "    # outfits_edge_indices is 2 dim tensors with shape of (2,|number_of_pairs|)\n",
        "    # outfits_indices is 2 dim tensors with shape of (|number_of_pairs|, 1)\n",
        "    edge_index = to_undirected(edge_index)\n",
        "\n",
        "    for conv, bn in zip(self.convs[:-1], self.bns):\n",
        "      x = conv(x, edge_index)\n",
        "      x = bn(x)\n",
        "      x = F.relu(x)\n",
        "      x = F.dropout(x, self.dropout)\n",
        "\n",
        "    x = self.convs[-1](x,edge_index)\n",
        "\n",
        "    o = calculate_compatiblity_score(x, outfits_edge_indices,outfits_indices)\n",
        "    return x, o+self.final_prediction_margin\n"
      ],
      "metadata": {
        "id": "hiDfVi00vJdO"
      },
      "execution_count": 79,
      "outputs": []
    },
    {
      "cell_type": "code",
      "source": [
        "def train(model, x, edge_index, outfits_edge_indices,outfits_indices, labels, optimizer, loss_fn):\n",
        "  model.train()\n",
        "  optimizer.zero_grad()\n",
        "  embds,o = model(x, edge_index, outfits_edge_indices,outfits_indices)\n",
        "\n",
        "  loss = loss_fn(o, labels)\n",
        "  loss.backward()\n",
        "\n",
        "  optimizer.step()\n",
        "\n",
        "  return loss.item()"
      ],
      "metadata": {
        "id": "km5pFkE_5CLC"
      },
      "execution_count": 43,
      "outputs": []
    },
    {
      "cell_type": "code",
      "source": [
        "@torch.no_grad()\n",
        "def test(model, x, edge_index, outfits_edge_indices,outfits_indices, labels, decision_boundary=0.5):\n",
        "  model.eval()\n",
        "\n",
        "  embds,o = model(x, edge_index, outfits_edge_indices,outfits_indices)\n",
        "  o = torch.sigmoid(o)\n",
        "  o_pred = torch.where(o>=decision_boundary, torch.tensor(1), torch.tensor(0))\n",
        "\n",
        "  acc = (o_pred==labels).float().sum() / o_pred.shape[0]\n",
        "\n",
        "  return  acc"
      ],
      "metadata": {
        "id": "83SDJGCQ7Khn"
      },
      "execution_count": 80,
      "outputs": []
    },
    {
      "cell_type": "code",
      "source": [
        "in_channels = x.shape[-1]\n",
        "hidden_channels = 128\n",
        "out_channels = 128\n",
        "lr = 0.01\n",
        "number_of_layers = 3\n",
        "dropout = 0.5"
      ],
      "metadata": {
        "id": "_9GDYCrF8hNW"
      },
      "execution_count": 81,
      "outputs": []
    },
    {
      "cell_type": "code",
      "source": [
        "model = StyleMindGCN(in_channels, hidden_channels\n",
        "                     ,out_channels, number_of_layers,\"GCN\", dropout, learning_margin=True).to(device)"
      ],
      "metadata": {
        "id": "vI9dHMxn8lRi"
      },
      "execution_count": 82,
      "outputs": []
    },
    {
      "cell_type": "code",
      "source": [
        "NUM_EPOCHS = 500"
      ],
      "metadata": {
        "id": "eoKQAKK-9tLB"
      },
      "execution_count": 83,
      "outputs": []
    },
    {
      "cell_type": "markdown",
      "source": [
        "# TODO:\n",
        "- [x] splitting train dataset to two part\n",
        "      - message_passing\n",
        "      - labels\n",
        "- [x] negative sampling  \n",
        "  naive negative sampling: We just have randomly selected\n",
        "    8 nodes to combine(2,nodes) to create some negative samples"
      ],
      "metadata": {
        "id": "HRYH1FTNEMz6"
      }
    },
    {
      "cell_type": "code",
      "source": [
        "%%time\n",
        "def split_train_data(train_edge_index, diameter=5):\n",
        "  edge_nums =  train_edge_index.shape[0]\n",
        "  random_permutation = torch.randperm(edge_nums)\n",
        "  eval_outfits = train_edge_index[random_permutation[:edge_nums//diameter]]\n",
        "  message_passing_edges = build_edge_indices_with_groups(train_edge_index[random_permutation[edge_nums//diameter:]])\n",
        "  return eval_outfits, message_passing_edges\n",
        "\n",
        "a = split_train_data(train_edge_index)\n",
        "[value.shape for  value in a]"
      ],
      "metadata": {
        "colab": {
          "base_uri": "https://localhost:8080/"
        },
        "id": "lPILhMhvEyqD",
        "outputId": "86fbe7e3-ccd1-44d8-bc0f-6ae0423e8576"
      },
      "execution_count": 31,
      "outputs": [
        {
          "output_type": "stream",
          "name": "stdout",
          "text": [
            "CPU times: user 246 ms, sys: 177 ms, total: 423 ms\n",
            "Wall time: 426 ms\n"
          ]
        },
        {
          "output_type": "execute_result",
          "data": {
            "text/plain": [
              "[torch.Size([10661, 2, 171]), torch.Size([2, 547465])]"
            ]
          },
          "metadata": {},
          "execution_count": 31
        }
      ]
    },
    {
      "cell_type": "markdown",
      "source": [
        "# Naive negative sampling"
      ],
      "metadata": {
        "id": "gMQC8BPG6_J5"
      }
    },
    {
      "cell_type": "code",
      "source": [
        "%%time\n",
        "import torch\n",
        "import itertools\n",
        "\n",
        "def create_random_negative_samples(num_set, num_samples, num_garment, padding_size):\n",
        "  combinations = [[list(itertools.combinations(torch.randperm(x.shape[0])[:num_garment].tolist(), 2)) for i in range(num_samples)] for j in range(num_set)]\n",
        "\n",
        "  tensor = torch.tensor(combinations).transpose(-1,-2)\n",
        "  tensor = torch.cat((tensor.flip(-2), tensor), dim=-1)\n",
        "  result = torch.full((num_set, num_samples, 2, padding_size), -1)\n",
        "  result[:,:,:,:tensor.shape[-1]] = tensor\n",
        "  return result\n",
        "\n",
        "# negative_samples = create_random_negative_samples(10, 5000, 8, train_edge_index.shape[-1])\n",
        "# negative_samples.shape"
      ],
      "metadata": {
        "colab": {
          "base_uri": "https://localhost:8080/"
        },
        "id": "6Q0oLDysG7ym",
        "outputId": "67ac0f7e-916d-44c0-a684-9b0273a98563"
      },
      "execution_count": null,
      "outputs": [
        {
          "output_type": "stream",
          "name": "stdout",
          "text": [
            "CPU times: user 11 µs, sys: 0 ns, total: 11 µs\n",
            "Wall time: 14.8 µs\n"
          ]
        }
      ]
    },
    {
      "cell_type": "code",
      "source": [
        "valid_negative_samples = create_random_negative_samples(1, valid_edge_index.shape[0],8, valid_edge_index.shape[-1])[0]\n",
        "test_negative_samples = create_random_negative_samples(1, test_edge_index.shape[0],8, test_edge_index.shape[-1])[0]\n",
        "valid_negative_samples.shape, test_negative_samples.shape"
      ],
      "metadata": {
        "colab": {
          "base_uri": "https://localhost:8080/"
        },
        "id": "kjoBWZt0v-15",
        "outputId": "b5776d0b-73c1-4d49-9e4a-02f252471fef"
      },
      "execution_count": null,
      "outputs": [
        {
          "output_type": "execute_result",
          "data": {
            "text/plain": [
              "(torch.Size([5000, 2, 91]), torch.Size([10000, 2, 136]))"
            ]
          },
          "metadata": {},
          "execution_count": 32
        }
      ]
    },
    {
      "cell_type": "code",
      "source": [
        "def get_data_splits(train_edges_split_ratio=5):\n",
        "  train_positives_eval_outfits, train_message_passing_edges = split_train_data(train_edge_index, train_edges_split_ratio)\n",
        "  train_negatives_eval_outfits = negative_train_edge_index[torch.randperm(negative_train_edge_index.shape[0])[:train_positives_eval_outfits.shape[0]]]\n",
        "  train_labels = torch.cat((torch.ones(train_positives_eval_outfits.shape[0]),\n",
        "                            torch.zeros(train_negatives_eval_outfits.shape[0])))\n",
        "  train_eval_outfits = torch.cat((train_positives_eval_outfits, train_negatives_eval_outfits), dim=0)\n",
        "  train_outfits_edge_indices,train_outfits_indices= build_edge_indices_and_indices_with_groups(train_eval_outfits)\n",
        "\n",
        "  valid_message_passing_edges = torch.cat((train_outfits_edge_indices, train_message_passing_edges), dim=-1)\n",
        "  valid_labels = torch.cat((torch.ones(valid_edge_index.shape[0]),\n",
        "                              torch.zeros(valid_negative_samples.shape[0])))\n",
        "\n",
        "  valid_eval_outfits = torch.cat((valid_edge_index, valid_negative_samples), dim=0)\n",
        "  valid_outfits_edge_indices,valid_outfits_indices= build_edge_indices_and_indices_with_groups(valid_eval_outfits)\n",
        "\n",
        "\n",
        "  test_message_passing_edges = torch.cat((valid_outfits_edge_indices,valid_message_passing_edges), dim=-1)\n",
        "  test_labels = torch.cat((torch.ones(test_edge_index.shape[0]),\n",
        "                          torch.zeros(test_negative_samples.shape[0])))\n",
        "  test_eval_outfits = torch.cat((test_edge_index, test_negative_samples), dim=0)\n",
        "  test_outfits_edge_indices,test_outfits_indices= build_edge_indices_and_indices_with_groups(test_eval_outfits)\n",
        "  return {\n",
        "      'test':{\n",
        "          'outfits_edge_indices': test_outfits_edge_indices,\n",
        "          'outfits_indices': test_outfits_indices,\n",
        "          'labels': test_labels,\n",
        "          'message_passings':test_message_passing_edges,\n",
        "          'outfits':test_eval_outfits\n",
        "      },\n",
        "      'valid':{\n",
        "          'outfits_edge_indices': valid_outfits_edge_indices,\n",
        "          'outfits_indices': valid_outfits_indices,\n",
        "          'labels': valid_labels,\n",
        "          'message_passings':valid_message_passing_edges,\n",
        "          'outfits':valid_eval_outfits\n",
        "      },\n",
        "      'train':{\n",
        "          'outfits_edge_indices': train_outfits_edge_indices,\n",
        "          'outfits_indices': train_outfits_indices,\n",
        "          'labels': train_labels,\n",
        "          'message_passings':train_message_passing_edges,\n",
        "          'outfits':train_eval_outfits\n",
        "      }\n",
        "  }"
      ],
      "metadata": {
        "id": "vWMoIdWRr0iL"
      },
      "execution_count": 123,
      "outputs": []
    },
    {
      "cell_type": "markdown",
      "source": [
        "# untrained model behaviour"
      ],
      "metadata": {
        "id": "c6QUPsdEl1fd"
      }
    },
    {
      "cell_type": "code",
      "source": [
        "model2 = StyleMindGCN(in_channels, hidden_channels\n",
        "                     ,out_channels, number_of_layers,\"GCN\", dropout, learning_margin=True).to(device)"
      ],
      "metadata": {
        "id": "MI3LmxrPaqWa"
      },
      "execution_count": 87,
      "outputs": []
    },
    {
      "cell_type": "code",
      "source": [
        "test_acc = test(model2, x, data_splits['test']['message_passings'].to(device)\n",
        "    , data_splits['test']['outfits_edge_indices'].to(device),\n",
        "      data_splits['test']['outfits_indices'].to(device), data_splits['test']['labels'].to(device))\n",
        "with torch.no_grad():\n",
        "  embd, o = model2(x, data_splits['test']['message_passings'].to(device),\n",
        "      data_splits['test']['outfits_edge_indices'].to(device),\n",
        "        data_splits['test']['outfits_indices'].to(device))\n",
        "\n",
        "\n",
        "embd= embd.cpu()\n",
        "o = o.cpu()\n",
        "\n",
        "print(test_acc)"
      ],
      "metadata": {
        "id": "JfihuP9Zasza",
        "outputId": "7980e6c4-23c0-450d-d80f-c22a3e791238",
        "colab": {
          "base_uri": "https://localhost:8080/"
        }
      },
      "execution_count": 88,
      "outputs": [
        {
          "output_type": "stream",
          "name": "stdout",
          "text": [
            "tensor(0.4999, device='cuda:0')\n"
          ]
        }
      ]
    },
    {
      "cell_type": "code",
      "source": [
        "plot_histogram(o[:o.shape[0]//2], \"inner product only model positives\")\n",
        "plot_histogram(o[o.shape[0]//2:], \"inner product only model negatives\")\n",
        "plot_histogram(torch.sigmoid(o[:o.shape[0]//2]), \"inner product only model positives sigmoid\")\n",
        "plot_histogram(torch.sigmoid(o[o.shape[0]//2:]), \"inner product only model negatives sigmoid\")"
      ],
      "metadata": {
        "colab": {
          "base_uri": "https://localhost:8080/",
          "height": 1000
        },
        "id": "zHhYmznsmgX2",
        "outputId": "0ab6e29a-54e6-474e-b766-764c66f71215"
      },
      "execution_count": 89,
      "outputs": [
        {
          "output_type": "display_data",
          "data": {
            "text/plain": [
              "<Figure size 640x480 with 1 Axes>"
            ],
            "image/png": "[encoded data removed]"
          },
          "metadata": {}
        },
        {
          "output_type": "display_data",
          "data": {
            "text/plain": [
              "<Figure size 640x480 with 1 Axes>"
            ],
            "image/png": "[encoded data removed]"
          },
          "metadata": {}
        },
        {
          "output_type": "display_data",
          "data": {
            "text/plain": [
              "<Figure size 640x480 with 1 Axes>"
            ],
            "image/png": "[encoded data removed]"
          },
          "metadata": {}
        },
        {
          "output_type": "display_data",
          "data": {
            "text/plain": [
              "<Figure size 640x480 with 1 Axes>"
            ],
            "image/png": "[encoded data removed]"
          },
          "metadata": {}
        }
      ]
    },
    {
      "cell_type": "code",
      "source": [
        "positives = o[:o.shape[0]//2]\n",
        "negatives = o[o.shape[0]//2:]\n",
        "\n",
        "pacc = (positives >= 0).float().sum() / positives.shape[0]\n",
        "nacc = (negatives < 0).float().sum() / negatives.shape[0]\n",
        "pacc * 0.5 + nacc*0.5"
      ],
      "metadata": {
        "id": "WTOJ5oxP3Z2B",
        "outputId": "fd28f882-27cc-4772-9434-e1e53e5d82f1",
        "colab": {
          "base_uri": "https://localhost:8080/"
        }
      },
      "execution_count": null,
      "outputs": [
        {
          "output_type": "execute_result",
          "data": {
            "text/plain": [
              "tensor(0.5114)"
            ]
          },
          "metadata": {},
          "execution_count": 60
        }
      ]
    },
    {
      "cell_type": "code",
      "source": [
        "free_cuda_memory(model)"
      ],
      "metadata": {
        "id": "aPwWderM5EFq"
      },
      "execution_count": null,
      "outputs": []
    },
    {
      "cell_type": "markdown",
      "source": [
        "# Decision boundary\n",
        "\n",
        "based on the diagram above, we decided to define the decision boundary of 0.7\n"
      ],
      "metadata": {
        "id": "hwIb7sc1GZS7"
      }
    },
    {
      "cell_type": "code",
      "source": [
        "save_model(model, datasets_path, \"StyleMind-GCN, only inner product of embedding are used.\")"
      ],
      "metadata": {
        "colab": {
          "base_uri": "https://localhost:8080/",
          "height": 164
        },
        "id": "okmwZ_SeEpYe",
        "outputId": "791702eb-d3bf-4fe6-878b-1c4d7146d2ee"
      },
      "execution_count": null,
      "outputs": [
        {
          "output_type": "error",
          "ename": "NameError",
          "evalue": "name 'save_model' is not defined",
          "traceback": [
            "\u001b[0;31m---------------------------------------------------------------------------\u001b[0m",
            "\u001b[0;31mNameError\u001b[0m                                 Traceback (most recent call last)",
            "\u001b[0;32m<ipython-input-38-3e3eed2a7bf8>\u001b[0m in \u001b[0;36m<cell line: 0>\u001b[0;34m()\u001b[0m\n\u001b[0;32m----> 1\u001b[0;31m \u001b[0msave_model\u001b[0m\u001b[0;34m(\u001b[0m\u001b[0mmodel\u001b[0m\u001b[0;34m,\u001b[0m \u001b[0mdatasets_path\u001b[0m\u001b[0;34m,\u001b[0m \u001b[0;34m\"StyleMind-GCN, only inner product of embedding are used.\"\u001b[0m\u001b[0;34m)\u001b[0m\u001b[0;34m\u001b[0m\u001b[0;34m\u001b[0m\u001b[0m\n\u001b[0m",
            "\u001b[0;31mNameError\u001b[0m: name 'save_model' is not defined"
          ]
        }
      ]
    },
    {
      "cell_type": "markdown",
      "source": [
        "#Adding bias to sigmoid inputs"
      ],
      "metadata": {
        "id": "OhVMKDOkn8vB"
      }
    },
    {
      "cell_type": "code",
      "source": [
        "import copy"
      ],
      "metadata": {
        "id": "TlnNhG5kpz2K"
      },
      "execution_count": 33,
      "outputs": []
    },
    {
      "cell_type": "code",
      "source": [
        "model.reset_parameters()\n",
        "\n",
        "losses = []\n",
        "test_accs = []\n",
        "\n",
        "best_test_acc = 0\n",
        "best_model = None\n",
        "\n",
        "optimizer = optim.Adam(model.parameters(), lr)\n",
        "loss_fn = nn.BCEWithLogitsLoss()\n",
        "\n",
        "x = x.to(device)\n",
        "for epoch in range(NUM_EPOCHS):\n",
        "\n",
        "    data_splits = get_data_splits(5)\n",
        "    train_loss = train(model, x, data_splits['train']['message_passings'].to(device)\n",
        "    , data_splits['train']['outfits_edge_indices'].to(device),\n",
        "      data_splits['train']['outfits_indices'].to(device), data_splits['train']['labels'].to(device),\n",
        "                       loss_fn=loss_fn, optimizer=optimizer)\n",
        "    train_acc = test(model, x, data_splits['train']['message_passings'].to(device)\n",
        "    , data_splits['train']['outfits_edge_indices'].to(device),\n",
        "      data_splits['train']['outfits_indices'].to(device), data_splits['train']['labels'].to(device))\n",
        "    valid_acc = test(model, x, data_splits['valid']['message_passings'].to(device)\n",
        "    , data_splits['valid']['outfits_edge_indices'].to(device),\n",
        "      data_splits['valid']['outfits_indices'].to(device), data_splits['valid']['labels'].to(device))\n",
        "    test_acc = test(model, x, data_splits['test']['message_passings'].to(device)\n",
        "    , data_splits['test']['outfits_edge_indices'].to(device),\n",
        "      data_splits['test']['outfits_indices'].to(device), data_splits['test']['labels'].to(device))\n",
        "\n",
        "    if(test_acc > best_test_acc):\n",
        "        best_test_acc = test_acc\n",
        "        best_model = copy.deepcopy(model)\n",
        "\n",
        "    losses.append(train_loss)\n",
        "    test_accs.append(test_acc)\n",
        "    print(f'Epoch: {epoch:02d}, '\n",
        "          f'Loss: {train_loss:.4f}, '\n",
        "          f'Train: {100 * train_acc:.2f}%, '\n",
        "          f'Valid: {100 * valid_acc:.2f}% '\n",
        "          f'Test: {100 * test_acc:.2f}%')\n"
      ],
      "metadata": {
        "colab": {
          "base_uri": "https://localhost:8080/"
        },
        "id": "Vq0qVTG5oDJJ",
        "outputId": "e1e196d7-d884-4e31-87b4-7ad64a0992ec"
      },
      "execution_count": 98,
      "outputs": [
        {
          "output_type": "stream",
          "name": "stdout",
          "text": [
            "Epoch: 00, Loss: 0.3220, Train: 87.41%, Valid: 86.71% Test: 83.29%\n",
            "Epoch: 01, Loss: 0.3221, Train: 86.87%, Valid: 86.62% Test: 83.31%\n",
            "Epoch: 02, Loss: 0.3215, Train: 87.20%, Valid: 86.61% Test: 82.46%\n",
            "Epoch: 03, Loss: 0.3137, Train: 86.98%, Valid: 86.70% Test: 82.73%\n",
            "Epoch: 04, Loss: 0.3159, Train: 86.69%, Valid: 86.69% Test: 81.79%\n",
            "Epoch: 05, Loss: 0.3150, Train: 86.79%, Valid: 86.30% Test: 81.78%\n",
            "Epoch: 06, Loss: 0.3197, Train: 86.44%, Valid: 86.03% Test: 81.17%\n",
            "Epoch: 07, Loss: 0.3115, Train: 86.98%, Valid: 86.16% Test: 81.33%\n",
            "Epoch: 08, Loss: 0.3166, Train: 86.62%, Valid: 86.53% Test: 81.82%\n",
            "Epoch: 09, Loss: 0.3126, Train: 87.14%, Valid: 86.81% Test: 82.91%\n",
            "Epoch: 10, Loss: 0.3126, Train: 87.45%, Valid: 87.01% Test: 83.48%\n",
            "Epoch: 11, Loss: 0.3145, Train: 87.90%, Valid: 87.69% Test: 84.19%\n",
            "Epoch: 12, Loss: 0.3159, Train: 87.85%, Valid: 87.55% Test: 84.28%\n",
            "Epoch: 13, Loss: 0.3096, Train: 87.71%, Valid: 87.83% Test: 85.38%\n",
            "Epoch: 14, Loss: 0.3180, Train: 87.51%, Valid: 88.35% Test: 85.56%\n",
            "Epoch: 15, Loss: 0.3169, Train: 87.42%, Valid: 87.90% Test: 85.70%\n",
            "Epoch: 16, Loss: 0.3151, Train: 88.05%, Valid: 88.02% Test: 85.64%\n",
            "Epoch: 17, Loss: 0.3162, Train: 87.64%, Valid: 87.63% Test: 84.58%\n",
            "Epoch: 18, Loss: 0.3126, Train: 87.66%, Valid: 86.96% Test: 83.21%\n",
            "Epoch: 19, Loss: 0.3096, Train: 87.37%, Valid: 86.82% Test: 82.08%\n",
            "Epoch: 20, Loss: 0.3103, Train: 87.40%, Valid: 86.25% Test: 81.86%\n",
            "Epoch: 21, Loss: 0.3097, Train: 87.10%, Valid: 85.85% Test: 81.51%\n",
            "Epoch: 22, Loss: 0.3129, Train: 86.91%, Valid: 86.59% Test: 81.76%\n",
            "Epoch: 23, Loss: 0.3160, Train: 86.66%, Valid: 86.04% Test: 81.42%\n",
            "Epoch: 24, Loss: 0.3154, Train: 86.71%, Valid: 86.12% Test: 81.79%\n",
            "Epoch: 25, Loss: 0.3088, Train: 86.89%, Valid: 86.48% Test: 81.76%\n",
            "Epoch: 26, Loss: 0.3143, Train: 86.88%, Valid: 86.17% Test: 81.95%\n",
            "Epoch: 27, Loss: 0.3082, Train: 87.31%, Valid: 86.96% Test: 82.70%\n",
            "Epoch: 28, Loss: 0.3145, Train: 87.65%, Valid: 87.16% Test: 83.56%\n",
            "Epoch: 29, Loss: 0.3100, Train: 87.33%, Valid: 87.72% Test: 83.82%\n",
            "Epoch: 30, Loss: 0.3047, Train: 87.64%, Valid: 87.32% Test: 84.10%\n",
            "Epoch: 31, Loss: 0.3070, Train: 88.06%, Valid: 87.45% Test: 84.10%\n",
            "Epoch: 32, Loss: 0.3117, Train: 88.06%, Valid: 87.01% Test: 84.82%\n",
            "Epoch: 33, Loss: 0.3100, Train: 88.30%, Valid: 87.83% Test: 86.29%\n",
            "Epoch: 34, Loss: 0.3103, Train: 88.15%, Valid: 87.70% Test: 86.57%\n",
            "Epoch: 35, Loss: 0.3118, Train: 87.76%, Valid: 88.09% Test: 87.17%\n",
            "Epoch: 36, Loss: 0.3113, Train: 87.40%, Valid: 88.11% Test: 87.17%\n",
            "Epoch: 37, Loss: 0.3125, Train: 87.44%, Valid: 88.39% Test: 87.11%\n",
            "Epoch: 38, Loss: 0.3129, Train: 86.96%, Valid: 88.29% Test: 87.16%\n",
            "Epoch: 39, Loss: 0.3079, Train: 87.04%, Valid: 88.45% Test: 86.94%\n",
            "Epoch: 40, Loss: 0.3099, Train: 87.93%, Valid: 88.49% Test: 85.76%\n",
            "Epoch: 41, Loss: 0.3118, Train: 87.73%, Valid: 87.68% Test: 84.53%\n",
            "Epoch: 42, Loss: 0.3121, Train: 86.90%, Valid: 86.90% Test: 82.88%\n",
            "Epoch: 43, Loss: 0.3069, Train: 87.22%, Valid: 86.50% Test: 82.10%\n",
            "Epoch: 44, Loss: 0.3058, Train: 87.31%, Valid: 86.40% Test: 82.06%\n",
            "Epoch: 45, Loss: 0.3086, Train: 87.61%, Valid: 86.51% Test: 82.64%\n",
            "Epoch: 46, Loss: 0.3103, Train: 87.50%, Valid: 87.15% Test: 83.51%\n",
            "Epoch: 47, Loss: 0.3077, Train: 87.72%, Valid: 87.23% Test: 84.19%\n",
            "Epoch: 48, Loss: 0.3149, Train: 87.53%, Valid: 87.45% Test: 84.07%\n",
            "Epoch: 49, Loss: 0.3061, Train: 87.84%, Valid: 87.69% Test: 84.90%\n",
            "Epoch: 50, Loss: 0.3092, Train: 87.99%, Valid: 87.87% Test: 85.64%\n",
            "Epoch: 51, Loss: 0.3065, Train: 87.96%, Valid: 88.24% Test: 86.31%\n",
            "Epoch: 52, Loss: 0.3086, Train: 88.11%, Valid: 88.61% Test: 86.78%\n",
            "Epoch: 53, Loss: 0.3051, Train: 87.97%, Valid: 88.24% Test: 86.99%\n",
            "Epoch: 54, Loss: 0.3028, Train: 88.05%, Valid: 88.51% Test: 87.39%\n",
            "Epoch: 55, Loss: 0.3050, Train: 87.60%, Valid: 88.41% Test: 87.74%\n",
            "Epoch: 56, Loss: 0.3047, Train: 87.57%, Valid: 88.73% Test: 87.86%\n",
            "Epoch: 57, Loss: 0.3090, Train: 87.60%, Valid: 88.69% Test: 87.81%\n",
            "Epoch: 58, Loss: 0.3082, Train: 87.79%, Valid: 88.38% Test: 87.28%\n",
            "Epoch: 59, Loss: 0.3084, Train: 87.80%, Valid: 88.30% Test: 86.21%\n",
            "Epoch: 60, Loss: 0.3039, Train: 88.30%, Valid: 88.10% Test: 85.46%\n",
            "Epoch: 61, Loss: 0.3076, Train: 87.99%, Valid: 88.37% Test: 85.21%\n",
            "Epoch: 62, Loss: 0.3036, Train: 88.20%, Valid: 88.20% Test: 84.81%\n",
            "Epoch: 63, Loss: 0.3029, Train: 88.20%, Valid: 87.49% Test: 84.10%\n",
            "Epoch: 64, Loss: 0.3045, Train: 87.99%, Valid: 87.56% Test: 84.08%\n",
            "Epoch: 65, Loss: 0.3017, Train: 87.79%, Valid: 87.41% Test: 83.62%\n",
            "Epoch: 66, Loss: 0.3100, Train: 87.86%, Valid: 87.13% Test: 83.35%\n",
            "Epoch: 67, Loss: 0.2974, Train: 88.09%, Valid: 87.46% Test: 83.51%\n",
            "Epoch: 68, Loss: 0.3024, Train: 87.72%, Valid: 86.97% Test: 83.41%\n",
            "Epoch: 69, Loss: 0.3081, Train: 87.79%, Valid: 87.24% Test: 83.19%\n",
            "Epoch: 70, Loss: 0.3083, Train: 87.37%, Valid: 86.73% Test: 82.74%\n",
            "Epoch: 71, Loss: 0.3042, Train: 87.76%, Valid: 87.38% Test: 83.49%\n",
            "Epoch: 72, Loss: 0.3032, Train: 88.04%, Valid: 88.02% Test: 85.17%\n",
            "Epoch: 73, Loss: 0.3000, Train: 88.30%, Valid: 88.75% Test: 86.58%\n",
            "Epoch: 74, Loss: 0.3074, Train: 88.05%, Valid: 88.50% Test: 87.04%\n",
            "Epoch: 75, Loss: 0.3006, Train: 88.02%, Valid: 89.02% Test: 87.30%\n",
            "Epoch: 76, Loss: 0.3032, Train: 88.00%, Valid: 88.80% Test: 86.75%\n",
            "Epoch: 77, Loss: 0.3079, Train: 87.76%, Valid: 88.55% Test: 86.94%\n",
            "Epoch: 78, Loss: 0.3068, Train: 87.32%, Valid: 88.52% Test: 87.41%\n",
            "Epoch: 79, Loss: 0.2960, Train: 87.19%, Valid: 88.25% Test: 88.07%\n",
            "Epoch: 80, Loss: 0.3067, Train: 87.16%, Valid: 88.13% Test: 87.85%\n",
            "Epoch: 81, Loss: 0.2979, Train: 87.12%, Valid: 88.41% Test: 87.82%\n",
            "Epoch: 82, Loss: 0.3052, Train: 87.39%, Valid: 88.56% Test: 87.50%\n",
            "Epoch: 83, Loss: 0.2976, Train: 88.06%, Valid: 88.24% Test: 87.20%\n",
            "Epoch: 84, Loss: 0.3055, Train: 88.08%, Valid: 88.39% Test: 87.15%\n",
            "Epoch: 85, Loss: 0.2981, Train: 88.11%, Valid: 88.88% Test: 87.31%\n",
            "Epoch: 86, Loss: 0.3019, Train: 88.26%, Valid: 88.28% Test: 86.42%\n",
            "Epoch: 87, Loss: 0.3033, Train: 87.89%, Valid: 88.00% Test: 84.64%\n",
            "Epoch: 88, Loss: 0.3023, Train: 88.09%, Valid: 87.45% Test: 83.71%\n",
            "Epoch: 89, Loss: 0.3042, Train: 87.70%, Valid: 88.00% Test: 84.64%\n",
            "Epoch: 90, Loss: 0.3053, Train: 87.75%, Valid: 88.60% Test: 85.53%\n",
            "Epoch: 91, Loss: 0.2973, Train: 88.01%, Valid: 88.72% Test: 86.35%\n",
            "Epoch: 92, Loss: 0.2985, Train: 88.02%, Valid: 88.70% Test: 85.85%\n",
            "Epoch: 93, Loss: 0.2981, Train: 88.21%, Valid: 88.57% Test: 86.00%\n",
            "Epoch: 94, Loss: 0.3026, Train: 88.01%, Valid: 88.29% Test: 85.25%\n",
            "Epoch: 95, Loss: 0.3010, Train: 88.04%, Valid: 88.09% Test: 84.90%\n",
            "Epoch: 96, Loss: 0.2973, Train: 88.45%, Valid: 88.61% Test: 85.57%\n",
            "Epoch: 97, Loss: 0.3010, Train: 88.28%, Valid: 88.41% Test: 85.89%\n",
            "Epoch: 98, Loss: 0.2994, Train: 88.54%, Valid: 88.77% Test: 85.83%\n",
            "Epoch: 99, Loss: 0.2981, Train: 88.05%, Valid: 88.24% Test: 85.08%\n",
            "Epoch: 100, Loss: 0.2997, Train: 88.00%, Valid: 88.03% Test: 84.27%\n",
            "Epoch: 101, Loss: 0.3030, Train: 87.94%, Valid: 87.81% Test: 84.07%\n",
            "Epoch: 102, Loss: 0.2988, Train: 88.23%, Valid: 88.32% Test: 84.49%\n",
            "Epoch: 103, Loss: 0.2984, Train: 88.33%, Valid: 88.64% Test: 85.21%\n",
            "Epoch: 104, Loss: 0.3064, Train: 88.34%, Valid: 88.14% Test: 84.58%\n",
            "Epoch: 105, Loss: 0.2980, Train: 88.31%, Valid: 87.77% Test: 84.24%\n",
            "Epoch: 106, Loss: 0.2974, Train: 88.11%, Valid: 87.83% Test: 83.91%\n",
            "Epoch: 107, Loss: 0.2996, Train: 88.36%, Valid: 88.00% Test: 83.70%\n",
            "Epoch: 108, Loss: 0.2962, Train: 88.28%, Valid: 88.51% Test: 84.75%\n",
            "Epoch: 109, Loss: 0.2999, Train: 88.23%, Valid: 88.39% Test: 85.03%\n",
            "Epoch: 110, Loss: 0.3011, Train: 88.20%, Valid: 87.75% Test: 83.81%\n",
            "Epoch: 111, Loss: 0.2957, Train: 88.28%, Valid: 87.90% Test: 83.01%\n",
            "Epoch: 112, Loss: 0.2949, Train: 88.25%, Valid: 87.10% Test: 83.53%\n",
            "Epoch: 113, Loss: 0.2958, Train: 88.29%, Valid: 87.71% Test: 83.91%\n",
            "Epoch: 114, Loss: 0.2972, Train: 88.23%, Valid: 88.15% Test: 84.97%\n",
            "Epoch: 115, Loss: 0.2988, Train: 88.41%, Valid: 88.03% Test: 84.28%\n",
            "Epoch: 116, Loss: 0.3007, Train: 88.05%, Valid: 87.61% Test: 83.83%\n",
            "Epoch: 117, Loss: 0.2964, Train: 88.20%, Valid: 87.52% Test: 83.56%\n",
            "Epoch: 118, Loss: 0.2961, Train: 88.44%, Valid: 88.43% Test: 84.97%\n",
            "Epoch: 119, Loss: 0.2974, Train: 88.14%, Valid: 88.68% Test: 86.35%\n",
            "Epoch: 120, Loss: 0.3011, Train: 88.40%, Valid: 88.78% Test: 86.46%\n",
            "Epoch: 121, Loss: 0.2918, Train: 88.51%, Valid: 88.29% Test: 85.60%\n",
            "Epoch: 122, Loss: 0.2983, Train: 88.28%, Valid: 88.05% Test: 85.16%\n",
            "Epoch: 123, Loss: 0.2955, Train: 88.72%, Valid: 88.54% Test: 85.66%\n",
            "Epoch: 124, Loss: 0.2987, Train: 88.07%, Valid: 88.41% Test: 87.03%\n",
            "Epoch: 125, Loss: 0.2911, Train: 88.36%, Valid: 88.97% Test: 87.89%\n",
            "Epoch: 126, Loss: 0.2939, Train: 88.70%, Valid: 89.13% Test: 87.31%\n",
            "Epoch: 127, Loss: 0.2932, Train: 88.79%, Valid: 88.45% Test: 86.28%\n",
            "Epoch: 128, Loss: 0.2918, Train: 88.56%, Valid: 88.62% Test: 85.83%\n",
            "Epoch: 129, Loss: 0.2956, Train: 88.11%, Valid: 88.74% Test: 85.36%\n",
            "Epoch: 130, Loss: 0.2984, Train: 88.01%, Valid: 88.63% Test: 85.21%\n",
            "Epoch: 131, Loss: 0.2932, Train: 88.54%, Valid: 88.60% Test: 85.36%\n",
            "Epoch: 132, Loss: 0.2986, Train: 87.93%, Valid: 88.04% Test: 84.00%\n",
            "Epoch: 133, Loss: 0.2954, Train: 87.78%, Valid: 87.42% Test: 82.75%\n",
            "Epoch: 134, Loss: 0.2955, Train: 87.52%, Valid: 86.94% Test: 82.42%\n",
            "Epoch: 135, Loss: 0.2983, Train: 87.39%, Valid: 87.25% Test: 83.11%\n",
            "Epoch: 136, Loss: 0.2919, Train: 87.99%, Valid: 87.39% Test: 84.38%\n",
            "Epoch: 137, Loss: 0.2915, Train: 88.33%, Valid: 87.93% Test: 84.77%\n",
            "Epoch: 138, Loss: 0.2927, Train: 88.73%, Valid: 88.22% Test: 85.64%\n",
            "Epoch: 139, Loss: 0.2898, Train: 88.68%, Valid: 88.63% Test: 85.78%\n",
            "Epoch: 140, Loss: 0.2927, Train: 88.65%, Valid: 88.43% Test: 86.18%\n",
            "Epoch: 141, Loss: 0.2964, Train: 88.53%, Valid: 88.53% Test: 86.14%\n",
            "Epoch: 142, Loss: 0.2982, Train: 88.38%, Valid: 89.09% Test: 86.78%\n",
            "Epoch: 143, Loss: 0.2983, Train: 88.22%, Valid: 88.87% Test: 87.88%\n",
            "Epoch: 144, Loss: 0.2976, Train: 88.23%, Valid: 89.41% Test: 87.75%\n",
            "Epoch: 145, Loss: 0.2990, Train: 88.06%, Valid: 89.23% Test: 86.89%\n",
            "Epoch: 146, Loss: 0.2977, Train: 87.63%, Valid: 89.34% Test: 86.18%\n",
            "Epoch: 147, Loss: 0.2923, Train: 87.60%, Valid: 89.01% Test: 85.49%\n",
            "Epoch: 148, Loss: 0.2922, Train: 88.36%, Valid: 87.78% Test: 84.10%\n",
            "Epoch: 149, Loss: 0.2947, Train: 88.14%, Valid: 87.65% Test: 84.67%\n",
            "Epoch: 150, Loss: 0.2945, Train: 87.60%, Valid: 88.06% Test: 85.73%\n",
            "Epoch: 151, Loss: 0.2937, Train: 87.76%, Valid: 88.15% Test: 85.11%\n",
            "Epoch: 152, Loss: 0.2908, Train: 87.72%, Valid: 87.56% Test: 84.93%\n",
            "Epoch: 153, Loss: 0.2977, Train: 87.66%, Valid: 87.40% Test: 84.86%\n",
            "Epoch: 154, Loss: 0.2912, Train: 88.21%, Valid: 87.85% Test: 85.94%\n",
            "Epoch: 155, Loss: 0.2873, Train: 88.52%, Valid: 88.63% Test: 87.85%\n",
            "Epoch: 156, Loss: 0.2896, Train: 87.78%, Valid: 88.60% Test: 88.68%\n",
            "Epoch: 157, Loss: 0.2939, Train: 87.64%, Valid: 88.82% Test: 88.78%\n",
            "Epoch: 158, Loss: 0.2956, Train: 88.00%, Valid: 88.87% Test: 88.11%\n",
            "Epoch: 159, Loss: 0.2882, Train: 88.33%, Valid: 89.13% Test: 87.31%\n",
            "Epoch: 160, Loss: 0.2955, Train: 87.90%, Valid: 89.29% Test: 86.76%\n",
            "Epoch: 161, Loss: 0.2932, Train: 87.46%, Valid: 89.02% Test: 86.43%\n",
            "Epoch: 162, Loss: 0.2924, Train: 87.84%, Valid: 88.59% Test: 85.29%\n",
            "Epoch: 163, Loss: 0.2888, Train: 88.07%, Valid: 88.16% Test: 83.92%\n",
            "Epoch: 164, Loss: 0.2964, Train: 87.91%, Valid: 87.59% Test: 83.81%\n",
            "Epoch: 165, Loss: 0.2922, Train: 87.57%, Valid: 88.04% Test: 83.92%\n",
            "Epoch: 166, Loss: 0.2898, Train: 87.99%, Valid: 87.15% Test: 83.08%\n",
            "Epoch: 167, Loss: 0.2893, Train: 87.84%, Valid: 87.29% Test: 83.56%\n",
            "Epoch: 168, Loss: 0.2924, Train: 87.71%, Valid: 87.18% Test: 82.88%\n",
            "Epoch: 169, Loss: 0.2865, Train: 88.41%, Valid: 87.40% Test: 83.38%\n",
            "Epoch: 170, Loss: 0.2875, Train: 88.62%, Valid: 88.31% Test: 85.00%\n",
            "Epoch: 171, Loss: 0.2921, Train: 88.37%, Valid: 88.83% Test: 86.38%\n",
            "Epoch: 172, Loss: 0.2836, Train: 88.63%, Valid: 88.96% Test: 87.04%\n",
            "Epoch: 173, Loss: 0.2881, Train: 88.20%, Valid: 89.16% Test: 87.75%\n",
            "Epoch: 174, Loss: 0.2885, Train: 88.47%, Valid: 89.29% Test: 87.15%\n",
            "Epoch: 175, Loss: 0.2923, Train: 88.66%, Valid: 89.18% Test: 86.23%\n",
            "Epoch: 176, Loss: 0.2910, Train: 88.76%, Valid: 89.07% Test: 85.57%\n",
            "Epoch: 177, Loss: 0.2850, Train: 88.64%, Valid: 88.80% Test: 85.44%\n",
            "Epoch: 178, Loss: 0.2876, Train: 88.38%, Valid: 88.81% Test: 85.58%\n",
            "Epoch: 179, Loss: 0.2871, Train: 88.15%, Valid: 89.38% Test: 86.07%\n",
            "Epoch: 180, Loss: 0.2883, Train: 88.08%, Valid: 88.82% Test: 86.19%\n",
            "Epoch: 181, Loss: 0.2861, Train: 87.78%, Valid: 88.73% Test: 86.10%\n",
            "Epoch: 182, Loss: 0.2901, Train: 87.65%, Valid: 88.90% Test: 85.59%\n",
            "Epoch: 183, Loss: 0.2823, Train: 88.11%, Valid: 88.96% Test: 85.90%\n",
            "Epoch: 184, Loss: 0.2865, Train: 88.43%, Valid: 88.37% Test: 85.07%\n",
            "Epoch: 185, Loss: 0.2879, Train: 88.44%, Valid: 88.43% Test: 85.00%\n",
            "Epoch: 186, Loss: 0.2894, Train: 88.74%, Valid: 88.36% Test: 85.89%\n",
            "Epoch: 187, Loss: 0.2944, Train: 88.10%, Valid: 89.08% Test: 87.83%\n",
            "Epoch: 188, Loss: 0.2830, Train: 87.66%, Valid: 89.26% Test: 89.17%\n",
            "Epoch: 189, Loss: 0.2862, Train: 87.40%, Valid: 88.92% Test: 89.27%\n",
            "Epoch: 190, Loss: 0.2877, Train: 88.05%, Valid: 89.06% Test: 89.03%\n",
            "Epoch: 191, Loss: 0.2908, Train: 88.59%, Valid: 89.39% Test: 87.68%\n",
            "Epoch: 192, Loss: 0.2882, Train: 88.79%, Valid: 89.33% Test: 87.29%\n",
            "Epoch: 193, Loss: 0.2830, Train: 89.01%, Valid: 89.19% Test: 86.71%\n",
            "Epoch: 194, Loss: 0.2888, Train: 88.60%, Valid: 89.31% Test: 86.86%\n",
            "Epoch: 195, Loss: 0.2863, Train: 88.83%, Valid: 89.02% Test: 86.53%\n",
            "Epoch: 196, Loss: 0.2881, Train: 88.93%, Valid: 89.07% Test: 85.46%\n",
            "Epoch: 197, Loss: 0.2832, Train: 88.72%, Valid: 88.95% Test: 85.11%\n",
            "Epoch: 198, Loss: 0.2852, Train: 88.30%, Valid: 89.37% Test: 85.13%\n",
            "Epoch: 199, Loss: 0.2835, Train: 88.31%, Valid: 89.24% Test: 86.02%\n",
            "Epoch: 200, Loss: 0.2904, Train: 87.23%, Valid: 89.01% Test: 87.44%\n",
            "Epoch: 201, Loss: 0.2897, Train: 85.32%, Valid: 88.51% Test: 88.13%\n",
            "Epoch: 202, Loss: 0.2828, Train: 82.68%, Valid: 87.17% Test: 87.18%\n",
            "Epoch: 203, Loss: 0.2903, Train: 83.54%, Valid: 87.52% Test: 87.92%\n",
            "Epoch: 204, Loss: 0.2850, Train: 86.19%, Valid: 89.01% Test: 88.28%\n",
            "Epoch: 205, Loss: 0.2870, Train: 87.12%, Valid: 89.64% Test: 87.72%\n",
            "Epoch: 206, Loss: 0.2884, Train: 88.48%, Valid: 89.19% Test: 86.00%\n",
            "Epoch: 207, Loss: 0.2844, Train: 88.85%, Valid: 88.76% Test: 85.50%\n",
            "Epoch: 208, Loss: 0.2803, Train: 89.06%, Valid: 88.77% Test: 85.25%\n",
            "Epoch: 209, Loss: 0.2825, Train: 88.94%, Valid: 88.19% Test: 85.35%\n",
            "Epoch: 210, Loss: 0.2844, Train: 88.72%, Valid: 88.83% Test: 85.84%\n",
            "Epoch: 211, Loss: 0.2816, Train: 88.80%, Valid: 89.04% Test: 86.28%\n",
            "Epoch: 212, Loss: 0.2885, Train: 88.71%, Valid: 88.81% Test: 86.62%\n",
            "Epoch: 213, Loss: 0.2871, Train: 88.70%, Valid: 89.04% Test: 85.51%\n",
            "Epoch: 214, Loss: 0.2861, Train: 88.57%, Valid: 88.97% Test: 85.80%\n",
            "Epoch: 215, Loss: 0.2858, Train: 88.91%, Valid: 89.29% Test: 87.08%\n",
            "Epoch: 216, Loss: 0.2825, Train: 88.50%, Valid: 89.73% Test: 87.11%\n",
            "Epoch: 217, Loss: 0.2821, Train: 87.58%, Valid: 89.41% Test: 86.86%\n",
            "Epoch: 218, Loss: 0.2823, Train: 87.40%, Valid: 89.18% Test: 86.35%\n",
            "Epoch: 219, Loss: 0.2815, Train: 87.90%, Valid: 88.42% Test: 84.37%\n",
            "Epoch: 220, Loss: 0.2850, Train: 87.86%, Valid: 87.82% Test: 83.59%\n",
            "Epoch: 221, Loss: 0.2792, Train: 88.54%, Valid: 88.27% Test: 84.31%\n",
            "Epoch: 222, Loss: 0.2838, Train: 89.10%, Valid: 89.35% Test: 85.79%\n",
            "Epoch: 223, Loss: 0.2813, Train: 88.85%, Valid: 89.29% Test: 86.96%\n",
            "Epoch: 224, Loss: 0.2780, Train: 89.20%, Valid: 89.52% Test: 87.65%\n",
            "Epoch: 225, Loss: 0.2789, Train: 88.61%, Valid: 89.36% Test: 88.11%\n",
            "Epoch: 226, Loss: 0.2793, Train: 89.03%, Valid: 88.57% Test: 87.29%\n",
            "Epoch: 227, Loss: 0.2880, Train: 88.99%, Valid: 88.82% Test: 86.36%\n",
            "Epoch: 228, Loss: 0.2855, Train: 88.51%, Valid: 88.30% Test: 84.85%\n",
            "Epoch: 229, Loss: 0.2807, Train: 88.37%, Valid: 87.98% Test: 84.12%\n",
            "Epoch: 230, Loss: 0.2830, Train: 88.39%, Valid: 87.84% Test: 83.79%\n",
            "Epoch: 231, Loss: 0.2798, Train: 88.47%, Valid: 87.74% Test: 83.83%\n",
            "Epoch: 232, Loss: 0.2774, Train: 88.52%, Valid: 88.10% Test: 83.89%\n",
            "Epoch: 233, Loss: 0.2860, Train: 88.44%, Valid: 88.31% Test: 84.40%\n",
            "Epoch: 234, Loss: 0.2816, Train: 88.75%, Valid: 88.44% Test: 84.88%\n",
            "Epoch: 235, Loss: 0.2814, Train: 88.44%, Valid: 89.57% Test: 86.46%\n",
            "Epoch: 236, Loss: 0.2800, Train: 85.96%, Valid: 88.91% Test: 88.80%\n",
            "Epoch: 237, Loss: 0.2802, Train: 82.39%, Valid: 86.52% Test: 88.11%\n",
            "Epoch: 238, Loss: 0.2841, Train: 84.51%, Valid: 87.84% Test: 89.24%\n",
            "Epoch: 239, Loss: 0.2804, Train: 86.96%, Valid: 89.20% Test: 89.54%\n",
            "Epoch: 240, Loss: 0.2807, Train: 88.73%, Valid: 89.86% Test: 88.22%\n",
            "Epoch: 241, Loss: 0.2783, Train: 88.71%, Valid: 89.90% Test: 88.20%\n",
            "Epoch: 242, Loss: 0.2837, Train: 88.30%, Valid: 89.70% Test: 87.67%\n",
            "Epoch: 243, Loss: 0.2837, Train: 88.66%, Valid: 90.23% Test: 87.48%\n",
            "Epoch: 244, Loss: 0.2838, Train: 88.74%, Valid: 89.35% Test: 86.69%\n",
            "Epoch: 245, Loss: 0.2823, Train: 88.80%, Valid: 88.68% Test: 84.96%\n",
            "Epoch: 246, Loss: 0.2815, Train: 88.41%, Valid: 88.26% Test: 83.69%\n",
            "Epoch: 247, Loss: 0.2780, Train: 88.59%, Valid: 87.29% Test: 82.84%\n",
            "Epoch: 248, Loss: 0.2758, Train: 88.51%, Valid: 87.47% Test: 83.39%\n",
            "Epoch: 249, Loss: 0.2773, Train: 88.13%, Valid: 87.24% Test: 83.48%\n",
            "Epoch: 250, Loss: 0.2783, Train: 88.16%, Valid: 87.13% Test: 83.81%\n",
            "Epoch: 251, Loss: 0.2798, Train: 87.67%, Valid: 87.70% Test: 84.02%\n",
            "Epoch: 252, Loss: 0.2789, Train: 88.19%, Valid: 88.09% Test: 84.50%\n",
            "Epoch: 253, Loss: 0.2820, Train: 88.32%, Valid: 88.71% Test: 84.96%\n",
            "Epoch: 254, Loss: 0.2779, Train: 89.03%, Valid: 89.27% Test: 86.51%\n",
            "Epoch: 255, Loss: 0.2768, Train: 88.64%, Valid: 89.56% Test: 87.27%\n",
            "Epoch: 256, Loss: 0.2804, Train: 88.04%, Valid: 89.79% Test: 86.96%\n",
            "Epoch: 257, Loss: 0.2819, Train: 88.42%, Valid: 89.14% Test: 85.69%\n",
            "Epoch: 258, Loss: 0.2844, Train: 88.41%, Valid: 89.43% Test: 86.36%\n",
            "Epoch: 259, Loss: 0.2723, Train: 88.02%, Valid: 90.26% Test: 88.76%\n",
            "Epoch: 260, Loss: 0.2802, Train: 87.02%, Valid: 89.76% Test: 89.47%\n",
            "Epoch: 261, Loss: 0.2822, Train: 87.96%, Valid: 89.91% Test: 88.79%\n",
            "Epoch: 262, Loss: 0.2795, Train: 88.82%, Valid: 89.78% Test: 88.06%\n",
            "Epoch: 263, Loss: 0.2737, Train: 89.45%, Valid: 89.84% Test: 87.71%\n",
            "Epoch: 264, Loss: 0.2777, Train: 89.09%, Valid: 89.79% Test: 87.51%\n",
            "Epoch: 265, Loss: 0.2758, Train: 89.13%, Valid: 88.86% Test: 85.50%\n",
            "Epoch: 266, Loss: 0.2731, Train: 88.50%, Valid: 88.05% Test: 84.23%\n",
            "Epoch: 267, Loss: 0.2759, Train: 88.37%, Valid: 87.44% Test: 83.26%\n",
            "Epoch: 268, Loss: 0.2705, Train: 88.47%, Valid: 87.81% Test: 83.66%\n",
            "Epoch: 269, Loss: 0.2792, Train: 88.96%, Valid: 89.61% Test: 86.80%\n",
            "Epoch: 270, Loss: 0.2751, Train: 87.56%, Valid: 89.71% Test: 89.99%\n",
            "Epoch: 271, Loss: 0.2759, Train: 84.46%, Valid: 87.98% Test: 89.72%\n",
            "Epoch: 272, Loss: 0.2793, Train: 83.96%, Valid: 87.66% Test: 89.21%\n",
            "Epoch: 273, Loss: 0.2769, Train: 86.52%, Valid: 88.88% Test: 89.75%\n",
            "Epoch: 274, Loss: 0.2720, Train: 87.72%, Valid: 88.70% Test: 89.05%\n",
            "Epoch: 275, Loss: 0.2803, Train: 88.20%, Valid: 88.52% Test: 87.63%\n",
            "Epoch: 276, Loss: 0.2694, Train: 88.73%, Valid: 89.03% Test: 86.32%\n",
            "Epoch: 277, Loss: 0.2717, Train: 88.56%, Valid: 88.27% Test: 84.73%\n",
            "Epoch: 278, Loss: 0.2747, Train: 88.80%, Valid: 88.37% Test: 83.97%\n",
            "Epoch: 279, Loss: 0.2812, Train: 88.73%, Valid: 88.75% Test: 85.07%\n",
            "Epoch: 280, Loss: 0.2756, Train: 89.01%, Valid: 89.86% Test: 86.34%\n",
            "Epoch: 281, Loss: 0.2758, Train: 88.88%, Valid: 89.19% Test: 85.27%\n",
            "Epoch: 282, Loss: 0.2764, Train: 88.19%, Valid: 87.94% Test: 84.41%\n",
            "Epoch: 283, Loss: 0.2766, Train: 87.59%, Valid: 87.91% Test: 83.94%\n",
            "Epoch: 284, Loss: 0.2771, Train: 88.25%, Valid: 87.44% Test: 83.55%\n",
            "Epoch: 285, Loss: 0.2773, Train: 89.53%, Valid: 89.87% Test: 86.99%\n",
            "Epoch: 286, Loss: 0.2713, Train: 88.90%, Valid: 90.12% Test: 89.50%\n",
            "Epoch: 287, Loss: 0.2743, Train: 88.59%, Valid: 90.32% Test: 89.12%\n",
            "Epoch: 288, Loss: 0.2737, Train: 89.06%, Valid: 89.45% Test: 87.48%\n",
            "Epoch: 289, Loss: 0.2718, Train: 88.76%, Valid: 89.21% Test: 87.44%\n",
            "Epoch: 290, Loss: 0.2786, Train: 88.28%, Valid: 88.93% Test: 87.65%\n",
            "Epoch: 291, Loss: 0.2741, Train: 88.74%, Valid: 88.95% Test: 87.29%\n",
            "Epoch: 292, Loss: 0.2711, Train: 89.18%, Valid: 89.28% Test: 87.45%\n",
            "Epoch: 293, Loss: 0.2767, Train: 88.48%, Valid: 89.65% Test: 89.11%\n",
            "Epoch: 294, Loss: 0.2737, Train: 86.61%, Valid: 89.16% Test: 90.60%\n",
            "Epoch: 295, Loss: 0.2791, Train: 84.34%, Valid: 88.10% Test: 90.22%\n",
            "Epoch: 296, Loss: 0.2680, Train: 86.28%, Valid: 89.54% Test: 90.20%\n",
            "Epoch: 297, Loss: 0.2784, Train: 86.19%, Valid: 89.38% Test: 88.80%\n",
            "Epoch: 298, Loss: 0.2756, Train: 87.31%, Valid: 89.35% Test: 88.01%\n",
            "Epoch: 299, Loss: 0.2675, Train: 88.13%, Valid: 89.09% Test: 85.99%\n",
            "Epoch: 300, Loss: 0.2732, Train: 88.57%, Valid: 88.46% Test: 84.44%\n",
            "Epoch: 301, Loss: 0.2713, Train: 88.50%, Valid: 87.98% Test: 83.40%\n",
            "Epoch: 302, Loss: 0.2781, Train: 88.36%, Valid: 87.76% Test: 82.61%\n",
            "Epoch: 303, Loss: 0.2716, Train: 88.56%, Valid: 87.38% Test: 82.44%\n",
            "Epoch: 304, Loss: 0.2734, Train: 88.59%, Valid: 89.91% Test: 87.65%\n",
            "Epoch: 305, Loss: 0.2761, Train: 82.23%, Valid: 86.28% Test: 88.11%\n",
            "Epoch: 306, Loss: 0.2804, Train: 79.08%, Valid: 83.12% Test: 85.78%\n",
            "Epoch: 307, Loss: 0.2696, Train: 86.28%, Valid: 89.51% Test: 90.49%\n",
            "Epoch: 308, Loss: 0.2719, Train: 87.59%, Valid: 89.60% Test: 89.91%\n",
            "Epoch: 309, Loss: 0.2748, Train: 87.29%, Valid: 89.15% Test: 90.29%\n",
            "Epoch: 310, Loss: 0.2757, Train: 86.77%, Valid: 88.11% Test: 90.18%\n",
            "Epoch: 311, Loss: 0.2709, Train: 87.24%, Valid: 88.64% Test: 90.08%\n",
            "Epoch: 312, Loss: 0.2746, Train: 88.24%, Valid: 89.18% Test: 87.98%\n",
            "Epoch: 313, Loss: 0.2763, Train: 88.26%, Valid: 88.35% Test: 85.72%\n",
            "Epoch: 314, Loss: 0.2678, Train: 88.15%, Valid: 88.48% Test: 85.76%\n",
            "Epoch: 315, Loss: 0.2698, Train: 87.43%, Valid: 88.77% Test: 86.75%\n",
            "Epoch: 316, Loss: 0.2729, Train: 86.54%, Valid: 88.62% Test: 87.09%\n",
            "Epoch: 317, Loss: 0.2773, Train: 86.52%, Valid: 88.49% Test: 86.01%\n",
            "Epoch: 318, Loss: 0.2723, Train: 87.45%, Valid: 89.58% Test: 86.79%\n",
            "Epoch: 319, Loss: 0.2754, Train: 86.26%, Valid: 89.45% Test: 89.76%\n",
            "Epoch: 320, Loss: 0.2739, Train: 81.94%, Valid: 85.71% Test: 88.87%\n",
            "Epoch: 321, Loss: 0.2668, Train: 84.86%, Valid: 87.65% Test: 90.18%\n",
            "Epoch: 322, Loss: 0.2737, Train: 88.26%, Valid: 89.35% Test: 88.88%\n",
            "Epoch: 323, Loss: 0.2700, Train: 88.98%, Valid: 88.79% Test: 85.40%\n",
            "Epoch: 324, Loss: 0.2716, Train: 88.81%, Valid: 88.62% Test: 86.03%\n",
            "Epoch: 325, Loss: 0.2696, Train: 89.02%, Valid: 88.86% Test: 87.37%\n",
            "Epoch: 326, Loss: 0.2767, Train: 88.84%, Valid: 88.54% Test: 85.98%\n",
            "Epoch: 327, Loss: 0.2720, Train: 88.00%, Valid: 88.87% Test: 85.30%\n",
            "Epoch: 328, Loss: 0.2786, Train: 85.43%, Valid: 88.59% Test: 86.03%\n",
            "Epoch: 329, Loss: 0.2766, Train: 83.78%, Valid: 87.82% Test: 86.76%\n",
            "Epoch: 330, Loss: 0.2741, Train: 83.84%, Valid: 88.04% Test: 87.92%\n",
            "Epoch: 331, Loss: 0.2683, Train: 86.62%, Valid: 89.28% Test: 88.67%\n",
            "Epoch: 332, Loss: 0.2736, Train: 87.74%, Valid: 89.96% Test: 87.77%\n",
            "Epoch: 333, Loss: 0.2669, Train: 88.69%, Valid: 89.96% Test: 87.29%\n",
            "Epoch: 334, Loss: 0.2705, Train: 85.65%, Valid: 88.61% Test: 89.62%\n",
            "Epoch: 335, Loss: 0.2749, Train: 80.65%, Valid: 84.22% Test: 86.97%\n",
            "Epoch: 336, Loss: 0.2790, Train: 83.42%, Valid: 87.17% Test: 89.53%\n",
            "Epoch: 337, Loss: 0.2726, Train: 87.73%, Valid: 89.90% Test: 88.03%\n",
            "Epoch: 338, Loss: 0.2716, Train: 88.68%, Valid: 88.28% Test: 84.56%\n",
            "Epoch: 339, Loss: 0.2697, Train: 89.06%, Valid: 87.90% Test: 83.59%\n",
            "Epoch: 340, Loss: 0.2666, Train: 89.34%, Valid: 89.10% Test: 85.67%\n",
            "Epoch: 341, Loss: 0.2695, Train: 87.95%, Valid: 89.61% Test: 87.68%\n",
            "Epoch: 342, Loss: 0.2682, Train: 86.46%, Valid: 89.13% Test: 87.04%\n",
            "Epoch: 343, Loss: 0.2674, Train: 88.14%, Valid: 88.64% Test: 85.08%\n",
            "Epoch: 344, Loss: 0.2706, Train: 88.38%, Valid: 88.30% Test: 84.46%\n",
            "Epoch: 345, Loss: 0.2702, Train: 88.53%, Valid: 88.82% Test: 85.90%\n",
            "Epoch: 346, Loss: 0.2730, Train: 88.77%, Valid: 89.28% Test: 86.50%\n",
            "Epoch: 347, Loss: 0.2760, Train: 89.27%, Valid: 88.74% Test: 85.42%\n",
            "Epoch: 348, Loss: 0.2679, Train: 89.34%, Valid: 89.83% Test: 87.26%\n",
            "Epoch: 349, Loss: 0.2661, Train: 88.53%, Valid: 90.18% Test: 89.27%\n",
            "Epoch: 350, Loss: 0.2717, Train: 86.53%, Valid: 89.15% Test: 89.92%\n",
            "Epoch: 351, Loss: 0.2685, Train: 85.45%, Valid: 88.57% Test: 89.32%\n",
            "Epoch: 352, Loss: 0.2724, Train: 84.46%, Valid: 87.75% Test: 88.29%\n",
            "Epoch: 353, Loss: 0.2723, Train: 87.51%, Valid: 89.38% Test: 88.34%\n",
            "Epoch: 354, Loss: 0.2626, Train: 89.49%, Valid: 90.36% Test: 88.67%\n",
            "Epoch: 355, Loss: 0.2690, Train: 88.73%, Valid: 89.81% Test: 90.39%\n",
            "Epoch: 356, Loss: 0.2674, Train: 88.77%, Valid: 89.97% Test: 90.39%\n",
            "Epoch: 357, Loss: 0.2672, Train: 88.67%, Valid: 89.50% Test: 87.89%\n",
            "Epoch: 358, Loss: 0.2659, Train: 88.24%, Valid: 89.00% Test: 87.35%\n",
            "Epoch: 359, Loss: 0.2685, Train: 88.40%, Valid: 88.98% Test: 87.67%\n",
            "Epoch: 360, Loss: 0.2692, Train: 88.86%, Valid: 88.92% Test: 87.01%\n",
            "Epoch: 361, Loss: 0.2695, Train: 89.24%, Valid: 89.61% Test: 87.10%\n",
            "Epoch: 362, Loss: 0.2732, Train: 89.27%, Valid: 89.80% Test: 87.92%\n",
            "Epoch: 363, Loss: 0.2758, Train: 88.56%, Valid: 90.65% Test: 88.61%\n",
            "Epoch: 364, Loss: 0.2713, Train: 80.94%, Valid: 84.20% Test: 84.40%\n",
            "Epoch: 365, Loss: 0.2693, Train: 69.75%, Valid: 68.95% Test: 65.81%\n",
            "Epoch: 366, Loss: 0.2650, Train: 67.67%, Valid: 66.16% Test: 62.76%\n",
            "Epoch: 367, Loss: 0.2685, Train: 72.06%, Valid: 73.12% Test: 71.38%\n",
            "Epoch: 368, Loss: 0.2669, Train: 82.60%, Valid: 86.35% Test: 87.44%\n",
            "Epoch: 369, Loss: 0.2684, Train: 88.65%, Valid: 90.19% Test: 88.55%\n",
            "Epoch: 370, Loss: 0.2659, Train: 88.37%, Valid: 89.92% Test: 87.65%\n",
            "Epoch: 371, Loss: 0.2706, Train: 88.00%, Valid: 89.25% Test: 86.89%\n",
            "Epoch: 372, Loss: 0.2676, Train: 87.27%, Valid: 89.18% Test: 86.60%\n",
            "Epoch: 373, Loss: 0.2695, Train: 88.65%, Valid: 88.68% Test: 85.68%\n",
            "Epoch: 374, Loss: 0.2678, Train: 88.70%, Valid: 88.66% Test: 84.93%\n",
            "Epoch: 375, Loss: 0.2671, Train: 88.98%, Valid: 88.43% Test: 85.28%\n",
            "Epoch: 376, Loss: 0.2651, Train: 89.27%, Valid: 89.73% Test: 87.64%\n",
            "Epoch: 377, Loss: 0.2702, Train: 89.07%, Valid: 88.40% Test: 84.74%\n",
            "Epoch: 378, Loss: 0.2694, Train: 88.40%, Valid: 88.50% Test: 84.04%\n",
            "Epoch: 379, Loss: 0.2744, Train: 88.43%, Valid: 89.89% Test: 87.48%\n",
            "Epoch: 380, Loss: 0.2677, Train: 85.71%, Valid: 89.36% Test: 89.21%\n",
            "Epoch: 381, Loss: 0.2670, Train: 85.66%, Valid: 88.77% Test: 89.26%\n",
            "Epoch: 382, Loss: 0.2700, Train: 89.54%, Valid: 89.60% Test: 86.67%\n",
            "Epoch: 383, Loss: 0.2698, Train: 87.97%, Valid: 89.67% Test: 88.76%\n",
            "Epoch: 384, Loss: 0.2685, Train: 88.15%, Valid: 89.56% Test: 89.66%\n",
            "Epoch: 385, Loss: 0.2644, Train: 88.88%, Valid: 89.54% Test: 88.57%\n",
            "Epoch: 386, Loss: 0.2664, Train: 88.22%, Valid: 88.52% Test: 86.98%\n",
            "Epoch: 387, Loss: 0.2700, Train: 88.05%, Valid: 87.79% Test: 84.51%\n",
            "Epoch: 388, Loss: 0.2619, Train: 88.60%, Valid: 87.58% Test: 83.44%\n",
            "Epoch: 389, Loss: 0.2675, Train: 88.90%, Valid: 89.37% Test: 85.36%\n",
            "Epoch: 390, Loss: 0.2713, Train: 87.75%, Valid: 89.45% Test: 87.72%\n",
            "Epoch: 391, Loss: 0.2678, Train: 83.52%, Valid: 88.24% Test: 87.13%\n",
            "Epoch: 392, Loss: 0.2670, Train: 82.56%, Valid: 87.55% Test: 86.36%\n",
            "Epoch: 393, Loss: 0.2634, Train: 86.89%, Valid: 89.80% Test: 87.49%\n",
            "Epoch: 394, Loss: 0.2638, Train: 88.14%, Valid: 89.80% Test: 87.88%\n",
            "Epoch: 395, Loss: 0.2691, Train: 86.89%, Valid: 89.81% Test: 88.25%\n",
            "Epoch: 396, Loss: 0.2629, Train: 86.17%, Valid: 89.45% Test: 88.40%\n",
            "Epoch: 397, Loss: 0.2654, Train: 89.17%, Valid: 89.91% Test: 86.79%\n",
            "Epoch: 398, Loss: 0.2746, Train: 88.56%, Valid: 89.32% Test: 86.39%\n",
            "Epoch: 399, Loss: 0.2677, Train: 88.01%, Valid: 89.67% Test: 87.33%\n",
            "Epoch: 400, Loss: 0.2607, Train: 88.58%, Valid: 89.84% Test: 87.32%\n",
            "Epoch: 401, Loss: 0.2626, Train: 89.13%, Valid: 89.27% Test: 86.43%\n",
            "Epoch: 402, Loss: 0.2616, Train: 89.15%, Valid: 89.86% Test: 86.57%\n",
            "Epoch: 403, Loss: 0.2626, Train: 88.55%, Valid: 90.33% Test: 90.33%\n",
            "Epoch: 404, Loss: 0.2636, Train: 86.85%, Valid: 89.35% Test: 91.03%\n",
            "Epoch: 405, Loss: 0.2647, Train: 86.27%, Valid: 88.73% Test: 91.06%\n",
            "Epoch: 406, Loss: 0.2649, Train: 88.97%, Valid: 90.20% Test: 89.88%\n",
            "Epoch: 407, Loss: 0.2680, Train: 87.36%, Valid: 89.72% Test: 88.87%\n",
            "Epoch: 408, Loss: 0.2612, Train: 83.53%, Valid: 86.42% Test: 87.89%\n",
            "Epoch: 409, Loss: 0.2676, Train: 78.41%, Valid: 81.79% Test: 82.91%\n",
            "Epoch: 410, Loss: 0.2637, Train: 88.13%, Valid: 89.91% Test: 88.73%\n",
            "Epoch: 411, Loss: 0.2632, Train: 89.76%, Valid: 89.48% Test: 87.26%\n",
            "Epoch: 412, Loss: 0.2687, Train: 88.95%, Valid: 90.26% Test: 88.98%\n",
            "Epoch: 413, Loss: 0.2625, Train: 84.40%, Valid: 87.85% Test: 90.27%\n",
            "Epoch: 414, Loss: 0.2715, Train: 80.91%, Valid: 84.40% Test: 87.76%\n",
            "Epoch: 415, Loss: 0.2608, Train: 84.85%, Valid: 87.38% Test: 90.36%\n",
            "Epoch: 416, Loss: 0.2652, Train: 88.26%, Valid: 89.67% Test: 89.03%\n",
            "Epoch: 417, Loss: 0.2660, Train: 89.46%, Valid: 89.43% Test: 86.74%\n",
            "Epoch: 418, Loss: 0.2613, Train: 89.43%, Valid: 89.05% Test: 85.50%\n",
            "Epoch: 419, Loss: 0.2604, Train: 88.81%, Valid: 90.04% Test: 88.28%\n",
            "Epoch: 420, Loss: 0.2636, Train: 83.50%, Valid: 87.13% Test: 87.79%\n",
            "Epoch: 421, Loss: 0.2616, Train: 87.25%, Valid: 89.89% Test: 88.60%\n",
            "Epoch: 422, Loss: 0.2589, Train: 88.80%, Valid: 88.94% Test: 85.31%\n",
            "Epoch: 423, Loss: 0.2614, Train: 88.95%, Valid: 88.17% Test: 84.09%\n",
            "Epoch: 424, Loss: 0.2687, Train: 88.98%, Valid: 88.67% Test: 84.47%\n",
            "Epoch: 425, Loss: 0.2645, Train: 89.09%, Valid: 88.55% Test: 85.00%\n",
            "Epoch: 426, Loss: 0.2658, Train: 89.10%, Valid: 88.98% Test: 85.96%\n",
            "Epoch: 427, Loss: 0.2631, Train: 89.44%, Valid: 88.84% Test: 86.54%\n",
            "Epoch: 428, Loss: 0.2632, Train: 89.44%, Valid: 89.26% Test: 87.76%\n",
            "Epoch: 429, Loss: 0.2617, Train: 89.15%, Valid: 90.05% Test: 89.85%\n",
            "Epoch: 430, Loss: 0.2648, Train: 84.91%, Valid: 87.71% Test: 90.69%\n",
            "Epoch: 431, Loss: 0.2656, Train: 79.69%, Valid: 83.12% Test: 86.18%\n",
            "Epoch: 432, Loss: 0.2598, Train: 83.16%, Valid: 86.93% Test: 89.95%\n",
            "Epoch: 433, Loss: 0.2653, Train: 83.16%, Valid: 86.67% Test: 89.15%\n",
            "Epoch: 434, Loss: 0.2640, Train: 80.08%, Valid: 83.38% Test: 84.67%\n",
            "Epoch: 435, Loss: 0.2659, Train: 83.29%, Valid: 86.61% Test: 87.85%\n",
            "Epoch: 436, Loss: 0.2554, Train: 87.03%, Valid: 89.31% Test: 89.77%\n",
            "Epoch: 437, Loss: 0.2603, Train: 89.16%, Valid: 89.42% Test: 88.89%\n",
            "Epoch: 438, Loss: 0.2574, Train: 88.89%, Valid: 88.28% Test: 87.57%\n",
            "Epoch: 439, Loss: 0.2646, Train: 86.68%, Valid: 88.32% Test: 88.11%\n",
            "Epoch: 440, Loss: 0.2664, Train: 89.15%, Valid: 88.98% Test: 86.63%\n",
            "Epoch: 441, Loss: 0.2626, Train: 88.88%, Valid: 90.66% Test: 90.01%\n",
            "Epoch: 442, Loss: 0.2676, Train: 88.06%, Valid: 90.43% Test: 90.15%\n",
            "Epoch: 443, Loss: 0.2588, Train: 89.57%, Valid: 90.23% Test: 86.75%\n",
            "Epoch: 444, Loss: 0.2615, Train: 88.11%, Valid: 89.25% Test: 85.61%\n",
            "Epoch: 445, Loss: 0.2619, Train: 84.87%, Valid: 88.78% Test: 86.68%\n",
            "Epoch: 446, Loss: 0.2608, Train: 85.90%, Valid: 88.88% Test: 87.07%\n",
            "Epoch: 447, Loss: 0.2591, Train: 86.08%, Valid: 89.07% Test: 87.78%\n",
            "Epoch: 448, Loss: 0.2655, Train: 88.45%, Valid: 90.24% Test: 88.28%\n",
            "Epoch: 449, Loss: 0.2599, Train: 88.89%, Valid: 90.25% Test: 89.04%\n",
            "Epoch: 450, Loss: 0.2597, Train: 88.43%, Valid: 90.36% Test: 88.67%\n",
            "Epoch: 451, Loss: 0.2608, Train: 89.17%, Valid: 90.29% Test: 87.89%\n",
            "Epoch: 452, Loss: 0.2601, Train: 89.08%, Valid: 90.85% Test: 89.56%\n",
            "Epoch: 453, Loss: 0.2612, Train: 88.14%, Valid: 90.74% Test: 90.62%\n",
            "Epoch: 454, Loss: 0.2573, Train: 89.01%, Valid: 90.49% Test: 89.61%\n",
            "Epoch: 455, Loss: 0.2622, Train: 88.91%, Valid: 89.47% Test: 86.45%\n",
            "Epoch: 456, Loss: 0.2641, Train: 88.41%, Valid: 88.49% Test: 84.84%\n",
            "Epoch: 457, Loss: 0.2586, Train: 88.55%, Valid: 89.22% Test: 86.04%\n",
            "Epoch: 458, Loss: 0.2626, Train: 88.26%, Valid: 89.66% Test: 86.97%\n",
            "Epoch: 459, Loss: 0.2593, Train: 88.90%, Valid: 88.89% Test: 85.72%\n",
            "Epoch: 460, Loss: 0.2585, Train: 88.70%, Valid: 88.18% Test: 85.00%\n",
            "Epoch: 461, Loss: 0.2611, Train: 88.62%, Valid: 88.44% Test: 86.07%\n",
            "Epoch: 462, Loss: 0.2656, Train: 87.88%, Valid: 89.16% Test: 89.42%\n",
            "Epoch: 463, Loss: 0.2607, Train: 86.42%, Valid: 88.86% Test: 90.84%\n",
            "Epoch: 464, Loss: 0.2588, Train: 78.76%, Valid: 82.73% Test: 85.42%\n",
            "Epoch: 465, Loss: 0.2636, Train: 76.59%, Valid: 79.24% Test: 82.62%\n",
            "Epoch: 466, Loss: 0.2590, Train: 82.95%, Valid: 85.62% Test: 88.87%\n",
            "Epoch: 467, Loss: 0.2596, Train: 86.74%, Valid: 88.68% Test: 90.49%\n",
            "Epoch: 468, Loss: 0.2583, Train: 88.21%, Valid: 89.92% Test: 89.91%\n",
            "Epoch: 469, Loss: 0.2580, Train: 89.14%, Valid: 88.69% Test: 85.91%\n",
            "Epoch: 470, Loss: 0.2591, Train: 88.70%, Valid: 87.69% Test: 83.51%\n",
            "Epoch: 471, Loss: 0.2624, Train: 87.84%, Valid: 88.97% Test: 85.93%\n",
            "Epoch: 472, Loss: 0.2674, Train: 86.59%, Valid: 88.90% Test: 87.32%\n",
            "Epoch: 473, Loss: 0.2635, Train: 85.01%, Valid: 88.26% Test: 87.57%\n",
            "Epoch: 474, Loss: 0.2631, Train: 84.00%, Valid: 88.11% Test: 87.58%\n",
            "Epoch: 475, Loss: 0.2582, Train: 81.87%, Valid: 85.14% Test: 85.55%\n",
            "Epoch: 476, Loss: 0.2592, Train: 81.76%, Valid: 85.37% Test: 86.53%\n",
            "Epoch: 477, Loss: 0.2597, Train: 85.63%, Valid: 88.56% Test: 90.56%\n",
            "Epoch: 478, Loss: 0.2621, Train: 88.02%, Valid: 89.72% Test: 90.38%\n",
            "Epoch: 479, Loss: 0.2662, Train: 88.10%, Valid: 89.87% Test: 89.54%\n",
            "Epoch: 480, Loss: 0.2507, Train: 88.35%, Valid: 89.84% Test: 89.73%\n",
            "Epoch: 481, Loss: 0.2652, Train: 88.09%, Valid: 90.39% Test: 89.87%\n",
            "Epoch: 482, Loss: 0.2585, Train: 88.70%, Valid: 90.58% Test: 89.35%\n",
            "Epoch: 483, Loss: 0.2553, Train: 88.50%, Valid: 90.28% Test: 89.08%\n",
            "Epoch: 484, Loss: 0.2592, Train: 86.54%, Valid: 88.79% Test: 87.98%\n",
            "Epoch: 485, Loss: 0.2566, Train: 88.42%, Valid: 89.77% Test: 88.02%\n",
            "Epoch: 486, Loss: 0.2573, Train: 89.22%, Valid: 90.29% Test: 88.08%\n",
            "Epoch: 487, Loss: 0.2548, Train: 88.76%, Valid: 90.76% Test: 89.77%\n",
            "Epoch: 488, Loss: 0.2573, Train: 89.25%, Valid: 91.04% Test: 90.23%\n",
            "Epoch: 489, Loss: 0.2608, Train: 87.87%, Valid: 90.40% Test: 90.19%\n",
            "Epoch: 490, Loss: 0.2569, Train: 84.40%, Valid: 87.34% Test: 87.88%\n",
            "Epoch: 491, Loss: 0.2521, Train: 83.55%, Valid: 86.51% Test: 87.17%\n",
            "Epoch: 492, Loss: 0.2579, Train: 88.76%, Valid: 90.20% Test: 88.26%\n",
            "Epoch: 493, Loss: 0.2626, Train: 88.87%, Valid: 89.01% Test: 84.95%\n",
            "Epoch: 494, Loss: 0.2628, Train: 88.68%, Valid: 89.08% Test: 85.03%\n",
            "Epoch: 495, Loss: 0.2512, Train: 87.61%, Valid: 89.67% Test: 87.93%\n",
            "Epoch: 496, Loss: 0.2563, Train: 88.76%, Valid: 90.15% Test: 87.42%\n",
            "Epoch: 497, Loss: 0.2556, Train: 87.70%, Valid: 89.55% Test: 87.60%\n",
            "Epoch: 498, Loss: 0.2561, Train: 87.46%, Valid: 89.37% Test: 88.65%\n",
            "Epoch: 499, Loss: 0.2639, Train: 89.11%, Valid: 89.87% Test: 88.61%\n"
          ]
        }
      ]
    },
    {
      "cell_type": "code",
      "source": [
        "best_test_acc"
      ],
      "metadata": {
        "colab": {
          "base_uri": "https://localhost:8080/"
        },
        "id": "6-M4KBN01t5I",
        "outputId": "da4c535f-14a7-4c07-ca43-b2adf9b97194"
      },
      "execution_count": 99,
      "outputs": [
        {
          "output_type": "execute_result",
          "data": {
            "text/plain": [
              "tensor(0.9106, device='cuda:0')"
            ]
          },
          "metadata": {},
          "execution_count": 99
        }
      ]
    },
    {
      "cell_type": "code",
      "source": [
        "save_model(best_model, datasets_path, \"StyleMind-GCN_biased_outputs.pth\")"
      ],
      "metadata": {
        "id": "QbVUu5361xjg"
      },
      "execution_count": 108,
      "outputs": []
    },
    {
      "cell_type": "code",
      "source": [
        "model = StyleMindGCN(in_channels, hidden_channels\n",
        "                     ,out_channels, number_of_layers,\"GCN\", dropout, learning_margin=True).to(device)\n",
        "\n",
        "model.load_state_dict(torch.load(path.join(datasets_path, \"StyleMind-GCN_biased_outputs.pth\")))"
      ],
      "metadata": {
        "id": "gQT-Um_s5hpO",
        "outputId": "b8981a9f-a911-4084-9244-c5ae37cb3c21",
        "colab": {
          "base_uri": "https://localhost:8080/"
        }
      },
      "execution_count": null,
      "outputs": [
        {
          "output_type": "execute_result",
          "data": {
            "text/plain": [
              "<All keys matched successfully>"
            ]
          },
          "metadata": {},
          "execution_count": 125
        }
      ]
    },
    {
      "cell_type": "code",
      "source": [
        "test_acc = test(best_model, x, data_splits['test']['message_passings'].to(device)\n",
        "    , data_splits['test']['outfits_edge_indices'].to(device),\n",
        "      data_splits['test']['outfits_indices'].to(device), data_splits['test']['labels'].to(device))\n",
        "embd, o = best_model(x, data_splits['test']['message_passings'].to(device),\n",
        "    data_splits['test']['outfits_edge_indices'].to(device),\n",
        "      data_splits['test']['outfits_indices'].to(device))\n",
        "\n",
        "\n",
        "embd= embd.cpu()\n",
        "o = o.cpu()\n",
        "\n",
        "print(test_acc)"
      ],
      "metadata": {
        "id": "5wG2F66V2OIu",
        "colab": {
          "base_uri": "https://localhost:8080/"
        },
        "outputId": "59c0ab49-022d-49bb-babc-c48ef9bdd0d7"
      },
      "execution_count": 105,
      "outputs": [
        {
          "output_type": "stream",
          "name": "stdout",
          "text": [
            "tensor(0.9108, device='cuda:0')\n"
          ]
        }
      ]
    },
    {
      "cell_type": "code",
      "source": [
        "best_model.final_prediction_margin"
      ],
      "metadata": {
        "id": "ZB5ffm0Tack_",
        "outputId": "13e6bcbd-423f-44cc-d68c-d9b9a01e1f17",
        "colab": {
          "base_uri": "https://localhost:8080/"
        }
      },
      "execution_count": 104,
      "outputs": [
        {
          "output_type": "execute_result",
          "data": {
            "text/plain": [
              "Parameter containing:\n",
              "tensor(-2.8767, device='cuda:0', requires_grad=True)"
            ]
          },
          "metadata": {},
          "execution_count": 104
        }
      ]
    },
    {
      "cell_type": "code",
      "source": [
        "plot_histogram(o[:o.shape[0]//2], \"3 layer StyleMind-GCN with bias model positives\")\n",
        "plot_histogram(o[o.shape[0]//2:], \"3 layer StyleMind-GCN with bias model negatives\")\n",
        "plot_histogram(torch.sigmoid(o[:o.shape[0]//2]), \"3 layer StyleMind-GCN with bias model positives sigmoid\")\n",
        "plot_histogram(torch.sigmoid(o[o.shape[0]//2:]), \"3 layer StyleMind-GCN with bias model negatives sigmoid\")"
      ],
      "metadata": {
        "colab": {
          "base_uri": "https://localhost:8080/",
          "height": 1000
        },
        "id": "6D6bCFoR2W2i",
        "outputId": "c8832219-e944-427a-9f89-41eb486182c8"
      },
      "execution_count": 106,
      "outputs": [
        {
          "output_type": "display_data",
          "data": {
            "text/plain": [
              "<Figure size 640x480 with 1 Axes>"
            ],
            "image/png": "[encoded data removed]"
          },
          "metadata": {}
        },
        {
          "output_type": "display_data",
          "data": {
            "text/plain": [
              "<Figure size 640x480 with 1 Axes>"
            ],
            "image/png": "[encoded data removed]"
          },
          "metadata": {}
        },
        {
          "output_type": "display_data",
          "data": {
            "text/plain": [
              "<Figure size 640x480 with 1 Axes>"
            ],
            "image/png": "[encoded data removed]"
          },
          "metadata": {}
        },
        {
          "output_type": "display_data",
          "data": {
            "text/plain": [
              "<Figure size 640x480 with 1 Axes>"
            ],
            "image/png": "[encoded data removed]"
          },
          "metadata": {}
        }
      ]
    },
    {
      "cell_type": "code",
      "source": [
        "torch.save(embd, path.join(datasets_path, \"StyleMind-GCN_embedding.pth\"))"
      ],
      "metadata": {
        "id": "fZw2oK_Vb4Jb"
      },
      "execution_count": 115,
      "outputs": []
    },
    {
      "cell_type": "code",
      "source": [
        "# the worst false negatives\n",
        "values, indices = torch.topk(negatives, 10, largest=True)\n",
        "\n",
        "outfits = train_eval_outfits[(o.shape[0]//2)+indices][torch.where(train_eval_outfits[(o.shape[0]//2)+indices]>-1)]\n",
        "number_of_garments_per_outfit = (train_eval_outfits[o.shape[0]//2+indices]>-1).float().sum(dim=(-1,-2))\n",
        "\n",
        "outfits, number_of_garments_per_outfit\n",
        "i = 0\n",
        "result = []\n",
        "for j in number_of_garments_per_outfit.int():\n",
        "  result.append(set(outfits[i:i+j].tolist()))\n",
        "  i += j\n",
        "\n",
        "result = {k: [items.loc[items['index']==i]['ID'].item() for i in o]  for k,o in enumerate(result)}\n",
        "\n",
        "import json\n",
        "\n",
        "with open(\"worstFPs.json\", \"w\") as f:\n",
        "  json.dump(result, f, indent=4)"
      ],
      "metadata": {
        "id": "mNVZWPeX32Mm"
      },
      "execution_count": null,
      "outputs": []
    },
    {
      "cell_type": "code",
      "source": [
        "import json\n",
        "\n",
        "# Read JSON from a file\n",
        "with open(\"worstFPs.json\", \"r\") as file:\n",
        "    data = json.load(file)\n",
        "\n",
        "print(\"JSON data:\", data)\n"
      ],
      "metadata": {
        "id": "e_xxZq4MAwN7",
        "outputId": "11d9928b-d2b5-4e40-c1d5-3e21ba9025ed",
        "colab": {
          "base_uri": "https://localhost:8080/"
        }
      },
      "execution_count": null,
      "outputs": [
        {
          "output_type": "stream",
          "name": "stdout",
          "text": [
            "JSON data: {'0': [45768566, 143354527, 206299484, 183302521, 183236812], '1': [170301920, 132033877, 187498982, 158839785, 187950596, 191998015], '2': [80360383, 74588000, 126859205, 138180455, 205836766], '3': [41730249, 147883331, 147411023, 150737564, 189846447], '4': [161599256, 201458859, 68105585, 165502261, 150091405, 164826821, 101837389, 173597815], '5': [190811204, 145397682, 204542257, 211682911, 203154762], '6': [212764580, 150675438, 151380680, 179988294, 181104358], '7': [210473563, 167057560, 134389933, 65090075, 186155013, 127684739], '8': [197305654, 150495323, 132068063, 138667859, 174348662], '9': [166373789, 178782478, 212809241, 197241787, 157974990, 102523727, 47352111, 181333601]}\n"
          ]
        }
      ]
    },
    {
      "cell_type": "code",
      "source": [
        "# the worst false positives\n",
        "values, indices = torch.topk(positives, 10, largest=False)\n",
        "\n",
        "outfits = train_eval_outfits[indices][torch.where(train_eval_outfits[indices]>-1)]\n",
        "number_of_garments_per_outfit = (train_eval_outfits[indices]>-1).float().sum(dim=(-1,-2))\n",
        "\n",
        "outfits, number_of_garments_per_outfit\n",
        "i = 0\n",
        "result = []\n",
        "for j in number_of_garments_per_outfit.int():\n",
        "  result.append(set(outfits[i:i+j].tolist()))\n",
        "  i += j\n",
        "\n",
        "result = {k: [items.loc[items['index']==i]['ID'].item() for i in o]  for k,o in enumerate(result)}\n",
        "\n",
        "import json\n",
        "\n",
        "with open(\"worstFNs.json\", \"w\") as f:\n",
        "  json.dump(result, f, indent=4)"
      ],
      "metadata": {
        "id": "jVLfU_h1-8Kz"
      },
      "execution_count": null,
      "outputs": []
    },
    {
      "cell_type": "code",
      "source": [
        "ss = torch.randn(10).to(device)\n",
        "\n",
        "\n",
        "a = set(ss.tolist())\n",
        "a"
      ],
      "metadata": {
        "colab": {
          "base_uri": "https://localhost:8080/"
        },
        "id": "1fXcLVeC8AId",
        "outputId": "f6a0a1f8-eff1-4710-ac77-b9360c260b2d"
      },
      "execution_count": null,
      "outputs": [
        {
          "output_type": "execute_result",
          "data": {
            "text/plain": [
              "{-0.9159104824066162,\n",
              " -0.3835882246494293,\n",
              " -0.30730435252189636,\n",
              " -0.17330965399742126,\n",
              " -0.16745677590370178,\n",
              " 0.44133099913597107,\n",
              " 0.7212685942649841,\n",
              " 0.9103254675865173,\n",
              " 0.9919949173927307,\n",
              " 1.2212848663330078}"
            ]
          },
          "metadata": {},
          "execution_count": 104
        }
      ]
    },
    {
      "cell_type": "code",
      "source": [
        "# the worst false positives"
      ],
      "metadata": {
        "id": "0aAOhgt14KHr"
      },
      "execution_count": null,
      "outputs": []
    },
    {
      "cell_type": "code",
      "source": [
        "import gc\n",
        "\n",
        "gc.collect()\n",
        "torch.cuda.empty_cache()"
      ],
      "metadata": {
        "id": "nfS7ahRuoa5Q"
      },
      "execution_count": null,
      "outputs": []
    },
    {
      "cell_type": "markdown",
      "source": [
        "# train model with cosine similarities. (instead of simple inner product).\n",
        "\n",
        "### the result are the same and the model is not certain about negative samples. in the other word the model, embeds the nodes, such that the negative samples are orthogonal in total.\n",
        "\n",
        "## Pros:\n",
        "  - faster convergance\n",
        "\n",
        "##Cons:\n",
        "  - more memory consuming."
      ],
      "metadata": {
        "id": "yUBGsZaZz1t1"
      }
    },
    {
      "cell_type": "code",
      "source": [
        "model.reset_parameters()\n",
        "\n",
        "losses = []\n",
        "test_accs = []\n",
        "\n",
        "best_test_acc = 0\n",
        "best_model = None\n",
        "\n",
        "optimizer = optim.Adam(model.parameters(), lr)\n",
        "loss_fn = nn.BCEWithLogitsLoss()\n",
        "\n",
        "x = x.to(device)\n",
        "for epoch in range(400):\n",
        "\n",
        "    train_positives_eval_outfits, message_passing_edges = split_train_data(train_edge_index[:int(0.8*train_edge_index.shape[0])], 8)\n",
        "    train_negatives_eval_outfits = negative_train_edge_index[torch.randperm(negative_train_edge_index.shape[0])[:train_positives_eval_outfits.shape[0]]]\n",
        "    train_labels = torch.cat((torch.ones(train_positives_eval_outfits.shape[0]),\n",
        "                              torch.zeros(train_negatives_eval_outfits.shape[0])))\n",
        "    train_eval_outfits = torch.cat((train_positives_eval_outfits, train_negatives_eval_outfits), dim=0)\n",
        "    train_loss = train(model, x, message_passing_edges.to(device)\n",
        "    , train_eval_outfits.to(device), train_labels.to(device),\n",
        "                       loss_fn=loss_fn, optimizer=optimizer)\n",
        "    train_acc = test(model, x, message_passing_edges.to(device)\n",
        "    , train_eval_outfits.to(device), train_labels.to(device))\n",
        "\n",
        "\n",
        "    valid_message_passing_edges = torch.cat((concat_edge_indices(train_positives_eval_outfits)\n",
        "    , message_passing_edges), dim=-1)\n",
        "    valid_labels = torch.cat((torch.ones(valid_edge_index.shape[0]),\n",
        "                              torch.zeros(valid_negative_samples.shape[0])))\n",
        "    valid_eval_outfits = torch.cat((valid_edge_index, valid_negative_samples), dim=0)\n",
        "    valid_acc = test(model, x, valid_message_passing_edges.to(device)\n",
        "    , valid_eval_outfits.to(device), valid_labels.to(device))\n",
        "\n",
        "\n",
        "\n",
        "    test_message_passing_edges = torch.cat((concat_edge_indices(valid_edge_index)\n",
        "    , valid_message_passing_edges), dim=-1)\n",
        "    test_labels = torch.cat((torch.ones(test_edge_index.shape[0]),\n",
        "                              torch.zeros(test_negative_samples.shape[0])))\n",
        "    test_eval_outfits = torch.cat((test_edge_index, test_negative_samples), dim=0)\n",
        "    test_acc = test(model, x, test_message_passing_edges.to(device)\n",
        "    , test_eval_outfits.to(device), test_labels.to(device))\n",
        "\n",
        "    if(test_acc > best_test_acc):\n",
        "        best_test_acc = test_acc\n",
        "        best_model = copy.deepcopy(model)\n",
        "\n",
        "    losses.append(train_loss)\n",
        "    test_accs.append(test_acc)\n",
        "    print(f'Epoch: {epoch:02d}, '\n",
        "          f'Loss: {train_loss:.4f}, '\n",
        "          f'Train: {100 * train_acc:.2f}%, '\n",
        "          f'Valid: {100 * valid_acc:.2f}% '\n",
        "          f'Test: {100 * test_acc:.2f}%')\n"
      ],
      "metadata": {
        "id": "bufVr35GMflF",
        "outputId": "57171d66-455b-4b6e-fa91-df6dfd07fde4",
        "colab": {
          "base_uri": "https://localhost:8080/",
          "height": 1000
        }
      },
      "execution_count": null,
      "outputs": [
        {
          "output_type": "stream",
          "name": "stdout",
          "text": [
            "Epoch: 00, Loss: 0.7318, Train: 50.00%, Valid: 50.00% Test: 50.00%\n",
            "Epoch: 01, Loss: 0.7169, Train: 50.00%, Valid: 50.00% Test: 49.99%\n",
            "Epoch: 02, Loss: 0.6912, Train: 50.00%, Valid: 50.00% Test: 50.00%\n",
            "Epoch: 03, Loss: 0.6817, Train: 50.00%, Valid: 50.00% Test: 50.00%\n",
            "Epoch: 04, Loss: 0.6740, Train: 50.00%, Valid: 50.00% Test: 50.00%\n",
            "Epoch: 05, Loss: 0.6656, Train: 50.00%, Valid: 50.00% Test: 50.00%\n",
            "Epoch: 06, Loss: 0.6569, Train: 50.00%, Valid: 50.00% Test: 50.00%\n",
            "Epoch: 07, Loss: 0.6459, Train: 50.00%, Valid: 50.00% Test: 50.00%\n",
            "Epoch: 08, Loss: 0.6404, Train: 50.00%, Valid: 50.00% Test: 50.00%\n",
            "Epoch: 09, Loss: 0.6362, Train: 50.00%, Valid: 50.00% Test: 50.00%\n",
            "Epoch: 10, Loss: 0.6301, Train: 50.00%, Valid: 50.00% Test: 50.00%\n",
            "Epoch: 11, Loss: 0.6255, Train: 50.00%, Valid: 50.00% Test: 50.00%\n",
            "Epoch: 12, Loss: 0.6209, Train: 50.00%, Valid: 50.00% Test: 50.00%\n",
            "Epoch: 13, Loss: 0.6189, Train: 50.00%, Valid: 50.00% Test: 50.00%\n",
            "Epoch: 14, Loss: 0.6142, Train: 50.00%, Valid: 50.00% Test: 50.00%\n",
            "Epoch: 15, Loss: 0.6141, Train: 50.00%, Valid: 50.00% Test: 50.00%\n",
            "Epoch: 16, Loss: 0.6121, Train: 50.00%, Valid: 50.00% Test: 50.00%\n",
            "Epoch: 17, Loss: 0.6128, Train: 50.00%, Valid: 50.00% Test: 50.00%\n",
            "Epoch: 18, Loss: 0.6095, Train: 50.00%, Valid: 50.00% Test: 50.00%\n",
            "Epoch: 19, Loss: 0.6100, Train: 50.00%, Valid: 50.00% Test: 50.00%\n",
            "Epoch: 20, Loss: 0.6059, Train: 50.00%, Valid: 50.00% Test: 50.00%\n",
            "Epoch: 21, Loss: 0.6094, Train: 50.00%, Valid: 50.00% Test: 50.00%\n",
            "Epoch: 22, Loss: 0.6050, Train: 50.00%, Valid: 50.00% Test: 50.00%\n",
            "Epoch: 23, Loss: 0.6056, Train: 50.00%, Valid: 50.00% Test: 50.00%\n",
            "Epoch: 24, Loss: 0.6058, Train: 50.00%, Valid: 50.00% Test: 49.99%\n",
            "Epoch: 25, Loss: 0.6053, Train: 50.02%, Valid: 49.99% Test: 49.99%\n",
            "Epoch: 26, Loss: 0.6044, Train: 50.02%, Valid: 49.99% Test: 49.98%\n",
            "Epoch: 27, Loss: 0.6050, Train: 50.07%, Valid: 49.98% Test: 49.98%\n",
            "Epoch: 28, Loss: 0.6049, Train: 50.09%, Valid: 49.98% Test: 49.99%\n",
            "Epoch: 29, Loss: 0.6028, Train: 50.02%, Valid: 49.97% Test: 49.99%\n",
            "Epoch: 30, Loss: 0.6053, Train: 50.05%, Valid: 49.98% Test: 50.00%\n",
            "Epoch: 31, Loss: 0.6033, Train: 50.03%, Valid: 49.98% Test: 49.99%\n",
            "Epoch: 32, Loss: 0.6057, Train: 50.08%, Valid: 49.94% Test: 49.98%\n",
            "Epoch: 33, Loss: 0.6043, Train: 50.23%, Valid: 49.91% Test: 49.96%\n",
            "Epoch: 34, Loss: 0.6049, Train: 50.89%, Valid: 49.84% Test: 49.93%\n",
            "Epoch: 35, Loss: 0.6032, Train: 51.67%, Valid: 49.90% Test: 50.05%\n",
            "Epoch: 36, Loss: 0.6041, Train: 52.74%, Valid: 50.28% Test: 50.64%\n",
            "Epoch: 37, Loss: 0.6018, Train: 55.01%, Valid: 51.14% Test: 51.65%\n",
            "Epoch: 38, Loss: 0.6028, Train: 57.48%, Valid: 53.04% Test: 53.75%\n",
            "Epoch: 39, Loss: 0.6017, Train: 59.30%, Valid: 54.73% Test: 56.15%\n",
            "Epoch: 40, Loss: 0.6021, Train: 61.21%, Valid: 57.60% Test: 58.89%\n",
            "Epoch: 41, Loss: 0.6013, Train: 64.03%, Valid: 60.64% Test: 62.68%\n",
            "Epoch: 42, Loss: 0.6023, Train: 65.68%, Valid: 62.44% Test: 65.04%\n",
            "Epoch: 43, Loss: 0.6004, Train: 67.48%, Valid: 64.02% Test: 66.46%\n",
            "Epoch: 44, Loss: 0.5994, Train: 67.53%, Valid: 64.28% Test: 66.68%\n",
            "Epoch: 45, Loss: 0.6020, Train: 66.75%, Valid: 64.28% Test: 66.86%\n",
            "Epoch: 46, Loss: 0.6017, Train: 66.91%, Valid: 64.78% Test: 67.24%\n",
            "Epoch: 47, Loss: 0.6008, Train: 67.92%, Valid: 65.91% Test: 67.95%\n",
            "Epoch: 48, Loss: 0.6014, Train: 67.54%, Valid: 67.21% Test: 68.79%\n",
            "Epoch: 49, Loss: 0.6008, Train: 68.56%, Valid: 68.19% Test: 69.53%\n",
            "Epoch: 50, Loss: 0.5978, Train: 69.59%, Valid: 68.39% Test: 69.61%\n",
            "Epoch: 51, Loss: 0.5995, Train: 67.77%, Valid: 66.98% Test: 68.55%\n",
            "Epoch: 52, Loss: 0.6009, Train: 67.48%, Valid: 66.73% Test: 68.25%\n",
            "Epoch: 53, Loss: 0.5982, Train: 68.56%, Valid: 66.24% Test: 68.55%\n",
            "Epoch: 54, Loss: 0.6003, Train: 69.12%, Valid: 67.19% Test: 69.50%\n",
            "Epoch: 55, Loss: 0.5994, Train: 70.48%, Valid: 68.29% Test: 71.13%\n",
            "Epoch: 56, Loss: 0.5979, Train: 71.28%, Valid: 69.74% Test: 72.52%\n",
            "Epoch: 57, Loss: 0.5988, Train: 71.62%, Valid: 70.32% Test: 72.71%\n",
            "Epoch: 58, Loss: 0.5982, Train: 72.14%, Valid: 70.42% Test: 72.89%\n",
            "Epoch: 59, Loss: 0.5983, Train: 71.71%, Valid: 70.06% Test: 72.39%\n",
            "Epoch: 60, Loss: 0.5993, Train: 70.92%, Valid: 69.63% Test: 71.59%\n",
            "Epoch: 61, Loss: 0.5977, Train: 71.14%, Valid: 69.78% Test: 71.97%\n",
            "Epoch: 62, Loss: 0.6006, Train: 71.07%, Valid: 70.55% Test: 72.35%\n",
            "Epoch: 63, Loss: 0.6002, Train: 70.57%, Valid: 70.71% Test: 72.21%\n",
            "Epoch: 64, Loss: 0.5978, Train: 71.23%, Valid: 71.41% Test: 72.68%\n",
            "Epoch: 65, Loss: 0.6000, Train: 71.97%, Valid: 71.90% Test: 73.04%\n",
            "Epoch: 66, Loss: 0.5985, Train: 72.28%, Valid: 71.33% Test: 73.31%\n",
            "Epoch: 67, Loss: 0.5991, Train: 71.54%, Valid: 70.88% Test: 73.07%\n",
            "Epoch: 68, Loss: 0.5972, Train: 71.81%, Valid: 69.97% Test: 72.25%\n",
            "Epoch: 69, Loss: 0.5976, Train: 70.95%, Valid: 68.86% Test: 71.31%\n",
            "Epoch: 70, Loss: 0.5984, Train: 70.48%, Valid: 68.13% Test: 70.56%\n",
            "Epoch: 71, Loss: 0.5977, Train: 69.27%, Valid: 66.87% Test: 70.07%\n",
            "Epoch: 72, Loss: 0.5954, Train: 69.65%, Valid: 66.80% Test: 69.38%\n",
            "Epoch: 73, Loss: 0.5971, Train: 68.79%, Valid: 66.51% Test: 69.07%\n",
            "Epoch: 74, Loss: 0.5970, Train: 68.30%, Valid: 66.02% Test: 68.31%\n",
            "Epoch: 75, Loss: 0.5976, Train: 66.44%, Valid: 64.84% Test: 66.53%\n",
            "Epoch: 76, Loss: 0.5971, Train: 65.63%, Valid: 63.62% Test: 65.57%\n",
            "Epoch: 77, Loss: 0.5974, Train: 64.77%, Valid: 62.49% Test: 64.05%\n",
            "Epoch: 78, Loss: 0.5979, Train: 64.62%, Valid: 62.95% Test: 64.18%\n",
            "Epoch: 79, Loss: 0.5980, Train: 65.27%, Valid: 64.08% Test: 65.13%\n",
            "Epoch: 80, Loss: 0.5972, Train: 67.50%, Valid: 66.31% Test: 67.75%\n",
            "Epoch: 81, Loss: 0.5970, Train: 70.37%, Valid: 69.37% Test: 71.52%\n",
            "Epoch: 82, Loss: 0.5967, Train: 72.26%, Valid: 71.40% Test: 73.70%\n",
            "Epoch: 83, Loss: 0.5950, Train: 73.71%, Valid: 72.36% Test: 74.76%\n",
            "Epoch: 84, Loss: 0.5978, Train: 73.40%, Valid: 72.99% Test: 75.11%\n",
            "Epoch: 85, Loss: 0.5954, Train: 73.30%, Valid: 73.45% Test: 75.51%\n",
            "Epoch: 86, Loss: 0.5978, Train: 73.93%, Valid: 73.40% Test: 75.82%\n",
            "Epoch: 87, Loss: 0.5988, Train: 73.63%, Valid: 73.57% Test: 75.56%\n",
            "Epoch: 88, Loss: 0.5980, Train: 72.99%, Valid: 71.76% Test: 74.22%\n",
            "Epoch: 89, Loss: 0.5981, Train: 72.56%, Valid: 71.04% Test: 73.51%\n",
            "Epoch: 90, Loss: 0.5988, Train: 72.24%, Valid: 71.22% Test: 73.60%\n",
            "Epoch: 91, Loss: 0.5953, Train: 72.30%, Valid: 70.99% Test: 73.36%\n",
            "Epoch: 92, Loss: 0.5963, Train: 72.08%, Valid: 70.14% Test: 72.65%\n",
            "Epoch: 93, Loss: 0.5962, Train: 71.30%, Valid: 68.89% Test: 71.86%\n",
            "Epoch: 94, Loss: 0.5970, Train: 70.56%, Valid: 68.59% Test: 70.98%\n",
            "Epoch: 95, Loss: 0.5938, Train: 69.84%, Valid: 66.95% Test: 69.34%\n",
            "Epoch: 96, Loss: 0.5963, Train: 68.91%, Valid: 66.58% Test: 69.29%\n",
            "Epoch: 97, Loss: 0.5956, Train: 69.78%, Valid: 67.15% Test: 69.98%\n",
            "Epoch: 98, Loss: 0.5960, Train: 69.40%, Valid: 67.03% Test: 69.33%\n",
            "Epoch: 99, Loss: 0.5952, Train: 69.22%, Valid: 66.54% Test: 69.01%\n",
            "Epoch: 100, Loss: 0.5964, Train: 68.87%, Valid: 66.43% Test: 68.57%\n",
            "Epoch: 101, Loss: 0.5973, Train: 68.92%, Valid: 66.23% Test: 68.71%\n",
            "Epoch: 102, Loss: 0.5952, Train: 69.93%, Valid: 66.23% Test: 69.32%\n",
            "Epoch: 103, Loss: 0.5954, Train: 69.56%, Valid: 67.34% Test: 70.09%\n",
            "Epoch: 104, Loss: 0.5961, Train: 72.35%, Valid: 70.83% Test: 73.32%\n",
            "Epoch: 105, Loss: 0.5947, Train: 73.36%, Valid: 73.53% Test: 75.53%\n",
            "Epoch: 106, Loss: 0.5944, Train: 71.81%, Valid: 73.04% Test: 73.97%\n",
            "Epoch: 107, Loss: 0.5956, Train: 70.83%, Valid: 71.95% Test: 72.64%\n",
            "Epoch: 108, Loss: 0.5947, Train: 70.30%, Valid: 72.01% Test: 72.08%\n",
            "Epoch: 109, Loss: 0.5942, Train: 70.75%, Valid: 72.18% Test: 72.69%\n",
            "Epoch: 110, Loss: 0.5956, Train: 70.85%, Valid: 73.49% Test: 73.74%\n",
            "Epoch: 111, Loss: 0.5940, Train: 72.36%, Valid: 73.32% Test: 74.06%\n",
            "Epoch: 112, Loss: 0.5957, Train: 72.28%, Valid: 73.52% Test: 74.47%\n",
            "Epoch: 113, Loss: 0.5936, Train: 72.96%, Valid: 73.91% Test: 75.28%\n",
            "Epoch: 114, Loss: 0.5964, Train: 73.52%, Valid: 73.27% Test: 75.88%\n",
            "Epoch: 115, Loss: 0.5963, Train: 72.35%, Valid: 71.41% Test: 74.15%\n",
            "Epoch: 116, Loss: 0.5964, Train: 69.40%, Valid: 67.08% Test: 69.63%\n",
            "Epoch: 117, Loss: 0.5941, Train: 66.11%, Valid: 62.40% Test: 64.22%\n",
            "Epoch: 118, Loss: 0.5946, Train: 63.82%, Valid: 59.46% Test: 60.82%\n",
            "Epoch: 119, Loss: 0.5950, Train: 61.15%, Valid: 56.71% Test: 58.06%\n"
          ]
        },
        {
          "output_type": "error",
          "ename": "KeyboardInterrupt",
          "evalue": "",
          "traceback": [
            "\u001b[0;31m---------------------------------------------------------------------------\u001b[0m",
            "\u001b[0;31mKeyboardInterrupt\u001b[0m                         Traceback (most recent call last)",
            "\u001b[0;32m<ipython-input-38-87770e90cbdb>\u001b[0m in \u001b[0;36m<cell line: 0>\u001b[0;34m()\u001b[0m\n\u001b[1;32m     18\u001b[0m                               torch.zeros(train_negatives_eval_outfits.shape[0])))\n\u001b[1;32m     19\u001b[0m     \u001b[0mtrain_eval_outfits\u001b[0m \u001b[0;34m=\u001b[0m \u001b[0mtorch\u001b[0m\u001b[0;34m.\u001b[0m\u001b[0mcat\u001b[0m\u001b[0;34m(\u001b[0m\u001b[0;34m(\u001b[0m\u001b[0mtrain_positives_eval_outfits\u001b[0m\u001b[0;34m,\u001b[0m \u001b[0mtrain_negatives_eval_outfits\u001b[0m\u001b[0;34m)\u001b[0m\u001b[0;34m,\u001b[0m \u001b[0mdim\u001b[0m\u001b[0;34m=\u001b[0m\u001b[0;36m0\u001b[0m\u001b[0;34m)\u001b[0m\u001b[0;34m\u001b[0m\u001b[0;34m\u001b[0m\u001b[0m\n\u001b[0;32m---> 20\u001b[0;31m     train_loss = train(model, x, message_passing_edges.to(device)\n\u001b[0m\u001b[1;32m     21\u001b[0m     \u001b[0;34m,\u001b[0m \u001b[0mtrain_eval_outfits\u001b[0m\u001b[0;34m.\u001b[0m\u001b[0mto\u001b[0m\u001b[0;34m(\u001b[0m\u001b[0mdevice\u001b[0m\u001b[0;34m)\u001b[0m\u001b[0;34m,\u001b[0m \u001b[0mtrain_labels\u001b[0m\u001b[0;34m.\u001b[0m\u001b[0mto\u001b[0m\u001b[0;34m(\u001b[0m\u001b[0mdevice\u001b[0m\u001b[0;34m)\u001b[0m\u001b[0;34m,\u001b[0m\u001b[0;34m\u001b[0m\u001b[0;34m\u001b[0m\u001b[0m\n\u001b[1;32m     22\u001b[0m                        loss_fn=loss_fn, optimizer=optimizer)\n",
            "\u001b[0;32m<ipython-input-23-e0f101cbd21b>\u001b[0m in \u001b[0;36mtrain\u001b[0;34m(model, x, edge_index, outfits, labels, optimizer, loss_fn)\u001b[0m\n\u001b[1;32m      9\u001b[0m   \u001b[0moptimizer\u001b[0m\u001b[0;34m.\u001b[0m\u001b[0mstep\u001b[0m\u001b[0;34m(\u001b[0m\u001b[0;34m)\u001b[0m\u001b[0;34m\u001b[0m\u001b[0;34m\u001b[0m\u001b[0m\n\u001b[1;32m     10\u001b[0m \u001b[0;34m\u001b[0m\u001b[0m\n\u001b[0;32m---> 11\u001b[0;31m   \u001b[0;32mreturn\u001b[0m \u001b[0mloss\u001b[0m\u001b[0;34m.\u001b[0m\u001b[0mitem\u001b[0m\u001b[0;34m(\u001b[0m\u001b[0;34m)\u001b[0m\u001b[0;34m\u001b[0m\u001b[0;34m\u001b[0m\u001b[0m\n\u001b[0m",
            "\u001b[0;31mKeyboardInterrupt\u001b[0m: "
          ]
        }
      ]
    },
    {
      "cell_type": "code",
      "source": [
        "best_test_acc"
      ],
      "metadata": {
        "id": "5zxK9UkD0_09",
        "outputId": "bcc634c7-d3ea-4245-e595-72ca02727543",
        "colab": {
          "base_uri": "https://localhost:8080/"
        }
      },
      "execution_count": null,
      "outputs": [
        {
          "output_type": "execute_result",
          "data": {
            "text/plain": [
              "tensor(0.7587, device='cuda:0')"
            ]
          },
          "metadata": {},
          "execution_count": 39
        }
      ]
    },
    {
      "cell_type": "code",
      "source": [
        "# (x / x.norm(dim=-1).min())\n",
        "x.normalize()"
      ],
      "metadata": {
        "colab": {
          "base_uri": "https://localhost:8080/",
          "height": 164
        },
        "id": "qjq0vWqDmIWp",
        "outputId": "f13061c5-db6c-41ce-b04e-39f40e7b10c6"
      },
      "execution_count": null,
      "outputs": [
        {
          "output_type": "error",
          "ename": "RuntimeError",
          "evalue": "The size of tensor a (2048) must match the size of tensor b (251008) at non-singleton dimension 1",
          "traceback": [
            "\u001b[0;31m---------------------------------------------------------------------------\u001b[0m",
            "\u001b[0;31mRuntimeError\u001b[0m                              Traceback (most recent call last)",
            "\u001b[0;32m<ipython-input-62-c8c8e9d68e12>\u001b[0m in \u001b[0;36m<cell line: 0>\u001b[0;34m()\u001b[0m\n\u001b[1;32m      1\u001b[0m \u001b[0;31m# (x / x.norm(dim=-1).min())\u001b[0m\u001b[0;34m\u001b[0m\u001b[0;34m\u001b[0m\u001b[0m\n\u001b[0;32m----> 2\u001b[0;31m \u001b[0;34m(\u001b[0m\u001b[0;34m(\u001b[0m\u001b[0mx\u001b[0m \u001b[0;34m-\u001b[0m \u001b[0mx\u001b[0m\u001b[0;34m.\u001b[0m\u001b[0mmean\u001b[0m\u001b[0;34m(\u001b[0m\u001b[0mdim\u001b[0m\u001b[0;34m=\u001b[0m\u001b[0;34m-\u001b[0m\u001b[0;36m1\u001b[0m\u001b[0;34m)\u001b[0m\u001b[0;34m)\u001b[0m \u001b[0;34m/\u001b[0m \u001b[0mx\u001b[0m\u001b[0;34m.\u001b[0m\u001b[0mstd\u001b[0m\u001b[0;34m(\u001b[0m\u001b[0mdim\u001b[0m\u001b[0;34m=\u001b[0m\u001b[0;34m-\u001b[0m\u001b[0;36m1\u001b[0m\u001b[0;34m)\u001b[0m\u001b[0;34m)\u001b[0m\u001b[0;34m.\u001b[0m\u001b[0mnorm\u001b[0m\u001b[0;34m(\u001b[0m\u001b[0mdim\u001b[0m\u001b[0;34m=\u001b[0m\u001b[0;34m-\u001b[0m\u001b[0;36m1\u001b[0m\u001b[0;34m)\u001b[0m\u001b[0;34m\u001b[0m\u001b[0;34m\u001b[0m\u001b[0m\n\u001b[0m",
            "\u001b[0;31mRuntimeError\u001b[0m: The size of tensor a (2048) must match the size of tensor b (251008) at non-singleton dimension 1"
          ]
        }
      ]
    },
    {
      "cell_type": "code",
      "source": [
        "import gc\n",
        "import torch\n",
        "\n",
        "gc.collect()\n",
        "torch.cuda.empty_cache()"
      ],
      "metadata": {
        "id": "f3Gen3WHx46i"
      },
      "execution_count": null,
      "outputs": []
    },
    {
      "cell_type": "code",
      "source": [
        "torch.cuda.reset_peak_memory_stats()\n",
        "torch.cuda.reset_accumulated_memory_stats()"
      ],
      "metadata": {
        "id": "I1r82EBGWyeD"
      },
      "execution_count": null,
      "outputs": []
    },
    {
      "cell_type": "code",
      "source": [
        "torch.cuda.empty_cache()"
      ],
      "metadata": {
        "id": "atO9zQ4QW0T3"
      },
      "execution_count": null,
      "outputs": []
    },
    {
      "cell_type": "code",
      "source": [
        "m = x[:100].cpu()\n",
        "m"
      ],
      "metadata": {
        "id": "3fFxXZvrN8U9",
        "outputId": "e65dcdb7-3dcb-4f37-80ab-0803db0f4012",
        "colab": {
          "base_uri": "https://localhost:8080/"
        }
      },
      "execution_count": null,
      "outputs": [
        {
          "output_type": "execute_result",
          "data": {
            "text/plain": [
              "tensor([[0.2134, 0.4643, 0.3334,  ..., 0.3668, 0.0379, 0.0898],\n",
              "        [0.5982, 0.7184, 0.2694,  ..., 0.2122, 0.6592, 0.0720],\n",
              "        [0.3819, 4.5064, 0.2355,  ..., 0.2252, 0.7095, 0.4182],\n",
              "        ...,\n",
              "        [0.4332, 1.0498, 0.8459,  ..., 0.1372, 0.1394, 0.4783],\n",
              "        [0.2474, 0.4604, 0.6189,  ..., 0.0801, 0.5642, 1.3976],\n",
              "        [1.7186, 0.4958, 0.3872,  ..., 0.2463, 0.6565, 0.0996]])"
            ]
          },
          "metadata": {},
          "execution_count": 32
        }
      ]
    },
    {
      "cell_type": "code",
      "source": [
        "get_node_embedding_with_mask_meaningless_edge_index_elements(x.cpu(), train_eval_outfits[:100])"
      ],
      "metadata": {
        "id": "tXh454zZOabb"
      },
      "execution_count": null,
      "outputs": []
    },
    {
      "cell_type": "code",
      "source": [
        "torch.cuda.empty_cache()"
      ],
      "metadata": {
        "id": "q2YGJZzcM_T4"
      },
      "execution_count": null,
      "outputs": []
    },
    {
      "cell_type": "code",
      "source": [
        "best_test_acc.item()"
      ],
      "metadata": {
        "colab": {
          "base_uri": "https://localhost:8080/"
        },
        "id": "hgQKg2KvHR7o",
        "outputId": "2b38e4ae-af39-4f0b-d97f-8b9654f4f541"
      },
      "execution_count": null,
      "outputs": [
        {
          "output_type": "execute_result",
          "data": {
            "text/plain": [
              "0.757099986076355"
            ]
          },
          "metadata": {},
          "execution_count": 99
        }
      ]
    },
    {
      "cell_type": "code",
      "source": [
        "def save_model(model, data_path, name):\n",
        "  torch.save(model.state_dict(), path.join(data_path,name))"
      ],
      "metadata": {
        "id": "Y3HYYbneImY_"
      },
      "execution_count": 107,
      "outputs": []
    },
    {
      "cell_type": "code",
      "source": [
        "save_model(best_model, datasets_path, \"best_gcn_model_based_with_cosine.pth\")\n",
        "save_model(model, datasets_path, \"last_gcn_model_based_with_cosine.pth\")"
      ],
      "metadata": {
        "id": "NsNybwag4qSh"
      },
      "execution_count": null,
      "outputs": []
    },
    {
      "cell_type": "code",
      "source": [],
      "metadata": {
        "id": "Oe4sG_oxEVAC"
      },
      "execution_count": null,
      "outputs": []
    },
    {
      "cell_type": "code",
      "source": [
        "model.load_state_dict(torch.load(path.join(datasets_path,\"last_gcn_model_based_with_cosine.pth\")))"
      ],
      "metadata": {
        "id": "oV1gDpy9WrvW",
        "outputId": "41bd4ed3-ba6c-4cc6-8055-016f60fb18c1",
        "colab": {
          "base_uri": "https://localhost:8080/"
        }
      },
      "execution_count": null,
      "outputs": [
        {
          "output_type": "execute_result",
          "data": {
            "text/plain": [
              "<All keys matched successfully>"
            ]
          },
          "metadata": {},
          "execution_count": 34
        }
      ]
    },
    {
      "cell_type": "code",
      "source": [
        "negative_train_edge_index.shape"
      ],
      "metadata": {
        "id": "EUyYn7Jc2Mu-",
        "outputId": "fd167569-74c4-40ac-9427-77de93ea7707",
        "colab": {
          "base_uri": "https://localhost:8080/"
        }
      },
      "execution_count": null,
      "outputs": [
        {
          "output_type": "execute_result",
          "data": {
            "text/plain": [
              "torch.Size([53306, 2, 171])"
            ]
          },
          "metadata": {},
          "execution_count": 48
        }
      ]
    },
    {
      "cell_type": "code",
      "source": [
        "train_acc = test(model, x, message_passing_edges.to(device)\n",
        ", train_eval_outfits.to(device), train_labels.to(device))"
      ],
      "metadata": {
        "id": "2DsFYhIlW_Ei"
      },
      "execution_count": null,
      "outputs": []
    },
    {
      "cell_type": "code",
      "source": [
        "embd, o = model(x, test_message_passing_edges.to(device)\n",
        ", train_eval_outfits[14000:].to(device))\n",
        "\n",
        "embd = embd.cpu()\n",
        "o = o.cpu()\n",
        "\n"
      ],
      "metadata": {
        "id": "PFeB5XgYXCpn"
      },
      "execution_count": null,
      "outputs": []
    },
    {
      "cell_type": "code",
      "source": [
        "train_eval_outfits[14000:][18]"
      ],
      "metadata": {
        "id": "i-v-WsiAY_Re",
        "outputId": "e45ff51f-e68f-45ca-f8b0-e899c1a70396",
        "colab": {
          "base_uri": "https://localhost:8080/"
        }
      },
      "execution_count": null,
      "outputs": [
        {
          "output_type": "execute_result",
          "data": {
            "text/plain": [
              "tensor([[205458, 205458,  53235,  42435,  42435,  42435,     -1,     -1,     -1,\n",
              "             -1,     -1,     -1,     -1,     -1,     -1,     -1,     -1,     -1,\n",
              "             -1,     -1,     -1,     -1,     -1,     -1,     -1,     -1,     -1,\n",
              "             -1,     -1,     -1,     -1,     -1,     -1,     -1,     -1,     -1,\n",
              "             -1,     -1,     -1,     -1,     -1,     -1,     -1,     -1,     -1,\n",
              "             -1,     -1,     -1,     -1,     -1,     -1,     -1,     -1,     -1,\n",
              "             -1,     -1,     -1,     -1,     -1,     -1,     -1,     -1,     -1,\n",
              "             -1,     -1,     -1,     -1,     -1,     -1,     -1,     -1,     -1,\n",
              "             -1,     -1,     -1,     -1,     -1,     -1,     -1,     -1,     -1,\n",
              "             -1,     -1,     -1,     -1,     -1,     -1,     -1,     -1,     -1,\n",
              "             -1,     -1,     -1,     -1,     -1,     -1,     -1,     -1,     -1,\n",
              "             -1,     -1,     -1,     -1,     -1,     -1,     -1,     -1,     -1,\n",
              "             -1,     -1,     -1,     -1,     -1,     -1,     -1,     -1,     -1,\n",
              "             -1,     -1,     -1,     -1,     -1,     -1,     -1,     -1,     -1,\n",
              "             -1,     -1,     -1,     -1,     -1,     -1,     -1,     -1,     -1,\n",
              "             -1,     -1,     -1,     -1,     -1,     -1,     -1,     -1,     -1,\n",
              "             -1,     -1,     -1,     -1,     -1,     -1,     -1,     -1,     -1,\n",
              "             -1,     -1,     -1,     -1,     -1,     -1,     -1,     -1,     -1,\n",
              "             -1,     -1,     -1,     -1,     -1,     -1,     -1,     -1,     -1],\n",
              "        [ 53235,   9357,   9357, 205458,  53235,   9357,     -1,     -1,     -1,\n",
              "             -1,     -1,     -1,     -1,     -1,     -1,     -1,     -1,     -1,\n",
              "             -1,     -1,     -1,     -1,     -1,     -1,     -1,     -1,     -1,\n",
              "             -1,     -1,     -1,     -1,     -1,     -1,     -1,     -1,     -1,\n",
              "             -1,     -1,     -1,     -1,     -1,     -1,     -1,     -1,     -1,\n",
              "             -1,     -1,     -1,     -1,     -1,     -1,     -1,     -1,     -1,\n",
              "             -1,     -1,     -1,     -1,     -1,     -1,     -1,     -1,     -1,\n",
              "             -1,     -1,     -1,     -1,     -1,     -1,     -1,     -1,     -1,\n",
              "             -1,     -1,     -1,     -1,     -1,     -1,     -1,     -1,     -1,\n",
              "             -1,     -1,     -1,     -1,     -1,     -1,     -1,     -1,     -1,\n",
              "             -1,     -1,     -1,     -1,     -1,     -1,     -1,     -1,     -1,\n",
              "             -1,     -1,     -1,     -1,     -1,     -1,     -1,     -1,     -1,\n",
              "             -1,     -1,     -1,     -1,     -1,     -1,     -1,     -1,     -1,\n",
              "             -1,     -1,     -1,     -1,     -1,     -1,     -1,     -1,     -1,\n",
              "             -1,     -1,     -1,     -1,     -1,     -1,     -1,     -1,     -1,\n",
              "             -1,     -1,     -1,     -1,     -1,     -1,     -1,     -1,     -1,\n",
              "             -1,     -1,     -1,     -1,     -1,     -1,     -1,     -1,     -1,\n",
              "             -1,     -1,     -1,     -1,     -1,     -1,     -1,     -1,     -1,\n",
              "             -1,     -1,     -1,     -1,     -1,     -1,     -1,     -1,     -1]])"
            ]
          },
          "metadata": {},
          "execution_count": 79
        }
      ]
    },
    {
      "cell_type": "code",
      "source": [
        "items.loc[items['index'].isin([205458,  53235,  42435,9357])]"
      ],
      "metadata": {
        "id": "xXuFnYR1ZguC",
        "outputId": "e638108e-8bfb-4eda-a7b5-0371b0b046ca",
        "colab": {
          "base_uri": "https://localhost:8080/",
          "height": 507
        }
      },
      "execution_count": null,
      "outputs": [
        {
          "output_type": "execute_result",
          "data": {
            "text/plain": [
              "        Unnamed: 0   index         ID  \\\n",
              "9357          9357    9357  213438505   \n",
              "42435        42435   42435   35211694   \n",
              "53235        53235   53235  208070724   \n",
              "205458      205458  205458  153558426   \n",
              "\n",
              "                                                 url_name  \\\n",
              "9357                    fabulous in pink cluster earrings   \n",
              "42435   notte marchesa silk-chiffon silk-organza halte...   \n",
              "53235                       espadrilles with lacing 29.99   \n",
              "205458                   dolce gabbana sicily von crystal   \n",
              "\n",
              "                                              description  \\\n",
              "9357                                                  NaN   \n",
              "42435                                                 NaN   \n",
              "53235   Yellow. Satin sandals with an adjustable strap...   \n",
              "205458                                                NaN   \n",
              "\n",
              "                                     catgeories           title  \\\n",
              "9357                                        NaN             NaN   \n",
              "42435                                       NaN             NaN   \n",
              "53235   [\"Women's Fashion\", 'Shoes', 'Sandals']  Sandals $24.99   \n",
              "205458                                      NaN             NaN   \n",
              "\n",
              "                                                  related  category_id  \\\n",
              "9357                                                  NaN           11   \n",
              "42435                                                 NaN            1   \n",
              "53235   ['Flats sandals', 'Yellow sandals', 'Rubber so...            6   \n",
              "205458                                                NaN            5   \n",
              "\n",
              "       semantic_category  name_len  \n",
              "9357           jewellery        33  \n",
              "42435           all-body        51  \n",
              "53235              shoes        29  \n",
              "205458              bags        32  "
            ],
            "text/html": [
              "\n",
              "  <div id=\"df-f57496eb-171a-44bf-9465-727563b8b09e\" class=\"colab-df-container\">\n",
              "    <div>\n",
              "<style scoped>\n",
              "    .dataframe tbody tr th:only-of-type {\n",
              "        vertical-align: middle;\n",
              "    }\n",
              "\n",
              "    .dataframe tbody tr th {\n",
              "        vertical-align: top;\n",
              "    }\n",
              "\n",
              "    .dataframe thead th {\n",
              "        text-align: right;\n",
              "    }\n",
              "</style>\n",
              "<table border=\"1\" class=\"dataframe\">\n",
              "  <thead>\n",
              "    <tr style=\"text-align: right;\">\n",
              "      <th></th>\n",
              "      <th>Unnamed: 0</th>\n",
              "      <th>index</th>\n",
              "      <th>ID</th>\n",
              "      <th>url_name</th>\n",
              "      <th>description</th>\n",
              "      <th>catgeories</th>\n",
              "      <th>title</th>\n",
              "      <th>related</th>\n",
              "      <th>category_id</th>\n",
              "      <th>semantic_category</th>\n",
              "      <th>name_len</th>\n",
              "    </tr>\n",
              "  </thead>\n",
              "  <tbody>\n",
              "    <tr>\n",
              "      <th>9357</th>\n",
              "      <td>9357</td>\n",
              "      <td>9357</td>\n",
              "      <td>213438505</td>\n",
              "      <td>fabulous in pink cluster earrings</td>\n",
              "      <td>NaN</td>\n",
              "      <td>NaN</td>\n",
              "      <td>NaN</td>\n",
              "      <td>NaN</td>\n",
              "      <td>11</td>\n",
              "      <td>jewellery</td>\n",
              "      <td>33</td>\n",
              "    </tr>\n",
              "    <tr>\n",
              "      <th>42435</th>\n",
              "      <td>42435</td>\n",
              "      <td>42435</td>\n",
              "      <td>35211694</td>\n",
              "      <td>notte marchesa silk-chiffon silk-organza halte...</td>\n",
              "      <td>NaN</td>\n",
              "      <td>NaN</td>\n",
              "      <td>NaN</td>\n",
              "      <td>NaN</td>\n",
              "      <td>1</td>\n",
              "      <td>all-body</td>\n",
              "      <td>51</td>\n",
              "    </tr>\n",
              "    <tr>\n",
              "      <th>53235</th>\n",
              "      <td>53235</td>\n",
              "      <td>53235</td>\n",
              "      <td>208070724</td>\n",
              "      <td>espadrilles with lacing 29.99</td>\n",
              "      <td>Yellow. Satin sandals with an adjustable strap...</td>\n",
              "      <td>[\"Women's Fashion\", 'Shoes', 'Sandals']</td>\n",
              "      <td>Sandals $24.99</td>\n",
              "      <td>['Flats sandals', 'Yellow sandals', 'Rubber so...</td>\n",
              "      <td>6</td>\n",
              "      <td>shoes</td>\n",
              "      <td>29</td>\n",
              "    </tr>\n",
              "    <tr>\n",
              "      <th>205458</th>\n",
              "      <td>205458</td>\n",
              "      <td>205458</td>\n",
              "      <td>153558426</td>\n",
              "      <td>dolce gabbana sicily von crystal</td>\n",
              "      <td>NaN</td>\n",
              "      <td>NaN</td>\n",
              "      <td>NaN</td>\n",
              "      <td>NaN</td>\n",
              "      <td>5</td>\n",
              "      <td>bags</td>\n",
              "      <td>32</td>\n",
              "    </tr>\n",
              "  </tbody>\n",
              "</table>\n",
              "</div>\n",
              "    <div class=\"colab-df-buttons\">\n",
              "\n",
              "  <div class=\"colab-df-container\">\n",
              "    <button class=\"colab-df-convert\" onclick=\"convertToInteractive('df-f57496eb-171a-44bf-9465-727563b8b09e')\"\n",
              "            title=\"Convert this dataframe to an interactive table.\"\n",
              "            style=\"display:none;\">\n",
              "\n",
              "  <svg xmlns=\"http://www.w3.org/2000/svg\" height=\"24px\" viewBox=\"0 -960 960 960\">\n",
              "    <path d=\"M120-120v-720h720v720H120Zm60-500h600v-160H180v160Zm220 220h160v-160H400v160Zm0 220h160v-160H400v160ZM180-400h160v-160H180v160Zm440 0h160v-160H620v160ZM180-180h160v-160H180v160Zm440 0h160v-160H620v160Z\"/>\n",
              "  </svg>\n",
              "    </button>\n",
              "\n",
              "  <style>\n",
              "    .colab-df-container {\n",
              "      display:flex;\n",
              "      gap: 12px;\n",
              "    }\n",
              "\n",
              "    .colab-df-convert {\n",
              "      background-color: #E8F0FE;\n",
              "      border: none;\n",
              "      border-radius: 50%;\n",
              "      cursor: pointer;\n",
              "      display: none;\n",
              "      fill: #1967D2;\n",
              "      height: 32px;\n",
              "      padding: 0 0 0 0;\n",
              "      width: 32px;\n",
              "    }\n",
              "\n",
              "    .colab-df-convert:hover {\n",
              "      background-color: #E2EBFA;\n",
              "      box-shadow: 0px 1px 2px rgba(60, 64, 67, 0.3), 0px 1px 3px 1px rgba(60, 64, 67, 0.15);\n",
              "      fill: #174EA6;\n",
              "    }\n",
              "\n",
              "    .colab-df-buttons div {\n",
              "      margin-bottom: 4px;\n",
              "    }\n",
              "\n",
              "    [theme=dark] .colab-df-convert {\n",
              "      background-color: #3B4455;\n",
              "      fill: #D2E3FC;\n",
              "    }\n",
              "\n",
              "    [theme=dark] .colab-df-convert:hover {\n",
              "      background-color: #434B5C;\n",
              "      box-shadow: 0px 1px 3px 1px rgba(0, 0, 0, 0.15);\n",
              "      filter: drop-shadow(0px 1px 2px rgba(0, 0, 0, 0.3));\n",
              "      fill: #FFFFFF;\n",
              "    }\n",
              "  </style>\n",
              "\n",
              "    <script>\n",
              "      const buttonEl =\n",
              "        document.querySelector('#df-f57496eb-171a-44bf-9465-727563b8b09e button.colab-df-convert');\n",
              "      buttonEl.style.display =\n",
              "        google.colab.kernel.accessAllowed ? 'block' : 'none';\n",
              "\n",
              "      async function convertToInteractive(key) {\n",
              "        const element = document.querySelector('#df-f57496eb-171a-44bf-9465-727563b8b09e');\n",
              "        const dataTable =\n",
              "          await google.colab.kernel.invokeFunction('convertToInteractive',\n",
              "                                                    [key], {});\n",
              "        if (!dataTable) return;\n",
              "\n",
              "        const docLinkHtml = 'Like what you see? Visit the ' +\n",
              "          '<a target=\"_blank\" href=https://colab.research.google.com/notebooks/data_table.ipynb>data table notebook</a>'\n",
              "          + ' to learn more about interactive tables.';\n",
              "        element.innerHTML = '';\n",
              "        dataTable['output_type'] = 'display_data';\n",
              "        await google.colab.output.renderOutput(dataTable, element);\n",
              "        const docLink = document.createElement('div');\n",
              "        docLink.innerHTML = docLinkHtml;\n",
              "        element.appendChild(docLink);\n",
              "      }\n",
              "    </script>\n",
              "  </div>\n",
              "\n",
              "\n",
              "<div id=\"df-4e2cb269-4d95-4dcc-8709-33eb237e1d96\">\n",
              "  <button class=\"colab-df-quickchart\" onclick=\"quickchart('df-4e2cb269-4d95-4dcc-8709-33eb237e1d96')\"\n",
              "            title=\"Suggest charts\"\n",
              "            style=\"display:none;\">\n",
              "\n",
              "<svg xmlns=\"http://www.w3.org/2000/svg\" height=\"24px\"viewBox=\"0 0 24 24\"\n",
              "     width=\"24px\">\n",
              "    <g>\n",
              "        <path d=\"M19 3H5c-1.1 0-2 .9-2 2v14c0 1.1.9 2 2 2h14c1.1 0 2-.9 2-2V5c0-1.1-.9-2-2-2zM9 17H7v-7h2v7zm4 0h-2V7h2v10zm4 0h-2v-4h2v4z\"/>\n",
              "    </g>\n",
              "</svg>\n",
              "  </button>\n",
              "\n",
              "<style>\n",
              "  .colab-df-quickchart {\n",
              "      --bg-color: #E8F0FE;\n",
              "      --fill-color: #1967D2;\n",
              "      --hover-bg-color: #E2EBFA;\n",
              "      --hover-fill-color: #174EA6;\n",
              "      --disabled-fill-color: #AAA;\n",
              "      --disabled-bg-color: #DDD;\n",
              "  }\n",
              "\n",
              "  [theme=dark] .colab-df-quickchart {\n",
              "      --bg-color: #3B4455;\n",
              "      --fill-color: #D2E3FC;\n",
              "      --hover-bg-color: #434B5C;\n",
              "      --hover-fill-color: #FFFFFF;\n",
              "      --disabled-bg-color: #3B4455;\n",
              "      --disabled-fill-color: #666;\n",
              "  }\n",
              "\n",
              "  .colab-df-quickchart {\n",
              "    background-color: var(--bg-color);\n",
              "    border: none;\n",
              "    border-radius: 50%;\n",
              "    cursor: pointer;\n",
              "    display: none;\n",
              "    fill: var(--fill-color);\n",
              "    height: 32px;\n",
              "    padding: 0;\n",
              "    width: 32px;\n",
              "  }\n",
              "\n",
              "  .colab-df-quickchart:hover {\n",
              "    background-color: var(--hover-bg-color);\n",
              "    box-shadow: 0 1px 2px rgba(60, 64, 67, 0.3), 0 1px 3px 1px rgba(60, 64, 67, 0.15);\n",
              "    fill: var(--button-hover-fill-color);\n",
              "  }\n",
              "\n",
              "  .colab-df-quickchart-complete:disabled,\n",
              "  .colab-df-quickchart-complete:disabled:hover {\n",
              "    background-color: var(--disabled-bg-color);\n",
              "    fill: var(--disabled-fill-color);\n",
              "    box-shadow: none;\n",
              "  }\n",
              "\n",
              "  .colab-df-spinner {\n",
              "    border: 2px solid var(--fill-color);\n",
              "    border-color: transparent;\n",
              "    border-bottom-color: var(--fill-color);\n",
              "    animation:\n",
              "      spin 1s steps(1) infinite;\n",
              "  }\n",
              "\n",
              "  @keyframes spin {\n",
              "    0% {\n",
              "      border-color: transparent;\n",
              "      border-bottom-color: var(--fill-color);\n",
              "      border-left-color: var(--fill-color);\n",
              "    }\n",
              "    20% {\n",
              "      border-color: transparent;\n",
              "      border-left-color: var(--fill-color);\n",
              "      border-top-color: var(--fill-color);\n",
              "    }\n",
              "    30% {\n",
              "      border-color: transparent;\n",
              "      border-left-color: var(--fill-color);\n",
              "      border-top-color: var(--fill-color);\n",
              "      border-right-color: var(--fill-color);\n",
              "    }\n",
              "    40% {\n",
              "      border-color: transparent;\n",
              "      border-right-color: var(--fill-color);\n",
              "      border-top-color: var(--fill-color);\n",
              "    }\n",
              "    60% {\n",
              "      border-color: transparent;\n",
              "      border-right-color: var(--fill-color);\n",
              "    }\n",
              "    80% {\n",
              "      border-color: transparent;\n",
              "      border-right-color: var(--fill-color);\n",
              "      border-bottom-color: var(--fill-color);\n",
              "    }\n",
              "    90% {\n",
              "      border-color: transparent;\n",
              "      border-bottom-color: var(--fill-color);\n",
              "    }\n",
              "  }\n",
              "</style>\n",
              "\n",
              "  <script>\n",
              "    async function quickchart(key) {\n",
              "      const quickchartButtonEl =\n",
              "        document.querySelector('#' + key + ' button');\n",
              "      quickchartButtonEl.disabled = true;  // To prevent multiple clicks.\n",
              "      quickchartButtonEl.classList.add('colab-df-spinner');\n",
              "      try {\n",
              "        const charts = await google.colab.kernel.invokeFunction(\n",
              "            'suggestCharts', [key], {});\n",
              "      } catch (error) {\n",
              "        console.error('Error during call to suggestCharts:', error);\n",
              "      }\n",
              "      quickchartButtonEl.classList.remove('colab-df-spinner');\n",
              "      quickchartButtonEl.classList.add('colab-df-quickchart-complete');\n",
              "    }\n",
              "    (() => {\n",
              "      let quickchartButtonEl =\n",
              "        document.querySelector('#df-4e2cb269-4d95-4dcc-8709-33eb237e1d96 button');\n",
              "      quickchartButtonEl.style.display =\n",
              "        google.colab.kernel.accessAllowed ? 'block' : 'none';\n",
              "    })();\n",
              "  </script>\n",
              "</div>\n",
              "    </div>\n",
              "  </div>\n"
            ],
            "application/vnd.google.colaboratory.intrinsic+json": {
              "type": "dataframe",
              "summary": "{\n  \"name\": \"items\",\n  \"rows\": 4,\n  \"fields\": [\n    {\n      \"column\": \"Unnamed: 0\",\n      \"properties\": {\n        \"dtype\": \"number\",\n        \"std\": 87244,\n        \"min\": 9357,\n        \"max\": 205458,\n        \"num_unique_values\": 4,\n        \"samples\": [\n          42435,\n          205458,\n          9357\n        ],\n        \"semantic_type\": \"\",\n        \"description\": \"\"\n      }\n    },\n    {\n      \"column\": \"index\",\n      \"properties\": {\n        \"dtype\": \"number\",\n        \"std\": 87244,\n        \"min\": 9357,\n        \"max\": 205458,\n        \"num_unique_values\": 4,\n        \"samples\": [\n          42435,\n          205458,\n          9357\n        ],\n        \"semantic_type\": \"\",\n        \"description\": \"\"\n      }\n    },\n    {\n      \"column\": \"ID\",\n      \"properties\": {\n        \"dtype\": \"number\",\n        \"std\": 82783360,\n        \"min\": 35211694,\n        \"max\": 213438505,\n        \"num_unique_values\": 4,\n        \"samples\": [\n          35211694,\n          153558426,\n          213438505\n        ],\n        \"semantic_type\": \"\",\n        \"description\": \"\"\n      }\n    },\n    {\n      \"column\": \"url_name\",\n      \"properties\": {\n        \"dtype\": \"string\",\n        \"num_unique_values\": 4,\n        \"samples\": [\n          \"notte marchesa silk-chiffon silk-organza halterneck\",\n          \"dolce gabbana sicily von crystal\",\n          \"fabulous in pink cluster earrings\"\n        ],\n        \"semantic_type\": \"\",\n        \"description\": \"\"\n      }\n    },\n    {\n      \"column\": \"description\",\n      \"properties\": {\n        \"dtype\": \"category\",\n        \"num_unique_values\": 1,\n        \"samples\": [\n          \"Yellow. Satin sandals with an adjustable strap at heel. Faux leather lining and insoles. Rubber soles.\"\n        ],\n        \"semantic_type\": \"\",\n        \"description\": \"\"\n      }\n    },\n    {\n      \"column\": \"catgeories\",\n      \"properties\": {\n        \"dtype\": \"category\",\n        \"num_unique_values\": 1,\n        \"samples\": [\n          \"[\\\"Women's Fashion\\\", 'Shoes', 'Sandals']\"\n        ],\n        \"semantic_type\": \"\",\n        \"description\": \"\"\n      }\n    },\n    {\n      \"column\": \"title\",\n      \"properties\": {\n        \"dtype\": \"category\",\n        \"num_unique_values\": 1,\n        \"samples\": [\n          \"Sandals $24.99\"\n        ],\n        \"semantic_type\": \"\",\n        \"description\": \"\"\n      }\n    },\n    {\n      \"column\": \"related\",\n      \"properties\": {\n        \"dtype\": \"category\",\n        \"num_unique_values\": 1,\n        \"samples\": [\n          \"['Flats sandals', 'Yellow sandals', 'Rubber sole shoes', 'Satin shoes', 'Adjustable strap sandals', 'Flat heel sandals']\"\n        ],\n        \"semantic_type\": \"\",\n        \"description\": \"\"\n      }\n    },\n    {\n      \"column\": \"category_id\",\n      \"properties\": {\n        \"dtype\": \"number\",\n        \"std\": 4,\n        \"min\": 1,\n        \"max\": 11,\n        \"num_unique_values\": 4,\n        \"samples\": [\n          1\n        ],\n        \"semantic_type\": \"\",\n        \"description\": \"\"\n      }\n    },\n    {\n      \"column\": \"semantic_category\",\n      \"properties\": {\n        \"dtype\": \"string\",\n        \"num_unique_values\": 4,\n        \"samples\": [\n          \"all-body\"\n        ],\n        \"semantic_type\": \"\",\n        \"description\": \"\"\n      }\n    },\n    {\n      \"column\": \"name_len\",\n      \"properties\": {\n        \"dtype\": \"number\",\n        \"std\": 9,\n        \"min\": 29,\n        \"max\": 51,\n        \"num_unique_values\": 4,\n        \"samples\": [\n          51\n        ],\n        \"semantic_type\": \"\",\n        \"description\": \"\"\n      }\n    }\n  ]\n}"
            }
          },
          "metadata": {},
          "execution_count": 80
        }
      ]
    },
    {
      "cell_type": "code",
      "source": [
        "torch.argmin(o)"
      ],
      "metadata": {
        "id": "_ZnXHB_gXb8l",
        "outputId": "5e43aa83-ad4c-43d9-a4f9-32ca0cd4e8c6",
        "colab": {
          "base_uri": "https://localhost:8080/"
        }
      },
      "execution_count": null,
      "outputs": [
        {
          "output_type": "execute_result",
          "data": {
            "text/plain": [
              "tensor(3439)"
            ]
          },
          "metadata": {},
          "execution_count": 63
        }
      ]
    },
    {
      "cell_type": "code",
      "source": [
        "torch.argmax(o)"
      ],
      "metadata": {
        "id": "RMbRHTP6ZG5W",
        "outputId": "1c7331a2-0b32-4bc0-9336-1c4c9a52ec9e",
        "colab": {
          "base_uri": "https://localhost:8080/"
        }
      },
      "execution_count": null,
      "outputs": [
        {
          "output_type": "execute_result",
          "data": {
            "text/plain": [
              "tensor(7257)"
            ]
          },
          "metadata": {},
          "execution_count": 69
        }
      ]
    },
    {
      "cell_type": "code",
      "source": [
        "indices = (o > 0.8).nonzero(as_tuple=True)\n",
        "indices"
      ],
      "metadata": {
        "id": "T_oH9XUDbXy8",
        "outputId": "30075326-f88d-4069-e6d6-e97c1608b842",
        "colab": {
          "base_uri": "https://localhost:8080/"
        }
      },
      "execution_count": null,
      "outputs": [
        {
          "output_type": "execute_result",
          "data": {
            "text/plain": [
              "(tensor([  18,  132,  159,  259,  439,  513,  711,  796, 1006, 1008, 1347, 1401,\n",
              "         1462, 1580, 1594, 1630, 1647, 1692, 1772, 1790, 1825, 1841, 1905, 2251,\n",
              "         2558, 2564, 2727, 2854, 3030, 3210, 3472, 3551, 3873, 4045, 4159, 4199,\n",
              "         4279, 4412, 4535, 4649, 5113, 5183, 5217, 5224, 5333, 5385, 5436, 5480,\n",
              "         5538, 5794, 5858, 5886, 5900, 5924, 6022, 6092, 6146, 6390, 6449, 6495,\n",
              "         6498, 6562, 6634, 6776, 7019, 7092, 7257, 7272, 7309]),)"
            ]
          },
          "metadata": {},
          "execution_count": 84
        }
      ]
    },
    {
      "cell_type": "code",
      "source": [
        "o.shape, (o[o<0.5]).shape"
      ],
      "metadata": {
        "id": "rnkKlqP-aLM7",
        "outputId": "69dc1c47-daf6-4f73-e24b-dea934a979a0",
        "colab": {
          "base_uri": "https://localhost:8080/"
        }
      },
      "execution_count": null,
      "outputs": [
        {
          "output_type": "execute_result",
          "data": {
            "text/plain": [
              "(torch.Size([7322]), torch.Size([3653]))"
            ]
          },
          "metadata": {},
          "execution_count": 83
        }
      ]
    },
    {
      "cell_type": "code",
      "source": [
        "train_eval_outfits.shape"
      ],
      "metadata": {
        "id": "X3sADvHQXkfC",
        "outputId": "3a8125e8-df4d-4067-f7d0-14e7f05a25ef",
        "colab": {
          "base_uri": "https://localhost:8080/"
        }
      },
      "execution_count": null,
      "outputs": [
        {
          "output_type": "execute_result",
          "data": {
            "text/plain": [
              "torch.Size([21322, 2, 171])"
            ]
          },
          "metadata": {},
          "execution_count": 42
        }
      ]
    },
    {
      "cell_type": "code",
      "source": [
        "node_embeddigns, o = best_model(x, test_message_passing_edges.to(device), test_eval_outfits.to(device))\n",
        "\n",
        "o.shape"
      ],
      "metadata": {
        "colab": {
          "base_uri": "https://localhost:8080/",
          "height": 388
        },
        "id": "MKP9dC22HIuM",
        "outputId": "c78b628a-84d6-47c3-8347-d78ab02035e1"
      },
      "execution_count": null,
      "outputs": [
        {
          "output_type": "error",
          "ename": "OutOfMemoryError",
          "evalue": "CUDA out of memory. Tried to allocate 2.60 GiB. GPU 0 has a total capacity of 14.74 GiB of which 1.51 GiB is free. Process 69290 has 13.23 GiB memory in use. Of the allocated memory 11.11 GiB is allocated by PyTorch, and 1.99 GiB is reserved by PyTorch but unallocated. If reserved but unallocated memory is large try setting PYTORCH_CUDA_ALLOC_CONF=expandable_segments:True to avoid fragmentation.  See documentation for Memory Management  (https://pytorch.org/docs/stable/notes/cuda.html#environment-variables)",
          "traceback": [
            "\u001b[0;31m---------------------------------------------------------------------------\u001b[0m",
            "\u001b[0;31mOutOfMemoryError\u001b[0m                          Traceback (most recent call last)",
            "\u001b[0;32m<ipython-input-140-45450555bb49>\u001b[0m in \u001b[0;36m<cell line: 0>\u001b[0;34m()\u001b[0m\n\u001b[0;32m----> 1\u001b[0;31m \u001b[0mnode_embeddigns\u001b[0m\u001b[0;34m,\u001b[0m \u001b[0mo\u001b[0m \u001b[0;34m=\u001b[0m \u001b[0mbest_model\u001b[0m\u001b[0;34m(\u001b[0m\u001b[0mx\u001b[0m\u001b[0;34m,\u001b[0m \u001b[0mtest_message_passing_edges\u001b[0m\u001b[0;34m.\u001b[0m\u001b[0mto\u001b[0m\u001b[0;34m(\u001b[0m\u001b[0mdevice\u001b[0m\u001b[0;34m)\u001b[0m\u001b[0;34m,\u001b[0m \u001b[0mtest_eval_outfits\u001b[0m\u001b[0;34m.\u001b[0m\u001b[0mto\u001b[0m\u001b[0;34m(\u001b[0m\u001b[0mdevice\u001b[0m\u001b[0;34m)\u001b[0m\u001b[0;34m)\u001b[0m\u001b[0;34m\u001b[0m\u001b[0;34m\u001b[0m\u001b[0m\n\u001b[0m\u001b[1;32m      2\u001b[0m \u001b[0;34m\u001b[0m\u001b[0m\n\u001b[1;32m      3\u001b[0m \u001b[0mo\u001b[0m\u001b[0;34m.\u001b[0m\u001b[0mshape\u001b[0m\u001b[0;34m\u001b[0m\u001b[0;34m\u001b[0m\u001b[0m\n",
            "\u001b[0;32m/usr/local/lib/python3.11/dist-packages/torch/nn/modules/module.py\u001b[0m in \u001b[0;36m_wrapped_call_impl\u001b[0;34m(self, *args, **kwargs)\u001b[0m\n\u001b[1;32m   1737\u001b[0m             \u001b[0;32mreturn\u001b[0m \u001b[0mself\u001b[0m\u001b[0;34m.\u001b[0m\u001b[0m_compiled_call_impl\u001b[0m\u001b[0;34m(\u001b[0m\u001b[0;34m*\u001b[0m\u001b[0margs\u001b[0m\u001b[0;34m,\u001b[0m \u001b[0;34m**\u001b[0m\u001b[0mkwargs\u001b[0m\u001b[0;34m)\u001b[0m  \u001b[0;31m# type: ignore[misc]\u001b[0m\u001b[0;34m\u001b[0m\u001b[0;34m\u001b[0m\u001b[0m\n\u001b[1;32m   1738\u001b[0m         \u001b[0;32melse\u001b[0m\u001b[0;34m:\u001b[0m\u001b[0;34m\u001b[0m\u001b[0;34m\u001b[0m\u001b[0m\n\u001b[0;32m-> 1739\u001b[0;31m             \u001b[0;32mreturn\u001b[0m \u001b[0mself\u001b[0m\u001b[0;34m.\u001b[0m\u001b[0m_call_impl\u001b[0m\u001b[0;34m(\u001b[0m\u001b[0;34m*\u001b[0m\u001b[0margs\u001b[0m\u001b[0;34m,\u001b[0m \u001b[0;34m**\u001b[0m\u001b[0mkwargs\u001b[0m\u001b[0;34m)\u001b[0m\u001b[0;34m\u001b[0m\u001b[0;34m\u001b[0m\u001b[0m\n\u001b[0m\u001b[1;32m   1740\u001b[0m \u001b[0;34m\u001b[0m\u001b[0m\n\u001b[1;32m   1741\u001b[0m     \u001b[0;31m# torchrec tests the code consistency with the following code\u001b[0m\u001b[0;34m\u001b[0m\u001b[0;34m\u001b[0m\u001b[0m\n",
            "\u001b[0;32m/usr/local/lib/python3.11/dist-packages/torch/nn/modules/module.py\u001b[0m in \u001b[0;36m_call_impl\u001b[0;34m(self, *args, **kwargs)\u001b[0m\n\u001b[1;32m   1748\u001b[0m                 \u001b[0;32mor\u001b[0m \u001b[0m_global_backward_pre_hooks\u001b[0m \u001b[0;32mor\u001b[0m \u001b[0m_global_backward_hooks\u001b[0m\u001b[0;34m\u001b[0m\u001b[0;34m\u001b[0m\u001b[0m\n\u001b[1;32m   1749\u001b[0m                 or _global_forward_hooks or _global_forward_pre_hooks):\n\u001b[0;32m-> 1750\u001b[0;31m             \u001b[0;32mreturn\u001b[0m \u001b[0mforward_call\u001b[0m\u001b[0;34m(\u001b[0m\u001b[0;34m*\u001b[0m\u001b[0margs\u001b[0m\u001b[0;34m,\u001b[0m \u001b[0;34m**\u001b[0m\u001b[0mkwargs\u001b[0m\u001b[0;34m)\u001b[0m\u001b[0;34m\u001b[0m\u001b[0;34m\u001b[0m\u001b[0m\n\u001b[0m\u001b[1;32m   1751\u001b[0m \u001b[0;34m\u001b[0m\u001b[0m\n\u001b[1;32m   1752\u001b[0m         \u001b[0mresult\u001b[0m \u001b[0;34m=\u001b[0m \u001b[0;32mNone\u001b[0m\u001b[0;34m\u001b[0m\u001b[0;34m\u001b[0m\u001b[0m\n",
            "\u001b[0;32m<ipython-input-94-5f0be87ef649>\u001b[0m in \u001b[0;36mforward\u001b[0;34m(self, x, edge_index, outfits)\u001b[0m\n\u001b[1;32m     39\u001b[0m     \u001b[0mx\u001b[0m \u001b[0;34m=\u001b[0m \u001b[0mself\u001b[0m\u001b[0;34m.\u001b[0m\u001b[0mconvs\u001b[0m\u001b[0;34m[\u001b[0m\u001b[0;34m-\u001b[0m\u001b[0;36m1\u001b[0m\u001b[0;34m]\u001b[0m\u001b[0;34m(\u001b[0m\u001b[0mx\u001b[0m\u001b[0;34m,\u001b[0m\u001b[0medge_index\u001b[0m\u001b[0;34m)\u001b[0m\u001b[0;34m\u001b[0m\u001b[0;34m\u001b[0m\u001b[0m\n\u001b[1;32m     40\u001b[0m \u001b[0;34m\u001b[0m\u001b[0m\n\u001b[0;32m---> 41\u001b[0;31m     \u001b[0mo\u001b[0m \u001b[0;34m=\u001b[0m \u001b[0mget_node_embedding_with_mask_meaningless_edge_index_elements\u001b[0m\u001b[0;34m(\u001b[0m\u001b[0mx\u001b[0m\u001b[0;34m,\u001b[0m\u001b[0moutfits\u001b[0m\u001b[0;34m)\u001b[0m\u001b[0;34m\u001b[0m\u001b[0;34m\u001b[0m\u001b[0m\n\u001b[0m\u001b[1;32m     42\u001b[0m     \u001b[0;31m# the output will be in the shape of (|O|, 2, |Maximum combination of garments in the outfits in dataset|)\u001b[0m\u001b[0;34m\u001b[0m\u001b[0;34m\u001b[0m\u001b[0m\n\u001b[1;32m     43\u001b[0m     \u001b[0mo\u001b[0m \u001b[0;34m=\u001b[0m \u001b[0;34m(\u001b[0m\u001b[0mo\u001b[0m\u001b[0;34m[\u001b[0m\u001b[0;34m:\u001b[0m\u001b[0;34m,\u001b[0m\u001b[0;36m0\u001b[0m\u001b[0;34m,\u001b[0m\u001b[0;34m:\u001b[0m\u001b[0;34m]\u001b[0m \u001b[0;34m*\u001b[0m \u001b[0mo\u001b[0m\u001b[0;34m[\u001b[0m\u001b[0;34m:\u001b[0m\u001b[0;34m,\u001b[0m\u001b[0;36m1\u001b[0m\u001b[0;34m,\u001b[0m\u001b[0;34m:\u001b[0m\u001b[0;34m]\u001b[0m\u001b[0;34m)\u001b[0m\u001b[0;34m.\u001b[0m\u001b[0msum\u001b[0m\u001b[0;34m(\u001b[0m\u001b[0mdim\u001b[0m\u001b[0;34m=\u001b[0m\u001b[0;34m(\u001b[0m\u001b[0;34m-\u001b[0m\u001b[0;36m1\u001b[0m\u001b[0;34m,\u001b[0m\u001b[0;34m-\u001b[0m\u001b[0;36m2\u001b[0m\u001b[0;34m)\u001b[0m\u001b[0;34m)\u001b[0m \u001b[0;34m/\u001b[0m \u001b[0;34m(\u001b[0m\u001b[0moutfits\u001b[0m\u001b[0;34m[\u001b[0m\u001b[0;34m:\u001b[0m\u001b[0;34m,\u001b[0m\u001b[0;34m:\u001b[0m\u001b[0;36m1\u001b[0m\u001b[0;34m,\u001b[0m\u001b[0;34m:\u001b[0m\u001b[0;34m]\u001b[0m\u001b[0;34m>=\u001b[0m\u001b[0;36m0\u001b[0m\u001b[0;34m)\u001b[0m\u001b[0;34m.\u001b[0m\u001b[0mfloat\u001b[0m\u001b[0;34m(\u001b[0m\u001b[0;34m)\u001b[0m\u001b[0;34m.\u001b[0m\u001b[0msum\u001b[0m\u001b[0;34m(\u001b[0m\u001b[0mdim\u001b[0m\u001b[0;34m=\u001b[0m\u001b[0;34m(\u001b[0m\u001b[0;34m-\u001b[0m\u001b[0;36m1\u001b[0m\u001b[0;34m,\u001b[0m\u001b[0;34m-\u001b[0m\u001b[0;36m2\u001b[0m\u001b[0;34m)\u001b[0m\u001b[0;34m)\u001b[0m\u001b[0;34m\u001b[0m\u001b[0;34m\u001b[0m\u001b[0m\n",
            "\u001b[0;32m<ipython-input-12-31fb264f63c0>\u001b[0m in \u001b[0;36mget_node_embedding_with_mask_meaningless_edge_index_elements\u001b[0;34m(x, edge_index)\u001b[0m\n\u001b[1;32m      1\u001b[0m \u001b[0;32mdef\u001b[0m \u001b[0mget_node_embedding_with_mask_meaningless_edge_index_elements\u001b[0m\u001b[0;34m(\u001b[0m\u001b[0mx\u001b[0m\u001b[0;34m,\u001b[0m \u001b[0medge_index\u001b[0m\u001b[0;34m)\u001b[0m\u001b[0;34m:\u001b[0m\u001b[0;34m\u001b[0m\u001b[0;34m\u001b[0m\u001b[0m\n\u001b[1;32m      2\u001b[0m   \u001b[0mmask\u001b[0m \u001b[0;34m=\u001b[0m \u001b[0mtorch\u001b[0m\u001b[0;34m.\u001b[0m\u001b[0mwhere\u001b[0m\u001b[0;34m(\u001b[0m\u001b[0medge_index\u001b[0m\u001b[0;34m==\u001b[0m\u001b[0;34m-\u001b[0m\u001b[0;36m1\u001b[0m\u001b[0;34m,\u001b[0m \u001b[0mtorch\u001b[0m\u001b[0;34m.\u001b[0m\u001b[0mtensor\u001b[0m\u001b[0;34m(\u001b[0m\u001b[0;36m0\u001b[0m\u001b[0;34m)\u001b[0m\u001b[0;34m,\u001b[0m \u001b[0mtorch\u001b[0m\u001b[0;34m.\u001b[0m\u001b[0mtensor\u001b[0m\u001b[0;34m(\u001b[0m\u001b[0;36m1\u001b[0m\u001b[0;34m)\u001b[0m\u001b[0;34m)\u001b[0m\u001b[0;34m.\u001b[0m\u001b[0munsqueeze\u001b[0m\u001b[0;34m(\u001b[0m\u001b[0;34m-\u001b[0m\u001b[0;36m1\u001b[0m\u001b[0;34m)\u001b[0m\u001b[0;34m\u001b[0m\u001b[0;34m\u001b[0m\u001b[0m\n\u001b[0;32m----> 3\u001b[0;31m   \u001b[0mr\u001b[0m \u001b[0;34m=\u001b[0m \u001b[0mx\u001b[0m\u001b[0;34m[\u001b[0m\u001b[0medge_index\u001b[0m\u001b[0;34m]\u001b[0m \u001b[0;34m*\u001b[0m \u001b[0mmask\u001b[0m\u001b[0;34m\u001b[0m\u001b[0;34m\u001b[0m\u001b[0m\n\u001b[0m\u001b[1;32m      4\u001b[0m   \u001b[0;32mreturn\u001b[0m \u001b[0mr\u001b[0m\u001b[0;34m\u001b[0m\u001b[0;34m\u001b[0m\u001b[0m\n",
            "\u001b[0;31mOutOfMemoryError\u001b[0m: CUDA out of memory. Tried to allocate 2.60 GiB. GPU 0 has a total capacity of 14.74 GiB of which 1.51 GiB is free. Process 69290 has 13.23 GiB memory in use. Of the allocated memory 11.11 GiB is allocated by PyTorch, and 1.99 GiB is reserved by PyTorch but unallocated. If reserved but unallocated memory is large try setting PYTORCH_CUDA_ALLOC_CONF=expandable_segments:True to avoid fragmentation.  See documentation for Memory Management  (https://pytorch.org/docs/stable/notes/cuda.html#environment-variables)"
          ]
        }
      ]
    },
    {
      "cell_type": "code",
      "source": [
        "import gc\n",
        "\n",
        "gc.collect()\n",
        "torch.cuda.empty_cache()"
      ],
      "metadata": {
        "id": "mwsfnVNxSZNX"
      },
      "execution_count": null,
      "outputs": []
    },
    {
      "cell_type": "code",
      "source": [
        "\n",
        "plt.title(\"StyleMind\")\n",
        "plt.plot(losses[3:], label=\"training loss\" + \" - \" + \"StyleMind-GCN\")\n",
        "plt.plot(test_accs[3:], label=\"test accuracy\" + \" - \" + \"StyleMind-GCN\")\n",
        "plt.legend()\n",
        "plt.show()\n"
      ],
      "metadata": {
        "colab": {
          "base_uri": "https://localhost:8080/",
          "height": 452
        },
        "id": "No16L9nr1swB",
        "outputId": "606a9271-783b-46bb-ef5a-856bc85e5c39"
      },
      "execution_count": null,
      "outputs": [
        {
          "output_type": "display_data",
          "data": {
            "text/plain": [
              "<Figure size 640x480 with 1 Axes>"
            ],
            "image/png": "[encoded data removed]"
          },
          "metadata": {}
        }
      ]
    },
    {
      "cell_type": "code",
      "source": [
        "hidden_channel = 128\n",
        "out_channel = 128\n",
        "number_of_layers = 3\n",
        "dropout = 0.5\n",
        "lr = 0.006\n",
        "mlp_model = StyleMindGCN(in_channels, hidden_channels\n",
        "                     ,out_channels, number_of_layers,\"MLP\", dropout, learning_margin=True).to(device)"
      ],
      "metadata": {
        "id": "TqbjdQXdI5Ww"
      },
      "execution_count": 132,
      "outputs": []
    },
    {
      "cell_type": "code",
      "source": [
        "from tqdm import tqdm"
      ],
      "metadata": {
        "id": "EXupYw-r2z0W"
      },
      "execution_count": 126,
      "outputs": []
    },
    {
      "cell_type": "code",
      "source": [
        "mlp_model.reset_parameters()\n",
        "\n",
        "losses = []\n",
        "test_accs = []\n",
        "\n",
        "best_test_acc = 0\n",
        "best_model = None\n",
        "\n",
        "optimizer = optim.Adam(mlp_model.parameters(), lr)\n",
        "loss_fn = nn.BCEWithLogitsLoss()\n",
        "\n",
        "x = x.to(device)\n",
        "datasplit = get_data_splits(1)\n",
        "\n",
        "dataset = TensorDataset(datasplit['train']['outfits'], datasplit['train']['labels'])\n",
        "dataloader = DataLoader(dataset, batch_size=16000, shuffle=True)\n",
        "\n",
        "for epoch in range(500):\n",
        "  for batch_idx, (batch_data, batch_labels) in enumerate(tqdm(dataloader, desc='Processing Batches')):\n",
        "      batch_data_edge_indices ,batch_data_indices= build_edge_indices_and_indices_with_groups(batch_data)\n",
        "      batch_data_edge_indices ,batch_data_indices, batch_labels = batch_data_edge_indices.to(device) ,batch_data_indices.to(device), batch_labels.to(device)\n",
        "      train_loss = train(mlp_model, x, datasplit['train']['message_passings'].to(device)\n",
        "      , batch_data_edge_indices ,batch_data_indices, batch_labels,\n",
        "                       loss_fn=loss_fn, optimizer=optimizer)\n",
        "\n",
        "  train_acc = test(mlp_model, x, datasplit['train']['message_passings'].to(device)\n",
        "  , batch_data_edge_indices ,batch_data_indices, batch_labels)\n",
        "  valid_acc = test(mlp_model, x, datasplit['valid']['message_passings'].to(device)\n",
        "  , data_splits['valid']['outfits_edge_indices'].to(device),\n",
        "      data_splits['valid']['outfits_indices'].to(device), data_splits['valid']['labels'].to(device))\n",
        "  test_acc = test(mlp_model, x, datasplit['test']['message_passings'].to(device)\n",
        "  , data_splits['test']['outfits_edge_indices'].to(device),\n",
        "      data_splits['test']['outfits_indices'].to(device), data_splits['test']['labels'].to(device))\n",
        "\n",
        "  if(test_acc > best_test_acc):\n",
        "      best_test_acc = test_acc\n",
        "      best_model = copy.deepcopy(mlp_model)\n",
        "\n",
        "  losses.append(train_loss)\n",
        "  test_accs.append(test_acc)\n",
        "  print(f'Epoch: {epoch:02d}, '\n",
        "        f'Loss: {train_loss:.4f}, '\n",
        "        f'Train: {100 * train_acc:.2f}%, '\n",
        "        f'Valid: {100 * valid_acc:.2f}% '\n",
        "        f'Test: {100 * test_acc:.2f}%')\n"
      ],
      "metadata": {
        "colab": {
          "base_uri": "https://localhost:8080/"
        },
        "id": "AQmqKm4LsyoI",
        "outputId": "4af3321f-2f34-4b11-ab7a-12bb31f498f0"
      },
      "execution_count": null,
      "outputs": [
        {
          "output_type": "stream",
          "name": "stderr",
          "text": [
            "Processing Batches: 100%|██████████| 7/7 [00:05<00:00,  1.30it/s]\n"
          ]
        },
        {
          "output_type": "stream",
          "name": "stdout",
          "text": [
            "Epoch: 00, Loss: 1.1521, Train: 49.87%, Valid: 48.21% Test: 48.28%\n"
          ]
        },
        {
          "output_type": "stream",
          "name": "stderr",
          "text": [
            "Processing Batches: 100%|██████████| 7/7 [00:04<00:00,  1.71it/s]\n"
          ]
        },
        {
          "output_type": "stream",
          "name": "stdout",
          "text": [
            "Epoch: 01, Loss: 0.8455, Train: 50.09%, Valid: 46.57% Test: 46.71%\n"
          ]
        },
        {
          "output_type": "stream",
          "name": "stderr",
          "text": [
            "Processing Batches: 100%|██████████| 7/7 [00:04<00:00,  1.48it/s]\n"
          ]
        },
        {
          "output_type": "stream",
          "name": "stdout",
          "text": [
            "Epoch: 02, Loss: 0.7459, Train: 50.11%, Valid: 41.93% Test: 41.81%\n"
          ]
        },
        {
          "output_type": "stream",
          "name": "stderr",
          "text": [
            "Processing Batches: 100%|██████████| 7/7 [00:04<00:00,  1.53it/s]\n"
          ]
        },
        {
          "output_type": "stream",
          "name": "stdout",
          "text": [
            "Epoch: 03, Loss: 0.7211, Train: 51.29%, Valid: 38.86% Test: 38.69%\n"
          ]
        },
        {
          "output_type": "stream",
          "name": "stderr",
          "text": [
            "Processing Batches: 100%|██████████| 7/7 [00:04<00:00,  1.61it/s]\n"
          ]
        },
        {
          "output_type": "stream",
          "name": "stdout",
          "text": [
            "Epoch: 04, Loss: 0.7103, Train: 51.31%, Valid: 40.87% Test: 41.05%\n"
          ]
        },
        {
          "output_type": "stream",
          "name": "stderr",
          "text": [
            "Processing Batches: 100%|██████████| 7/7 [00:04<00:00,  1.41it/s]\n"
          ]
        },
        {
          "output_type": "stream",
          "name": "stdout",
          "text": [
            "Epoch: 05, Loss: 0.6999, Train: 50.97%, Valid: 43.36% Test: 44.28%\n"
          ]
        },
        {
          "output_type": "stream",
          "name": "stderr",
          "text": [
            "Processing Batches: 100%|██████████| 7/7 [00:04<00:00,  1.66it/s]\n"
          ]
        },
        {
          "output_type": "stream",
          "name": "stdout",
          "text": [
            "Epoch: 06, Loss: 0.7003, Train: 51.32%, Valid: 46.64% Test: 47.10%\n"
          ]
        },
        {
          "output_type": "stream",
          "name": "stderr",
          "text": [
            "Processing Batches: 100%|██████████| 7/7 [00:04<00:00,  1.62it/s]\n"
          ]
        },
        {
          "output_type": "stream",
          "name": "stdout",
          "text": [
            "Epoch: 07, Loss: 0.6979, Train: 52.10%, Valid: 47.82% Test: 48.62%\n"
          ]
        },
        {
          "output_type": "stream",
          "name": "stderr",
          "text": [
            "Processing Batches: 100%|██████████| 7/7 [00:05<00:00,  1.37it/s]\n"
          ]
        },
        {
          "output_type": "stream",
          "name": "stdout",
          "text": [
            "Epoch: 08, Loss: 0.6969, Train: 52.06%, Valid: 49.59% Test: 49.48%\n"
          ]
        },
        {
          "output_type": "stream",
          "name": "stderr",
          "text": [
            "Processing Batches: 100%|██████████| 7/7 [00:04<00:00,  1.69it/s]\n"
          ]
        },
        {
          "output_type": "stream",
          "name": "stdout",
          "text": [
            "Epoch: 09, Loss: 0.6943, Train: 52.32%, Valid: 49.40% Test: 49.96%\n"
          ]
        },
        {
          "output_type": "stream",
          "name": "stderr",
          "text": [
            "Processing Batches: 100%|██████████| 7/7 [00:04<00:00,  1.40it/s]\n"
          ]
        },
        {
          "output_type": "stream",
          "name": "stdout",
          "text": [
            "Epoch: 10, Loss: 0.6918, Train: 52.91%, Valid: 51.25% Test: 51.56%\n"
          ]
        },
        {
          "output_type": "stream",
          "name": "stderr",
          "text": [
            "Processing Batches: 100%|██████████| 7/7 [00:04<00:00,  1.44it/s]\n"
          ]
        },
        {
          "output_type": "stream",
          "name": "stdout",
          "text": [
            "Epoch: 11, Loss: 0.6887, Train: 53.25%, Valid: 53.09% Test: 52.88%\n"
          ]
        },
        {
          "output_type": "stream",
          "name": "stderr",
          "text": [
            "Processing Batches: 100%|██████████| 7/7 [00:04<00:00,  1.62it/s]\n"
          ]
        },
        {
          "output_type": "stream",
          "name": "stdout",
          "text": [
            "Epoch: 12, Loss: 0.6844, Train: 55.60%, Valid: 54.61% Test: 55.29%\n"
          ]
        },
        {
          "output_type": "stream",
          "name": "stderr",
          "text": [
            "Processing Batches: 100%|██████████| 7/7 [00:04<00:00,  1.47it/s]\n"
          ]
        },
        {
          "output_type": "stream",
          "name": "stdout",
          "text": [
            "Epoch: 13, Loss: 0.6790, Train: 57.18%, Valid: 56.96% Test: 57.77%\n"
          ]
        },
        {
          "output_type": "stream",
          "name": "stderr",
          "text": [
            "Processing Batches: 100%|██████████| 7/7 [00:04<00:00,  1.54it/s]\n"
          ]
        },
        {
          "output_type": "stream",
          "name": "stdout",
          "text": [
            "Epoch: 14, Loss: 0.6652, Train: 58.80%, Valid: 59.64% Test: 60.25%\n"
          ]
        },
        {
          "output_type": "stream",
          "name": "stderr",
          "text": [
            "Processing Batches: 100%|██████████| 7/7 [00:04<00:00,  1.62it/s]\n"
          ]
        },
        {
          "output_type": "stream",
          "name": "stdout",
          "text": [
            "Epoch: 15, Loss: 0.6640, Train: 58.78%, Valid: 61.15% Test: 61.08%\n"
          ]
        },
        {
          "output_type": "stream",
          "name": "stderr",
          "text": [
            "Processing Batches: 100%|██████████| 7/7 [00:04<00:00,  1.41it/s]\n"
          ]
        },
        {
          "output_type": "stream",
          "name": "stdout",
          "text": [
            "Epoch: 16, Loss: 0.6538, Train: 59.16%, Valid: 61.90% Test: 62.02%\n"
          ]
        },
        {
          "output_type": "stream",
          "name": "stderr",
          "text": [
            "Processing Batches: 100%|██████████| 7/7 [00:04<00:00,  1.69it/s]\n"
          ]
        },
        {
          "output_type": "stream",
          "name": "stdout",
          "text": [
            "Epoch: 17, Loss: 0.6489, Train: 61.03%, Valid: 62.33% Test: 62.44%\n"
          ]
        },
        {
          "output_type": "stream",
          "name": "stderr",
          "text": [
            "Processing Batches: 100%|██████████| 7/7 [00:04<00:00,  1.62it/s]\n"
          ]
        },
        {
          "output_type": "stream",
          "name": "stdout",
          "text": [
            "Epoch: 18, Loss: 0.6406, Train: 62.85%, Valid: 64.49% Test: 64.46%\n"
          ]
        },
        {
          "output_type": "stream",
          "name": "stderr",
          "text": [
            "Processing Batches: 100%|██████████| 7/7 [00:05<00:00,  1.35it/s]\n"
          ]
        },
        {
          "output_type": "stream",
          "name": "stdout",
          "text": [
            "Epoch: 19, Loss: 0.6446, Train: 63.52%, Valid: 64.56% Test: 64.85%\n"
          ]
        },
        {
          "output_type": "stream",
          "name": "stderr",
          "text": [
            "Processing Batches: 100%|██████████| 7/7 [00:04<00:00,  1.71it/s]\n"
          ]
        },
        {
          "output_type": "stream",
          "name": "stdout",
          "text": [
            "Epoch: 20, Loss: 0.6393, Train: 63.57%, Valid: 65.74% Test: 65.81%\n"
          ]
        },
        {
          "output_type": "stream",
          "name": "stderr",
          "text": [
            "Processing Batches: 100%|██████████| 7/7 [00:04<00:00,  1.61it/s]\n"
          ]
        },
        {
          "output_type": "stream",
          "name": "stdout",
          "text": [
            "Epoch: 21, Loss: 0.6332, Train: 64.09%, Valid: 66.48% Test: 66.65%\n"
          ]
        },
        {
          "output_type": "stream",
          "name": "stderr",
          "text": [
            "Processing Batches: 100%|██████████| 7/7 [00:05<00:00,  1.36it/s]\n"
          ]
        },
        {
          "output_type": "stream",
          "name": "stdout",
          "text": [
            "Epoch: 22, Loss: 0.6314, Train: 64.31%, Valid: 67.00% Test: 67.76%\n"
          ]
        },
        {
          "output_type": "stream",
          "name": "stderr",
          "text": [
            "Processing Batches: 100%|██████████| 7/7 [00:04<00:00,  1.70it/s]\n"
          ]
        },
        {
          "output_type": "stream",
          "name": "stdout",
          "text": [
            "Epoch: 23, Loss: 0.6330, Train: 64.88%, Valid: 67.40% Test: 67.82%\n"
          ]
        },
        {
          "output_type": "stream",
          "name": "stderr",
          "text": [
            "Processing Batches: 100%|██████████| 7/7 [00:04<00:00,  1.54it/s]\n"
          ]
        },
        {
          "output_type": "stream",
          "name": "stdout",
          "text": [
            "Epoch: 24, Loss: 0.6308, Train: 65.13%, Valid: 67.46% Test: 67.89%\n"
          ]
        },
        {
          "output_type": "stream",
          "name": "stderr",
          "text": [
            "Processing Batches: 100%|██████████| 7/7 [00:04<00:00,  1.41it/s]\n"
          ]
        },
        {
          "output_type": "stream",
          "name": "stdout",
          "text": [
            "Epoch: 25, Loss: 0.6173, Train: 65.95%, Valid: 67.95% Test: 68.40%\n"
          ]
        },
        {
          "output_type": "stream",
          "name": "stderr",
          "text": [
            "Processing Batches: 100%|██████████| 7/7 [00:04<00:00,  1.72it/s]\n"
          ]
        },
        {
          "output_type": "stream",
          "name": "stdout",
          "text": [
            "Epoch: 26, Loss: 0.6177, Train: 66.27%, Valid: 68.28% Test: 68.47%\n"
          ]
        },
        {
          "output_type": "stream",
          "name": "stderr",
          "text": [
            "Processing Batches: 100%|██████████| 7/7 [00:04<00:00,  1.44it/s]\n"
          ]
        },
        {
          "output_type": "stream",
          "name": "stdout",
          "text": [
            "Epoch: 27, Loss: 0.6090, Train: 66.12%, Valid: 68.27% Test: 68.65%\n"
          ]
        },
        {
          "output_type": "stream",
          "name": "stderr",
          "text": [
            "Processing Batches: 100%|██████████| 7/7 [00:04<00:00,  1.61it/s]\n"
          ]
        },
        {
          "output_type": "stream",
          "name": "stdout",
          "text": [
            "Epoch: 28, Loss: 0.6137, Train: 66.72%, Valid: 69.34% Test: 69.26%\n"
          ]
        },
        {
          "output_type": "stream",
          "name": "stderr",
          "text": [
            "Processing Batches: 100%|██████████| 7/7 [00:04<00:00,  1.63it/s]\n"
          ]
        },
        {
          "output_type": "stream",
          "name": "stdout",
          "text": [
            "Epoch: 29, Loss: 0.5993, Train: 67.81%, Valid: 69.96% Test: 69.36%\n"
          ]
        },
        {
          "output_type": "stream",
          "name": "stderr",
          "text": [
            "Processing Batches: 100%|██████████| 7/7 [00:05<00:00,  1.36it/s]\n"
          ]
        },
        {
          "output_type": "stream",
          "name": "stdout",
          "text": [
            "Epoch: 30, Loss: 0.5996, Train: 68.18%, Valid: 70.45% Test: 71.20%\n"
          ]
        },
        {
          "output_type": "stream",
          "name": "stderr",
          "text": [
            "Processing Batches: 100%|██████████| 7/7 [00:04<00:00,  1.70it/s]\n"
          ]
        },
        {
          "output_type": "stream",
          "name": "stdout",
          "text": [
            "Epoch: 31, Loss: 0.5958, Train: 69.46%, Valid: 71.84% Test: 71.87%\n"
          ]
        },
        {
          "output_type": "stream",
          "name": "stderr",
          "text": [
            "Processing Batches: 100%|██████████| 7/7 [00:04<00:00,  1.62it/s]\n"
          ]
        },
        {
          "output_type": "stream",
          "name": "stdout",
          "text": [
            "Epoch: 32, Loss: 0.5823, Train: 69.53%, Valid: 71.96% Test: 71.98%\n"
          ]
        },
        {
          "output_type": "stream",
          "name": "stderr",
          "text": [
            "Processing Batches: 100%|██████████| 7/7 [00:05<00:00,  1.35it/s]\n"
          ]
        },
        {
          "output_type": "stream",
          "name": "stdout",
          "text": [
            "Epoch: 33, Loss: 0.5968, Train: 69.83%, Valid: 71.95% Test: 72.53%\n"
          ]
        },
        {
          "output_type": "stream",
          "name": "stderr",
          "text": [
            "Processing Batches: 100%|██████████| 7/7 [00:04<00:00,  1.70it/s]\n"
          ]
        },
        {
          "output_type": "stream",
          "name": "stdout",
          "text": [
            "Epoch: 34, Loss: 0.5853, Train: 69.90%, Valid: 73.00% Test: 72.66%\n"
          ]
        },
        {
          "output_type": "stream",
          "name": "stderr",
          "text": [
            "Processing Batches: 100%|██████████| 7/7 [00:04<00:00,  1.60it/s]\n"
          ]
        },
        {
          "output_type": "stream",
          "name": "stdout",
          "text": [
            "Epoch: 35, Loss: 0.5783, Train: 70.16%, Valid: 72.49% Test: 73.15%\n"
          ]
        },
        {
          "output_type": "stream",
          "name": "stderr",
          "text": [
            "Processing Batches: 100%|██████████| 7/7 [00:05<00:00,  1.39it/s]\n"
          ]
        },
        {
          "output_type": "stream",
          "name": "stdout",
          "text": [
            "Epoch: 36, Loss: 0.5791, Train: 70.92%, Valid: 72.58% Test: 73.25%\n"
          ]
        },
        {
          "output_type": "stream",
          "name": "stderr",
          "text": [
            "Processing Batches: 100%|██████████| 7/7 [00:04<00:00,  1.71it/s]\n"
          ]
        },
        {
          "output_type": "stream",
          "name": "stdout",
          "text": [
            "Epoch: 37, Loss: 0.5705, Train: 70.96%, Valid: 73.78% Test: 73.89%\n"
          ]
        },
        {
          "output_type": "stream",
          "name": "stderr",
          "text": [
            "Processing Batches: 100%|██████████| 7/7 [00:04<00:00,  1.47it/s]\n"
          ]
        },
        {
          "output_type": "stream",
          "name": "stdout",
          "text": [
            "Epoch: 38, Loss: 0.5617, Train: 71.85%, Valid: 73.84% Test: 74.35%\n"
          ]
        },
        {
          "output_type": "stream",
          "name": "stderr",
          "text": [
            "Processing Batches: 100%|██████████| 7/7 [00:04<00:00,  1.48it/s]\n"
          ]
        },
        {
          "output_type": "stream",
          "name": "stdout",
          "text": [
            "Epoch: 39, Loss: 0.5672, Train: 71.16%, Valid: 74.35% Test: 74.65%\n"
          ]
        },
        {
          "output_type": "stream",
          "name": "stderr",
          "text": [
            "Processing Batches: 100%|██████████| 7/7 [00:04<00:00,  1.70it/s]\n"
          ]
        },
        {
          "output_type": "stream",
          "name": "stdout",
          "text": [
            "Epoch: 40, Loss: 0.5626, Train: 72.05%, Valid: 74.67% Test: 75.21%\n"
          ]
        },
        {
          "output_type": "stream",
          "name": "stderr",
          "text": [
            "Processing Batches: 100%|██████████| 7/7 [00:05<00:00,  1.38it/s]\n"
          ]
        },
        {
          "output_type": "stream",
          "name": "stdout",
          "text": [
            "Epoch: 41, Loss: 0.5614, Train: 71.81%, Valid: 74.61% Test: 75.18%\n"
          ]
        },
        {
          "output_type": "stream",
          "name": "stderr",
          "text": [
            "Processing Batches: 100%|██████████| 7/7 [00:04<00:00,  1.60it/s]\n"
          ]
        },
        {
          "output_type": "stream",
          "name": "stdout",
          "text": [
            "Epoch: 42, Loss: 0.5563, Train: 71.96%, Valid: 75.50% Test: 75.05%\n"
          ]
        },
        {
          "output_type": "stream",
          "name": "stderr",
          "text": [
            "Processing Batches: 100%|██████████| 7/7 [00:04<00:00,  1.70it/s]\n"
          ]
        },
        {
          "output_type": "stream",
          "name": "stdout",
          "text": [
            "Epoch: 43, Loss: 0.5533, Train: 72.87%, Valid: 75.46% Test: 75.30%\n"
          ]
        },
        {
          "output_type": "stream",
          "name": "stderr",
          "text": [
            "Processing Batches: 100%|██████████| 7/7 [00:05<00:00,  1.37it/s]\n"
          ]
        },
        {
          "output_type": "stream",
          "name": "stdout",
          "text": [
            "Epoch: 44, Loss: 0.5545, Train: 72.72%, Valid: 75.29% Test: 75.33%\n"
          ]
        },
        {
          "output_type": "stream",
          "name": "stderr",
          "text": [
            "Processing Batches: 100%|██████████| 7/7 [00:04<00:00,  1.69it/s]\n"
          ]
        },
        {
          "output_type": "stream",
          "name": "stdout",
          "text": [
            "Epoch: 45, Loss: 0.5456, Train: 72.96%, Valid: 75.57% Test: 76.01%\n"
          ]
        },
        {
          "output_type": "stream",
          "name": "stderr",
          "text": [
            "Processing Batches: 100%|██████████| 7/7 [00:04<00:00,  1.64it/s]\n"
          ]
        },
        {
          "output_type": "stream",
          "name": "stdout",
          "text": [
            "Epoch: 46, Loss: 0.5404, Train: 73.73%, Valid: 75.68% Test: 75.96%\n"
          ]
        },
        {
          "output_type": "stream",
          "name": "stderr",
          "text": [
            "Processing Batches: 100%|██████████| 7/7 [00:05<00:00,  1.34it/s]\n"
          ]
        },
        {
          "output_type": "stream",
          "name": "stdout",
          "text": [
            "Epoch: 47, Loss: 0.5430, Train: 72.89%, Valid: 76.38% Test: 76.37%\n"
          ]
        },
        {
          "output_type": "stream",
          "name": "stderr",
          "text": [
            "Processing Batches: 100%|██████████| 7/7 [00:04<00:00,  1.72it/s]\n"
          ]
        },
        {
          "output_type": "stream",
          "name": "stdout",
          "text": [
            "Epoch: 48, Loss: 0.5400, Train: 73.24%, Valid: 75.81% Test: 76.70%\n"
          ]
        },
        {
          "output_type": "stream",
          "name": "stderr",
          "text": [
            "Processing Batches: 100%|██████████| 7/7 [00:04<00:00,  1.55it/s]\n"
          ]
        },
        {
          "output_type": "stream",
          "name": "stdout",
          "text": [
            "Epoch: 49, Loss: 0.5370, Train: 73.94%, Valid: 75.57% Test: 76.49%\n"
          ]
        },
        {
          "output_type": "stream",
          "name": "stderr",
          "text": [
            "Processing Batches: 100%|██████████| 7/7 [00:04<00:00,  1.42it/s]\n"
          ]
        },
        {
          "output_type": "stream",
          "name": "stdout",
          "text": [
            "Epoch: 50, Loss: 0.5364, Train: 74.44%, Valid: 76.47% Test: 76.67%\n"
          ]
        },
        {
          "output_type": "stream",
          "name": "stderr",
          "text": [
            "Processing Batches: 100%|██████████| 7/7 [00:04<00:00,  1.70it/s]\n"
          ]
        },
        {
          "output_type": "stream",
          "name": "stdout",
          "text": [
            "Epoch: 51, Loss: 0.5247, Train: 74.78%, Valid: 77.31% Test: 77.10%\n"
          ]
        },
        {
          "output_type": "stream",
          "name": "stderr",
          "text": [
            "Processing Batches: 100%|██████████| 7/7 [00:05<00:00,  1.40it/s]\n"
          ]
        },
        {
          "output_type": "stream",
          "name": "stdout",
          "text": [
            "Epoch: 52, Loss: 0.5291, Train: 74.50%, Valid: 76.25% Test: 77.02%\n"
          ]
        },
        {
          "output_type": "stream",
          "name": "stderr",
          "text": [
            "Processing Batches: 100%|██████████| 7/7 [00:04<00:00,  1.54it/s]\n"
          ]
        },
        {
          "output_type": "stream",
          "name": "stdout",
          "text": [
            "Epoch: 53, Loss: 0.5221, Train: 74.51%, Valid: 76.25% Test: 77.21%\n"
          ]
        },
        {
          "output_type": "stream",
          "name": "stderr",
          "text": [
            "Processing Batches: 100%|██████████| 7/7 [00:04<00:00,  1.69it/s]\n"
          ]
        },
        {
          "output_type": "stream",
          "name": "stdout",
          "text": [
            "Epoch: 54, Loss: 0.5272, Train: 74.43%, Valid: 76.96% Test: 77.57%\n"
          ]
        },
        {
          "output_type": "stream",
          "name": "stderr",
          "text": [
            "Processing Batches: 100%|██████████| 7/7 [00:05<00:00,  1.35it/s]\n"
          ]
        },
        {
          "output_type": "stream",
          "name": "stdout",
          "text": [
            "Epoch: 55, Loss: 0.5151, Train: 75.26%, Valid: 76.87% Test: 77.34%\n"
          ]
        },
        {
          "output_type": "stream",
          "name": "stderr",
          "text": [
            "Processing Batches: 100%|██████████| 7/7 [00:04<00:00,  1.60it/s]\n"
          ]
        },
        {
          "output_type": "stream",
          "name": "stdout",
          "text": [
            "Epoch: 56, Loss: 0.5254, Train: 74.82%, Valid: 77.51% Test: 77.18%\n"
          ]
        },
        {
          "output_type": "stream",
          "name": "stderr",
          "text": [
            "Processing Batches: 100%|██████████| 7/7 [00:04<00:00,  1.71it/s]\n"
          ]
        },
        {
          "output_type": "stream",
          "name": "stdout",
          "text": [
            "Epoch: 57, Loss: 0.5173, Train: 75.14%, Valid: 76.74% Test: 77.00%\n"
          ]
        },
        {
          "output_type": "stream",
          "name": "stderr",
          "text": [
            "Processing Batches: 100%|██████████| 7/7 [00:05<00:00,  1.36it/s]\n"
          ]
        },
        {
          "output_type": "stream",
          "name": "stdout",
          "text": [
            "Epoch: 58, Loss: 0.5322, Train: 73.77%, Valid: 77.13% Test: 77.48%\n"
          ]
        },
        {
          "output_type": "stream",
          "name": "stderr",
          "text": [
            "Processing Batches: 100%|██████████| 7/7 [00:04<00:00,  1.61it/s]\n"
          ]
        },
        {
          "output_type": "stream",
          "name": "stdout",
          "text": [
            "Epoch: 59, Loss: 0.5187, Train: 74.84%, Valid: 76.93% Test: 77.94%\n"
          ]
        },
        {
          "output_type": "stream",
          "name": "stderr",
          "text": [
            "Processing Batches: 100%|██████████| 7/7 [00:04<00:00,  1.62it/s]\n"
          ]
        },
        {
          "output_type": "stream",
          "name": "stdout",
          "text": [
            "Epoch: 60, Loss: 0.5136, Train: 74.60%, Valid: 77.10% Test: 77.19%\n"
          ]
        },
        {
          "output_type": "stream",
          "name": "stderr",
          "text": [
            "Processing Batches: 100%|██████████| 7/7 [00:04<00:00,  1.42it/s]\n"
          ]
        },
        {
          "output_type": "stream",
          "name": "stdout",
          "text": [
            "Epoch: 61, Loss: 0.5044, Train: 75.63%, Valid: 77.71% Test: 78.19%\n"
          ]
        },
        {
          "output_type": "stream",
          "name": "stderr",
          "text": [
            "Processing Batches: 100%|██████████| 7/7 [00:04<00:00,  1.71it/s]\n"
          ]
        },
        {
          "output_type": "stream",
          "name": "stdout",
          "text": [
            "Epoch: 62, Loss: 0.5062, Train: 75.39%, Valid: 77.84% Test: 78.07%\n"
          ]
        },
        {
          "output_type": "stream",
          "name": "stderr",
          "text": [
            "Processing Batches: 100%|██████████| 7/7 [00:04<00:00,  1.45it/s]\n"
          ]
        },
        {
          "output_type": "stream",
          "name": "stdout",
          "text": [
            "Epoch: 63, Loss: 0.5068, Train: 75.44%, Valid: 78.08% Test: 77.75%\n"
          ]
        },
        {
          "output_type": "stream",
          "name": "stderr",
          "text": [
            "Processing Batches: 100%|██████████| 7/7 [00:04<00:00,  1.53it/s]\n"
          ]
        },
        {
          "output_type": "stream",
          "name": "stdout",
          "text": [
            "Epoch: 64, Loss: 0.5055, Train: 76.17%, Valid: 77.81% Test: 77.51%\n"
          ]
        },
        {
          "output_type": "stream",
          "name": "stderr",
          "text": [
            "Processing Batches: 100%|██████████| 7/7 [00:04<00:00,  1.70it/s]\n"
          ]
        },
        {
          "output_type": "stream",
          "name": "stdout",
          "text": [
            "Epoch: 65, Loss: 0.5056, Train: 76.02%, Valid: 77.67% Test: 77.92%\n"
          ]
        },
        {
          "output_type": "stream",
          "name": "stderr",
          "text": [
            "Processing Batches: 100%|██████████| 7/7 [00:05<00:00,  1.34it/s]\n"
          ]
        },
        {
          "output_type": "stream",
          "name": "stdout",
          "text": [
            "Epoch: 66, Loss: 0.4960, Train: 76.43%, Valid: 76.90% Test: 77.97%\n"
          ]
        },
        {
          "output_type": "stream",
          "name": "stderr",
          "text": [
            "Processing Batches: 100%|██████████| 7/7 [00:04<00:00,  1.60it/s]\n"
          ]
        },
        {
          "output_type": "stream",
          "name": "stdout",
          "text": [
            "Epoch: 67, Loss: 0.4977, Train: 76.52%, Valid: 77.53% Test: 77.60%\n"
          ]
        },
        {
          "output_type": "stream",
          "name": "stderr",
          "text": [
            "Processing Batches: 100%|██████████| 7/7 [00:04<00:00,  1.71it/s]\n"
          ]
        },
        {
          "output_type": "stream",
          "name": "stdout",
          "text": [
            "Epoch: 68, Loss: 0.4971, Train: 76.23%, Valid: 78.03% Test: 78.38%\n"
          ]
        },
        {
          "output_type": "stream",
          "name": "stderr",
          "text": [
            "Processing Batches: 100%|██████████| 7/7 [00:05<00:00,  1.34it/s]\n"
          ]
        },
        {
          "output_type": "stream",
          "name": "stdout",
          "text": [
            "Epoch: 69, Loss: 0.4979, Train: 76.21%, Valid: 78.08% Test: 78.49%\n"
          ]
        },
        {
          "output_type": "stream",
          "name": "stderr",
          "text": [
            "Processing Batches: 100%|██████████| 7/7 [00:04<00:00,  1.72it/s]\n"
          ]
        },
        {
          "output_type": "stream",
          "name": "stdout",
          "text": [
            "Epoch: 70, Loss: 0.4960, Train: 76.36%, Valid: 77.82% Test: 78.57%\n"
          ]
        },
        {
          "output_type": "stream",
          "name": "stderr",
          "text": [
            "Processing Batches: 100%|██████████| 7/7 [00:04<00:00,  1.62it/s]\n"
          ]
        },
        {
          "output_type": "stream",
          "name": "stdout",
          "text": [
            "Epoch: 71, Loss: 0.4904, Train: 76.58%, Valid: 78.30% Test: 78.53%\n"
          ]
        },
        {
          "output_type": "stream",
          "name": "stderr",
          "text": [
            "Processing Batches: 100%|██████████| 7/7 [00:05<00:00,  1.38it/s]\n"
          ]
        },
        {
          "output_type": "stream",
          "name": "stdout",
          "text": [
            "Epoch: 72, Loss: 0.4933, Train: 76.42%, Valid: 77.68% Test: 77.84%\n"
          ]
        },
        {
          "output_type": "stream",
          "name": "stderr",
          "text": [
            "Processing Batches: 100%|██████████| 7/7 [00:04<00:00,  1.70it/s]\n"
          ]
        },
        {
          "output_type": "stream",
          "name": "stdout",
          "text": [
            "Epoch: 73, Loss: 0.4971, Train: 76.62%, Valid: 78.43% Test: 78.81%\n"
          ]
        },
        {
          "output_type": "stream",
          "name": "stderr",
          "text": [
            "Processing Batches: 100%|██████████| 7/7 [00:04<00:00,  1.48it/s]\n"
          ]
        },
        {
          "output_type": "stream",
          "name": "stdout",
          "text": [
            "Epoch: 74, Loss: 0.4923, Train: 75.60%, Valid: 78.08% Test: 78.16%\n"
          ]
        },
        {
          "output_type": "stream",
          "name": "stderr",
          "text": [
            "Processing Batches: 100%|██████████| 7/7 [00:04<00:00,  1.56it/s]\n"
          ]
        },
        {
          "output_type": "stream",
          "name": "stdout",
          "text": [
            "Epoch: 75, Loss: 0.4762, Train: 77.00%, Valid: 78.51% Test: 78.85%\n"
          ]
        },
        {
          "output_type": "stream",
          "name": "stderr",
          "text": [
            "Processing Batches: 100%|██████████| 7/7 [00:04<00:00,  1.59it/s]\n"
          ]
        },
        {
          "output_type": "stream",
          "name": "stdout",
          "text": [
            "Epoch: 76, Loss: 0.4863, Train: 77.41%, Valid: 78.30% Test: 78.54%\n"
          ]
        },
        {
          "output_type": "stream",
          "name": "stderr",
          "text": [
            "Processing Batches: 100%|██████████| 7/7 [00:05<00:00,  1.37it/s]\n"
          ]
        },
        {
          "output_type": "stream",
          "name": "stdout",
          "text": [
            "Epoch: 77, Loss: 0.4829, Train: 76.97%, Valid: 79.04% Test: 78.70%\n"
          ]
        },
        {
          "output_type": "stream",
          "name": "stderr",
          "text": [
            "Processing Batches: 100%|██████████| 7/7 [00:04<00:00,  1.70it/s]\n"
          ]
        },
        {
          "output_type": "stream",
          "name": "stdout",
          "text": [
            "Epoch: 78, Loss: 0.4764, Train: 77.39%, Valid: 78.68% Test: 79.00%\n"
          ]
        },
        {
          "output_type": "stream",
          "name": "stderr",
          "text": [
            "Processing Batches: 100%|██████████| 7/7 [00:04<00:00,  1.60it/s]\n"
          ]
        },
        {
          "output_type": "stream",
          "name": "stdout",
          "text": [
            "Epoch: 79, Loss: 0.4806, Train: 77.06%, Valid: 78.95% Test: 78.96%\n"
          ]
        },
        {
          "output_type": "stream",
          "name": "stderr",
          "text": [
            "Processing Batches: 100%|██████████| 7/7 [00:04<00:00,  1.43it/s]\n"
          ]
        },
        {
          "output_type": "stream",
          "name": "stdout",
          "text": [
            "Epoch: 80, Loss: 0.4752, Train: 76.89%, Valid: 77.44% Test: 78.49%\n"
          ]
        },
        {
          "output_type": "stream",
          "name": "stderr",
          "text": [
            "Processing Batches: 100%|██████████| 7/7 [00:04<00:00,  1.62it/s]\n"
          ]
        },
        {
          "output_type": "stream",
          "name": "stdout",
          "text": [
            "Epoch: 81, Loss: 0.4739, Train: 76.50%, Valid: 78.45% Test: 78.42%\n"
          ]
        },
        {
          "output_type": "stream",
          "name": "stderr",
          "text": [
            "Processing Batches: 100%|██████████| 7/7 [00:04<00:00,  1.60it/s]\n"
          ]
        },
        {
          "output_type": "stream",
          "name": "stdout",
          "text": [
            "Epoch: 82, Loss: 0.4731, Train: 77.55%, Valid: 78.75% Test: 78.71%\n"
          ]
        },
        {
          "output_type": "stream",
          "name": "stderr",
          "text": [
            "Processing Batches: 100%|██████████| 7/7 [00:04<00:00,  1.42it/s]\n"
          ]
        },
        {
          "output_type": "stream",
          "name": "stdout",
          "text": [
            "Epoch: 83, Loss: 0.4734, Train: 77.41%, Valid: 78.23% Test: 79.06%\n"
          ]
        },
        {
          "output_type": "stream",
          "name": "stderr",
          "text": [
            "Processing Batches: 100%|██████████| 7/7 [00:04<00:00,  1.61it/s]\n"
          ]
        },
        {
          "output_type": "stream",
          "name": "stdout",
          "text": [
            "Epoch: 84, Loss: 0.4707, Train: 77.75%, Valid: 78.01% Test: 79.10%\n"
          ]
        },
        {
          "output_type": "stream",
          "name": "stderr",
          "text": [
            "Processing Batches: 100%|██████████| 7/7 [00:04<00:00,  1.53it/s]\n"
          ]
        },
        {
          "output_type": "stream",
          "name": "stdout",
          "text": [
            "Epoch: 85, Loss: 0.4767, Train: 77.04%, Valid: 77.11% Test: 78.51%\n"
          ]
        },
        {
          "output_type": "stream",
          "name": "stderr",
          "text": [
            "Processing Batches: 100%|██████████| 7/7 [00:04<00:00,  1.48it/s]\n"
          ]
        },
        {
          "output_type": "stream",
          "name": "stdout",
          "text": [
            "Epoch: 86, Loss: 0.4765, Train: 77.28%, Valid: 78.78% Test: 79.40%\n"
          ]
        },
        {
          "output_type": "stream",
          "name": "stderr",
          "text": [
            "Processing Batches: 100%|██████████| 7/7 [00:04<00:00,  1.61it/s]\n"
          ]
        },
        {
          "output_type": "stream",
          "name": "stdout",
          "text": [
            "Epoch: 87, Loss: 0.4684, Train: 77.73%, Valid: 79.52% Test: 78.92%\n"
          ]
        },
        {
          "output_type": "stream",
          "name": "stderr",
          "text": [
            "Processing Batches: 100%|██████████| 7/7 [00:04<00:00,  1.51it/s]\n"
          ]
        },
        {
          "output_type": "stream",
          "name": "stdout",
          "text": [
            "Epoch: 88, Loss: 0.4598, Train: 77.73%, Valid: 77.81% Test: 77.88%\n"
          ]
        },
        {
          "output_type": "stream",
          "name": "stderr",
          "text": [
            "Processing Batches: 100%|██████████| 7/7 [00:04<00:00,  1.51it/s]\n"
          ]
        },
        {
          "output_type": "stream",
          "name": "stdout",
          "text": [
            "Epoch: 89, Loss: 0.4554, Train: 78.51%, Valid: 78.02% Test: 78.87%\n"
          ]
        },
        {
          "output_type": "stream",
          "name": "stderr",
          "text": [
            "Processing Batches: 100%|██████████| 7/7 [00:04<00:00,  1.59it/s]\n"
          ]
        },
        {
          "output_type": "stream",
          "name": "stdout",
          "text": [
            "Epoch: 90, Loss: 0.4657, Train: 78.06%, Valid: 78.80% Test: 79.25%\n"
          ]
        },
        {
          "output_type": "stream",
          "name": "stderr",
          "text": [
            "Processing Batches: 100%|██████████| 7/7 [00:04<00:00,  1.42it/s]\n"
          ]
        },
        {
          "output_type": "stream",
          "name": "stdout",
          "text": [
            "Epoch: 91, Loss: 0.4623, Train: 77.46%, Valid: 78.73% Test: 79.42%\n"
          ]
        },
        {
          "output_type": "stream",
          "name": "stderr",
          "text": [
            "Processing Batches: 100%|██████████| 7/7 [00:04<00:00,  1.63it/s]\n"
          ]
        },
        {
          "output_type": "stream",
          "name": "stdout",
          "text": [
            "Epoch: 92, Loss: 0.4605, Train: 78.66%, Valid: 78.82% Test: 79.32%\n"
          ]
        },
        {
          "output_type": "stream",
          "name": "stderr",
          "text": [
            "Processing Batches: 100%|██████████| 7/7 [00:04<00:00,  1.63it/s]\n"
          ]
        },
        {
          "output_type": "stream",
          "name": "stdout",
          "text": [
            "Epoch: 93, Loss: 0.4543, Train: 78.65%, Valid: 78.49% Test: 79.38%\n"
          ]
        },
        {
          "output_type": "stream",
          "name": "stderr",
          "text": [
            "Processing Batches: 100%|██████████| 7/7 [00:04<00:00,  1.43it/s]\n"
          ]
        },
        {
          "output_type": "stream",
          "name": "stdout",
          "text": [
            "Epoch: 94, Loss: 0.4479, Train: 78.87%, Valid: 79.51% Test: 79.19%\n"
          ]
        },
        {
          "output_type": "stream",
          "name": "stderr",
          "text": [
            "Processing Batches: 100%|██████████| 7/7 [00:04<00:00,  1.61it/s]\n"
          ]
        },
        {
          "output_type": "stream",
          "name": "stdout",
          "text": [
            "Epoch: 95, Loss: 0.4591, Train: 78.31%, Valid: 78.20% Test: 79.28%\n"
          ]
        },
        {
          "output_type": "stream",
          "name": "stderr",
          "text": [
            "Processing Batches: 100%|██████████| 7/7 [00:04<00:00,  1.67it/s]\n"
          ]
        },
        {
          "output_type": "stream",
          "name": "stdout",
          "text": [
            "Epoch: 96, Loss: 0.4561, Train: 78.36%, Valid: 78.55% Test: 79.29%\n"
          ]
        },
        {
          "output_type": "stream",
          "name": "stderr",
          "text": [
            "Processing Batches: 100%|██████████| 7/7 [00:05<00:00,  1.37it/s]\n"
          ]
        },
        {
          "output_type": "stream",
          "name": "stdout",
          "text": [
            "Epoch: 97, Loss: 0.4571, Train: 77.86%, Valid: 78.89% Test: 79.03%\n"
          ]
        },
        {
          "output_type": "stream",
          "name": "stderr",
          "text": [
            "Processing Batches: 100%|██████████| 7/7 [00:04<00:00,  1.62it/s]\n"
          ]
        },
        {
          "output_type": "stream",
          "name": "stdout",
          "text": [
            "Epoch: 98, Loss: 0.4493, Train: 78.64%, Valid: 78.25% Test: 79.08%\n"
          ]
        },
        {
          "output_type": "stream",
          "name": "stderr",
          "text": [
            "Processing Batches: 100%|██████████| 7/7 [00:04<00:00,  1.55it/s]\n"
          ]
        },
        {
          "output_type": "stream",
          "name": "stdout",
          "text": [
            "Epoch: 99, Loss: 0.4496, Train: 77.99%, Valid: 78.36% Test: 78.64%\n"
          ]
        },
        {
          "output_type": "stream",
          "name": "stderr",
          "text": [
            "Processing Batches: 100%|██████████| 7/7 [00:04<00:00,  1.51it/s]\n"
          ]
        },
        {
          "output_type": "stream",
          "name": "stdout",
          "text": [
            "Epoch: 100, Loss: 0.4483, Train: 78.65%, Valid: 79.42% Test: 79.54%\n"
          ]
        },
        {
          "output_type": "stream",
          "name": "stderr",
          "text": [
            "Processing Batches: 100%|██████████| 7/7 [00:04<00:00,  1.61it/s]\n"
          ]
        },
        {
          "output_type": "stream",
          "name": "stdout",
          "text": [
            "Epoch: 101, Loss: 0.4483, Train: 79.68%, Valid: 79.25% Test: 79.78%\n"
          ]
        },
        {
          "output_type": "stream",
          "name": "stderr",
          "text": [
            "Processing Batches: 100%|██████████| 7/7 [00:04<00:00,  1.41it/s]\n"
          ]
        },
        {
          "output_type": "stream",
          "name": "stdout",
          "text": [
            "Epoch: 102, Loss: 0.4447, Train: 78.87%, Valid: 79.16% Test: 79.40%\n"
          ]
        },
        {
          "output_type": "stream",
          "name": "stderr",
          "text": [
            "Processing Batches: 100%|██████████| 7/7 [00:04<00:00,  1.61it/s]\n"
          ]
        },
        {
          "output_type": "stream",
          "name": "stdout",
          "text": [
            "Epoch: 103, Loss: 0.4533, Train: 78.83%, Valid: 78.57% Test: 79.19%\n"
          ]
        },
        {
          "output_type": "stream",
          "name": "stderr",
          "text": [
            "Processing Batches: 100%|██████████| 7/7 [00:04<00:00,  1.72it/s]\n"
          ]
        },
        {
          "output_type": "stream",
          "name": "stdout",
          "text": [
            "Epoch: 104, Loss: 0.4395, Train: 79.61%, Valid: 78.89% Test: 79.29%\n"
          ]
        },
        {
          "output_type": "stream",
          "name": "stderr",
          "text": [
            "Processing Batches: 100%|██████████| 7/7 [00:05<00:00,  1.35it/s]\n"
          ]
        },
        {
          "output_type": "stream",
          "name": "stdout",
          "text": [
            "Epoch: 105, Loss: 0.4458, Train: 78.58%, Valid: 78.85% Test: 79.32%\n"
          ]
        },
        {
          "output_type": "stream",
          "name": "stderr",
          "text": [
            "Processing Batches: 100%|██████████| 7/7 [00:04<00:00,  1.60it/s]\n"
          ]
        },
        {
          "output_type": "stream",
          "name": "stdout",
          "text": [
            "Epoch: 106, Loss: 0.4514, Train: 77.66%, Valid: 77.73% Test: 78.61%\n"
          ]
        },
        {
          "output_type": "stream",
          "name": "stderr",
          "text": [
            "Processing Batches: 100%|██████████| 7/7 [00:04<00:00,  1.69it/s]\n"
          ]
        },
        {
          "output_type": "stream",
          "name": "stdout",
          "text": [
            "Epoch: 107, Loss: 0.4468, Train: 79.34%, Valid: 78.56% Test: 79.09%\n"
          ]
        },
        {
          "output_type": "stream",
          "name": "stderr",
          "text": [
            "Processing Batches: 100%|██████████| 7/7 [00:05<00:00,  1.37it/s]\n"
          ]
        },
        {
          "output_type": "stream",
          "name": "stdout",
          "text": [
            "Epoch: 108, Loss: 0.4451, Train: 79.57%, Valid: 79.21% Test: 79.61%\n"
          ]
        },
        {
          "output_type": "stream",
          "name": "stderr",
          "text": [
            "Processing Batches: 100%|██████████| 7/7 [00:04<00:00,  1.69it/s]\n"
          ]
        },
        {
          "output_type": "stream",
          "name": "stdout",
          "text": [
            "Epoch: 109, Loss: 0.4432, Train: 78.68%, Valid: 79.69% Test: 79.34%\n"
          ]
        },
        {
          "output_type": "stream",
          "name": "stderr",
          "text": [
            "Processing Batches: 100%|██████████| 7/7 [00:04<00:00,  1.46it/s]\n"
          ]
        },
        {
          "output_type": "stream",
          "name": "stdout",
          "text": [
            "Epoch: 110, Loss: 0.4364, Train: 78.85%, Valid: 78.41% Test: 79.49%\n"
          ]
        },
        {
          "output_type": "stream",
          "name": "stderr",
          "text": [
            "Processing Batches: 100%|██████████| 7/7 [00:04<00:00,  1.46it/s]\n"
          ]
        },
        {
          "output_type": "stream",
          "name": "stdout",
          "text": [
            "Epoch: 111, Loss: 0.4254, Train: 79.37%, Valid: 79.30% Test: 79.96%\n"
          ]
        },
        {
          "output_type": "stream",
          "name": "stderr",
          "text": [
            "Processing Batches: 100%|██████████| 7/7 [00:04<00:00,  1.72it/s]\n"
          ]
        },
        {
          "output_type": "stream",
          "name": "stdout",
          "text": [
            "Epoch: 112, Loss: 0.4297, Train: 79.66%, Valid: 78.83% Test: 79.69%\n"
          ]
        },
        {
          "output_type": "stream",
          "name": "stderr",
          "text": [
            "Processing Batches: 100%|██████████| 7/7 [00:04<00:00,  1.41it/s]\n"
          ]
        },
        {
          "output_type": "stream",
          "name": "stdout",
          "text": [
            "Epoch: 113, Loss: 0.4385, Train: 79.08%, Valid: 78.57% Test: 79.38%\n"
          ]
        },
        {
          "output_type": "stream",
          "name": "stderr",
          "text": [
            "Processing Batches: 100%|██████████| 7/7 [00:04<00:00,  1.68it/s]\n"
          ]
        },
        {
          "output_type": "stream",
          "name": "stdout",
          "text": [
            "Epoch: 114, Loss: 0.4316, Train: 77.16%, Valid: 78.13% Test: 78.58%\n"
          ]
        },
        {
          "output_type": "stream",
          "name": "stderr",
          "text": [
            "Processing Batches: 100%|██████████| 7/7 [00:04<00:00,  1.61it/s]\n"
          ]
        },
        {
          "output_type": "stream",
          "name": "stdout",
          "text": [
            "Epoch: 115, Loss: 0.4400, Train: 78.93%, Valid: 78.04% Test: 78.82%\n"
          ]
        },
        {
          "output_type": "stream",
          "name": "stderr",
          "text": [
            "Processing Batches: 100%|██████████| 7/7 [00:05<00:00,  1.37it/s]\n"
          ]
        },
        {
          "output_type": "stream",
          "name": "stdout",
          "text": [
            "Epoch: 116, Loss: 0.4365, Train: 79.31%, Valid: 78.42% Test: 79.21%\n"
          ]
        },
        {
          "output_type": "stream",
          "name": "stderr",
          "text": [
            "Processing Batches: 100%|██████████| 7/7 [00:04<00:00,  1.61it/s]\n"
          ]
        },
        {
          "output_type": "stream",
          "name": "stdout",
          "text": [
            "Epoch: 117, Loss: 0.4283, Train: 79.91%, Valid: 78.77% Test: 78.90%\n"
          ]
        },
        {
          "output_type": "stream",
          "name": "stderr",
          "text": [
            "Processing Batches: 100%|██████████| 7/7 [00:04<00:00,  1.73it/s]\n"
          ]
        },
        {
          "output_type": "stream",
          "name": "stdout",
          "text": [
            "Epoch: 118, Loss: 0.4248, Train: 80.58%, Valid: 79.04% Test: 80.04%\n"
          ]
        },
        {
          "output_type": "stream",
          "name": "stderr",
          "text": [
            "Processing Batches: 100%|██████████| 7/7 [00:05<00:00,  1.37it/s]\n"
          ]
        },
        {
          "output_type": "stream",
          "name": "stdout",
          "text": [
            "Epoch: 119, Loss: 0.4287, Train: 79.80%, Valid: 79.46% Test: 79.89%\n"
          ]
        },
        {
          "output_type": "stream",
          "name": "stderr",
          "text": [
            "Processing Batches: 100%|██████████| 7/7 [00:04<00:00,  1.61it/s]\n"
          ]
        },
        {
          "output_type": "stream",
          "name": "stdout",
          "text": [
            "Epoch: 120, Loss: 0.4214, Train: 79.12%, Valid: 78.29% Test: 79.39%\n"
          ]
        },
        {
          "output_type": "stream",
          "name": "stderr",
          "text": [
            "Processing Batches: 100%|██████████| 7/7 [00:04<00:00,  1.66it/s]\n"
          ]
        },
        {
          "output_type": "stream",
          "name": "stdout",
          "text": [
            "Epoch: 121, Loss: 0.4183, Train: 80.15%, Valid: 78.73% Test: 79.39%\n"
          ]
        },
        {
          "output_type": "stream",
          "name": "stderr",
          "text": [
            "Processing Batches: 100%|██████████| 7/7 [00:05<00:00,  1.40it/s]\n"
          ]
        },
        {
          "output_type": "stream",
          "name": "stdout",
          "text": [
            "Epoch: 122, Loss: 0.4318, Train: 78.84%, Valid: 78.84% Test: 79.06%\n"
          ]
        },
        {
          "output_type": "stream",
          "name": "stderr",
          "text": [
            "Processing Batches: 100%|██████████| 7/7 [00:04<00:00,  1.62it/s]\n"
          ]
        },
        {
          "output_type": "stream",
          "name": "stdout",
          "text": [
            "Epoch: 123, Loss: 0.4232, Train: 79.80%, Valid: 78.91% Test: 79.74%\n"
          ]
        },
        {
          "output_type": "stream",
          "name": "stderr",
          "text": [
            "Processing Batches: 100%|██████████| 7/7 [00:04<00:00,  1.50it/s]\n"
          ]
        },
        {
          "output_type": "stream",
          "name": "stdout",
          "text": [
            "Epoch: 124, Loss: 0.4216, Train: 80.02%, Valid: 78.66% Test: 79.57%\n"
          ]
        },
        {
          "output_type": "stream",
          "name": "stderr",
          "text": [
            "Processing Batches: 100%|██████████| 7/7 [00:04<00:00,  1.52it/s]\n"
          ]
        },
        {
          "output_type": "stream",
          "name": "stdout",
          "text": [
            "Epoch: 125, Loss: 0.4147, Train: 79.93%, Valid: 79.32% Test: 79.51%\n"
          ]
        },
        {
          "output_type": "stream",
          "name": "stderr",
          "text": [
            "Processing Batches: 100%|██████████| 7/7 [00:04<00:00,  1.70it/s]\n"
          ]
        },
        {
          "output_type": "stream",
          "name": "stdout",
          "text": [
            "Epoch: 126, Loss: 0.4162, Train: 80.20%, Valid: 79.69% Test: 79.50%\n"
          ]
        },
        {
          "output_type": "stream",
          "name": "stderr",
          "text": [
            "Processing Batches: 100%|██████████| 7/7 [00:05<00:00,  1.35it/s]\n"
          ]
        },
        {
          "output_type": "stream",
          "name": "stdout",
          "text": [
            "Epoch: 127, Loss: 0.4170, Train: 79.77%, Valid: 79.23% Test: 79.32%\n"
          ]
        },
        {
          "output_type": "stream",
          "name": "stderr",
          "text": [
            "Processing Batches: 100%|██████████| 7/7 [00:04<00:00,  1.59it/s]\n"
          ]
        },
        {
          "output_type": "stream",
          "name": "stdout",
          "text": [
            "Epoch: 128, Loss: 0.4071, Train: 80.32%, Valid: 79.38% Test: 79.63%\n"
          ]
        },
        {
          "output_type": "stream",
          "name": "stderr",
          "text": [
            "Processing Batches: 100%|██████████| 7/7 [00:04<00:00,  1.70it/s]\n"
          ]
        },
        {
          "output_type": "stream",
          "name": "stdout",
          "text": [
            "Epoch: 129, Loss: 0.4319, Train: 79.95%, Valid: 79.21% Test: 79.43%\n"
          ]
        },
        {
          "output_type": "stream",
          "name": "stderr",
          "text": [
            "Processing Batches: 100%|██████████| 7/7 [00:05<00:00,  1.33it/s]\n"
          ]
        },
        {
          "output_type": "stream",
          "name": "stdout",
          "text": [
            "Epoch: 130, Loss: 0.4144, Train: 80.17%, Valid: 79.03% Test: 79.70%\n"
          ]
        },
        {
          "output_type": "stream",
          "name": "stderr",
          "text": [
            "Processing Batches: 100%|██████████| 7/7 [00:04<00:00,  1.68it/s]\n"
          ]
        },
        {
          "output_type": "stream",
          "name": "stdout",
          "text": [
            "Epoch: 131, Loss: 0.4231, Train: 78.96%, Valid: 78.85% Test: 79.28%\n"
          ]
        },
        {
          "output_type": "stream",
          "name": "stderr",
          "text": [
            "Processing Batches: 100%|██████████| 7/7 [00:04<00:00,  1.58it/s]\n"
          ]
        },
        {
          "output_type": "stream",
          "name": "stdout",
          "text": [
            "Epoch: 132, Loss: 0.4124, Train: 79.45%, Valid: 78.06% Test: 78.70%\n"
          ]
        },
        {
          "output_type": "stream",
          "name": "stderr",
          "text": [
            "Processing Batches: 100%|██████████| 7/7 [00:05<00:00,  1.36it/s]\n"
          ]
        },
        {
          "output_type": "stream",
          "name": "stdout",
          "text": [
            "Epoch: 133, Loss: 0.4123, Train: 79.83%, Valid: 78.69% Test: 79.11%\n"
          ]
        },
        {
          "output_type": "stream",
          "name": "stderr",
          "text": [
            "Processing Batches: 100%|██████████| 7/7 [00:04<00:00,  1.69it/s]\n"
          ]
        },
        {
          "output_type": "stream",
          "name": "stdout",
          "text": [
            "Epoch: 134, Loss: 0.4147, Train: 80.72%, Valid: 79.67% Test: 79.50%\n"
          ]
        },
        {
          "output_type": "stream",
          "name": "stderr",
          "text": [
            "Processing Batches: 100%|██████████| 7/7 [00:04<00:00,  1.48it/s]\n"
          ]
        },
        {
          "output_type": "stream",
          "name": "stdout",
          "text": [
            "Epoch: 135, Loss: 0.4113, Train: 80.60%, Valid: 79.52% Test: 79.37%\n"
          ]
        },
        {
          "output_type": "stream",
          "name": "stderr",
          "text": [
            "Processing Batches: 100%|██████████| 7/7 [00:04<00:00,  1.47it/s]\n"
          ]
        },
        {
          "output_type": "stream",
          "name": "stdout",
          "text": [
            "Epoch: 136, Loss: 0.4051, Train: 80.59%, Valid: 78.41% Test: 79.31%\n"
          ]
        },
        {
          "output_type": "stream",
          "name": "stderr",
          "text": [
            "Processing Batches: 100%|██████████| 7/7 [00:04<00:00,  1.71it/s]\n"
          ]
        },
        {
          "output_type": "stream",
          "name": "stdout",
          "text": [
            "Epoch: 137, Loss: 0.4093, Train: 80.23%, Valid: 78.24% Test: 79.74%\n"
          ]
        },
        {
          "output_type": "stream",
          "name": "stderr",
          "text": [
            "Processing Batches: 100%|██████████| 7/7 [00:05<00:00,  1.39it/s]\n"
          ]
        },
        {
          "output_type": "stream",
          "name": "stdout",
          "text": [
            "Epoch: 138, Loss: 0.4118, Train: 80.36%, Valid: 79.71% Test: 79.79%\n"
          ]
        },
        {
          "output_type": "stream",
          "name": "stderr",
          "text": [
            "Processing Batches: 100%|██████████| 7/7 [00:04<00:00,  1.60it/s]\n"
          ]
        },
        {
          "output_type": "stream",
          "name": "stdout",
          "text": [
            "Epoch: 139, Loss: 0.4111, Train: 80.15%, Valid: 78.84% Test: 79.17%\n"
          ]
        },
        {
          "output_type": "stream",
          "name": "stderr",
          "text": [
            "Processing Batches: 100%|██████████| 7/7 [00:04<00:00,  1.69it/s]\n"
          ]
        },
        {
          "output_type": "stream",
          "name": "stdout",
          "text": [
            "Epoch: 140, Loss: 0.4039, Train: 80.67%, Valid: 79.37% Test: 79.82%\n"
          ]
        },
        {
          "output_type": "stream",
          "name": "stderr",
          "text": [
            "Processing Batches: 100%|██████████| 7/7 [00:05<00:00,  1.34it/s]\n"
          ]
        },
        {
          "output_type": "stream",
          "name": "stdout",
          "text": [
            "Epoch: 141, Loss: 0.4093, Train: 80.78%, Valid: 79.79% Test: 79.76%\n"
          ]
        },
        {
          "output_type": "stream",
          "name": "stderr",
          "text": [
            "Processing Batches: 100%|██████████| 7/7 [00:04<00:00,  1.62it/s]\n"
          ]
        },
        {
          "output_type": "stream",
          "name": "stdout",
          "text": [
            "Epoch: 142, Loss: 0.3990, Train: 80.49%, Valid: 79.64% Test: 79.51%\n"
          ]
        },
        {
          "output_type": "stream",
          "name": "stderr",
          "text": [
            "Processing Batches: 100%|██████████| 7/7 [00:04<00:00,  1.68it/s]\n"
          ]
        },
        {
          "output_type": "stream",
          "name": "stdout",
          "text": [
            "Epoch: 143, Loss: 0.4053, Train: 80.59%, Valid: 78.76% Test: 79.21%\n"
          ]
        },
        {
          "output_type": "stream",
          "name": "stderr",
          "text": [
            "Processing Batches: 100%|██████████| 7/7 [00:05<00:00,  1.35it/s]\n"
          ]
        },
        {
          "output_type": "stream",
          "name": "stdout",
          "text": [
            "Epoch: 144, Loss: 0.4031, Train: 80.50%, Valid: 79.10% Test: 79.05%\n"
          ]
        },
        {
          "output_type": "stream",
          "name": "stderr",
          "text": [
            "Processing Batches: 100%|██████████| 7/7 [00:04<00:00,  1.70it/s]\n"
          ]
        },
        {
          "output_type": "stream",
          "name": "stdout",
          "text": [
            "Epoch: 145, Loss: 0.4021, Train: 80.71%, Valid: 78.94% Test: 79.54%\n"
          ]
        },
        {
          "output_type": "stream",
          "name": "stderr",
          "text": [
            "Processing Batches: 100%|██████████| 7/7 [00:04<00:00,  1.50it/s]\n"
          ]
        },
        {
          "output_type": "stream",
          "name": "stdout",
          "text": [
            "Epoch: 146, Loss: 0.3942, Train: 80.33%, Valid: 79.26% Test: 79.58%\n"
          ]
        },
        {
          "output_type": "stream",
          "name": "stderr",
          "text": [
            "Processing Batches: 100%|██████████| 7/7 [00:04<00:00,  1.44it/s]\n"
          ]
        },
        {
          "output_type": "stream",
          "name": "stdout",
          "text": [
            "Epoch: 147, Loss: 0.3988, Train: 80.71%, Valid: 79.40% Test: 79.57%\n"
          ]
        },
        {
          "output_type": "stream",
          "name": "stderr",
          "text": [
            "Processing Batches: 100%|██████████| 7/7 [00:04<00:00,  1.58it/s]\n"
          ]
        },
        {
          "output_type": "stream",
          "name": "stdout",
          "text": [
            "Epoch: 148, Loss: 0.4036, Train: 80.88%, Valid: 78.91% Test: 79.10%\n"
          ]
        },
        {
          "output_type": "stream",
          "name": "stderr",
          "text": [
            "Processing Batches: 100%|██████████| 7/7 [00:04<00:00,  1.44it/s]\n"
          ]
        },
        {
          "output_type": "stream",
          "name": "stdout",
          "text": [
            "Epoch: 149, Loss: 0.3975, Train: 81.28%, Valid: 79.91% Test: 79.88%\n"
          ]
        },
        {
          "output_type": "stream",
          "name": "stderr",
          "text": [
            "Processing Batches: 100%|██████████| 7/7 [00:04<00:00,  1.62it/s]\n"
          ]
        },
        {
          "output_type": "stream",
          "name": "stdout",
          "text": [
            "Epoch: 150, Loss: 0.4036, Train: 80.53%, Valid: 79.41% Test: 79.15%\n"
          ]
        },
        {
          "output_type": "stream",
          "name": "stderr",
          "text": [
            "Processing Batches: 100%|██████████| 7/7 [00:04<00:00,  1.61it/s]\n"
          ]
        },
        {
          "output_type": "stream",
          "name": "stdout",
          "text": [
            "Epoch: 151, Loss: 0.3982, Train: 81.19%, Valid: 79.04% Test: 78.94%\n"
          ]
        },
        {
          "output_type": "stream",
          "name": "stderr",
          "text": [
            "Processing Batches: 100%|██████████| 7/7 [00:05<00:00,  1.40it/s]\n"
          ]
        },
        {
          "output_type": "stream",
          "name": "stdout",
          "text": [
            "Epoch: 152, Loss: 0.4005, Train: 81.32%, Valid: 78.72% Test: 79.39%\n"
          ]
        },
        {
          "output_type": "stream",
          "name": "stderr",
          "text": [
            "Processing Batches: 100%|██████████| 7/7 [00:04<00:00,  1.63it/s]\n"
          ]
        },
        {
          "output_type": "stream",
          "name": "stdout",
          "text": [
            "Epoch: 153, Loss: 0.3947, Train: 80.53%, Valid: 78.93% Test: 79.40%\n"
          ]
        },
        {
          "output_type": "stream",
          "name": "stderr",
          "text": [
            "Processing Batches: 100%|██████████| 7/7 [00:04<00:00,  1.70it/s]\n"
          ]
        },
        {
          "output_type": "stream",
          "name": "stdout",
          "text": [
            "Epoch: 154, Loss: 0.3969, Train: 81.15%, Valid: 78.70% Test: 79.42%\n"
          ]
        },
        {
          "output_type": "stream",
          "name": "stderr",
          "text": [
            "Processing Batches: 100%|██████████| 7/7 [00:05<00:00,  1.33it/s]\n"
          ]
        },
        {
          "output_type": "stream",
          "name": "stdout",
          "text": [
            "Epoch: 155, Loss: 0.3973, Train: 80.59%, Valid: 79.39% Test: 79.19%\n"
          ]
        },
        {
          "output_type": "stream",
          "name": "stderr",
          "text": [
            "Processing Batches: 100%|██████████| 7/7 [00:04<00:00,  1.59it/s]\n"
          ]
        },
        {
          "output_type": "stream",
          "name": "stdout",
          "text": [
            "Epoch: 156, Loss: 0.3989, Train: 80.25%, Valid: 79.34% Test: 78.85%\n"
          ]
        },
        {
          "output_type": "stream",
          "name": "stderr",
          "text": [
            "Processing Batches: 100%|██████████| 7/7 [00:04<00:00,  1.58it/s]\n"
          ]
        },
        {
          "output_type": "stream",
          "name": "stdout",
          "text": [
            "Epoch: 157, Loss: 0.3978, Train: 79.98%, Valid: 79.00% Test: 79.17%\n"
          ]
        },
        {
          "output_type": "stream",
          "name": "stderr",
          "text": [
            "Processing Batches: 100%|██████████| 7/7 [00:04<00:00,  1.49it/s]\n"
          ]
        },
        {
          "output_type": "stream",
          "name": "stdout",
          "text": [
            "Epoch: 158, Loss: 0.3948, Train: 81.53%, Valid: 78.43% Test: 79.61%\n"
          ]
        },
        {
          "output_type": "stream",
          "name": "stderr",
          "text": [
            "Processing Batches: 100%|██████████| 7/7 [00:04<00:00,  1.62it/s]\n"
          ]
        },
        {
          "output_type": "stream",
          "name": "stdout",
          "text": [
            "Epoch: 159, Loss: 0.3951, Train: 81.31%, Valid: 79.07% Test: 79.35%\n"
          ]
        },
        {
          "output_type": "stream",
          "name": "stderr",
          "text": [
            "Processing Batches: 100%|██████████| 7/7 [00:04<00:00,  1.47it/s]\n"
          ]
        },
        {
          "output_type": "stream",
          "name": "stdout",
          "text": [
            "Epoch: 160, Loss: 0.3852, Train: 81.23%, Valid: 79.61% Test: 79.59%\n"
          ]
        },
        {
          "output_type": "stream",
          "name": "stderr",
          "text": [
            "Processing Batches: 100%|██████████| 7/7 [00:04<00:00,  1.56it/s]\n"
          ]
        },
        {
          "output_type": "stream",
          "name": "stdout",
          "text": [
            "Epoch: 161, Loss: 0.3898, Train: 81.22%, Valid: 79.62% Test: 79.37%\n"
          ]
        },
        {
          "output_type": "stream",
          "name": "stderr",
          "text": [
            "Processing Batches: 100%|██████████| 7/7 [00:04<00:00,  1.68it/s]\n"
          ]
        },
        {
          "output_type": "stream",
          "name": "stdout",
          "text": [
            "Epoch: 162, Loss: 0.3915, Train: 81.36%, Valid: 78.52% Test: 79.40%\n"
          ]
        },
        {
          "output_type": "stream",
          "name": "stderr",
          "text": [
            "Processing Batches: 100%|██████████| 7/7 [00:05<00:00,  1.35it/s]\n"
          ]
        },
        {
          "output_type": "stream",
          "name": "stdout",
          "text": [
            "Epoch: 163, Loss: 0.3959, Train: 80.20%, Valid: 78.49% Test: 78.51%\n"
          ]
        },
        {
          "output_type": "stream",
          "name": "stderr",
          "text": [
            "Processing Batches: 100%|██████████| 7/7 [00:04<00:00,  1.59it/s]\n"
          ]
        },
        {
          "output_type": "stream",
          "name": "stdout",
          "text": [
            "Epoch: 164, Loss: 0.3829, Train: 81.25%, Valid: 79.18% Test: 79.32%\n"
          ]
        },
        {
          "output_type": "stream",
          "name": "stderr",
          "text": [
            "Processing Batches: 100%|██████████| 7/7 [00:04<00:00,  1.61it/s]\n"
          ]
        },
        {
          "output_type": "stream",
          "name": "stdout",
          "text": [
            "Epoch: 165, Loss: 0.3883, Train: 80.84%, Valid: 79.03% Test: 78.84%\n"
          ]
        },
        {
          "output_type": "stream",
          "name": "stderr",
          "text": [
            "Processing Batches: 100%|██████████| 7/7 [00:05<00:00,  1.39it/s]\n"
          ]
        },
        {
          "output_type": "stream",
          "name": "stdout",
          "text": [
            "Epoch: 166, Loss: 0.3812, Train: 81.91%, Valid: 79.28% Test: 80.06%\n"
          ]
        },
        {
          "output_type": "stream",
          "name": "stderr",
          "text": [
            "Processing Batches: 100%|██████████| 7/7 [00:04<00:00,  1.61it/s]\n"
          ]
        },
        {
          "output_type": "stream",
          "name": "stdout",
          "text": [
            "Epoch: 167, Loss: 0.3861, Train: 80.87%, Valid: 79.43% Test: 79.46%\n"
          ]
        },
        {
          "output_type": "stream",
          "name": "stderr",
          "text": [
            "Processing Batches: 100%|██████████| 7/7 [00:04<00:00,  1.52it/s]\n"
          ]
        },
        {
          "output_type": "stream",
          "name": "stdout",
          "text": [
            "Epoch: 168, Loss: 0.3893, Train: 81.75%, Valid: 79.94% Test: 79.47%\n"
          ]
        },
        {
          "output_type": "stream",
          "name": "stderr",
          "text": [
            "Processing Batches: 100%|██████████| 7/7 [00:04<00:00,  1.51it/s]\n"
          ]
        },
        {
          "output_type": "stream",
          "name": "stdout",
          "text": [
            "Epoch: 169, Loss: 0.3798, Train: 80.84%, Valid: 77.89% Test: 78.75%\n"
          ]
        },
        {
          "output_type": "stream",
          "name": "stderr",
          "text": [
            "Processing Batches: 100%|██████████| 7/7 [00:04<00:00,  1.61it/s]\n"
          ]
        },
        {
          "output_type": "stream",
          "name": "stdout",
          "text": [
            "Epoch: 170, Loss: 0.3782, Train: 82.51%, Valid: 79.53% Test: 80.00%\n"
          ]
        },
        {
          "output_type": "stream",
          "name": "stderr",
          "text": [
            "Processing Batches: 100%|██████████| 7/7 [00:04<00:00,  1.50it/s]\n"
          ]
        },
        {
          "output_type": "stream",
          "name": "stdout",
          "text": [
            "Epoch: 171, Loss: 0.3796, Train: 82.05%, Valid: 78.61% Test: 79.53%\n"
          ]
        },
        {
          "output_type": "stream",
          "name": "stderr",
          "text": [
            "Processing Batches: 100%|██████████| 7/7 [00:04<00:00,  1.52it/s]\n"
          ]
        },
        {
          "output_type": "stream",
          "name": "stdout",
          "text": [
            "Epoch: 172, Loss: 0.3801, Train: 81.76%, Valid: 79.82% Test: 79.28%\n"
          ]
        },
        {
          "output_type": "stream",
          "name": "stderr",
          "text": [
            "\rProcessing Batches:   0%|          | 0/7 [00:00<?, ?it/s]"
          ]
        }
      ]
    },
    {
      "cell_type": "code",
      "source": [
        "best_test_acc"
      ],
      "metadata": {
        "colab": {
          "base_uri": "https://localhost:8080/"
        },
        "id": "RMsJ45QOZizr",
        "outputId": "08f80b90-fc43-475a-fa17-fbbe4e3f9ae9"
      },
      "execution_count": null,
      "outputs": [
        {
          "output_type": "execute_result",
          "data": {
            "text/plain": [
              "tensor(0.8084, device='cuda:0')"
            ]
          },
          "metadata": {},
          "execution_count": 113
        }
      ]
    },
    {
      "cell_type": "markdown",
      "source": [
        "## Best Test Accuracy = 0.808"
      ],
      "metadata": {
        "id": "ZmYI6WDEZlfK"
      }
    },
    {
      "cell_type": "code",
      "source": [
        "embd, o = best_model(x, datasplit['test']['message_passings'].to(device)\n",
        "  , datasplit['test']['outfits'].to(device))\n",
        "\n",
        "embd = embd.cpu()\n",
        "o = o.cpu()"
      ],
      "metadata": {
        "id": "86XxO2kpZrSa"
      },
      "execution_count": null,
      "outputs": []
    },
    {
      "cell_type": "code",
      "source": [
        "torch.save(embd, path.join(datasets_path, \"mlp_embedding.pth\"))"
      ],
      "metadata": {
        "id": "Ub8Jkna3amq_"
      },
      "execution_count": null,
      "outputs": []
    },
    {
      "cell_type": "code",
      "source": [
        "best_model.final_prediction_margin"
      ],
      "metadata": {
        "colab": {
          "base_uri": "https://localhost:8080/"
        },
        "id": "hTK8FeHzaRHD",
        "outputId": "bce9e245-e61a-46b7-e22b-0ad5f2eeeb67"
      },
      "execution_count": null,
      "outputs": [
        {
          "output_type": "execute_result",
          "data": {
            "text/plain": [
              "Parameter containing:\n",
              "tensor(-1.8305, device='cuda:0', requires_grad=True)"
            ]
          },
          "metadata": {},
          "execution_count": 118
        }
      ]
    },
    {
      "cell_type": "code",
      "source": [
        "plot_histogram(o[:o.shape[0]//2], \"3 Layer MLP model positives\")\n",
        "plot_histogram(o[o.shape[0]//2:], \"3 Layer MLP model negatives\")\n",
        "plot_histogram(torch.sigmoid(o[:o.shape[0]//2]), \"3 Layer MLP model positives sigmoid\")\n",
        "plot_histogram(torch.sigmoid(o[o.shape[0]//2:]), \"3 Layer MLP model negatives sigmoid\")"
      ],
      "metadata": {
        "colab": {
          "base_uri": "https://localhost:8080/",
          "height": 1000
        },
        "id": "w0ZBfR72Z-7n",
        "outputId": "fabac269-b9cf-4734-f001-788dff67f47d"
      },
      "execution_count": null,
      "outputs": [
        {
          "output_type": "display_data",
          "data": {
            "text/plain": [
              "<Figure size 640x480 with 1 Axes>"
            ],
            "image/png": "[encoded data removed]"
          },
          "metadata": {}
        },
        {
          "output_type": "display_data",
          "data": {
            "text/plain": [
              "<Figure size 640x480 with 1 Axes>"
            ],
            "image/png": "[encoded data removed]"
          },
          "metadata": {}
        },
        {
          "output_type": "display_data",
          "data": {
            "text/plain": [
              "<Figure size 640x480 with 1 Axes>"
            ],
            "image/png": "[encoded data removed]"
          },
          "metadata": {}
        },
        {
          "output_type": "display_data",
          "data": {
            "text/plain": [
              "<Figure size 640x480 with 1 Axes>"
            ],
            "image/png": "[encoded data removed]"
          },
          "metadata": {}
        }
      ]
    },
    {
      "cell_type": "code",
      "source": [
        "save_model(best_model, datasets_path, \"MLP_model.pth\")"
      ],
      "metadata": {
        "id": "hMUr1d3A18VK"
      },
      "execution_count": null,
      "outputs": []
    },
    {
      "cell_type": "markdown",
      "source": [
        "#StyleMind-GAT"
      ],
      "metadata": {
        "id": "5rGXtmRvc8pm"
      }
    },
    {
      "cell_type": "code",
      "source": [
        "hidden_channels = 128\n",
        "in_channels = x.shape[-1]\n",
        "out_channels = 128\n",
        "number_of_layers = 3\n",
        "dropout = 0.5\n",
        "lr = 0.01\n",
        "gat_model = StyleMindGCN(in_channels, hidden_channels\n",
        "                     ,out_channels, number_of_layers,\"GAT\", dropout, learning_margin=True).to(device)"
      ],
      "metadata": {
        "id": "0Vw4frNecsYc"
      },
      "execution_count": null,
      "outputs": []
    },
    {
      "cell_type": "code",
      "source": [
        "gat_model.reset_parameters()\n",
        "\n",
        "losses = []\n",
        "test_accs = []\n",
        "\n",
        "best_test_acc = 0\n",
        "best_model = None\n",
        "\n",
        "optimizer = optim.Adam(gat_model.parameters(), lr)\n",
        "loss_fn = nn.BCEWithLogitsLoss()\n",
        "\n",
        "x = x.to(device)\n",
        "\n",
        "for epoch in range(400,800):\n",
        "    datasplit = data_splits(10)\n",
        "    train_loss = train(gat_model, x, datasplit['train']['message_passings'].to(device)\n",
        "    , datasplit['train']['outfits'].to(device), datasplit['train']['labels'].to(device),\n",
        "                      loss_fn=loss_fn, optimizer=optimizer)\n",
        "\n",
        "    train_acc = test(gat_model, x, datasplit['train']['message_passings'].to(device)\n",
        "    , datasplit['train']['outfits'].to(device), datasplit['train']['labels'].to(device))\n",
        "    valid_acc = test(gat_model, x, datasplit['valid']['message_passings'].to(device)\n",
        "    , datasplit['valid']['outfits'].to(device), datasplit['valid']['labels'].to(device))\n",
        "    test_acc = test(gat_model, x, datasplit['test']['message_passings'].to(device)\n",
        "    , datasplit['test']['outfits'].to(device), datasplit['test']['labels'].to(device))\n",
        "\n",
        "    if(test_acc > best_test_acc):\n",
        "        best_test_acc = test_acc\n",
        "        best_model = copy.deepcopy(gat_model)\n",
        "\n",
        "    losses.append(train_loss)\n",
        "    test_accs.append(test_acc)\n",
        "    print(f'Epoch: {epoch:02d}, '\n",
        "          f'Loss: {train_loss:.4f}, '\n",
        "          f'Train: {100 * train_acc:.2f}%, '\n",
        "          f'Valid: {100 * valid_acc:.2f}% '\n",
        "          f'Test: {100 * test_acc:.2f}%')\n"
      ],
      "metadata": {
        "id": "JZlzwPIGdlEW",
        "outputId": "b4c68700-d71f-4584-b603-2cc46725d130",
        "colab": {
          "base_uri": "https://localhost:8080/"
        }
      },
      "execution_count": null,
      "outputs": [
        {
          "output_type": "stream",
          "name": "stdout",
          "text": [
            "Epoch: 400, Loss: 0.3125, Train: 87.85%, Valid: 76.63% Test: 81.88%\n",
            "Epoch: 401, Loss: 0.3143, Train: 87.84%, Valid: 76.52% Test: 81.76%\n",
            "Epoch: 402, Loss: 0.3137, Train: 87.57%, Valid: 76.83% Test: 81.52%\n",
            "Epoch: 403, Loss: 0.3104, Train: 87.62%, Valid: 77.08% Test: 81.72%\n",
            "Epoch: 404, Loss: 0.3176, Train: 87.13%, Valid: 77.52% Test: 81.74%\n",
            "Epoch: 405, Loss: 0.3047, Train: 87.66%, Valid: 76.78% Test: 81.68%\n",
            "Epoch: 406, Loss: 0.3103, Train: 87.90%, Valid: 76.29% Test: 81.68%\n",
            "Epoch: 407, Loss: 0.3098, Train: 88.22%, Valid: 76.00% Test: 81.75%\n",
            "Epoch: 408, Loss: 0.3062, Train: 88.24%, Valid: 76.68% Test: 81.84%\n",
            "Epoch: 409, Loss: 0.3065, Train: 87.98%, Valid: 77.48% Test: 81.95%\n",
            "Epoch: 410, Loss: 0.3129, Train: 87.87%, Valid: 77.42% Test: 82.23%\n",
            "Epoch: 411, Loss: 0.3115, Train: 87.43%, Valid: 77.41% Test: 82.29%\n",
            "Epoch: 412, Loss: 0.3084, Train: 87.35%, Valid: 77.55% Test: 81.95%\n",
            "Epoch: 413, Loss: 0.3154, Train: 87.63%, Valid: 77.28% Test: 82.00%\n",
            "Epoch: 414, Loss: 0.2983, Train: 88.01%, Valid: 76.13% Test: 82.03%\n",
            "Epoch: 415, Loss: 0.3093, Train: 87.80%, Valid: 76.60% Test: 81.80%\n",
            "Epoch: 416, Loss: 0.3019, Train: 87.62%, Valid: 77.68% Test: 81.74%\n",
            "Epoch: 417, Loss: 0.3057, Train: 86.89%, Valid: 77.70% Test: 81.89%\n",
            "Epoch: 418, Loss: 0.3103, Train: 87.05%, Valid: 77.65% Test: 82.14%\n",
            "Epoch: 419, Loss: 0.3032, Train: 87.42%, Valid: 77.64% Test: 81.82%\n",
            "Epoch: 420, Loss: 0.3120, Train: 87.40%, Valid: 77.10% Test: 81.86%\n",
            "Epoch: 421, Loss: 0.3078, Train: 87.46%, Valid: 76.35% Test: 81.67%\n",
            "Epoch: 422, Loss: 0.3248, Train: 87.39%, Valid: 76.92% Test: 81.99%\n",
            "Epoch: 423, Loss: 0.3066, Train: 87.56%, Valid: 76.65% Test: 82.14%\n",
            "Epoch: 424, Loss: 0.3066, Train: 87.38%, Valid: 77.44% Test: 82.31%\n",
            "Epoch: 425, Loss: 0.2970, Train: 86.78%, Valid: 77.40% Test: 81.91%\n",
            "Epoch: 426, Loss: 0.2987, Train: 86.84%, Valid: 77.94% Test: 81.92%\n",
            "Epoch: 427, Loss: 0.3019, Train: 87.22%, Valid: 77.82% Test: 82.09%\n",
            "Epoch: 428, Loss: 0.2992, Train: 87.86%, Valid: 77.68% Test: 82.65%\n",
            "Epoch: 429, Loss: 0.3107, Train: 87.56%, Valid: 77.60% Test: 82.66%\n",
            "Epoch: 430, Loss: 0.2944, Train: 87.66%, Valid: 77.63% Test: 82.39%\n",
            "Epoch: 431, Loss: 0.3105, Train: 87.55%, Valid: 77.43% Test: 82.17%\n",
            "Epoch: 432, Loss: 0.3027, Train: 87.54%, Valid: 77.42% Test: 82.07%\n",
            "Epoch: 433, Loss: 0.3025, Train: 88.21%, Valid: 77.24% Test: 82.09%\n",
            "Epoch: 434, Loss: 0.2924, Train: 87.58%, Valid: 77.11% Test: 81.65%\n",
            "Epoch: 435, Loss: 0.3103, Train: 86.17%, Valid: 76.28% Test: 80.90%\n",
            "Epoch: 436, Loss: 0.3060, Train: 87.70%, Valid: 77.46% Test: 82.56%\n",
            "Epoch: 437, Loss: 0.2964, Train: 88.43%, Valid: 76.80% Test: 82.84%\n",
            "Epoch: 438, Loss: 0.3031, Train: 88.40%, Valid: 77.69% Test: 82.68%\n",
            "Epoch: 439, Loss: 0.2958, Train: 88.15%, Valid: 77.72% Test: 82.56%\n",
            "Epoch: 440, Loss: 0.2896, Train: 88.51%, Valid: 78.13% Test: 82.87%\n",
            "Epoch: 441, Loss: 0.2869, Train: 88.33%, Valid: 77.43% Test: 82.66%\n",
            "Epoch: 442, Loss: 0.2894, Train: 87.92%, Valid: 76.68% Test: 81.97%\n",
            "Epoch: 443, Loss: 0.3059, Train: 87.24%, Valid: 76.28% Test: 81.36%\n",
            "Epoch: 444, Loss: 0.2885, Train: 87.92%, Valid: 78.02% Test: 82.52%\n",
            "Epoch: 445, Loss: 0.2872, Train: 89.14%, Valid: 77.44% Test: 83.00%\n",
            "Epoch: 446, Loss: 0.2919, Train: 88.50%, Valid: 77.64% Test: 82.96%\n",
            "Epoch: 447, Loss: 0.2961, Train: 87.93%, Valid: 77.90% Test: 83.05%\n",
            "Epoch: 448, Loss: 0.2888, Train: 88.18%, Valid: 78.63% Test: 83.58%\n",
            "Epoch: 449, Loss: 0.3051, Train: 87.54%, Valid: 78.50% Test: 82.96%\n",
            "Epoch: 450, Loss: 0.2922, Train: 88.70%, Valid: 77.71% Test: 82.82%\n",
            "Epoch: 451, Loss: 0.2898, Train: 88.83%, Valid: 77.53% Test: 83.19%\n",
            "Epoch: 452, Loss: 0.2842, Train: 89.35%, Valid: 75.95% Test: 82.40%\n",
            "Epoch: 453, Loss: 0.2997, Train: 88.85%, Valid: 77.48% Test: 82.49%\n",
            "Epoch: 454, Loss: 0.2816, Train: 88.72%, Valid: 78.92% Test: 83.41%\n",
            "Epoch: 455, Loss: 0.2989, Train: 86.86%, Valid: 79.12% Test: 82.94%\n",
            "Epoch: 456, Loss: 0.2970, Train: 87.99%, Valid: 78.83% Test: 83.53%\n",
            "Epoch: 457, Loss: 0.3026, Train: 88.29%, Valid: 77.50% Test: 82.83%\n",
            "Epoch: 458, Loss: 0.3004, Train: 88.33%, Valid: 76.34% Test: 82.15%\n",
            "Epoch: 459, Loss: 0.2894, Train: 88.64%, Valid: 76.30% Test: 82.61%\n",
            "Epoch: 460, Loss: 0.2895, Train: 88.64%, Valid: 77.74% Test: 83.19%\n",
            "Epoch: 461, Loss: 0.2836, Train: 88.63%, Valid: 77.66% Test: 82.79%\n",
            "Epoch: 462, Loss: 0.2858, Train: 88.31%, Valid: 77.07% Test: 82.27%\n",
            "Epoch: 463, Loss: 0.2865, Train: 89.37%, Valid: 78.05% Test: 83.88%\n",
            "Epoch: 464, Loss: 0.2856, Train: 89.33%, Valid: 78.37% Test: 83.71%\n",
            "Epoch: 465, Loss: 0.2878, Train: 89.41%, Valid: 78.85% Test: 83.91%\n",
            "Epoch: 466, Loss: 0.2847, Train: 88.09%, Valid: 79.54% Test: 83.84%\n",
            "Epoch: 467, Loss: 0.2878, Train: 87.92%, Valid: 79.81% Test: 83.65%\n",
            "Epoch: 468, Loss: 0.2899, Train: 88.16%, Valid: 79.09% Test: 83.91%\n",
            "Epoch: 469, Loss: 0.2874, Train: 88.81%, Valid: 78.73% Test: 83.88%\n",
            "Epoch: 470, Loss: 0.2779, Train: 89.64%, Valid: 78.47% Test: 83.81%\n",
            "Epoch: 471, Loss: 0.2820, Train: 89.22%, Valid: 78.82% Test: 84.33%\n",
            "Epoch: 472, Loss: 0.2952, Train: 88.21%, Valid: 79.81% Test: 83.96%\n",
            "Epoch: 473, Loss: 0.2851, Train: 88.32%, Valid: 80.31% Test: 84.35%\n",
            "Epoch: 474, Loss: 0.2795, Train: 89.13%, Valid: 79.60% Test: 84.63%\n",
            "Epoch: 475, Loss: 0.2794, Train: 89.08%, Valid: 79.35% Test: 84.46%\n",
            "Epoch: 476, Loss: 0.2772, Train: 89.24%, Valid: 78.96% Test: 84.11%\n",
            "Epoch: 477, Loss: 0.2859, Train: 88.78%, Valid: 78.31% Test: 83.64%\n",
            "Epoch: 478, Loss: 0.2833, Train: 89.13%, Valid: 78.41% Test: 83.63%\n",
            "Epoch: 479, Loss: 0.2750, Train: 88.39%, Valid: 78.07% Test: 83.58%\n",
            "Epoch: 480, Loss: 0.2818, Train: 88.50%, Valid: 78.47% Test: 83.97%\n",
            "Epoch: 481, Loss: 0.2778, Train: 89.23%, Valid: 80.39% Test: 85.00%\n",
            "Epoch: 482, Loss: 0.2777, Train: 89.54%, Valid: 80.12% Test: 84.93%\n",
            "Epoch: 483, Loss: 0.2815, Train: 89.32%, Valid: 79.82% Test: 84.99%\n",
            "Epoch: 484, Loss: 0.2756, Train: 89.59%, Valid: 79.65% Test: 85.13%\n",
            "Epoch: 485, Loss: 0.2800, Train: 89.41%, Valid: 79.37% Test: 84.81%\n",
            "Epoch: 486, Loss: 0.2789, Train: 89.34%, Valid: 79.61% Test: 84.00%\n",
            "Epoch: 487, Loss: 0.2870, Train: 88.52%, Valid: 80.59% Test: 84.81%\n",
            "Epoch: 488, Loss: 0.2777, Train: 89.33%, Valid: 80.46% Test: 85.57%\n",
            "Epoch: 489, Loss: 0.2786, Train: 88.86%, Valid: 80.69% Test: 85.75%\n",
            "Epoch: 490, Loss: 0.2762, Train: 88.95%, Valid: 81.08% Test: 85.46%\n",
            "Epoch: 491, Loss: 0.2759, Train: 89.20%, Valid: 80.90% Test: 84.87%\n",
            "Epoch: 492, Loss: 0.2728, Train: 88.07%, Valid: 80.22% Test: 84.39%\n",
            "Epoch: 493, Loss: 0.2706, Train: 89.36%, Valid: 79.92% Test: 84.33%\n",
            "Epoch: 494, Loss: 0.2729, Train: 89.07%, Valid: 80.14% Test: 84.40%\n",
            "Epoch: 495, Loss: 0.2750, Train: 88.82%, Valid: 80.61% Test: 84.64%\n",
            "Epoch: 496, Loss: 0.2687, Train: 89.04%, Valid: 81.52% Test: 85.20%\n",
            "Epoch: 497, Loss: 0.2782, Train: 88.84%, Valid: 81.83% Test: 85.32%\n",
            "Epoch: 498, Loss: 0.2615, Train: 89.06%, Valid: 81.77% Test: 85.59%\n",
            "Epoch: 499, Loss: 0.2702, Train: 88.99%, Valid: 80.55% Test: 85.08%\n",
            "Epoch: 500, Loss: 0.2759, Train: 89.01%, Valid: 81.32% Test: 84.92%\n",
            "Epoch: 501, Loss: 0.2795, Train: 89.14%, Valid: 80.59% Test: 84.56%\n",
            "Epoch: 502, Loss: 0.2667, Train: 88.88%, Valid: 79.35% Test: 84.16%\n",
            "Epoch: 503, Loss: 0.2672, Train: 89.56%, Valid: 80.35% Test: 85.49%\n",
            "Epoch: 504, Loss: 0.2741, Train: 89.46%, Valid: 80.71% Test: 85.37%\n",
            "Epoch: 505, Loss: 0.2673, Train: 89.26%, Valid: 80.85% Test: 85.88%\n",
            "Epoch: 506, Loss: 0.2704, Train: 89.07%, Valid: 81.84% Test: 85.82%\n",
            "Epoch: 507, Loss: 0.2610, Train: 88.86%, Valid: 81.43% Test: 85.34%\n",
            "Epoch: 508, Loss: 0.2735, Train: 89.48%, Valid: 81.44% Test: 85.71%\n",
            "Epoch: 509, Loss: 0.2681, Train: 89.45%, Valid: 79.01% Test: 85.03%\n",
            "Epoch: 510, Loss: 0.2635, Train: 90.14%, Valid: 79.26% Test: 84.96%\n",
            "Epoch: 511, Loss: 0.2676, Train: 89.79%, Valid: 80.12% Test: 85.07%\n",
            "Epoch: 512, Loss: 0.2687, Train: 89.64%, Valid: 81.25% Test: 85.76%\n",
            "Epoch: 513, Loss: 0.2575, Train: 89.87%, Valid: 81.67% Test: 86.04%\n",
            "Epoch: 514, Loss: 0.2771, Train: 89.44%, Valid: 81.86% Test: 86.21%\n",
            "Epoch: 515, Loss: 0.2635, Train: 89.38%, Valid: 81.75% Test: 85.60%\n",
            "Epoch: 516, Loss: 0.2662, Train: 89.78%, Valid: 81.30% Test: 85.67%\n",
            "Epoch: 517, Loss: 0.2623, Train: 89.88%, Valid: 81.05% Test: 85.90%\n",
            "Epoch: 518, Loss: 0.2594, Train: 90.21%, Valid: 80.74% Test: 86.14%\n",
            "Epoch: 519, Loss: 0.2727, Train: 90.15%, Valid: 80.48% Test: 85.74%\n",
            "Epoch: 520, Loss: 0.2634, Train: 89.29%, Valid: 79.01% Test: 84.17%\n",
            "Epoch: 521, Loss: 0.2708, Train: 89.28%, Valid: 80.44% Test: 84.81%\n",
            "Epoch: 522, Loss: 0.2669, Train: 89.70%, Valid: 82.19% Test: 86.55%\n",
            "Epoch: 523, Loss: 0.2648, Train: 87.82%, Valid: 80.60% Test: 85.93%\n",
            "Epoch: 524, Loss: 0.2619, Train: 89.61%, Valid: 81.58% Test: 86.79%\n",
            "Epoch: 525, Loss: 0.2648, Train: 89.06%, Valid: 80.74% Test: 85.64%\n",
            "Epoch: 526, Loss: 0.2506, Train: 90.22%, Valid: 80.56% Test: 84.94%\n",
            "Epoch: 527, Loss: 0.2596, Train: 90.14%, Valid: 79.29% Test: 84.70%\n",
            "Epoch: 528, Loss: 0.2644, Train: 89.93%, Valid: 79.66% Test: 84.77%\n",
            "Epoch: 529, Loss: 0.2545, Train: 90.14%, Valid: 80.84% Test: 85.69%\n",
            "Epoch: 530, Loss: 0.2531, Train: 90.25%, Valid: 81.74% Test: 85.78%\n",
            "Epoch: 531, Loss: 0.2611, Train: 89.79%, Valid: 82.39% Test: 86.51%\n",
            "Epoch: 532, Loss: 0.2636, Train: 89.45%, Valid: 82.62% Test: 86.56%\n",
            "Epoch: 533, Loss: 0.2655, Train: 89.52%, Valid: 81.31% Test: 86.39%\n",
            "Epoch: 534, Loss: 0.2591, Train: 89.30%, Valid: 80.16% Test: 84.75%\n",
            "Epoch: 535, Loss: 0.2529, Train: 89.50%, Valid: 79.89% Test: 84.62%\n",
            "Epoch: 536, Loss: 0.2588, Train: 90.03%, Valid: 80.31% Test: 85.16%\n",
            "Epoch: 537, Loss: 0.2669, Train: 89.38%, Valid: 81.46% Test: 85.85%\n",
            "Epoch: 538, Loss: 0.2544, Train: 90.01%, Valid: 81.91% Test: 86.60%\n",
            "Epoch: 539, Loss: 0.2519, Train: 90.10%, Valid: 82.52% Test: 86.90%\n",
            "Epoch: 540, Loss: 0.2663, Train: 88.83%, Valid: 81.28% Test: 84.73%\n",
            "Epoch: 541, Loss: 0.2592, Train: 89.01%, Valid: 80.77% Test: 84.91%\n",
            "Epoch: 542, Loss: 0.2707, Train: 89.93%, Valid: 81.54% Test: 86.18%\n",
            "Epoch: 543, Loss: 0.2568, Train: 90.58%, Valid: 81.66% Test: 86.49%\n",
            "Epoch: 544, Loss: 0.2636, Train: 89.64%, Valid: 80.71% Test: 85.75%\n",
            "Epoch: 545, Loss: 0.2683, Train: 90.36%, Valid: 80.84% Test: 86.26%\n",
            "Epoch: 546, Loss: 0.2529, Train: 89.83%, Valid: 80.36% Test: 84.98%\n",
            "Epoch: 547, Loss: 0.2560, Train: 88.98%, Valid: 80.39% Test: 84.69%\n",
            "Epoch: 548, Loss: 0.2561, Train: 90.14%, Valid: 81.21% Test: 85.68%\n",
            "Epoch: 549, Loss: 0.2546, Train: 90.46%, Valid: 81.39% Test: 86.44%\n",
            "Epoch: 550, Loss: 0.2552, Train: 90.56%, Valid: 80.84% Test: 86.29%\n",
            "Epoch: 551, Loss: 0.2650, Train: 90.47%, Valid: 81.65% Test: 86.72%\n",
            "Epoch: 552, Loss: 0.2505, Train: 89.58%, Valid: 80.19% Test: 85.21%\n",
            "Epoch: 553, Loss: 0.2563, Train: 90.17%, Valid: 79.80% Test: 84.92%\n",
            "Epoch: 554, Loss: 0.2557, Train: 90.41%, Valid: 81.52% Test: 86.27%\n",
            "Epoch: 555, Loss: 0.2472, Train: 90.56%, Valid: 80.54% Test: 86.11%\n",
            "Epoch: 556, Loss: 0.2574, Train: 90.33%, Valid: 80.90% Test: 85.94%\n",
            "Epoch: 557, Loss: 0.2505, Train: 89.59%, Valid: 80.75% Test: 85.28%\n",
            "Epoch: 558, Loss: 0.2529, Train: 89.80%, Valid: 81.07% Test: 85.70%\n",
            "Epoch: 559, Loss: 0.2555, Train: 90.78%, Valid: 81.16% Test: 85.78%\n",
            "Epoch: 560, Loss: 0.2538, Train: 90.68%, Valid: 82.15% Test: 85.53%\n",
            "Epoch: 561, Loss: 0.2547, Train: 90.30%, Valid: 82.02% Test: 86.00%\n",
            "Epoch: 562, Loss: 0.2529, Train: 90.11%, Valid: 81.81% Test: 86.49%\n",
            "Epoch: 563, Loss: 0.2540, Train: 90.68%, Valid: 82.40% Test: 86.87%\n",
            "Epoch: 564, Loss: 0.2589, Train: 90.28%, Valid: 82.52% Test: 86.93%\n",
            "Epoch: 565, Loss: 0.2583, Train: 89.48%, Valid: 82.16% Test: 86.20%\n",
            "Epoch: 566, Loss: 0.2534, Train: 89.82%, Valid: 80.88% Test: 85.49%\n",
            "Epoch: 567, Loss: 0.2598, Train: 90.10%, Valid: 80.98% Test: 86.11%\n",
            "Epoch: 568, Loss: 0.2506, Train: 90.91%, Valid: 80.34% Test: 86.13%\n",
            "Epoch: 569, Loss: 0.2549, Train: 90.29%, Valid: 81.08% Test: 86.00%\n",
            "Epoch: 570, Loss: 0.2489, Train: 90.17%, Valid: 81.71% Test: 86.06%\n",
            "Epoch: 571, Loss: 0.2593, Train: 89.86%, Valid: 81.78% Test: 85.78%\n",
            "Epoch: 572, Loss: 0.2444, Train: 90.91%, Valid: 81.12% Test: 86.24%\n",
            "Epoch: 573, Loss: 0.2478, Train: 90.68%, Valid: 80.70% Test: 86.14%\n",
            "Epoch: 574, Loss: 0.2568, Train: 91.08%, Valid: 81.24% Test: 86.16%\n",
            "Epoch: 575, Loss: 0.2542, Train: 89.83%, Valid: 80.70% Test: 85.49%\n",
            "Epoch: 576, Loss: 0.2522, Train: 89.25%, Valid: 81.31% Test: 85.15%\n",
            "Epoch: 577, Loss: 0.2458, Train: 90.30%, Valid: 81.90% Test: 86.75%\n",
            "Epoch: 578, Loss: 0.2568, Train: 89.71%, Valid: 82.82% Test: 87.41%\n",
            "Epoch: 579, Loss: 0.2505, Train: 90.10%, Valid: 82.30% Test: 87.12%\n",
            "Epoch: 580, Loss: 0.2497, Train: 90.66%, Valid: 82.48% Test: 87.10%\n",
            "Epoch: 581, Loss: 0.2521, Train: 89.23%, Valid: 81.32% Test: 85.49%\n",
            "Epoch: 582, Loss: 0.2568, Train: 88.54%, Valid: 80.59% Test: 84.52%\n",
            "Epoch: 583, Loss: 0.2617, Train: 89.09%, Valid: 81.03% Test: 84.99%\n",
            "Epoch: 584, Loss: 0.2540, Train: 91.02%, Valid: 82.44% Test: 87.46%\n",
            "Epoch: 585, Loss: 0.2449, Train: 90.71%, Valid: 82.67% Test: 87.60%\n",
            "Epoch: 586, Loss: 0.2375, Train: 90.51%, Valid: 82.50% Test: 86.96%\n",
            "Epoch: 587, Loss: 0.2446, Train: 90.86%, Valid: 82.38% Test: 87.35%\n",
            "Epoch: 588, Loss: 0.2479, Train: 90.44%, Valid: 81.63% Test: 86.45%\n",
            "Epoch: 589, Loss: 0.2503, Train: 89.77%, Valid: 81.22% Test: 85.49%\n",
            "Epoch: 590, Loss: 0.2400, Train: 90.53%, Valid: 81.52% Test: 86.43%\n",
            "Epoch: 591, Loss: 0.2499, Train: 90.85%, Valid: 81.98% Test: 87.11%\n",
            "Epoch: 592, Loss: 0.2495, Train: 90.85%, Valid: 81.83% Test: 87.04%\n",
            "Epoch: 593, Loss: 0.2456, Train: 90.59%, Valid: 81.91% Test: 87.19%\n",
            "Epoch: 594, Loss: 0.2410, Train: 90.60%, Valid: 81.84% Test: 87.05%\n",
            "Epoch: 595, Loss: 0.2527, Train: 90.63%, Valid: 82.61% Test: 87.46%\n",
            "Epoch: 596, Loss: 0.2508, Train: 90.77%, Valid: 82.37% Test: 87.26%\n",
            "Epoch: 597, Loss: 0.2485, Train: 90.98%, Valid: 81.39% Test: 86.76%\n",
            "Epoch: 598, Loss: 0.2433, Train: 91.08%, Valid: 81.10% Test: 86.20%\n",
            "Epoch: 599, Loss: 0.2390, Train: 90.95%, Valid: 80.18% Test: 85.85%\n",
            "Epoch: 600, Loss: 0.2425, Train: 90.98%, Valid: 79.98% Test: 85.35%\n",
            "Epoch: 601, Loss: 0.2395, Train: 90.65%, Valid: 80.27% Test: 85.85%\n",
            "Epoch: 602, Loss: 0.2486, Train: 90.68%, Valid: 81.38% Test: 86.18%\n",
            "Epoch: 603, Loss: 0.2488, Train: 90.92%, Valid: 82.13% Test: 86.97%\n",
            "Epoch: 604, Loss: 0.2423, Train: 90.87%, Valid: 82.99% Test: 87.14%\n",
            "Epoch: 605, Loss: 0.2515, Train: 90.38%, Valid: 83.21% Test: 87.54%\n",
            "Epoch: 606, Loss: 0.2408, Train: 90.97%, Valid: 82.33% Test: 87.32%\n",
            "Epoch: 607, Loss: 0.2519, Train: 90.69%, Valid: 81.48% Test: 86.50%\n",
            "Epoch: 608, Loss: 0.2379, Train: 90.95%, Valid: 81.02% Test: 86.24%\n",
            "Epoch: 609, Loss: 0.2364, Train: 90.83%, Valid: 79.76% Test: 85.23%\n",
            "Epoch: 610, Loss: 0.2428, Train: 90.40%, Valid: 79.96% Test: 85.39%\n",
            "Epoch: 611, Loss: 0.2430, Train: 90.99%, Valid: 81.06% Test: 86.09%\n",
            "Epoch: 612, Loss: 0.2351, Train: 91.17%, Valid: 82.35% Test: 87.17%\n",
            "Epoch: 613, Loss: 0.2475, Train: 90.85%, Valid: 82.26% Test: 87.72%\n",
            "Epoch: 614, Loss: 0.2385, Train: 91.23%, Valid: 81.94% Test: 87.29%\n",
            "Epoch: 615, Loss: 0.2407, Train: 91.56%, Valid: 82.05% Test: 86.97%\n",
            "Epoch: 616, Loss: 0.2344, Train: 90.96%, Valid: 81.47% Test: 86.11%\n",
            "Epoch: 617, Loss: 0.2383, Train: 90.72%, Valid: 80.38% Test: 85.90%\n",
            "Epoch: 618, Loss: 0.2364, Train: 91.05%, Valid: 80.88% Test: 86.23%\n",
            "Epoch: 619, Loss: 0.2389, Train: 91.34%, Valid: 81.55% Test: 86.68%\n",
            "Epoch: 620, Loss: 0.2507, Train: 90.64%, Valid: 82.30% Test: 87.22%\n",
            "Epoch: 621, Loss: 0.2261, Train: 91.84%, Valid: 83.31% Test: 87.68%\n",
            "Epoch: 622, Loss: 0.2471, Train: 90.40%, Valid: 83.74% Test: 87.75%\n",
            "Epoch: 623, Loss: 0.2574, Train: 90.02%, Valid: 83.53% Test: 87.88%\n",
            "Epoch: 624, Loss: 0.2403, Train: 90.55%, Valid: 83.42% Test: 87.81%\n",
            "Epoch: 625, Loss: 0.2406, Train: 90.66%, Valid: 82.44% Test: 87.36%\n",
            "Epoch: 626, Loss: 0.2441, Train: 90.84%, Valid: 81.74% Test: 86.55%\n",
            "Epoch: 627, Loss: 0.2339, Train: 91.28%, Valid: 81.43% Test: 86.35%\n",
            "Epoch: 628, Loss: 0.2449, Train: 90.85%, Valid: 81.93% Test: 86.92%\n",
            "Epoch: 629, Loss: 0.2456, Train: 90.46%, Valid: 82.28% Test: 87.58%\n",
            "Epoch: 630, Loss: 0.2537, Train: 90.68%, Valid: 83.50% Test: 87.75%\n",
            "Epoch: 631, Loss: 0.2313, Train: 90.99%, Valid: 83.76% Test: 88.03%\n",
            "Epoch: 632, Loss: 0.2426, Train: 90.96%, Valid: 83.34% Test: 87.65%\n",
            "Epoch: 633, Loss: 0.2418, Train: 90.89%, Valid: 82.44% Test: 87.49%\n",
            "Epoch: 634, Loss: 0.2362, Train: 91.30%, Valid: 80.85% Test: 86.75%\n",
            "Epoch: 635, Loss: 0.2374, Train: 90.81%, Valid: 81.19% Test: 86.29%\n",
            "Epoch: 636, Loss: 0.2347, Train: 91.53%, Valid: 81.84% Test: 87.22%\n",
            "Epoch: 637, Loss: 0.2401, Train: 90.84%, Valid: 82.63% Test: 87.18%\n",
            "Epoch: 638, Loss: 0.2392, Train: 90.53%, Valid: 83.27% Test: 87.80%\n",
            "Epoch: 639, Loss: 0.2403, Train: 90.89%, Valid: 83.05% Test: 88.03%\n",
            "Epoch: 640, Loss: 0.2420, Train: 90.97%, Valid: 83.27% Test: 87.86%\n",
            "Epoch: 641, Loss: 0.2382, Train: 90.92%, Valid: 83.82% Test: 87.74%\n",
            "Epoch: 642, Loss: 0.2371, Train: 90.82%, Valid: 83.40% Test: 87.62%\n",
            "Epoch: 643, Loss: 0.2260, Train: 90.97%, Valid: 82.92% Test: 87.24%\n",
            "Epoch: 644, Loss: 0.2359, Train: 91.22%, Valid: 82.43% Test: 87.03%\n",
            "Epoch: 645, Loss: 0.2406, Train: 91.03%, Valid: 81.68% Test: 86.47%\n",
            "Epoch: 646, Loss: 0.2420, Train: 90.59%, Valid: 82.69% Test: 86.76%\n",
            "Epoch: 647, Loss: 0.2393, Train: 89.99%, Valid: 82.43% Test: 86.25%\n",
            "Epoch: 648, Loss: 0.2455, Train: 90.07%, Valid: 83.36% Test: 87.19%\n",
            "Epoch: 649, Loss: 0.2362, Train: 91.32%, Valid: 83.18% Test: 87.86%\n",
            "Epoch: 650, Loss: 0.2352, Train: 91.56%, Valid: 82.60% Test: 87.74%\n",
            "Epoch: 651, Loss: 0.2314, Train: 91.17%, Valid: 81.70% Test: 86.94%\n",
            "Epoch: 652, Loss: 0.2435, Train: 90.04%, Valid: 81.99% Test: 86.51%\n",
            "Epoch: 653, Loss: 0.2475, Train: 90.80%, Valid: 82.28% Test: 87.26%\n",
            "Epoch: 654, Loss: 0.2373, Train: 90.98%, Valid: 82.87% Test: 87.71%\n",
            "Epoch: 655, Loss: 0.2362, Train: 90.87%, Valid: 82.61% Test: 87.47%\n",
            "Epoch: 656, Loss: 0.2381, Train: 91.11%, Valid: 83.24% Test: 88.06%\n",
            "Epoch: 657, Loss: 0.2371, Train: 90.63%, Valid: 81.92% Test: 86.49%\n",
            "Epoch: 658, Loss: 0.2372, Train: 90.28%, Valid: 81.85% Test: 86.57%\n",
            "Epoch: 659, Loss: 0.2367, Train: 90.60%, Valid: 81.69% Test: 86.48%\n",
            "Epoch: 660, Loss: 0.2360, Train: 91.09%, Valid: 82.79% Test: 87.44%\n",
            "Epoch: 661, Loss: 0.2254, Train: 91.54%, Valid: 83.17% Test: 88.16%\n",
            "Epoch: 662, Loss: 0.2379, Train: 91.01%, Valid: 83.88% Test: 88.39%\n",
            "Epoch: 663, Loss: 0.2371, Train: 90.75%, Valid: 84.44% Test: 88.27%\n",
            "Epoch: 664, Loss: 0.2450, Train: 89.97%, Valid: 84.68% Test: 88.20%\n",
            "Epoch: 665, Loss: 0.2335, Train: 91.09%, Valid: 83.66% Test: 87.82%\n",
            "Epoch: 666, Loss: 0.2393, Train: 90.70%, Valid: 82.88% Test: 87.54%\n",
            "Epoch: 667, Loss: 0.2240, Train: 91.22%, Valid: 83.11% Test: 87.51%\n",
            "Epoch: 668, Loss: 0.2493, Train: 89.64%, Valid: 81.38% Test: 86.36%\n",
            "Epoch: 669, Loss: 0.2387, Train: 90.93%, Valid: 83.15% Test: 87.50%\n",
            "Epoch: 670, Loss: 0.2328, Train: 90.63%, Valid: 81.75% Test: 86.68%\n",
            "Epoch: 671, Loss: 0.2388, Train: 90.38%, Valid: 81.14% Test: 85.62%\n",
            "Epoch: 672, Loss: 0.2494, Train: 90.39%, Valid: 82.33% Test: 86.57%\n",
            "Epoch: 673, Loss: 0.2397, Train: 91.05%, Valid: 83.47% Test: 87.94%\n",
            "Epoch: 674, Loss: 0.2272, Train: 91.55%, Valid: 82.29% Test: 87.54%\n",
            "Epoch: 675, Loss: 0.2352, Train: 91.63%, Valid: 81.12% Test: 86.75%\n",
            "Epoch: 676, Loss: 0.2336, Train: 91.40%, Valid: 80.22% Test: 85.78%\n",
            "Epoch: 677, Loss: 0.2323, Train: 90.86%, Valid: 80.58% Test: 85.64%\n",
            "Epoch: 678, Loss: 0.2323, Train: 91.38%, Valid: 83.03% Test: 87.69%\n",
            "Epoch: 679, Loss: 0.2293, Train: 89.95%, Valid: 81.96% Test: 87.91%\n",
            "Epoch: 680, Loss: 0.2325, Train: 89.94%, Valid: 82.20% Test: 87.62%\n",
            "Epoch: 681, Loss: 0.2364, Train: 90.87%, Valid: 83.82% Test: 88.15%\n",
            "Epoch: 682, Loss: 0.2345, Train: 91.44%, Valid: 83.19% Test: 87.93%\n",
            "Epoch: 683, Loss: 0.2343, Train: 91.11%, Valid: 81.75% Test: 86.80%\n",
            "Epoch: 684, Loss: 0.2351, Train: 91.53%, Valid: 82.45% Test: 86.97%\n",
            "Epoch: 685, Loss: 0.2273, Train: 91.58%, Valid: 82.49% Test: 87.56%\n",
            "Epoch: 686, Loss: 0.2236, Train: 91.89%, Valid: 83.07% Test: 87.85%\n",
            "Epoch: 687, Loss: 0.2181, Train: 91.65%, Valid: 83.73% Test: 88.09%\n",
            "Epoch: 688, Loss: 0.2261, Train: 90.85%, Valid: 83.26% Test: 87.65%\n",
            "Epoch: 689, Loss: 0.2365, Train: 90.82%, Valid: 82.79% Test: 87.18%\n",
            "Epoch: 690, Loss: 0.2379, Train: 90.79%, Valid: 82.64% Test: 86.56%\n",
            "Epoch: 691, Loss: 0.2307, Train: 90.08%, Valid: 81.99% Test: 86.63%\n",
            "Epoch: 692, Loss: 0.2307, Train: 91.13%, Valid: 82.62% Test: 87.08%\n",
            "Epoch: 693, Loss: 0.2337, Train: 91.18%, Valid: 83.07% Test: 87.92%\n",
            "Epoch: 694, Loss: 0.2232, Train: 91.76%, Valid: 83.29% Test: 88.03%\n",
            "Epoch: 695, Loss: 0.2389, Train: 91.05%, Valid: 83.42% Test: 88.14%\n",
            "Epoch: 696, Loss: 0.2343, Train: 91.28%, Valid: 83.97% Test: 88.65%\n",
            "Epoch: 697, Loss: 0.2217, Train: 91.65%, Valid: 84.09% Test: 88.41%\n",
            "Epoch: 698, Loss: 0.2321, Train: 90.80%, Valid: 83.65% Test: 88.53%\n",
            "Epoch: 699, Loss: 0.2283, Train: 91.19%, Valid: 83.76% Test: 88.39%\n",
            "Epoch: 700, Loss: 0.2240, Train: 92.09%, Valid: 83.78% Test: 88.29%\n",
            "Epoch: 701, Loss: 0.2283, Train: 91.54%, Valid: 83.28% Test: 87.83%\n",
            "Epoch: 702, Loss: 0.2277, Train: 91.75%, Valid: 83.22% Test: 88.03%\n",
            "Epoch: 703, Loss: 0.2216, Train: 91.71%, Valid: 82.86% Test: 87.64%\n",
            "Epoch: 704, Loss: 0.2271, Train: 91.29%, Valid: 82.42% Test: 87.44%\n",
            "Epoch: 705, Loss: 0.2246, Train: 91.12%, Valid: 82.13% Test: 86.76%\n",
            "Epoch: 706, Loss: 0.2339, Train: 90.89%, Valid: 81.98% Test: 86.61%\n",
            "Epoch: 707, Loss: 0.2283, Train: 90.98%, Valid: 82.51% Test: 87.22%\n",
            "Epoch: 708, Loss: 0.2234, Train: 91.72%, Valid: 83.25% Test: 88.02%\n",
            "Epoch: 709, Loss: 0.2289, Train: 91.59%, Valid: 83.57% Test: 88.21%\n",
            "Epoch: 710, Loss: 0.2288, Train: 91.63%, Valid: 83.07% Test: 88.35%\n",
            "Epoch: 711, Loss: 0.2385, Train: 91.29%, Valid: 83.73% Test: 88.51%\n",
            "Epoch: 712, Loss: 0.2293, Train: 91.34%, Valid: 84.18% Test: 88.64%\n",
            "Epoch: 713, Loss: 0.2308, Train: 91.54%, Valid: 83.63% Test: 88.31%\n",
            "Epoch: 714, Loss: 0.2241, Train: 91.70%, Valid: 82.67% Test: 88.25%\n",
            "Epoch: 715, Loss: 0.2310, Train: 91.60%, Valid: 82.66% Test: 87.58%\n",
            "Epoch: 716, Loss: 0.2271, Train: 91.15%, Valid: 83.31% Test: 87.82%\n",
            "Epoch: 717, Loss: 0.2282, Train: 91.35%, Valid: 84.01% Test: 87.83%\n",
            "Epoch: 718, Loss: 0.2270, Train: 91.33%, Valid: 84.14% Test: 88.76%\n",
            "Epoch: 719, Loss: 0.2221, Train: 91.29%, Valid: 83.98% Test: 88.53%\n",
            "Epoch: 720, Loss: 0.2249, Train: 91.36%, Valid: 83.63% Test: 88.32%\n",
            "Epoch: 721, Loss: 0.2261, Train: 90.65%, Valid: 82.78% Test: 86.88%\n",
            "Epoch: 722, Loss: 0.2225, Train: 90.50%, Valid: 80.86% Test: 85.61%\n",
            "Epoch: 723, Loss: 0.2292, Train: 90.38%, Valid: 80.66% Test: 85.96%\n",
            "Epoch: 724, Loss: 0.2275, Train: 91.07%, Valid: 81.15% Test: 85.83%\n",
            "Epoch: 725, Loss: 0.2228, Train: 91.49%, Valid: 82.69% Test: 87.40%\n",
            "Epoch: 726, Loss: 0.2222, Train: 91.46%, Valid: 83.49% Test: 88.21%\n",
            "Epoch: 727, Loss: 0.2130, Train: 91.69%, Valid: 83.96% Test: 88.73%\n",
            "Epoch: 728, Loss: 0.2308, Train: 91.32%, Valid: 83.81% Test: 88.32%\n",
            "Epoch: 729, Loss: 0.2254, Train: 91.36%, Valid: 83.03% Test: 88.25%\n",
            "Epoch: 730, Loss: 0.2263, Train: 91.68%, Valid: 83.37% Test: 88.29%\n",
            "Epoch: 731, Loss: 0.2297, Train: 90.76%, Valid: 82.76% Test: 86.95%\n",
            "Epoch: 732, Loss: 0.2186, Train: 91.44%, Valid: 82.61% Test: 87.24%\n",
            "Epoch: 733, Loss: 0.2229, Train: 91.32%, Valid: 81.77% Test: 87.19%\n",
            "Epoch: 734, Loss: 0.2255, Train: 91.45%, Valid: 83.57% Test: 88.01%\n",
            "Epoch: 735, Loss: 0.2288, Train: 91.37%, Valid: 84.38% Test: 88.69%\n",
            "Epoch: 736, Loss: 0.2181, Train: 91.62%, Valid: 84.66% Test: 88.85%\n",
            "Epoch: 737, Loss: 0.2290, Train: 91.44%, Valid: 84.10% Test: 88.73%\n",
            "Epoch: 738, Loss: 0.2228, Train: 91.19%, Valid: 83.03% Test: 87.34%\n",
            "Epoch: 739, Loss: 0.2280, Train: 90.69%, Valid: 81.77% Test: 86.03%\n",
            "Epoch: 740, Loss: 0.2195, Train: 90.47%, Valid: 80.88% Test: 85.46%\n",
            "Epoch: 741, Loss: 0.2262, Train: 90.90%, Valid: 81.03% Test: 86.10%\n",
            "Epoch: 742, Loss: 0.2259, Train: 91.41%, Valid: 81.33% Test: 86.76%\n",
            "Epoch: 743, Loss: 0.2321, Train: 91.44%, Valid: 82.52% Test: 87.69%\n",
            "Epoch: 744, Loss: 0.2265, Train: 91.52%, Valid: 82.57% Test: 87.88%\n",
            "Epoch: 745, Loss: 0.2225, Train: 91.57%, Valid: 83.19% Test: 87.79%\n",
            "Epoch: 746, Loss: 0.2185, Train: 91.85%, Valid: 82.92% Test: 87.91%\n",
            "Epoch: 747, Loss: 0.2306, Train: 90.98%, Valid: 81.25% Test: 86.99%\n",
            "Epoch: 748, Loss: 0.2400, Train: 90.79%, Valid: 82.40% Test: 87.69%\n",
            "Epoch: 749, Loss: 0.2301, Train: 91.64%, Valid: 82.57% Test: 87.85%\n",
            "Epoch: 750, Loss: 0.2221, Train: 91.56%, Valid: 82.46% Test: 87.92%\n",
            "Epoch: 751, Loss: 0.2169, Train: 90.51%, Valid: 81.98% Test: 87.94%\n",
            "Epoch: 752, Loss: 0.2297, Train: 90.70%, Valid: 83.46% Test: 88.70%\n",
            "Epoch: 753, Loss: 0.2181, Train: 92.19%, Valid: 83.64% Test: 88.51%\n",
            "Epoch: 754, Loss: 0.2222, Train: 90.11%, Valid: 80.94% Test: 85.57%\n",
            "Epoch: 755, Loss: 0.2238, Train: 89.78%, Valid: 79.90% Test: 85.02%\n",
            "Epoch: 756, Loss: 0.2381, Train: 91.68%, Valid: 81.91% Test: 87.51%\n",
            "Epoch: 757, Loss: 0.2199, Train: 91.88%, Valid: 83.03% Test: 88.55%\n",
            "Epoch: 758, Loss: 0.2227, Train: 91.53%, Valid: 82.88% Test: 88.38%\n",
            "Epoch: 759, Loss: 0.2215, Train: 91.62%, Valid: 83.39% Test: 88.21%\n",
            "Epoch: 760, Loss: 0.2159, Train: 90.80%, Valid: 82.87% Test: 87.22%\n",
            "Epoch: 761, Loss: 0.2211, Train: 90.86%, Valid: 83.04% Test: 87.36%\n",
            "Epoch: 762, Loss: 0.2237, Train: 91.30%, Valid: 83.78% Test: 88.37%\n",
            "Epoch: 763, Loss: 0.2115, Train: 91.96%, Valid: 84.09% Test: 88.92%\n",
            "Epoch: 764, Loss: 0.2236, Train: 91.93%, Valid: 84.19% Test: 88.99%\n",
            "Epoch: 765, Loss: 0.2329, Train: 91.33%, Valid: 85.10% Test: 89.43%\n",
            "Epoch: 766, Loss: 0.2155, Train: 90.52%, Valid: 83.77% Test: 87.66%\n",
            "Epoch: 767, Loss: 0.2254, Train: 89.88%, Valid: 83.34% Test: 86.71%\n",
            "Epoch: 768, Loss: 0.2285, Train: 90.86%, Valid: 84.14% Test: 87.87%\n",
            "Epoch: 769, Loss: 0.2216, Train: 91.47%, Valid: 85.25% Test: 88.95%\n",
            "Epoch: 770, Loss: 0.2221, Train: 91.55%, Valid: 84.43% Test: 88.97%\n",
            "Epoch: 771, Loss: 0.2177, Train: 91.83%, Valid: 83.91% Test: 88.40%\n",
            "Epoch: 772, Loss: 0.2236, Train: 90.71%, Valid: 83.45% Test: 87.46%\n",
            "Epoch: 773, Loss: 0.2265, Train: 90.25%, Valid: 84.23% Test: 87.37%\n",
            "Epoch: 774, Loss: 0.2155, Train: 90.97%, Valid: 85.45% Test: 88.31%\n",
            "Epoch: 775, Loss: 0.2206, Train: 91.34%, Valid: 84.92% Test: 89.02%\n",
            "Epoch: 776, Loss: 0.2168, Train: 91.59%, Valid: 84.26% Test: 89.14%\n",
            "Epoch: 777, Loss: 0.2185, Train: 91.50%, Valid: 83.57% Test: 88.60%\n",
            "Epoch: 778, Loss: 0.2199, Train: 91.62%, Valid: 82.89% Test: 87.98%\n",
            "Epoch: 779, Loss: 0.2166, Train: 90.17%, Valid: 80.95% Test: 85.74%\n",
            "Epoch: 780, Loss: 0.2125, Train: 90.52%, Valid: 81.29% Test: 85.75%\n",
            "Epoch: 781, Loss: 0.2174, Train: 91.76%, Valid: 83.03% Test: 87.57%\n",
            "Epoch: 782, Loss: 0.2275, Train: 91.25%, Valid: 83.72% Test: 88.42%\n",
            "Epoch: 783, Loss: 0.2123, Train: 92.21%, Valid: 83.85% Test: 88.51%\n",
            "Epoch: 784, Loss: 0.2215, Train: 91.10%, Valid: 83.29% Test: 87.61%\n",
            "Epoch: 785, Loss: 0.2143, Train: 90.03%, Valid: 80.77% Test: 85.51%\n",
            "Epoch: 786, Loss: 0.2197, Train: 89.04%, Valid: 80.73% Test: 85.59%\n",
            "Epoch: 787, Loss: 0.2183, Train: 89.43%, Valid: 81.35% Test: 85.54%\n",
            "Epoch: 788, Loss: 0.2205, Train: 90.44%, Valid: 82.83% Test: 86.54%\n",
            "Epoch: 789, Loss: 0.2185, Train: 90.82%, Valid: 82.42% Test: 87.19%\n",
            "Epoch: 790, Loss: 0.2203, Train: 91.06%, Valid: 82.46% Test: 86.93%\n",
            "Epoch: 791, Loss: 0.2166, Train: 90.55%, Valid: 82.24% Test: 86.40%\n",
            "Epoch: 792, Loss: 0.2115, Train: 90.07%, Valid: 82.50% Test: 86.26%\n",
            "Epoch: 793, Loss: 0.2131, Train: 89.76%, Valid: 81.59% Test: 85.46%\n",
            "Epoch: 794, Loss: 0.2202, Train: 89.70%, Valid: 81.45% Test: 85.78%\n",
            "Epoch: 795, Loss: 0.2219, Train: 91.07%, Valid: 82.51% Test: 86.85%\n",
            "Epoch: 796, Loss: 0.2064, Train: 91.38%, Valid: 82.45% Test: 87.03%\n",
            "Epoch: 797, Loss: 0.2150, Train: 91.52%, Valid: 82.85% Test: 87.70%\n",
            "Epoch: 798, Loss: 0.2182, Train: 91.67%, Valid: 83.68% Test: 88.34%\n",
            "Epoch: 799, Loss: 0.2171, Train: 91.08%, Valid: 83.44% Test: 87.90%\n"
          ]
        }
      ]
    },
    {
      "cell_type": "code",
      "source": [
        "best_test_acc"
      ],
      "metadata": {
        "id": "hJB_f989sEhz",
        "outputId": "e62f254b-8f90-4c7f-fbf2-e95e7bc968ad",
        "colab": {
          "base_uri": "https://localhost:8080/"
        }
      },
      "execution_count": null,
      "outputs": [
        {
          "output_type": "execute_result",
          "data": {
            "text/plain": [
              "tensor(0.8943, device='cuda:0')"
            ]
          },
          "metadata": {},
          "execution_count": 44
        }
      ]
    },
    {
      "cell_type": "code",
      "source": [
        "embd, o = best_model(x, datasplit['test']['message_passings'].to(device)\n",
        "    , datasplit['test']['outfits'].to(device))\n",
        "\n",
        "embd = embd.cpu()\n",
        "o = o.cpu()"
      ],
      "metadata": {
        "id": "15JqDB15sGb_"
      },
      "execution_count": null,
      "outputs": []
    },
    {
      "cell_type": "code",
      "source": [
        "plot_histogram(o[:o.shape[0]//2], \"StyleMind-GAT model positives\")\n",
        "plot_histogram(o[o.shape[0]//2:], \"StyleMind-GAT model negatives\")\n",
        "plot_histogram(torch.sigmoid(o[:o.shape[0]//2]), \"StyleMind-GAT model positives sigmoid\")\n",
        "plot_histogram(torch.sigmoid(o[o.shape[0]//2:]), \"StyleMind-GAT model negatives sigmoid\")"
      ],
      "metadata": {
        "id": "s3HDUnh1sP3b",
        "outputId": "2d74dc28-99ff-45df-844d-f2a846214154",
        "colab": {
          "base_uri": "https://localhost:8080/",
          "height": 1000
        }
      },
      "execution_count": null,
      "outputs": [
        {
          "output_type": "display_data",
          "data": {
            "text/plain": [
              "<Figure size 640x480 with 1 Axes>"
            ],
            "image/png": "[encoded data removed]"
          },
          "metadata": {}
        },
        {
          "output_type": "display_data",
          "data": {
            "text/plain": [
              "<Figure size 640x480 with 1 Axes>"
            ],
            "image/png": "[encoded data removed]"
          },
          "metadata": {}
        },
        {
          "output_type": "display_data",
          "data": {
            "text/plain": [
              "<Figure size 640x480 with 1 Axes>"
            ],
            "image/png": "[encoded data removed]"
          },
          "metadata": {}
        },
        {
          "output_type": "display_data",
          "data": {
            "text/plain": [
              "<Figure size 640x480 with 1 Axes>"
            ],
            "image/png": "[encoded data removed]"
          },
          "metadata": {}
        }
      ]
    },
    {
      "cell_type": "code",
      "source": [
        "save_model(best_model, datasets_path, \"StyleMind-GAT.pth\")"
      ],
      "metadata": {
        "id": "TXidqUc4ser0"
      },
      "execution_count": null,
      "outputs": []
    },
    {
      "cell_type": "code",
      "source": [
        "torch.save(embd, path.join(datasets_path, \"StyleMind-GAT_embeddings.pth\"))"
      ],
      "metadata": {
        "id": "lqtjzjEfsqZ3"
      },
      "execution_count": null,
      "outputs": []
    },
    {
      "cell_type": "code",
      "source": [
        "free_cuda_memory(gat_model)\n",
        "gc.collect()\n",
        "torch.cuda.empty_cache()"
      ],
      "metadata": {
        "id": "9OpJhgb2dtR6"
      },
      "execution_count": null,
      "outputs": []
    }
  ]
}